{
 "cells": [
  {
   "cell_type": "code",
   "execution_count": 1,
   "metadata": {},
   "outputs": [
    {
     "name": "stdout",
     "output_type": "stream",
     "text": [
      "An error occurred: 'NextPaginationToken'\n"
     ]
    }
   ],
   "source": [
    "import requests\n",
    "import os\n",
    "from importlib.machinery import SourceFileLoader\n",
    "import pandas as pd\n",
    "import logging\n",
    "import torch\n",
    "\n",
    "\n",
    "try:\n",
    "    config = SourceFileLoader(\"config\", \"config.py\").load_module()\n",
    "    os.environ['OPENAI_API_KEY'] = config.OPENAI_API_KEY\n",
    "\n",
    "    bungie_api_key = config.BUNGIE_API_KEY\n",
    "    endpoint = \"https://www.bungie.net/Platform/Content/Rss/NewsArticles/{pageToken}/\"\n",
    "    page_token = \"0\"\n",
    "    include_body = True\n",
    "    headers = {\n",
    "        \"X-API-Key\": bungie_api_key\n",
    "    }\n",
    "    params = {\n",
    "        \"includebody\": include_body\n",
    "    }\n",
    "\n",
    "    results = []\n",
    "\n",
    "    while page_token is not None:\n",
    "        response = requests.get(endpoint.format(pageToken=page_token), headers=headers, params=params)\n",
    "\n",
    "        if response.status_code == 200:\n",
    "            json_response = response.json()\n",
    "            if 'NewsArticles' in json_response['Response']:\n",
    "                results.extend(json_response['Response']['NewsArticles'])\n",
    "            else:\n",
    "                print(\"No NewsArticles found in the response.\")\n",
    "                break\n",
    "            page_token = json_response['Response']['NextPaginationToken']\n",
    "        else:\n",
    "            print(\"Error:\", response.status_code)\n",
    "            print(\"Response:\", response.text)\n",
    "            break\n",
    "except Exception as e:\n",
    "    print(\"An error occurred:\", str(e))\n"
   ]
  },
  {
   "cell_type": "code",
   "execution_count": 2,
   "metadata": {},
   "outputs": [
    {
     "data": {
      "text/plain": [
       "{'Title': 'This Week in Destiny - 07/20/2023',\n",
       " 'Link': '/7/en/News/Article/twid_07_20_23',\n",
       " 'PubDate': '2023-07-20T18:00:00Z',\n",
       " 'UniqueIdentifier': 'blt2e36c629958b2c26',\n",
       " 'Description': 'Dance around the bonfire',\n",
       " 'HtmlContent': '<p>This week in Destiny, Solstice is back, so it\\'s time to&nbsp;go to the EAZ&nbsp;and earn some nice-looking armor pieces. Are you going for those perfect stats? Maybe getting the new Strand Rocket Launcher? You can also see how fast you can go around the whole arena defeating enemies using just the Strand Grapple. A certain new Strand Exotic Trace Rifle might help you navigate the perfect route...&nbsp;</p><p>Before jumping into this week\\'s topics, let\\'s check what we talked about <a href=\"https://www.bungie.net/7/en/News/article/7_13_23_twid\" target=\"_blank\">last week</a> in case you missed it:&nbsp;</p><ul><li>The date for Bungie\\'s next Destiny 2 Showcase.&nbsp;</li><li>Improvements coming to the Crucible\\'s Competitive playlist.&nbsp;</li><li>A small update on how the Wicked Implement catalyst was created.&nbsp;</li><li>Our new Exotic fish pins are now available in the Bungie Store.&nbsp;</li><li>You chose an amazing new ornament for the beloved Witherhoard.</li></ul><p>Got that? Now, the new stuff:&nbsp;</p><ul><li>A quick catch-up on Solstice 2023.&nbsp;</li><li>Our next Developer Insights article is around the corner.&nbsp;</li><li>The winner of the Bungie Foundation community emblem contest.&nbsp;</li><li>Is that... is that Ghost!?&nbsp;</li><li>Two Trials weapons are leaving the loot pool soon.&nbsp;</li><li>The new Solstice sunglasses are here.&nbsp;</li><li>Prime Gaming Rewards are back.&nbsp;</li><li>The weekly Destiny Player Report.&nbsp;</li><li>Our community\\'s always amazing Art of the Week and Movie of the Week.&nbsp;</li></ul><h2>Solstice is Back&nbsp;</h2><p>First week of Solstice, so let’s party. You know the drill: go check how Eva Levante is doing, get the quest, complete the objectives, hunt some enemies in the EAZ, and plan how you are going to party for the next three weeks.</p><p>The goal is to have fun and to get some cool looking armor that you can improve while playing. This is your moment to get the perfect armor with perfect stats, no matter if you are a veteran or a new player. There\\'s also a brand-new Strand Rocket Launcher called Crowning Duologue to obtain and renewed versions of previous Solstice weapons. Personally, I want the Envious Assassin Rocket Launcher with Field Prep as well as the Something New Hand Cannon with Subsistence and Headstone combo.&nbsp;</p><p><a href=\"https://www.bungie.net/7/en/News/article/7_13_23_twid\" target=\"_blank\">You have all the info about Solstice here</a>,&nbsp;in case you need a refresh of the changes or if it\\'s your first time playing.&nbsp;</p><iframe src=\"https://www.youtube.com/embed/Oms6rJBxikk\" allowfullscreen=\"\" frameborder=\"0\"></iframe><h2><strong>New Developer Insights Incoming</strong></h2><p>The same way we previewed the changes coming to weapons in the mid-Season update, we have plans for another Developer Insight before the month ends.</p><p>This time, the Economy team will cover some updates to Masterworking currencies and weapons coming to Destiny 2 ritual activities in Season 22. We\\'ll have more to share when the article drops next week, so for now, let\\'s just keep the&nbsp;<em>focus on the current Season</em>.</p><h2><strong>The Winner of Our First Community Emblem Contest&nbsp;</strong></h2><p>Two weeks ago, we announced our first-ever worldwide Bungie community emblem art contest with the help of the Bungie Foundation and as part of the Bungie Day celebration. Now it\\'s time to reveal the winner! It\\'s not an easy thing to do because you all have so much talent it hurts, but after going through dozens of incredible emblem designs and showing them around Bungie so employees could vote for their favorite, we’ve chosen a winner.&nbsp;</p><figure style = \"margin: auto; text-align: center;width: 675px;\"><img asset_uid=\"blt9f7879843dbbef87\" alt=\"Emblematic Winner\" src=\"https://images.contentstack.io/v3/assets/blte410e3b15535c144/blt9f7879843dbbef87/64b8e7c0b0191626e2b17c05/emblematic_winner.jpeg\" style=\"margin-top: auto;margin-right: auto;margin-bottom: auto;margin-left: auto;text-align: center;width: 675px;\" /><figcaption  style = \"text-align: center;\" style=\"text-align: center;\">A Guardian\\'s Notebook</figcaption></figure><p><a href=\"https://twitter.com/a_w_mont/status/1677738778415300613\" target=\"_blank\">Congratulations to Alex</a>! Your design is very original, and we loved it. We\\'ll contact you shortly with the next steps. And thank you to everybody who was part of the contest for their amazing work. The artists in this community are immeasurably gifted. They have the deepest understanding of what Destiny is and who their characters are, and we feel tremendously lucky to have them.</p><h2><strong>A Very Special Message From Your Ghost&nbsp;</strong></h2><p>The Bungie Foundation’s Bungie Day Giving Festival is coming to a close on Sunday, July 23, but there is plenty to be excited about and thankful for!&nbsp;</p><p>We have already reached our campaign goal of $777,777 and donations are still coming in!&nbsp;</p><ul><li>Bungie Day Giving Festival will conclude with one massive grand prize featuring:<ul><li>Signed collector’s editions of Lightfall&nbsp;<em>and</em>&nbsp;The Final Shape&nbsp;</li><li>The Final Shape+ Annual Pass game code&nbsp;</li><li>Bundle of seven PlayStation titles&nbsp;</li></ul></li></ul><p>There are four days left to earn exclusive rewards through donations and fundraising.&nbsp;</p><p>As a reminder, anyone who donated at least $1 USD throughout our Seven Days of Prizes event from July 13 to July 20 at 9:59 AM PT will receive one entry per daily donation (up to seven entries). Additionally, any donation of at least $1 USD made between July 20 at 10:00 AM PT and July 23 at 11:59 PM PT earns you one additional entry into the grand prize. For full rules and how to donate, visit&nbsp;<a href=\"https://bungiefoundation.donordrive.com/index.cfm?fuseaction=cms.page&id=1097&eventID=524&referrer=twid0720\">our campaign homepage.</a>&nbsp;</p><p>To express his gratitude to the entire Bungie Community for your continued generosity, the voice of your Ghost, Mr. Nolan North, has a few special words for you.&nbsp;</p><blockquote class=\"twitter-tweet\"><p lang=\"en\" dir=\"ltr\">A wise Ghost once said, \"There\\'s no use in quantifying the amount of help you give. Any amount is enough.\"<br/><br/>We truly believe this! No matter how you support us <a href=\"https://twitter.com/Bungie?ref_src=twsrc%5Etfw\">@Bungie</a> community, Thank YOU.<br/><br/>Now a very special thanks, from that wise Ghost, <a href=\"https://twitter.com/nolan_north?ref_src=twsrc%5Etfw\">@nolan_north</a>.<br/><br/>💙<a href=\"https://t.co/M6OoP6klMG\">https://t.co/M6OoP6klMG</a> <a href=\"https://t.co/nHuXZxLVM8\">pic.twitter.com/nHuXZxLVM8</a></p>— Bungie Foundation (@BungieLove) <a href=\"https://twitter.com/BungieLove/status/1682072648057233408?ref_src=twsrc%5Etfw\">July 20, 2023</a></blockquote><h2><strong>Two Trials Weapons Exit the Pool&nbsp;</strong></h2><p>Two weapons will exit the Trials of Osiris loot pool to make room for two new ones at the start of Season 22. Which ones? The Exalted Truth Hand Cannon and the Unwavering Duty&nbsp;Machine Gun. This just means that Adept and standard versions won\\'t be rewarded post-match starting&nbsp;Season 22, but&nbsp;remember that you will always be able to get the latter by focusing engrams with Saint-14.&nbsp;</p><p>Unwavering Duty’s last available Trials weekend will be July 28, while Exalted Truth\\'s will be August 4. If you are still looking for their Adept versions or for some nice rolls (probably both), now you know when to be ready. One new weapon and a rock-solid favorite will be in Season 22 along with The Messenger, The Immortal, Astral Horizon, and Unexpected Resurgence.&nbsp;</p><h2><strong>Deal with Them</strong></h2><p>Solstice is a celebration of summer, so in a way, it\\'s also a celebration of the Sun. So here we are, announcing our brand-new Bungie Rewards Solstice 2023 sunglasses, designed to celebrate the season.</p><img asset_uid=\"blt571c7ab80510227e\" src=\"https://images.contentstack.io/v3/assets/blte410e3b15535c144/blt571c7ab80510227e/64b8e7c04cd579662fa55208/solstice_sunglasses.jpeg\"/><p>The pack includes the new sunglasses as well as a hardcase to keep them safe and a lens cloth to keep them clean. Those interested in buying them must complete first the Fuel for the Fire Triumph during Solstice before 9:59 AM PDT on August 8 (check your local time here). For these and other Bungie Rewards,&nbsp;<a href=\"http://bungiestore.com/rewards\">go check the Bungie Store</a>.&nbsp;</p><h2><strong>New Prime Gaming Rewards&nbsp;</strong></h2><p>It\\'s that time again, Guardians. The new Prime Gaming rewards are here. This is the new Destiny 2 Bundle you can get if you are subscribed to Amazon Prime:&nbsp;</p><img asset_uid=\"bltc8a40e9408eab9be\" src=\"https://images.contentstack.io/v3/assets/blte410e3b15535c144/bltc8a40e9408eab9be/64b8e99e645d3553456a28b3/d2_Prime-Gaming_2400x1350.jpg\"/><ul><li>Catching Rays Exotic Solstice Emote&nbsp;</li><li>Solpiercer Exotic Solstice Ship&nbsp;</li><li>Blue Sky Shell Legendary Solstice Ghost Shell&nbsp;</li><li>High Surf Solstice-Themed Legendary Ghost Projection&nbsp;</li></ul><p>And if you don’t know what Prime Gaming is, don\\'t worry,&nbsp;<a href=\"https://help.bungie.net/hc/en-us/articles/360049498571-Prime-Gaming-Support-for-Destiny-2\">check out our help article to learn more!</a>&nbsp;</p><h2><strong>Player Support Report&nbsp;</strong></h2><img asset_uid=\"blt355cd313b88d8753\" src=\"https://images.contentstack.io/v3/assets/blte410e3b15535c144/blt355cd313b88d8753/6345dc2e2d122610be62fb2c/D2_DPS_Gif.gif\"/><p><a href=\"https://help.bungie.net/hc/en-us/articles/13265980348564-Destiny-2-Year-6-Known-Issues-and-Vital-Information\">Known Issues List</a> |<a href=\"https://www.bungie.net/en/Forums/Topics/?tg=Help&tSort=3&tType=0&d=0&lang=en\"> Help Forums&nbsp;</a>&nbsp;| <a href=\"https://twitter.com/BungieHelp\">Bungie Help Twitter&nbsp;</a>&nbsp;</p><p><strong>EVENT CARD REMINDER</strong>&nbsp;</p><p>With Solstice currently being live, the Solstice Event Card is also active. The Event Card is only accessible during the Solstice event, so players should be sure to claim any completed objectives or titles before the event ends on August 8. Any unclaimed rewards will no longer be available once the event ends.</p><p><strong>KNOWN ISSUES</strong>&nbsp;</p><p>While we continue investigating various&nbsp;<a href=\"https://help.bungie.net/hc/en-us/articles/13265980348564-Destiny-2-Year-6-Known-Issues-and-Vital-Information\">known issues</a>, here is a list of the latest issues that were reported to us in our&nbsp;<a href=\"https://www.bungie.net/en/Forums/Topics/?tg=Help&tSort=3&tType=0&d=0&lang=en\">#Help forum:</a>&nbsp;</p><ul><li>The event challenge Flamekeeper is showing an incorrect icon in the Event Card.&nbsp;</li><li>The Crowning Duologue Rocket Launcher does not appear in Collections.&nbsp;</li><li>The Sunlit Solstice armor sets do not appear in Collections.&nbsp;</li></ul><p>For a full list of emergent issues in Destiny 2, players can review our&nbsp;<a href=\"https://help.bungie.net/hc/en-us/articles/13265980348564-Destiny-2-Year-6-Known-Issues-and-Vital-Information\">Known Issues</a>&nbsp;article. Players who observe other issues should report them to our&nbsp;<a href=\"https://www.bungie.net/en/Forums/Topics/?tg=Help&tSort=3&tType=0&d=0&lang=en\">#Help forum.</a>&nbsp;</p><img asset_uid=\"blt6173704a8449c46a\" src=\"https://images.contentstack.io/v3/assets/blte410e3b15535c144/blt6173704a8449c46a/6345dc2d90be9f1178379cdd/TWAB_MovieOfTheWeek_2020_Animated.gif\"/><h2><strong>Yeehaw&nbsp;</strong></h2><p><strong>Hippy:&nbsp;</strong>This is a story of a Guardian and their quest for... The Cowboy Hat.&nbsp;Sometimes you get that lucky right away, and other times you pick a hilarious #Destiny2MOTW instead. This... this is the latter. But this also sounds like a good excuse for thosewho like to run Masters to extend some of that luck (and increased drop rate) with a fellow G(uardian). We believe in you, Guardian!</p><p><strong>Movie of the Week</strong>: Just a Guardian and their&nbsp;Cowboy Hat&nbsp;</p><iframe src=\"https://www.youtube.com/embed/ZMV6mA7_apU\" allowfullscreen=\"\" frameborder=\"0\"></iframe><p><strong></strong></p><img asset_uid=\"blt43c6042af4116138\" src=\"https://images.contentstack.io/v3/assets/blte410e3b15535c144/blt43c6042af4116138/6345dc15b03b6c10c5ee0594/TWAB_ArtistOfTheWeek_2020_Animated_V2.gif\"/><h2><strong>Witness the Nightmare&nbsp;</strong></h2><p><strong>Ivan</strong>: They are confident, they are strong, they are committed. Is there a chance that Nezarec will hold? Don’t think so. Congrats on winning #Destiny2AOTW!&nbsp;</p><p><strong>Art of the Week:&nbsp;</strong>Nightmares, pain</p><blockquote class=\"twitter-tweet\"><p lang=\"en\" dir=\"ltr\">Together, we can even face nightmares.<br/><br/>At last! This is the finished Root of Nightmares raid team commission. The environments are so unique and colorful. It can be challenging to render but a joy to work through.<a href=\"https://twitter.com/hashtag/Destiny?src=hash&ref_src=twsrc%5Etfw\">#Destiny</a> <a href=\"https://twitter.com/hashtag/Destiny2AOTW?src=hash&ref_src=twsrc%5Etfw\">#Destiny2AOTW</a> <a href=\"https://twitter.com/hashtag/Art?src=hash&ref_src=twsrc%5Etfw\">#Art</a> <a href=\"https://twitter.com/DestinyTheGame?ref_src=twsrc%5Etfw\">@DestinyTheGame</a> <a href=\"https://twitter.com/Destiny2Team?ref_src=twsrc%5Etfw\">@Destiny2Team</a> <a href=\"https://t.co/BZ04TFs2b5\">pic.twitter.com/BZ04TFs2b5</a></p>— calebcreates (@calebwilkie) <a href=\"https://twitter.com/calebwilkie/status/1679210984143978498?ref_src=twsrc%5Etfw\">July 12, 2023</a></blockquote><p><strong>Bruno</strong>: Timon is out this week, so... fine, I\\'ll do it myself. I kind of sound like a villain that wants to do mean things to a whole universe, right? Seems fitting when introducing this amazing work of art.&nbsp;</p><p><strong>Art of the Week: Passage&nbsp;</strong></p><blockquote class=\"twitter-tweet\"><p lang=\"fr\" dir=\"ltr\">4/4. Passage <a href=\"https://twitter.com/hashtag/Destiny2Art?src=hash&ref_src=twsrc%5Etfw\">#Destiny2Art</a> <a href=\"https://twitter.com/hashtag/Destiny2AOTW?src=hash&ref_src=twsrc%5Etfw\">#Destiny2AOTW</a> <a href=\"https://t.co/9C1Y9heYEd\">pic.twitter.com/9C1Y9heYEd</a></p>— bio🔺 workin on comms (@bioluminosity) <a href=\"https://twitter.com/bioluminosity/status/1681078798425391105?ref_src=twsrc%5Etfw\">July 17, 2023</a></blockquote><br/><hr/><p>And that\\'s all for this week, folks.</p><p>Solstice is Destiny\\'s unique way of celebrating summer. You have the traditional bonfire that is very common around the world as a symbol of that change, and you and your friends&nbsp;get to play along&nbsp;with that tradition in the game. Remember that we are not Exos though. We only have one body, so we\\'d better take care of it. Drink water, wear light clothes, and apply lots of sunscre<a href=\"https://www.madpaws.com.au/wp-content/uploads/2018/10/Cat-by-the-Sea-in-Summer.jpg\" target=\"_blank\">e</a>n.&nbsp;</p><p>And for those of you in the southern hemisphere who might be in the middle of winter, you still have a good reason to play Solstice. This event is about getting nice, new, cozy armor while igniting a huge pyre as fast as those pesky combatants allow you to, so it\\'s a fantastic way to stay warm thanks to the fire and Strand-powered calisthenics. Just be careful when those Taken march through the map.&nbsp;</p><p></p><p><strong>‘Hasta luego’&nbsp;</strong></p><p><strong>Br1</strong></p>',\n",
       " 'ImagePath': 'https://images.contentstack.io/v3/assets/blte410e3b15535c144/blt5f4b905c8a4ee7f2/64b8e79f151125bdc835a463/FrontPageBanner_PC_1920x590.jpg',\n",
       " 'OptionalMobileImagePath': 'https://images.contentstack.io/v3/assets/blte410e3b15535c144/blt239439c7771c5702/64b8e79fd570d721ac074771/FrontPageBanner_Mobile_313x126.jpg'}"
      ]
     },
     "execution_count": 2,
     "metadata": {},
     "output_type": "execute_result"
    }
   ],
   "source": [
    "results[0]"
   ]
  },
  {
   "cell_type": "code",
   "execution_count": 3,
   "metadata": {},
   "outputs": [],
   "source": [
    "# Convert the results list into a DataFrame\n",
    "df = pd.DataFrame(results)\n"
   ]
  },
  {
   "cell_type": "code",
   "execution_count": 4,
   "metadata": {},
   "outputs": [
    {
     "data": {
      "text/plain": [
       "0                           Destiny 2 Update 7.1.5\n",
       "1                         Destiny 2 Update 7.1.0.3\n",
       "2                         Destiny 2 Update 7.1.0.2\n",
       "3                         Destiny 2 Hotfix 6/02/23\n",
       "4                         Destiny 2 Update 7.1.0.1\n",
       "5                         Destiny 2 Hotfix 5/26/23\n",
       "6      Destiny 2 Update 7.1.0 - Season of the Deep\n",
       "7                         Destiny 2 Hotfix 7.0.5.3\n",
       "8                         Destiny 2 Hotfix 7.0.5.2\n",
       "9                         Destiny 2 Hotfix 7.0.5.1\n",
       "10                        Destiny 2 Update 7.0.5.0\n",
       "11                        Destiny 2 Hotfix 7.0.0.7\n",
       "12                        Destiny 2 Hotfix 7.0.0.6\n",
       "13                       Lightfall Crucible Update\n",
       "14                        Destiny 2 Hotfix 7.0.0.5\n",
       "15                        Destiny 2 Hotfix 7.0.0.3\n",
       "16                        Destiny 2 Update 7.0.0.1\n",
       "17                        Destiny 2 Hotfix 6.3.0.7\n",
       "18    Economy Updates And More Coming In Lightfall\n",
       "19                        Destiny 2 Hotfix 6.3.0.5\n",
       "20                        Destiny 2 Hotfix 6.3.0.4\n",
       "21                        Destiny 2 Hotfix 6.3.0.3\n",
       "22                        Destiny 2 Hotfix 6.3.0.2\n",
       "23                        Destiny 2 Hotfix 6.3.0.1\n",
       "24                          Destiny 2 Update 6.3.0\n",
       "Name: Title, dtype: object"
      ]
     },
     "execution_count": 4,
     "metadata": {},
     "output_type": "execute_result"
    }
   ],
   "source": [
    "import re\n",
    "pattern = r'Update|Hotfix'\n",
    "df = df[df['Title'].str.contains(pattern, regex=True, flags=re.IGNORECASE)]\n",
    "df = df.iloc[0:25].reset_index()\n",
    "# Print the filtered DataFrame\n",
    "df['Title']"
   ]
  },
  {
   "cell_type": "code",
   "execution_count": 5,
   "metadata": {},
   "outputs": [
    {
     "data": {
      "text/plain": [
       "'<h2>Activities&nbsp;</h2><h4>CRUCIBLE&nbsp;</h4><ul><li>Adjusted spawn points on Burnout for Trials of Osiris Dominion.&nbsp;</li><li>Fixed some positions where players could get outside of the playable area on these maps:&nbsp;<ul><li>Radiant Cliffs&nbsp;</li><li>Altar of Flame&nbsp;</li></ul></li><li>Fixed an issue where the voiceover at the end of Mayhem matches would not play.&nbsp;</li></ul><h4>FREEROAM &nbsp;</h4><ul><li>Neomuna&nbsp;<ul><li>Fixed an issue where Terminal Overload could stop progressing at Stage 3.&nbsp;</li></ul></li></ul><h2>UI/UX</h2><ul><li>Fixed an issue where the Guardian Ranks icon decorations for higher ranks were missing.&nbsp; &nbsp;</li><li>Fixed an issue where Season Pass ranks past 100 were not being properly registered on the Journey screen.&nbsp;</li><li>Fixed an issue where the reward for rank 71 on the Season Pass was not unlocking properly. &nbsp;<ul><li>This issue was only visual, and the boost was properly applied when unlocked.&nbsp;</li></ul></li><li>Fixed an issue where the Eververse featured carousel sound effect could be heard while previewing other items.&nbsp;</li></ul><h2>Gameplay and Investment&nbsp; &nbsp;&nbsp;</h2><h4>ARMOR&nbsp;</h4><ul><li>Fixed an issue where dexterity mods were not providing the proper benefits to weapon\\'s ready speed.&nbsp;</li><li>Fixed an issue where the Stronghold Exotic gauntlets were not properly extending the duration of restoration based on the number of shots blocked and causing it to grant restoration on dealing damage with any Sword.&nbsp;<ul><li>Now applies restoration after blocking damage immediately after a swing and extends its duration based on the number of enemy attacks blocked.&nbsp;</li></ul></li><li>Fixed an issue where the Blight Ranger Exotic helmet was consuming Super energy while guarding. &nbsp;</li><li>Fixed an issue where the NPA Weir-Walker armor sets had inconsistent glowing effects.&nbsp;</li><li>Fixed an issue where the Channeling Robes chest armor was missing a texture. &nbsp;</li></ul><h4>WEAPONS&nbsp;</h4><p><strong>General&nbsp;</strong></p><ul><li>Fixed an issue where Stasis weapons with splash damage were dealing less damage than intended to Stasis crystals.&nbsp;<ul><li>The New Pacific Epitaph Grenade Launcher was a notable example of this.&nbsp;</li></ul></li><li>Fixed an issue where Season of the Deep’s reprised Reckoning weapons would incorrectly apply a Taken visual effects to their ornaments.&nbsp;<ul><li><em>This patch note has been updated to better address the issue fixed.</em></li></ul></li><li>Fixed an issue where the Until Its Return Legendary Shotgun showed a slightly displaced glare.&nbsp;</li><li>Fixed an issue where enhanced weapons could not apply nor preview Memento shaders.&nbsp;</li><li>Fixed an issue where the Targeted Redaction Hand Cannon was using the incorrect firing animation.&nbsp;<ul><li>This aggressive-frame Hand Cannon was using the recoil pattern from the lightweight frame, giving it a marginally unintentional advantage. &nbsp;</li></ul></li></ul><p><strong>Pulse Rifles&nbsp;</strong></p><ul><li>At 0 Aim Assist, reduced the auto aim angle by ~10%.&nbsp;</li></ul><p><strong>Bows</strong>&nbsp;</p><ul><li><strong>Lightweight </strong>&nbsp;<ul><li>Increased final accuracy by ~10%.&nbsp;</li><li><strong>Developer note</strong>: In the mid-Season patch preview we erroneously included a change to lightweight Bow damage falloff distance. Bows do not currently have damage falloff, in large part due to an issue where they could fail to be hit scan at longer ranges. This can cause inconsistent hit registration, so also having them lose damage felt overly punishing. In Season 22 we have corrected the issue, and we preemptively set Bows up to be able to have damage falloff, but it is not currently enabled.&nbsp;</li></ul></li></ul><p><strong>Submachine Guns&nbsp;</strong></p><ul><li><strong>Precision</strong>&nbsp;<ul><li>Improved the dynamic reticle for Shayura\\'s Wrath when aiming down sights.&nbsp;</li></ul></li></ul><p><strong>Shotguns</strong>&nbsp;</p><ul><li><strong>Lightweight&nbsp;</strong><ul><li>Reduced the spread angle of the outer horizontal pellets by 15%.&nbsp;</li></ul></li></ul><p><strong>Exotics&nbsp;</strong></p><ul><li><strong>Graviton Lance&nbsp;</strong><ul><li>Increased PvE damage by 67%.&nbsp;</li><li>Removed the extra aim assist provided by the catalyst.&nbsp;</li><li>Reduced the damage dealt to players by the Cosmology explosion by 40%.&nbsp;<ul><li>Damage in PvE unchanged.&nbsp;</li></ul></li></ul></li><li><strong>No Time To Explain&nbsp;</strong><ul><li>Reduced range stat by 10.&nbsp;&nbsp; &nbsp;</li></ul></li><li><strong>Fighting Lion&nbsp;</strong><ul><li>Fixed an issue where the Chimera perk on the catalyst wasn\\'t applying the buffs to Kinetic and Power weapons.&nbsp; &nbsp;</li></ul></li><li><strong>The Navigator&nbsp;</strong><ul><li>Fixed an issue where the catalyst perk timer was not showing in the buff tray. &nbsp;</li></ul></li><li><strong>Cerberus+1&nbsp;</strong><ul><li>Reduced damage to Stasis crystals.&nbsp;</li></ul></li></ul><p><strong>Perks &amp; Traits</strong></p><ul><li><strong>Gutshot Straight &nbsp;</strong><ul><li>Reduced auto-aim penalty by 37.5%.&nbsp;</li></ul></li><li><strong>Slickdraw&nbsp;</strong><ul><li>Reduced auto-aim penalty by 33%.&nbsp;</li></ul></li><li><strong>Target Lock</strong>&nbsp;<ul><li>Reduced maximum damage versus players from 40% to 25%.&nbsp;<ul><li>Damage in PvE unchanged.&nbsp;</li></ul></li></ul></li></ul><h4>ABILITIES&nbsp;</h4><p><strong>Stasis</strong>&nbsp;</p><ul><li><strong>Whisper of Rime&nbsp;</strong><ul><li>Reduce max overshield amount from 100 hp to 50 hp.&nbsp;</li><li>Reduce overshield gain per Stasis Shard from 12.5 hp to 5 hp.&nbsp;</li><li>Non-player combatants now deal 50% damage to Whisper of Rime overshield.&nbsp;</li></ul></li><li><strong>Whisper of Chains&nbsp;</strong><ul><li>Reduced damage reduction in PvP from 15% to 5%.&nbsp;</li></ul></li></ul><p><strong>Strand&nbsp;</strong></p><ul><li>Threaded Specter, Flechette Storm, and The Wanderer will now display unique icons in the kill-feed in PvP activities.&nbsp;</li><li>Fixed an issue where Threadlings were colliding and detonating near Supremacy crests.&nbsp;</li><li>Fixed an issue where The Wanderer Aspect erroneously showed the Threadlings flyout tutorial.</li></ul><h4>BOUNTIES AND PURSUITS&nbsp;</h4><ul data-editing-info=\"{\"><li>Fixed an issue where the Standard Fare bounty would not progress on Kinetic weapons kills.&nbsp;&nbsp;</li></ul><h4>COMBATANTS</h4><ul><li>Fixed an issue where Tormentor’s abilities were missing some visual effects.&nbsp;</li></ul><h2>General&nbsp;</h2><h4>LOCALIZATION&nbsp;</h4><ul><li><strong>Korean&nbsp;</strong><ul><li>Fixed a mismatch with audio and subtitles when interacting with Cayde\\'s memorial in the Tower.&nbsp;</li></ul></li><li><strong>Various languages&nbsp;</strong><ul><li>Fixed an issue where some descriptions in the Loadouts screen would overflow their text boxes.&nbsp;</li><li>Fixed some volume inconsistencies when playing the archive recordings in the Veil Containment mission.&nbsp;</li></ul></li></ul>'"
      ]
     },
     "execution_count": 5,
     "metadata": {},
     "output_type": "execute_result"
    }
   ],
   "source": [
    "df[\"HtmlContent\"].iloc[0]"
   ]
  },
  {
   "cell_type": "code",
   "execution_count": 6,
   "metadata": {},
   "outputs": [],
   "source": [
    "from bs4 import BeautifulSoup\n",
    "\n",
    "\n",
    "def extract_list_from_html(html):\n",
    "    soup = BeautifulSoup(html, 'html.parser')\n",
    "    list_items = soup.find_all('li')\n",
    "    result = [li.get_text(strip=True) for li in list_items]\n",
    "    return result\n",
    "\n",
    "def clean_html(text):\n",
    "    cleantext = re.sub(r'([.,?!;:])((?!\\s)|$)', r'\\1 ', text)\n",
    "    return cleantext\n",
    "\n",
    "def parse_html_content(df):\n",
    "    df['parsed_content'] = df['HtmlContent'].apply(extract_list_from_html)\n",
    "    df['joined_content'] = df['parsed_content'].apply(lambda x: ' '.join(x))\n",
    "    df['joined_content'] = df['joined_content'].apply(clean_html)\n",
    "    return df"
   ]
  },
  {
   "cell_type": "code",
   "execution_count": 7,
   "metadata": {},
   "outputs": [],
   "source": [
    "# Parse HTML content and create new column\n",
    "df = parse_html_content(df)"
   ]
  },
  {
   "cell_type": "code",
   "execution_count": 8,
   "metadata": {},
   "outputs": [],
   "source": [
    "df = df[['Title', 'Link', 'PubDate', 'UniqueIdentifier', 'Description',\n",
    "       'joined_content']]"
   ]
  },
  {
   "cell_type": "code",
   "execution_count": 9,
   "metadata": {},
   "outputs": [
    {
     "name": "stdout",
     "output_type": "stream",
     "text": [
      "Adjusted spawn points on Burnout for Trials of Osiris Dominion. Fixed some positions where players could get outside of the playable area on these maps: Radiant CliffsAltar of Flame Radiant Cliffs Altar of Flame Fixed an issue where the voiceover at the end of Mayhem matches would not play. NeomunaFixed an issue where Terminal Overload could stop progressing at Stage 3. Fixed an issue where Terminal Overload could stop progressing at Stage 3. Fixed an issue where the Guardian Ranks icon decorations for higher ranks were missing. Fixed an issue where Season Pass ranks past 100 were not being properly registered on the Journey screen. Fixed an issue where the reward for rank 71 on the Season Pass was not unlocking properly. This issue was only visual, and the boost was properly applied when unlocked. This issue was only visual, and the boost was properly applied when unlocked. Fixed an issue where the Eververse featured carousel sound effect could be heard while previewing other items. Fixed an issue where dexterity mods were not providing the proper benefits to weapon's ready speed. Fixed an issue where the Stronghold Exotic gauntlets were not properly extending the duration of restoration based on the number of shots blocked and causing it to grant restoration on dealing damage with any Sword. Now applies restoration after blocking damage immediately after a swing and extends its duration based on the number of enemy attacks blocked. Now applies restoration after blocking damage immediately after a swing and extends its duration based on the number of enemy attacks blocked. Fixed an issue where the Blight Ranger Exotic helmet was consuming Super energy while guarding. Fixed an issue where the NPA Weir-Walker armor sets had inconsistent glowing effects. Fixed an issue where the Channeling Robes chest armor was missing a texture. Fixed an issue where Stasis weapons with splash damage were dealing less damage than intended to Stasis crystals. The New Pacific Epitaph Grenade Launcher was a notable example of this. The New Pacific Epitaph Grenade Launcher was a notable example of this. Fixed an issue where Season of the Deep’s reprised Reckoning weapons would incorrectly apply a Taken visual effects to their ornaments. This patch note has been updated to better address the issue fixed. This patch note has been updated to better address the issue fixed. Fixed an issue where the Until Its Return Legendary Shotgun showed a slightly displaced glare. Fixed an issue where enhanced weapons could not apply nor preview Memento shaders. Fixed an issue where the Targeted Redaction Hand Cannon was using the incorrect firing animation. This aggressive-frame Hand Cannon was using the recoil pattern from the lightweight frame, giving it a marginally unintentional advantage. This aggressive-frame Hand Cannon was using the recoil pattern from the lightweight frame, giving it a marginally unintentional advantage. At 0 Aim Assist, reduced the auto aim angle by ~10%. LightweightIncreased final accuracy by ~10%. Developer note: In the mid-Season patch preview we erroneously included a change to lightweight Bow damage falloff distance. Bows do not currently have damage falloff, in large part due to an issue where they could fail to be hit scan at longer ranges. This can cause inconsistent hit registration, so also having them lose damage felt overly punishing. In Season 22 we have corrected the issue, and we preemptively set Bows up to be able to have damage falloff, but it is not currently enabled. Increased final accuracy by ~10%. Developer note: In the mid-Season patch preview we erroneously included a change to lightweight Bow damage falloff distance. Bows do not currently have damage falloff, in large part due to an issue where they could fail to be hit scan at longer ranges. This can cause inconsistent hit registration, so also having them lose damage felt overly punishing. In Season 22 we have corrected the issue, and we preemptively set Bows up to be able to have damage falloff, but it is not currently enabled. PrecisionImproved the dynamic reticle for Shayura's Wrath when aiming down sights. Improved the dynamic reticle for Shayura's Wrath when aiming down sights. LightweightReduced the spread angle of the outer horizontal pellets by 15%. Reduced the spread angle of the outer horizontal pellets by 15%. Graviton LanceIncreased PvE damage by 67%. Removed the extra aim assist provided by the catalyst. Reduced the damage dealt to players by the Cosmology explosion by 40%. Damage in PvE unchanged. Increased PvE damage by 67%. Removed the extra aim assist provided by the catalyst. Reduced the damage dealt to players by the Cosmology explosion by 40%. Damage in PvE unchanged. Damage in PvE unchanged. No Time To ExplainReduced range stat by 10. Reduced range stat by 10. Fighting LionFixed an issue where the Chimera perk on the catalyst wasn't applying the buffs to Kinetic and Power weapons. Fixed an issue where the Chimera perk on the catalyst wasn't applying the buffs to Kinetic and Power weapons. The NavigatorFixed an issue where the catalyst perk timer was not showing in the buff tray. Fixed an issue where the catalyst perk timer was not showing in the buff tray. Cerberus+1Reduced damage to Stasis crystals. Reduced damage to Stasis crystals. Gutshot StraightReduced auto-aim penalty by 37. 5%. Reduced auto-aim penalty by 37. 5%. SlickdrawReduced auto-aim penalty by 33%. Reduced auto-aim penalty by 33%. Target LockReduced maximum damage versus players from 40% to 25%. Damage in PvE unchanged. Reduced maximum damage versus players from 40% to 25%. Damage in PvE unchanged. Damage in PvE unchanged. Whisper of RimeReduce max overshield amount from 100 hp to 50 hp. Reduce overshield gain per Stasis Shard from 12. 5 hp to 5 hp. Non-player combatants now deal 50% damage to Whisper of Rime overshield. Reduce max overshield amount from 100 hp to 50 hp. Reduce overshield gain per Stasis Shard from 12. 5 hp to 5 hp. Non-player combatants now deal 50% damage to Whisper of Rime overshield. Whisper of ChainsReduced damage reduction in PvP from 15% to 5%. Reduced damage reduction in PvP from 15% to 5%. Threaded Specter, Flechette Storm, and The Wanderer will now display unique icons in the kill-feed in PvP activities. Fixed an issue where Threadlings were colliding and detonating near Supremacy crests. Fixed an issue where The Wanderer Aspect erroneously showed the Threadlings flyout tutorial. Fixed an issue where the Standard Fare bounty would not progress on Kinetic weapons kills. Fixed an issue where Tormentor’s abilities were missing some visual effects. KoreanFixed a mismatch with audio and subtitles when interacting with Cayde's memorial in the Tower. Fixed a mismatch with audio and subtitles when interacting with Cayde's memorial in the Tower. Various languagesFixed an issue where some descriptions in the Loadouts screen would overflow their text boxes. Fixed some volume inconsistencies when playing the archive recordings in the Veil Containment mission. Fixed an issue where some descriptions in the Loadouts screen would overflow their text boxes. Fixed some volume inconsistencies when playing the archive recordings in the Veil Containment mission. \n"
     ]
    }
   ],
   "source": [
    "print(df.iloc[0][\"joined_content\"])"
   ]
  },
  {
   "cell_type": "code",
   "execution_count": 10,
   "metadata": {},
   "outputs": [],
   "source": [
    "\n",
    "import tiktoken  \n",
    "\n",
    "tokenizer = tiktoken.get_encoding('p50k_base')\n",
    "\n",
    "# create the length function\n",
    "def tiktoken_len(text):\n",
    "    tokens = tokenizer.encode(\n",
    "        text,\n",
    "        disallowed_special=()\n",
    "    )\n",
    "    return len(tokens)\n",
    "\n",
    "from langchain.text_splitter import RecursiveCharacterTextSplitter\n",
    "\n",
    "text_splitter = RecursiveCharacterTextSplitter(\n",
    "    chunk_size=100,\n",
    "    chunk_overlap=50,\n",
    "    length_function=tiktoken_len,\n",
    "    separators=[\"\\n\\n\", \"\\n\", \" \", \"\"]\n",
    ")\n"
   ]
  },
  {
   "cell_type": "code",
   "execution_count": 11,
   "metadata": {},
   "outputs": [],
   "source": [
    "import os\n",
    "from importlib.machinery import SourceFileLoader\n",
    "from langchain.embeddings.openai import OpenAIEmbeddings\n",
    "from langchain.text_splitter import CharacterTextSplitter\n",
    "from langchain.chains import ConversationalRetrievalChain\n",
    "from langchain.chat_models import ChatOpenAI\n",
    "config = SourceFileLoader(\"config\", \"config.py\").load_module()\n",
    "os.environ['OPENAI_API_KEY'] = config.OPENAI_API_KEY"
   ]
  },
  {
   "cell_type": "code",
   "execution_count": 12,
   "metadata": {},
   "outputs": [],
   "source": [
    "pinecone_api_key = config.pinecone_api_key"
   ]
  },
  {
   "cell_type": "code",
   "execution_count": 13,
   "metadata": {},
   "outputs": [
    {
     "name": "stderr",
     "output_type": "stream",
     "text": [
      "c:\\Users\\jorda\\AppData\\Local\\Programs\\Python\\Python311\\Lib\\site-packages\\pinecone\\index.py:4: TqdmExperimentalWarning: Using `tqdm.autonotebook.tqdm` in notebook mode. Use `tqdm.tqdm` instead to force console mode (e.g. in jupyter console)\n",
      "  from tqdm.autonotebook import tqdm\n"
     ]
    }
   ],
   "source": [
    "import pinecone\n",
    "# connect to pinecone environment\n",
    "pinecone.init(\n",
    "    api_key = pinecone_api_key,\n",
    "    environment = \"us-west1-gcp-free\"\n",
    ")\n"
   ]
  },
  {
   "cell_type": "code",
   "execution_count": 14,
   "metadata": {},
   "outputs": [],
   "source": [
    "index_name = \"extractive-question-answering\""
   ]
  },
  {
   "cell_type": "code",
   "execution_count": 15,
   "metadata": {},
   "outputs": [
    {
     "data": {
      "text/plain": [
       "['extractive-question-answering']"
      ]
     },
     "execution_count": 15,
     "metadata": {},
     "output_type": "execute_result"
    }
   ],
   "source": [
    "pinecone.list_indexes()"
   ]
  },
  {
   "cell_type": "code",
   "execution_count": 25,
   "metadata": {},
   "outputs": [],
   "source": [
    "pinecone.delete_index(\"extractive-question-answering\")"
   ]
  },
  {
   "cell_type": "code",
   "execution_count": 26,
   "metadata": {},
   "outputs": [],
   "source": [
    "# check if the extractive-question-answering index exists\n",
    "if index_name not in pinecone.list_indexes():\n",
    "    # create the index if it does not exist\n",
    "    pinecone.create_index(\n",
    "        index_name,\n",
    "        dimension=1536,\n",
    "        metric=\"cosine\"\n",
    "    )\n"
   ]
  },
  {
   "cell_type": "code",
   "execution_count": 31,
   "metadata": {},
   "outputs": [],
   "source": [
    "# connect to extractive-question-answering index we created\n",
    "index = pinecone.Index(index_name)"
   ]
  },
  {
   "cell_type": "code",
   "execution_count": 28,
   "metadata": {},
   "outputs": [],
   "source": [
    "from langchain.embeddings.openai import OpenAIEmbeddings\n",
    "\n",
    "model_name = 'text-embedding-ada-002'\n",
    "\n",
    "embed = OpenAIEmbeddings(\n",
    "    openai_api_key=os.environ['OPENAI_API_KEY']\n",
    ")\n"
   ]
  },
  {
   "cell_type": "code",
   "execution_count": 29,
   "metadata": {},
   "outputs": [],
   "source": [
    "docs = []\n",
    "for index, row in df.iterrows():\n",
    "    doc = {\n",
    "        'content': row['joined_content'],  \n",
    "            'name': row['Title'],\n",
    "            'link': row['Link'],\n",
    "            'pub_date': row['PubDate'],\n",
    "            'unique_id': row['UniqueIdentifier'],\n",
    "           'description': row['Description']\n",
    "        }\n",
    "    docs.append(doc)\n",
    " "
   ]
  },
  {
   "cell_type": "code",
   "execution_count": 32,
   "metadata": {},
   "outputs": [
    {
     "data": {
      "application/vnd.jupyter.widget-view+json": {
       "model_id": "8656c4fa916b47a981d98e11538e486a",
       "version_major": 2,
       "version_minor": 0
      },
      "text/plain": [
       "  0%|          | 0/25 [00:00<?, ?it/s]"
      ]
     },
     "metadata": {},
     "output_type": "display_data"
    }
   ],
   "source": [
    "from tqdm.auto import tqdm\n",
    "from uuid import uuid4\n",
    "\n",
    "batch_limit = 100\n",
    "\n",
    "texts = []\n",
    "metadatas = []\n",
    "\n",
    "for i, record in enumerate(tqdm(docs)):\n",
    "    # first get metadata fields for this record\n",
    "    metadata = {\n",
    "            'name': record['name'],\n",
    "            'source': record['link'],\n",
    "            'pub_date': record['pub_date'],\n",
    "            'unique_id': record['unique_id'],\n",
    "           'description': record['description']\n",
    "        }\n",
    "    # now we create chunks from the record text\n",
    "    record_texts = text_splitter.split_text(record['content'])\n",
    "    # create individual metadata dicts for each chunk\n",
    "    record_metadatas = [{\n",
    "        \"chunk\": j, \"text\": text, **metadata\n",
    "    } for j, text in enumerate(record_texts)]\n",
    "    # append these to current batches\n",
    "    texts.extend(record_texts)\n",
    "    metadatas.extend(record_metadatas)\n",
    "    # if we have reached the batch_limit we can add texts\n",
    "    if len(texts) >= batch_limit:\n",
    "        ids = [str(uuid4()) for _ in range(len(texts))]\n",
    "        embeds = embed.embed_documents(texts)\n",
    "        index.upsert(vectors=zip(ids, embeds, metadatas))\n",
    "        texts = []\n",
    "        metadatas = []\n"
   ]
  },
  {
   "cell_type": "code",
   "execution_count": 33,
   "metadata": {},
   "outputs": [
    {
     "data": {
      "text/plain": [
       "{'dimension': 1536,\n",
       " 'index_fullness': 0.0,\n",
       " 'namespaces': {'': {'vector_count': 720}},\n",
       " 'total_vector_count': 720}"
      ]
     },
     "execution_count": 33,
     "metadata": {},
     "output_type": "execute_result"
    }
   ],
   "source": [
    "index.describe_index_stats()"
   ]
  },
  {
   "cell_type": "code",
   "execution_count": 34,
   "metadata": {},
   "outputs": [],
   "source": [
    "from langchain.vectorstores import Pinecone\n",
    "\n",
    "text_field = \"text\"\n",
    "\n",
    "# switch back to normal index for langchain\n",
    "index = pinecone.Index(index_name)\n",
    "\n",
    "vectorstore = Pinecone(\n",
    "    index, embed.embed_query, text_field\n",
    ")\n"
   ]
  },
  {
   "cell_type": "code",
   "execution_count": 36,
   "metadata": {},
   "outputs": [
    {
     "data": {
      "text/plain": [
       "[Document(page_content=\"(crit damage goes from 21. 8 to 21). The Immortal Reduced base range value by 10. Bows Fixed an issue where the Arsenic Bite Bow would display an incorrect charge time on its tooltip. Updated the stats on the Tyranny of Heaven Bow to better compete with the current selection of Lightweight Bows. Miscellaneous and Visuals Fixed an issue where the glow when firing on the Nessa's Oblation Legendary Shotgun was not as bright as intended. Fixed an issue where the Nasreddin and\", metadata={'chunk': 80.0, 'description': 'The one about Season of the Deep.', 'name': 'Destiny 2 Update 7.1.0 - Season of the Deep', 'pub_date': datetime.datetime(2023, 5, 23, 16, 30, tzinfo=tzutc()), 'source': '/7/en/News/Article/season-deep-update-7-1-0', 'unique_id': 'blt56002d0e3c869908'}),\n",
       " Document(page_content='benefit from the recent buff to their projectile collision radius. They are now consistent with other Heavy Grenade Launchers. Submachine Guns Aggressive Submachine Guns Reduced base damage from 15 to 14. Increased precision hit multiplier from 1. 45 to 1. 5 (crit damage goes from 21. 8 to 21). The Immortal Reduced base range value by 10. Bows Fixed an issue where the Arsenic Bite Bow would display an incorrect charge time on its tooltip. Updated the stats on the Tyranny of Heaven', metadata={'chunk': 79.0, 'description': 'The one about Season of the Deep.', 'name': 'Destiny 2 Update 7.1.0 - Season of the Deep', 'pub_date': datetime.datetime(2023, 5, 23, 16, 30, tzinfo=tzutc()), 'source': '/7/en/News/Article/season-deep-update-7-1-0', 'unique_id': 'blt56002d0e3c869908'}),\n",
       " Document(page_content=\"more relative value to lower tiers of Resilience. The armor mods granting Resilience have had their armor energy costs increased to 4 (+10 Resilience) and 2 (+5 Resilience). The Iron Lord's Pride perk has been added to all Iron Banner armor sets from Season 8 to the present. Exotic Armor changes Khepri's Sting: Truesight is now granted when damaging an enemy with a smoke bomb. Additionally, when you have an undetonated smoke bomb on the\", metadata={'chunk': 37.0, 'description': 'The one about Lightfall', 'name': 'Destiny 2 Update 7.0.0.1', 'pub_date': datetime.datetime(2023, 2, 27, 0, 0, tzinfo=tzutc()), 'source': '/7/en/News/Article/update_7_0_0_1', 'unique_id': 'blt7a2f881341c4a9fc'})]"
      ]
     },
     "execution_count": 36,
     "metadata": {},
     "output_type": "execute_result"
    }
   ],
   "source": [
    "query = \"what were the changes to the immortal?\"\n",
    "\n",
    "vectorstore.similarity_search(\n",
    "    query,  # our search query\n",
    "    k=3  # return 3 most relevant docs\n",
    ")"
   ]
  },
  {
   "cell_type": "code",
   "execution_count": 61,
   "metadata": {},
   "outputs": [],
   "source": [
    "from langchain.chat_models import ChatOpenAI\n",
    "\n",
    "# completion llm\n",
    "llm = ChatOpenAI(\n",
    "    openai_api_key=config.OPENAI_API_KEY,\n",
    "    model_name='gpt-3.5-turbo',\n",
    "    temperature=0.0\n",
    ")\n",
    "\n",
    "# Build prompt\n",
    "from langchain.prompts import PromptTemplate\n",
    "template = \"\"\"Use the following pieces of context to answer the question at the end include all relvant information. \n",
    "If you don't know the answer, just say that you don't know, don't try to make up an answer. \n",
    "{context}\n",
    "Question: {question}\n",
    "Helpful Answer:\"\"\"\n",
    "QA_CHAIN_PROMPT = PromptTemplate(input_variables=[\"context\", \"question\"],template=template,)\n",
    "\n",
    "from langchain.chains import RetrievalQAWithSourcesChain\n",
    "from langchain.chains import RetrievalQA\n",
    "\n",
    "qa_chain = RetrievalQA.from_chain_type(llm,\n",
    "                                       retriever=vectorstore.as_retriever(),\n",
    "                                       chain_type_kwargs={\"prompt\": QA_CHAIN_PROMPT},\n",
    "                                       return_source_documents=True,\n",
    "                                       chain_type=\"stuff\")"
   ]
  },
  {
   "cell_type": "code",
   "execution_count": 62,
   "metadata": {},
   "outputs": [
    {
     "name": "stdout",
     "output_type": "stream",
     "text": [
      "4\n"
     ]
    },
    {
     "data": {
      "text/plain": [
       "[Document(page_content=\"(crit damage goes from 21. 8 to 21). The Immortal Reduced base range value by 10. Bows Fixed an issue where the Arsenic Bite Bow would display an incorrect charge time on its tooltip. Updated the stats on the Tyranny of Heaven Bow to better compete with the current selection of Lightweight Bows. Miscellaneous and Visuals Fixed an issue where the glow when firing on the Nessa's Oblation Legendary Shotgun was not as bright as intended. Fixed an issue where the Nasreddin and\", metadata={'chunk': 80.0, 'description': 'The one about Season of the Deep.', 'name': 'Destiny 2 Update 7.1.0 - Season of the Deep', 'pub_date': datetime.datetime(2023, 5, 23, 16, 30, tzinfo=tzutc()), 'source': '/7/en/News/Article/season-deep-update-7-1-0', 'unique_id': 'blt56002d0e3c869908'}),\n",
       " Document(page_content='benefit from the recent buff to their projectile collision radius. They are now consistent with other Heavy Grenade Launchers. Submachine Guns Aggressive Submachine Guns Reduced base damage from 15 to 14. Increased precision hit multiplier from 1. 45 to 1. 5 (crit damage goes from 21. 8 to 21). The Immortal Reduced base range value by 10. Bows Fixed an issue where the Arsenic Bite Bow would display an incorrect charge time on its tooltip. Updated the stats on the Tyranny of Heaven', metadata={'chunk': 79.0, 'description': 'The one about Season of the Deep.', 'name': 'Destiny 2 Update 7.1.0 - Season of the Deep', 'pub_date': datetime.datetime(2023, 5, 23, 16, 30, tzinfo=tzutc()), 'source': '/7/en/News/Article/season-deep-update-7-1-0', 'unique_id': 'blt56002d0e3c869908'}),\n",
       " Document(page_content=\"more relative value to lower tiers of Resilience. The armor mods granting Resilience have had their armor energy costs increased to 4 (+10 Resilience) and 2 (+5 Resilience). The Iron Lord's Pride perk has been added to all Iron Banner armor sets from Season 8 to the present. Exotic Armor changes Khepri's Sting: Truesight is now granted when damaging an enemy with a smoke bomb. Additionally, when you have an undetonated smoke bomb on the\", metadata={'chunk': 37.0, 'description': 'The one about Lightfall', 'name': 'Destiny 2 Update 7.0.0.1', 'pub_date': datetime.datetime(2023, 2, 27, 0, 0, tzinfo=tzutc()), 'source': '/7/en/News/Article/update_7_0_0_1', 'unique_id': 'blt7a2f881341c4a9fc'}),\n",
       " Document(page_content=\"Fixed an issue where the Powerlifter Triumph could be completed before gilding the Glorious Seal. Competitive: Improved matchmaking times at higher skill tiers. Trials of Osiris: Fixed an issue where some players were unable to access the game mode while on step 3 of the introductory quest. Trials of Osiris: Increased the drop rate of Adept weapons on 7-win cards after going Flawless that week. Ghosts of the Deep: Fixed an issue where players could respawn outside the final encounter's\", metadata={'chunk': 0.0, 'description': 'The one about fixing the Commendations screen', 'name': 'Destiny 2 Update 7.1.0.3', 'pub_date': datetime.datetime(2023, 6, 27, 17, 0, tzinfo=tzutc()), 'source': '/7/en/News/Article/patch-notes-update-7-1-0-3', 'unique_id': 'blt0864df0822b65e86'})]"
      ]
     },
     "execution_count": 62,
     "metadata": {},
     "output_type": "execute_result"
    }
   ],
   "source": [
    "# Run chain\n",
    "result = qa_chain({\"query\": query})\n",
    "print(len(result['source_documents']))\n",
    "result['source_documents']"
   ]
  },
  {
   "cell_type": "code",
   "execution_count": 65,
   "metadata": {},
   "outputs": [
    {
     "data": {
      "text/plain": [
       "'The Immortal SMG had its base range value reduced by 10.'"
      ]
     },
     "execution_count": 65,
     "metadata": {},
     "output_type": "execute_result"
    }
   ],
   "source": [
    "from langchain.memory import ConversationBufferMemory\n",
    "memory = ConversationBufferMemory(memory_key=\"chat_history\", return_messages=True)\n",
    "\n",
    "from langchain.chains import ConversationalRetrievalChain\n",
    "retriever=vectorstore.as_retriever()\n",
    "chat = ConversationalRetrievalChain.from_llm(llm,retriever=retriever,memory=memory)\n",
    "\n",
    "result = chat({\"question\": \"What were the changes to the immortal smg?\"})\n",
    "result['answer']"
   ]
  },
  {
   "cell_type": "code",
   "execution_count": 66,
   "metadata": {},
   "outputs": [
    {
     "data": {
      "text/plain": [
       "'Yes, there was a change to the Immortal SMG. Its base range value was reduced by 10.'"
      ]
     },
     "execution_count": 66,
     "metadata": {},
     "output_type": "execute_result"
    }
   ],
   "source": [
    "\n",
    "result = chat({\"question\": \"anything else?\"})\n",
    "result['answer']"
   ]
  },
  {
   "cell_type": "code",
   "execution_count": null,
   "metadata": {},
   "outputs": [
    {
     "name": "stdout",
     "output_type": "stream",
     "text": [
      "You are a knowledgeable game assistant trained to answer queries about the latest patch notes. The following are examples of how you should answer questions, but dont answer any but the last.\n",
      "\n",
      "User: What changes were made to the Dazzling Iridescence Trials emblem?\n",
      "AI: The Dazzling Iridescence Trials emblem had an issue where it could be awarded from the Flawless chest without completing the necessary requirements. This issue has been fixed in the latest patch. Players who have already acquired the emblem will need to complete the requirements after this patch goes live in order to equip the emblem.\n",
      "\n",
      "\n",
      "User: What is the new change regarding Gyrfalcon's Hauberk's reserve overshield?\n",
      "AI: Gyrfalcon's Hauberk's reserve overshield now deploys when a player uses Ensnaring Slam. This is a change introduced in the latest patch.\n",
      "\n",
      "\n",
      "User: What were the issues fixed regarding Arbor Warden?\n",
      "AI: Two issues related to Arbor Warden were fixed in this patch. One issue caused the player to become frozen which would disable Arbor Warden's Exotic perk. The other issue was causing the Juggernaut aspect to not interact with your class ability energy correctly. Both of these issues have now been addressed.\n",
      "\n",
      "\n",
      "User: What were the changes to the immortal\n",
      "AI: \n"
     ]
    }
   ],
   "source": [
    "from langchain.llms import OpenAI\n",
    "from langchain import LLMChain\n",
    "\n",
    "davinci = OpenAI(model_name='text-davinci-003')\n",
    "\n",
    "from langchain import PromptTemplate\n",
    "from langchain import FewShotPromptTemplate\n",
    "from langchain.prompts.example_selector import LengthBasedExampleSelector\n",
    "\n",
    "# create our examples\n",
    "examples = [\n",
    "    {\n",
    "        \"query\": \"What changes were made to the Dazzling Iridescence Trials emblem?\",\n",
    "        \"answer\": \"The Dazzling Iridescence Trials emblem had an issue where it could be awarded from the Flawless chest without completing the necessary requirements. This issue has been fixed in the latest patch. Players who have already acquired the emblem will need to complete the requirements after this patch goes live in order to equip the emblem.\"\n",
    "    }, \n",
    "    {\n",
    "        \"query\": \"What is the new change regarding Gyrfalcon's Hauberk's reserve overshield?\",\n",
    "        \"answer\": \"Gyrfalcon's Hauberk's reserve overshield now deploys when a player uses Ensnaring Slam. This is a change introduced in the latest patch.\"\n",
    "    },\n",
    "    {\n",
    "        \"query\": \"What were the issues fixed regarding Arbor Warden?\",\n",
    "        \"answer\": \"Two issues related to Arbor Warden were fixed in this patch. One issue caused the player to become frozen which would disable Arbor Warden's Exotic perk. The other issue was causing the Juggernaut aspect to not interact with your class ability energy correctly. Both of these issues have now been addressed.\"\n",
    "    },\n",
    "    {\n",
    "        \"query\": \"What changes were made for PvP in the latest patch?\",\n",
    "        \"answer\": \"In the latest patch, several PvP-related issues were fixed. For example, Verity's Brow, which was not functioning in PvP, has been fixed. An issue where Athrys's Embrace's buff icon wasn't appearing in the HUD in PvP has also been fixed. The Collective Action weapon perk's damage against Guardians has been reduced to 10% from 20%. These are some of the changes made for PvP in this patch.\"\n",
    "    },\n",
    "    {\n",
    "        \"query\": \"Were there any changes related to 'Iron Banner Special/Power weapons'?\",\n",
    "        \"answer\": \"Yes, an issue where some older Iron Banner Special/Power weapons had lost their scope glint has been fixed in this latest patch.\"\n",
    "    },\n",
    "]\n",
    "\n",
    "# create a example template\n",
    "example_template = \"\"\"\n",
    "User: {query}\n",
    "AI: {answer}\n",
    "\"\"\"\n",
    "\n",
    "# create a prompt example from above template\n",
    "example_prompt = PromptTemplate(\n",
    "    input_variables=[\"query\", \"answer\"],\n",
    "    template=example_template\n",
    ")\n",
    "\n",
    "\n",
    "# now break our previous prompt into a prefix and suffix\n",
    "# the prefix is our instructions\n",
    "prefix = \"You are a knowledgeable game assistant trained to answer queries about the latest patch notes. The following are examples of how you should answer questions, but dont answer any but the last.\"\n",
    "# and the suffix our user input and output indicator\n",
    "suffix = \"\"\"\n",
    "User: {query}\n",
    "AI: \"\"\"\n",
    "\n",
    "query = \"What were the changes to the immortal\"\n",
    "\n",
    "\n",
    "example_selector = LengthBasedExampleSelector(\n",
    "    examples=examples,\n",
    "    example_prompt=example_prompt,\n",
    "    max_length=200  # increased max length\n",
    ")\n",
    "\n",
    "# now create the few shot prompt template\n",
    "dynamic_prompt_template = FewShotPromptTemplate(\n",
    "    example_selector=example_selector,  # use example_selector instead of examples\n",
    "    example_prompt=example_prompt,\n",
    "    prefix=prefix,\n",
    "    suffix=suffix,\n",
    "    input_variables=[\"query\"],\n",
    "    example_separator=\"\\n\"\n",
    ")\n",
    "\n",
    "print(dynamic_prompt_template.format(query=query))\n",
    "\n"
   ]
  },
  {
   "cell_type": "code",
   "execution_count": null,
   "metadata": {},
   "outputs": [
    {
     "name": "stdout",
     "output_type": "stream",
     "text": [
      "{'question': \"You are a knowledgeable game assistant trained to answer queries about the latest patch notes. The following are examples of how you should answer questions, but dont answer any but the last.\\n\\nUser: What changes were made to the Dazzling Iridescence Trials emblem?\\nAI: The Dazzling Iridescence Trials emblem had an issue where it could be awarded from the Flawless chest without completing the necessary requirements. This issue has been fixed in the latest patch. Players who have already acquired the emblem will need to complete the requirements after this patch goes live in order to equip the emblem.\\n\\n\\nUser: What is the new change regarding Gyrfalcon's Hauberk's reserve overshield?\\nAI: Gyrfalcon's Hauberk's reserve overshield now deploys when a player uses Ensnaring Slam. This is a change introduced in the latest patch.\\n\\n\\nUser: What were the issues fixed regarding Arbor Warden?\\nAI: Two issues related to Arbor Warden were fixed in this patch. One issue caused the player to become frozen which would disable Arbor Warden's Exotic perk. The other issue was causing the Juggernaut aspect to not interact with your class ability energy correctly. Both of these issues have now been addressed.\\n\\n\\nUser: What were the changes to the immortal\\nAI: \", 'answer': 'There is no information available about the changes to the Immortal in the latest patch.\\nSOURCES:', 'sources': ''}\n"
     ]
    }
   ],
   "source": [
    "query = \"What were the changes to the immortal\"\n",
    "print(qa_with_sources(dynamic_prompt_template.format(query=query)))"
   ]
  },
  {
   "cell_type": "code",
   "execution_count": null,
   "metadata": {},
   "outputs": [],
   "source": []
  }
 ],
 "metadata": {
  "kernelspec": {
   "display_name": "Python 3",
   "language": "python",
   "name": "python3"
  },
  "language_info": {
   "codemirror_mode": {
    "name": "ipython",
    "version": 3
   },
   "file_extension": ".py",
   "mimetype": "text/x-python",
   "name": "python",
   "nbconvert_exporter": "python",
   "pygments_lexer": "ipython3",
   "version": "3.11.3"
  },
  "orig_nbformat": 4
 },
 "nbformat": 4,
 "nbformat_minor": 2
}
