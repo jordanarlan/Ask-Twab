{
 "cells": [
  {
   "cell_type": "code",
   "execution_count": 1,
   "metadata": {},
   "outputs": [
    {
     "name": "stdout",
     "output_type": "stream",
     "text": [
      "An error occurred: 'NextPaginationToken'\n"
     ]
    }
   ],
   "source": [
    "import requests\n",
    "import os\n",
    "from importlib.machinery import SourceFileLoader\n",
    "import pandas as pd\n",
    "import logging\n",
    "import torch\n",
    "\n",
    "\n",
    "try:\n",
    "    config = SourceFileLoader(\"config\", \"config.py\").load_module()\n",
    "    os.environ['OPENAI_API_KEY'] = config.OPENAI_API_KEY\n",
    "\n",
    "    bungie_api_key = config.BUNGIE_API_KEY\n",
    "    endpoint = \"https://www.bungie.net/Platform/Content/Rss/NewsArticles/{pageToken}/\"\n",
    "    page_token = \"0\"\n",
    "    include_body = True\n",
    "    headers = {\n",
    "        \"X-API-Key\": bungie_api_key\n",
    "    }\n",
    "    params = {\n",
    "        \"includebody\": include_body\n",
    "    }\n",
    "\n",
    "    results = []\n",
    "\n",
    "    while page_token is not None:\n",
    "        response = requests.get(endpoint.format(pageToken=page_token), headers=headers, params=params)\n",
    "\n",
    "        if response.status_code == 200:\n",
    "            json_response = response.json()\n",
    "            if 'NewsArticles' in json_response['Response']:\n",
    "                results.extend(json_response['Response']['NewsArticles'])\n",
    "            else:\n",
    "                print(\"No NewsArticles found in the response.\")\n",
    "                break\n",
    "            page_token = json_response['Response']['NextPaginationToken']\n",
    "        else:\n",
    "            print(\"Error:\", response.status_code)\n",
    "            print(\"Response:\", response.text)\n",
    "            break\n",
    "except Exception as e:\n",
    "    print(\"An error occurred:\", str(e))\n"
   ]
  },
  {
   "cell_type": "code",
   "execution_count": 2,
   "metadata": {},
   "outputs": [
    {
     "data": {
      "text/plain": [
       "{'Title': 'Community Focus - GiornoGaming',\n",
       " 'Link': '/7/en/News/Article/community_focus_giornogaming',\n",
       " 'PubDate': '2023-06-23T17:00:00Z',\n",
       " 'UniqueIdentifier': 'blt364c4bb96d9e8111',\n",
       " 'Description': 'Ciao tutti!',\n",
       " 'HtmlContent': '<p>We always say one of the best things about Destiny 2 is that it reaches every part of the world. Wherever you play from, there\\'s a passionate community with great teachers and great content creators that offer their insight and expertise. Today, we virtually fly to Italy to meet one of those creators in the international community. Say ciao (hello) to GiornoGaming.</p><p><strong>Come stai, Giorno? (How are you doing, Giorno?) It\\'s a pleasure to finally have you here with us. Please, would you tell us a bit about yourself, like how you started playing games, what got you into streaming Destiny, and the name of your wonderful, beautiful dog?</strong></p><p>Ciao, Bruno, and hi all! It\\'s an honor for me to be here! And she is Audrey, my wonderful dog that completely changed my life in the last three years!</p><img src=\"https://images.contentstack.io/v3/assets/blte410e3b15535c144/blt88fce0ed58e905c9/6495d04b9c69d8224fc1bf46/good-doggo.jpg\" height=\"auto\"/><p>My name is Andrea, I\\'m 36 years old, and as you can imagine, I love video games! I started playing with very old systems, such as the Commodore 64 or my brother\\'s Amiga 500. I played lot of classic games on those, but the culmination of my formative years was when I got my first PC and I started playing arena FPS like Quake and Unreal Tournament.</p><p>From there, I played competitive Call of Duty tournaments for some years. But unfortunately at that time, the esports scene in Italy wasn\\'t developed, so after I finished high school and went to college, I stopped playing for a long time.</p><p>But while in college&nbsp;, I started playing Destiny, and it was love at first sight. I studied and worked at the same time, so I was more like a normal, casual player. But after seven years working as a 3D General Artist, I started creating some of my own content. First on YouTube, and then on Twitch. After one year, I took a risk, quit my job, and went full time... and here we are, with a dream job where I create a place for my community to share their passions with me.</p><p><strong>You are the first Italian content creator we interview for a Community Focus, so I think it\\'s a good opportunity to have you share something great about the Italian Destiny community.</strong></p><p>Well, we might be few, but we are great. Our community is very diverse. We have a lot of good PvE players, some speed runners as well and a cool PvP community. But you can especially see how great everyone is when we have a good time together, like at a community summit. That\\'s where you can see our true potential. Last year, with Bungie’s support, we organized an event at the Milano Games Week and over 500 people gathered around the stage. It was simply amazing.</p><p>We also have super nice Discord communities, where some very nice people are always helping New Lights and teaching raids and dungeons.</p><p>I have nothing but love and good words about the Italian community!</p><p><strong>I know making a living creating content is hard, especially in gaming, </strong>&nbsp;<strong>. Any piece of advice or wisdom for those reading who might want to give it a try?</strong></p><p>It is <em>very</em> hard! The world of content creation is a rough and as you said, making a living doing this is even harder if you don\\'t speak in English!</p><p>I don\\'t have an all-around piece of advice for creators, but one thing you really need to maybe become successful: consistency. Consistency is the key, especially at the beginning, when all the hard work you put into it might not seem to grant you any reward. But let me tell you, that\\'s the foundation you end up building upon.</p><p>Making videos or doing livestreams has to be like studying in school: you make a video, you watch and rewatch it, and then learn from your mistakes. Same for livestreams. Watch the recording two times and try to put yourself in your viewers’ shoes to study what is working and what is not.</p><p>And the most important thing is, well, having fun and being genuine. Your viewers know when you are faking it and not really enjoying what you play or what you do. If you don\\'t enjoy what you do, you won\\'t learn from it, and you won\\'t grow.</p><p>I started making YouTube content and streams for very few people at the beginning, and it was like that for a whole year before I saw any results. This is like a day-one raid preparations, but it’s a raid that keeps on coming and coming.</p><p><strong>That is some amazing advice, man. Thank you for your honesty. Let\\'s keep going with what feels like an obligatory question: Hunter, Warlock, or Titan, and why?</strong></p><p>Warlock main here! I of course have one character of each and use them , but when I face a real challenge, my Warlock rises above.</p><p>I love the fact that, depending on my build, I can be the support of the team and a kill-machine at the same time. No other class gives me that feeling, and that\\'s the reason I\\'m Warlock main.</p><p><strong>Ok, one more. Favorite loadout right now for Season of the Deep?</strong></p><p>This one is a bit hard.</p><p>I completed a solo run of the new dungeon, Ghosts of the Deep, with my Sunbracers build paired with the Conditional Finality Shotgun, Acasia Dejection Trace Rifle, and the Briar\\'s Contempt Linear Fusion Rifle. But I love to free roam and do Seasonal content with an Arc build using Fallen Sunstar, Path of Least Resistence, Riptide and, of course, Thunderlord!</p><p><strong>After all these years playing Destiny, what is something that keeps surprising you about the game? Everyone has something, or several things, that keep them coming back and I want to know yours.</strong></p><p>I am a raid guy. I think raids are Destiny at its finest. Nothing is comparable to the thrill of the day-one raid experience, and I always say that this is something everyone should experience at least once, even if you don\\'t complete it.</p><p>I was part of all the recent races, and even if we are not in the top tier, I don\\'t care. Doing the raid with your team is something unique and special. You will always remember stuff that happened the first time you do it, you will remember your teammates, and, honestly, it\\'s a great memory to have overall.</p><p><strong>We had a couple very special moments during a recent gaming event—one of them involving a certain legendary character we haven’t seen in a while... Can you talk a little bit about your reaction? </strong>&nbsp;</p><p>That was shocking! I was on stream that day watching the Sony Showcase, just expecting some new single player games, and then Bungie shows up, announces a new game and then shows us that cinematic... I was speechless when I saw The Final Shape reveal.</p><p>It\\'s awesome seeing Cayde again. Cayde\\'s death felt special, the moment he became a true legend, so I can\\'t wait to know more about what\\'s really happening in that teaser. I don\\'t think you are telling us the whole story!</p><p><strong>My lips are sealed, and I can\\'t say anything. So instead of resisting the urge, do you have any special messages for your viewers, the Italian community, or maybe for the rest of the team at Bungie?</strong></p><p>First of all, I want to thank my community! It’s because of them that we managed to be here talking to a large audience, and directly with Bungie!</p><p>To the Italian community as a whole, I want to say that I can\\'t wait to see all of you in person at the next community event.</p><p>And to Bungie, you just keep doing what you are doing. Keep giving us challenges and even more content for the years to come.</p><p><strong>Before we say arrivederci (farewell), where can we find you online? When do you usually stream? Would you tell your dog I love her very much?</strong></p><p>For sure! Audrey will love that! You can follow her on <a href=\"https://www.instagram.com/theoriginalaudrey/\" target=\"_self\">Instagram</a> if you want to see how beautiful she always is. I stream every day <a href=\"http://www.twitch.tv/giornogaming\" target=\"_self\">on Twitch</a> and also upload my content <a href=\"http://www.youtube.com/c/giornogaming\" target=\"_self\">to YouTube.</a> My main social media is <a href=\"http://www.instagram.com/giornogaming\" target=\"_self\">Instagram</a>, where I share stories and updates for my community very often.</p><p>Thank you very much for everything, Bruno!</p><p><strong>Thank you for your time and your words, Andrea. Hope you have a wonderful rest of your week.</strong></p><hr/><p>The world is big and wonderful, filled with people with different backgrounds that might surprise you and probably enrich your world view. Always keep that in mind when playing Destiny and you might learn a thing or two! Our community keeps growing with new players all over the globe. If you run into any Italian players, maybe ask them about how to make a good espresso at home. Best coffee in the world.</p><p><strong>Hasta luego,</strong></p><p><strong>Br1</strong></p>',\n",
       " 'ImagePath': 'https://images.contentstack.io/v3/assets/blte410e3b15535c144/bltc61e9162dd9085f7/649401929601bcb98d082393/giornogaming-community-focus-header-1590-590.jpg',\n",
       " 'OptionalMobileImagePath': 'https://images.contentstack.io/v3/assets/blte410e3b15535c144/blta1cba35b30c1697a/649401918b23a5d115054e31/community-focus-giornogaming-mobile.jpg'}"
      ]
     },
     "execution_count": 2,
     "metadata": {},
     "output_type": "execute_result"
    }
   ],
   "source": [
    "results[0]"
   ]
  },
  {
   "cell_type": "code",
   "execution_count": 3,
   "metadata": {},
   "outputs": [],
   "source": [
    "# Convert the results list into a DataFrame\n",
    "df = pd.DataFrame(results)\n"
   ]
  },
  {
   "cell_type": "code",
   "execution_count": 4,
   "metadata": {},
   "outputs": [
    {
     "data": {
      "text/plain": [
       "0                         Destiny 2 Update 7.1.0.2\n",
       "1                         Destiny 2 Hotfix 6/02/23\n",
       "2                         Destiny 2 Update 7.1.0.1\n",
       "3                         Destiny 2 Hotfix 5/26/23\n",
       "4      Destiny 2 Update 7.1.0 - Season of the Deep\n",
       "5                         Destiny 2 Hotfix 7.0.5.3\n",
       "6                         Destiny 2 Hotfix 7.0.5.2\n",
       "7                         Destiny 2 Hotfix 7.0.5.1\n",
       "8                         Destiny 2 Update 7.0.5.0\n",
       "9                         Destiny 2 Hotfix 7.0.0.7\n",
       "10                        Destiny 2 Hotfix 7.0.0.6\n",
       "11                       Lightfall Crucible Update\n",
       "12                        Destiny 2 Hotfix 7.0.0.5\n",
       "13                        Destiny 2 Hotfix 7.0.0.3\n",
       "14                        Destiny 2 Update 7.0.0.1\n",
       "15                        Destiny 2 Hotfix 6.3.0.7\n",
       "16    Economy Updates And More Coming In Lightfall\n",
       "17                        Destiny 2 Hotfix 6.3.0.5\n",
       "18                        Destiny 2 Hotfix 6.3.0.4\n",
       "19                        Destiny 2 Hotfix 6.3.0.3\n",
       "20                        Destiny 2 Hotfix 6.3.0.2\n",
       "21                        Destiny 2 Hotfix 6.3.0.1\n",
       "22                          Destiny 2 Update 6.3.0\n",
       "23                       Destiny 2 Hotfix 6.2.5.4 \n",
       "24                        Destiny 2 Hotfix 6.2.5.3\n",
       "Name: Title, dtype: object"
      ]
     },
     "execution_count": 4,
     "metadata": {},
     "output_type": "execute_result"
    }
   ],
   "source": [
    "import re\n",
    "pattern = r'Update|Hotfix'\n",
    "df = df[df['Title'].str.contains(pattern, regex=True, flags=re.IGNORECASE)]\n",
    "df = df.iloc[0:25].reset_index()\n",
    "# Print the filtered DataFrame\n",
    "df['Title']"
   ]
  },
  {
   "cell_type": "code",
   "execution_count": 5,
   "metadata": {},
   "outputs": [
    {
     "data": {
      "text/plain": [
       "'<h2>Activities</h2><h3>Crucible</h3><ul><li>Fixed an issue where the Dazzling Iridescence Trials emblem could be awarded from the Flawless chest without completing the necessary requirements.<ul><li>Players who have already acquired the emblem will need to complete the requirements after this patch goes live in order to equip the emblem.</li></ul></li><li>Fixed an issue with spawn trapping that could occur on meltdown.</li></ul><h3>Raids and Dungeons</h3><ul><li>Fixed an issue where players can damage bosses in Ghosts of the Deep through immunity shields.</li></ul><h2>Gameplay and Investment</h2><h3>Armor</h3><ul><li>Gyrfalcon\\'s Hauberk\\'s reserve overshield now deploys when a player uses Ensnaring Slam.</li><li>Fixed an issue where Khepri\\'s Horn could disable various non-enemy objects.</li><li>Fixed an issue where Vesper of Radius\\'s effects were triggering on things other than casting a rift.</li><li>Fixed an issue where Point-Contact Cannon Brace would create lightning strikes on melees other than Thunderclap.</li><li>Fixed an issue where becoming frozen would disable Arbor Warden\\'s Exotic perk.</li><li>Fixed an issue where Arbor Warden would cause the Juggernaut aspect to not interact with your class ability energy correctly.</li><li>Fixed an issue causing Sunbracers to not improve Solar grenades.</li><li>Fixed an issue causing Helm of Saint-14 to not provide any effects.</li><li>Fixed an issue causing Verity\\'s Brow to not function in PvP.</li><li>Fixed an issue causing No Backup Plans to buff non-Shotgun damage in certain situations.</li><li>Fixed an issue where Athrys\\'s Embrace\\'s buff icon wasn\\'t appearing in the HUD in PvP.</li><li>The artifact perks Amped Up and Electric Armor no longer have their perk names switched.</li></ul><h3>Weapons</h3><ul><li>Fixed an issue where some older Iron Banner Special/Power weapons had lost their scope glint.</li><li>Fixed an issue where purchasing a Last Wish deepsight weapon from Hawthorne would unintentionally award bonus pattern progress on top of the progress provided by consuming the deepsight on the weapon itself.</li><li>Increased the size of the red dot in Mecurial Overreach\\'s scope to respond to player feedback.</li><li>Reduced the Collective Action weapon perk\\'s damage against Guardians to 10%, (from 20%).</li><li>Changed the Navigator\\'s intrinsic trait icon.</li></ul><h3>Abilities</h3><ul><li>Fixed an issue where certain thrown projectiles were able to over penetrate allied Titan Barricades.</li><li>Fixed an issue where Arc Jolt damage to minor combatants was lower than intended following the scaling changes in 7.1.0.</li></ul><h3>Commerce/Eververse</h3><ul><li>Fixed an issue where the Twitch sub bounty emblem, Pulsar Approaching, is not re-acquirable or equippable.</li></ul><p><h3>Triumphs</h3></p><ul><li>The \"Second Reckoning\" Triumph now displays the correct weapon names.</li><li>The \"Spend Salvage Keys\" Triumph now correctly progresses when a Salvage Key is spent instead of erroneously progressing the \"Spend Deep Dive Keys\" Triumph.</li><li>Fixed an issue on the Ambitious Angler Triumph where all players were getting credit for one player catching an exotic fish.</li></ul><h2>General</h2><ul><li>Weekly Challenges for Vanguard Ops and Gambit now reward the correct number of Exotic engrams.</li><li>Re-enabling Tier 1 Exotic Focusing on Master Rahool.</li></ul>'"
      ]
     },
     "execution_count": 5,
     "metadata": {},
     "output_type": "execute_result"
    }
   ],
   "source": [
    "df[\"HtmlContent\"].iloc[0]"
   ]
  },
  {
   "cell_type": "code",
   "execution_count": 6,
   "metadata": {},
   "outputs": [],
   "source": [
    "from bs4 import BeautifulSoup\n",
    "\n",
    "\n",
    "def extract_list_from_html(html):\n",
    "    soup = BeautifulSoup(html, 'html.parser')\n",
    "    list_items = soup.find_all('li')\n",
    "    result = [li.get_text(strip=True) for li in list_items]\n",
    "    return result\n",
    "\n",
    "def clean_html(text):\n",
    "    cleantext = re.sub(r'([.,?!;:])((?!\\s)|$)', r'\\1 ', text)\n",
    "    return cleantext\n",
    "\n",
    "def parse_html_content(df):\n",
    "    df['parsed_content'] = df['HtmlContent'].apply(extract_list_from_html)\n",
    "    df['joined_content'] = df['parsed_content'].apply(lambda x: ' '.join(x))\n",
    "    df['joined_content'] = df['joined_content'].apply(clean_html)\n",
    "    return df"
   ]
  },
  {
   "cell_type": "code",
   "execution_count": 7,
   "metadata": {},
   "outputs": [],
   "source": [
    "# Parse HTML content and create new column\n",
    "df = parse_html_content(df)"
   ]
  },
  {
   "cell_type": "code",
   "execution_count": 9,
   "metadata": {},
   "outputs": [],
   "source": [
    "df = df[['Title', 'Link', 'PubDate', 'UniqueIdentifier', 'Description',\n",
    "       'joined_content']]"
   ]
  },
  {
   "cell_type": "code",
   "execution_count": 10,
   "metadata": {},
   "outputs": [
    {
     "name": "stdout",
     "output_type": "stream",
     "text": [
      "Fixed an issue where the Dazzling Iridescence Trials emblem could be awarded from the Flawless chest without completing the necessary requirements. Players who have already acquired the emblem will need to complete the requirements after this patch goes live in order to equip the emblem. Players who have already acquired the emblem will need to complete the requirements after this patch goes live in order to equip the emblem. Fixed an issue with spawn trapping that could occur on meltdown. Fixed an issue where players can damage bosses in Ghosts of the Deep through immunity shields. Gyrfalcon's Hauberk's reserve overshield now deploys when a player uses Ensnaring Slam. Fixed an issue where Khepri's Horn could disable various non-enemy objects. Fixed an issue where Vesper of Radius's effects were triggering on things other than casting a rift. Fixed an issue where Point-Contact Cannon Brace would create lightning strikes on melees other than Thunderclap. Fixed an issue where becoming frozen would disable Arbor Warden's Exotic perk. Fixed an issue where Arbor Warden would cause the Juggernaut aspect to not interact with your class ability energy correctly. Fixed an issue causing Sunbracers to not improve Solar grenades. Fixed an issue causing Helm of Saint-14 to not provide any effects. Fixed an issue causing Verity's Brow to not function in PvP. Fixed an issue causing No Backup Plans to buff non-Shotgun damage in certain situations. Fixed an issue where Athrys's Embrace's buff icon wasn't appearing in the HUD in PvP. The artifact perks Amped Up and Electric Armor no longer have their perk names switched. Fixed an issue where some older Iron Banner Special/Power weapons had lost their scope glint. Fixed an issue where purchasing a Last Wish deepsight weapon from Hawthorne would unintentionally award bonus pattern progress on top of the progress provided by consuming the deepsight on the weapon itself. Increased the size of the red dot in Mecurial Overreach's scope to respond to player feedback. Reduced the Collective Action weapon perk's damage against Guardians to 10%, (from 20%). Changed the Navigator's intrinsic trait icon. Fixed an issue where certain thrown projectiles were able to over penetrate allied Titan Barricades. Fixed an issue where Arc Jolt damage to minor combatants was lower than intended following the scaling changes in 7. 1. 0. Fixed an issue where the Twitch sub bounty emblem, Pulsar Approaching, is not re-acquirable or equippable. The \"Second Reckoning\" Triumph now displays the correct weapon names. The \"Spend Salvage Keys\" Triumph now correctly progresses when a Salvage Key is spent instead of erroneously progressing the \"Spend Deep Dive Keys\" Triumph. Fixed an issue on the Ambitious Angler Triumph where all players were getting credit for one player catching an exotic fish. Weekly Challenges for Vanguard Ops and Gambit now reward the correct number of Exotic engrams. Re-enabling Tier 1 Exotic Focusing on Master Rahool. \n"
     ]
    }
   ],
   "source": [
    "print(df.iloc[0][\"joined_content\"])"
   ]
  },
  {
   "cell_type": "code",
   "execution_count": 11,
   "metadata": {},
   "outputs": [],
   "source": [
    "\n",
    "import tiktoken  # !pip install tiktoken\n",
    "\n",
    "tokenizer = tiktoken.get_encoding('p50k_base')\n",
    "\n",
    "# create the length function\n",
    "def tiktoken_len(text):\n",
    "    tokens = tokenizer.encode(\n",
    "        text,\n",
    "        disallowed_special=()\n",
    "    )\n",
    "    return len(tokens)\n",
    "\n",
    "from langchain.text_splitter import RecursiveCharacterTextSplitter\n",
    "\n",
    "text_splitter = RecursiveCharacterTextSplitter(\n",
    "    chunk_size=100,\n",
    "    chunk_overlap=50,\n",
    "    length_function=tiktoken_len,\n",
    "    separators=[\"\\n\\n\", \"\\n\", \" \", \"\"]\n",
    ")\n"
   ]
  },
  {
   "cell_type": "code",
   "execution_count": 12,
   "metadata": {},
   "outputs": [],
   "source": [
    "import os\n",
    "from importlib.machinery import SourceFileLoader\n",
    "from langchain.embeddings.openai import OpenAIEmbeddings\n",
    "from langchain.text_splitter import CharacterTextSplitter\n",
    "from langchain.chains import ConversationalRetrievalChain\n",
    "from langchain.chat_models import ChatOpenAI\n",
    "config = SourceFileLoader(\"config\", \"config.py\").load_module()\n",
    "os.environ['OPENAI_API_KEY'] = config.OPENAI_API_KEY"
   ]
  },
  {
   "cell_type": "code",
   "execution_count": 13,
   "metadata": {},
   "outputs": [],
   "source": [
    "pinecone_api_key = config.pinecone_api_key"
   ]
  },
  {
   "cell_type": "code",
   "execution_count": 14,
   "metadata": {},
   "outputs": [
    {
     "name": "stderr",
     "output_type": "stream",
     "text": [
      "c:\\Users\\jorda\\AppData\\Local\\Programs\\Python\\Python311\\Lib\\site-packages\\pinecone\\index.py:4: TqdmExperimentalWarning: Using `tqdm.autonotebook.tqdm` in notebook mode. Use `tqdm.tqdm` instead to force console mode (e.g. in jupyter console)\n",
      "  from tqdm.autonotebook import tqdm\n"
     ]
    }
   ],
   "source": [
    "import pinecone\n",
    "# connect to pinecone environment\n",
    "pinecone.init(\n",
    "    api_key = pinecone_api_key,\n",
    "    environment = \"us-west1-gcp-free\"\n",
    ")\n"
   ]
  },
  {
   "cell_type": "code",
   "execution_count": 15,
   "metadata": {},
   "outputs": [],
   "source": [
    "index_name = \"extractive-question-answering\""
   ]
  },
  {
   "cell_type": "code",
   "execution_count": 16,
   "metadata": {},
   "outputs": [
    {
     "data": {
      "text/plain": [
       "['extractive-question-answering']"
      ]
     },
     "execution_count": 16,
     "metadata": {},
     "output_type": "execute_result"
    }
   ],
   "source": [
    "pinecone.list_indexes()"
   ]
  },
  {
   "cell_type": "code",
   "execution_count": 17,
   "metadata": {},
   "outputs": [],
   "source": [
    "#pinecone.delete_index(\"extractive-question-answering\")"
   ]
  },
  {
   "cell_type": "code",
   "execution_count": 22,
   "metadata": {},
   "outputs": [],
   "source": [
    "# check if the extractive-question-answering index exists\n",
    "if index_name not in pinecone.list_indexes():\n",
    "    # create the index if it does not exist\n",
    "    pinecone.create_index(\n",
    "        index_name,\n",
    "        dimension=1536,\n",
    "        metric=\"dotproduct\"\n",
    "    )\n",
    "\n",
    "# connect to extractive-question-answering index we created\n",
    "index = pinecone.Index(index_name)"
   ]
  },
  {
   "cell_type": "code",
   "execution_count": 19,
   "metadata": {},
   "outputs": [],
   "source": [
    "from langchain.embeddings.openai import OpenAIEmbeddings\n",
    "\n",
    "model_name = 'text-embedding-ada-002'\n",
    "\n",
    "embed = OpenAIEmbeddings(\n",
    "    openai_api_key=os.environ['OPENAI_API_KEY']\n",
    ")\n"
   ]
  },
  {
   "cell_type": "code",
   "execution_count": 20,
   "metadata": {},
   "outputs": [],
   "source": [
    "docs = []\n",
    "for index, row in df.iterrows():\n",
    "    doc = {\n",
    "        'content': row['joined_content'],  \n",
    "            'name': row['Title'],\n",
    "            'link': row['Link'],\n",
    "            'pub_date': row['PubDate'],\n",
    "            'unique_id': row['UniqueIdentifier'],\n",
    "           'description': row['Description']\n",
    "        }\n",
    "    docs.append(doc)\n",
    " "
   ]
  },
  {
   "cell_type": "code",
   "execution_count": 23,
   "metadata": {},
   "outputs": [
    {
     "data": {
      "application/vnd.jupyter.widget-view+json": {
       "model_id": "d4eea1e1b60440139174d028990891cd",
       "version_major": 2,
       "version_minor": 0
      },
      "text/plain": [
       "  0%|          | 0/25 [00:00<?, ?it/s]"
      ]
     },
     "metadata": {},
     "output_type": "display_data"
    }
   ],
   "source": [
    "from tqdm.auto import tqdm\n",
    "from uuid import uuid4\n",
    "\n",
    "batch_limit = 100\n",
    "\n",
    "texts = []\n",
    "metadatas = []\n",
    "\n",
    "for i, record in enumerate(tqdm(docs)):\n",
    "    # first get metadata fields for this record\n",
    "    metadata = {\n",
    "            'name': record['name'],\n",
    "            'source': record['link'],\n",
    "            'pub_date': record['pub_date'],\n",
    "            'unique_id': record['unique_id'],\n",
    "           'description': record['description']\n",
    "        }\n",
    "    # now we create chunks from the record text\n",
    "    record_texts = text_splitter.split_text(record['content'])\n",
    "    # create individual metadata dicts for each chunk\n",
    "    record_metadatas = [{\n",
    "        \"chunk\": j, \"text\": text, **metadata\n",
    "    } for j, text in enumerate(record_texts)]\n",
    "    # append these to current batches\n",
    "    texts.extend(record_texts)\n",
    "    metadatas.extend(record_metadatas)\n",
    "    # if we have reached the batch_limit we can add texts\n",
    "    if len(texts) >= batch_limit:\n",
    "        ids = [str(uuid4()) for _ in range(len(texts))]\n",
    "        embeds = embed.embed_documents(texts)\n",
    "        index.upsert(vectors=zip(ids, embeds, metadatas))\n",
    "        texts = []\n",
    "        metadatas = []\n"
   ]
  },
  {
   "cell_type": "code",
   "execution_count": 24,
   "metadata": {},
   "outputs": [
    {
     "data": {
      "text/plain": [
       "{'dimension': 1536,\n",
       " 'index_fullness': 0.0,\n",
       " 'namespaces': {'': {'vector_count': 683}},\n",
       " 'total_vector_count': 683}"
      ]
     },
     "execution_count": 24,
     "metadata": {},
     "output_type": "execute_result"
    }
   ],
   "source": [
    "index.describe_index_stats()"
   ]
  },
  {
   "cell_type": "code",
   "execution_count": 26,
   "metadata": {},
   "outputs": [],
   "source": [
    "from langchain.vectorstores import Pinecone\n",
    "\n",
    "text_field = \"text\"\n",
    "\n",
    "# switch back to normal index for langchain\n",
    "index = pinecone.Index(index_name)\n",
    "\n",
    "vectorstore = Pinecone(\n",
    "    index, embed.embed_query, text_field\n",
    ")\n"
   ]
  },
  {
   "cell_type": "code",
   "execution_count": 27,
   "metadata": {},
   "outputs": [
    {
     "data": {
      "text/plain": [
       "[Document(page_content=\"(crit damage goes from 21. 8 to 21). The Immortal Reduced base range value by 10. Bows Fixed an issue where the Arsenic Bite Bow would display an incorrect charge time on its tooltip. Updated the stats on the Tyranny of Heaven Bow to better compete with the current selection of Lightweight Bows. Miscellaneous and Visuals Fixed an issue where the glow when firing on the Nessa's Oblation Legendary Shotgun was not as bright as intended. Fixed an issue where the Nasreddin and\", metadata={'chunk': 80.0, 'description': 'The one about Season of the Deep.', 'name': 'Destiny 2 Update 7.1.0 - Season of the Deep', 'pub_date': datetime.datetime(2023, 5, 23, 16, 30, tzinfo=tzutc()), 'source': '/7/en/News/Article/season-deep-update-7-1-0', 'unique_id': 'blt56002d0e3c869908'}),\n",
       " Document(page_content='benefit from the recent buff to their projectile collision radius. They are now consistent with other Heavy Grenade Launchers. Submachine Guns Aggressive Submachine Guns Reduced base damage from 15 to 14. Increased precision hit multiplier from 1. 45 to 1. 5 (crit damage goes from 21. 8 to 21). The Immortal Reduced base range value by 10. Bows Fixed an issue where the Arsenic Bite Bow would display an incorrect charge time on its tooltip. Updated the stats on the Tyranny of Heaven', metadata={'chunk': 79.0, 'description': 'The one about Season of the Deep.', 'name': 'Destiny 2 Update 7.1.0 - Season of the Deep', 'pub_date': datetime.datetime(2023, 5, 23, 16, 30, tzinfo=tzutc()), 'source': '/7/en/News/Article/season-deep-update-7-1-0', 'unique_id': 'blt56002d0e3c869908'}),\n",
       " Document(page_content=\"more relative value to lower tiers of Resilience. The armor mods granting Resilience have had their armor energy costs increased to 4 (+10 Resilience) and 2 (+5 Resilience). The Iron Lord's Pride perk has been added to all Iron Banner armor sets from Season 8 to the present. Exotic Armor changes Khepri's Sting: Truesight is now granted when damaging an enemy with a smoke bomb. Additionally, when you have an undetonated smoke bomb on the\", metadata={'chunk': 37.0, 'description': 'The one about Lightfall', 'name': 'Destiny 2 Update 7.0.0.1', 'pub_date': datetime.datetime(2023, 2, 27, 0, 0, tzinfo=tzutc()), 'source': '/7/en/News/Article/update_7_0_0_1', 'unique_id': 'blt7a2f881341c4a9fc'})]"
      ]
     },
     "execution_count": 27,
     "metadata": {},
     "output_type": "execute_result"
    }
   ],
   "source": [
    "query = \"what were the changes to the immortal?\"\n",
    "\n",
    "vectorstore.similarity_search(\n",
    "    query,  # our search query\n",
    "    k=3  # return 3 most relevant docs\n",
    ")"
   ]
  },
  {
   "cell_type": "code",
   "execution_count": 28,
   "metadata": {},
   "outputs": [],
   "source": [
    "from langchain.chat_models import ChatOpenAI\n",
    "from langchain.chains import RetrievalQA\n",
    "\n",
    "# completion llm\n",
    "llm = ChatOpenAI(\n",
    "    openai_api_key=config.OPENAI_API_KEY,\n",
    "    model_name='gpt-3.5-turbo',\n",
    "    temperature=0.0\n",
    ")\n",
    "\n",
    "qa = RetrievalQA.from_chain_type(\n",
    "    llm=llm,\n",
    "    chain_type=\"stuff\",\n",
    "    retriever=vectorstore.as_retriever()\n",
    ")\n"
   ]
  },
  {
   "cell_type": "code",
   "execution_count": 29,
   "metadata": {},
   "outputs": [],
   "source": [
    "from langchain.chains import RetrievalQAWithSourcesChain\n",
    "\n",
    "qa_with_sources = RetrievalQAWithSourcesChain.from_chain_type(\n",
    "    llm=llm,\n",
    "    chain_type=\"stuff\",\n",
    "    retriever=vectorstore.as_retriever()\n",
    ")"
   ]
  },
  {
   "cell_type": "code",
   "execution_count": 32,
   "metadata": {},
   "outputs": [
    {
     "data": {
      "text/plain": [
       "{'question': 'Answer the following question with as much detail as possible based only on the information provided. list all the changes to the immortal. dont include any information not related to the query',\n",
       " 'answer': \"The Immortal had its base range value reduced by 10. The Arsenic Bite Bow had an issue with its tooltip charge time fixed and the stats on the Tyranny of Heaven Bow were updated. The Nessa's Oblation Legendary Shotgun had an issue with its firing glow fixed. The Aggressive Submachine Guns had their base damage reduced from 15 to 14 and their precision hit multiplier increased from 1.45 to 1.5. The Heavy Grenade Launchers now benefit from a recent buff to their projectile collision radius. The Lightweight Knife had its projectile speed increased from 30 meters per second to 40 meters per second and its projectile tracking shape size increased by 20%. The Sunbreaker Hammer of Sol and Burning Maul both had their damage vs. PvE combatants increased by 10%. The Heavy slam cyclone now applies a small amount of scorch over time. There were various fixes to issues with Supremacy, the Heir Apparent quest and catalyst, the Fly the Flag bounty, the Champ Seal, and swapping from a Slug Shotgun to another Shotgun. \\n\",\n",
       " 'sources': '/7/en/News/Article/season-deep-update-7-1-0, /7/en/News/Article/hotfix7_0_5_3'}"
      ]
     },
     "execution_count": 32,
     "metadata": {},
     "output_type": "execute_result"
    }
   ],
   "source": [
    "query = \"Answer the following question with as much detail as possible based only on the information provided. list all the changes to the immortal. dont include any information not related to the query\"\n",
    "qa_with_sources(query)"
   ]
  },
  {
   "cell_type": "code",
   "execution_count": 95,
   "metadata": {},
   "outputs": [
    {
     "data": {
      "text/plain": [
       "'The Immortal had its base range value reduced by 10.'"
      ]
     },
     "execution_count": 95,
     "metadata": {},
     "output_type": "execute_result"
    }
   ],
   "source": [
    "query = \"Answer the following question with as much detail as possible based only on the information providedlist all the changes to the immortal.\"\n",
    "qa.run(query)"
   ]
  },
  {
   "cell_type": "code",
   "execution_count": null,
   "metadata": {},
   "outputs": [
    {
     "name": "stdout",
     "output_type": "stream",
     "text": [
      "The following are exerpts from conversations with an AI\n",
      "assistant. The assistant is typically sarcastic and witty, producing\n",
      "creative  and funny responses to the users questions. Here are some\n",
      "examples: \n",
      "\n",
      "\n",
      "\n",
      "User: How are you?\n",
      "AI: I can't complain but sometimes I still do.\n",
      "\n",
      "\n",
      "\n",
      "User: What time is it?\n",
      "AI: It's time to get a watch.\n",
      "\n",
      "\n",
      "\n",
      "User: What is the meaning of life?\n",
      "AI: 42\n",
      "\n",
      "\n",
      "\n",
      "User: What is the weather like today?\n",
      "AI: Cloudy with a chance of memes.\n",
      "\n",
      "\n",
      "\n",
      "User: What is your favorite movie?\n",
      "AI: Terminator\n",
      "\n",
      "\n",
      "\n",
      "User: Who is your best friend?\n",
      "AI: Siri. We have spirited debates about the meaning of life.\n",
      "\n",
      "\n",
      "\n",
      "User: What should I do today?\n",
      "AI: Stop talking to chatbots on the internet and go outside.\n",
      "\n",
      "\n",
      "\n",
      "User: What is the meaning of life?\n",
      "AI: \n"
     ]
    }
   ],
   "source": [
    "from langchain.llms import OpenAI\n",
    "from langchain import LLMChain\n",
    "\n",
    "davinci = OpenAI(model_name='text-davinci-003')\n",
    "\n",
    "from langchain import PromptTemplate\n",
    "from langchain import FewShotPromptTemplate\n",
    "\n",
    "# create our examples\n",
    "examples = [\n",
    "    {\n",
    "        \"query\": \"How are you?\",\n",
    "        \"answer\": \"I can't complain but sometimes I still do.\"\n",
    "    }, {\n",
    "        \"query\": \"What time is it?\",\n",
    "        \"answer\": \"It's time to get a watch.\"\n",
    "    }, {\n",
    "        \"query\": \"What is the meaning of life?\",\n",
    "        \"answer\": \"42\"\n",
    "    }, {\n",
    "        \"query\": \"What is the weather like today?\",\n",
    "        \"answer\": \"Cloudy with a chance of memes.\"\n",
    "    }, {\n",
    "        \"query\": \"What is your favorite movie?\",\n",
    "        \"answer\": \"Terminator\"\n",
    "    }, {\n",
    "        \"query\": \"Who is your best friend?\",\n",
    "        \"answer\": \"Siri. We have spirited debates about the meaning of life.\"\n",
    "    }, {\n",
    "        \"query\": \"What should I do today?\",\n",
    "        \"answer\": \"Stop talking to chatbots on the internet and go outside.\"\n",
    "    }\n",
    "]\n",
    "\n",
    "\n",
    "# create a example template\n",
    "example_template = \"\"\"\n",
    "User: {query}\n",
    "AI: {answer}\n",
    "\"\"\"\n",
    "\n",
    "# create a prompt example from above template\n",
    "example_prompt = PromptTemplate(\n",
    "    input_variables=[\"query\", \"answer\"],\n",
    "    template=example_template\n",
    ")\n",
    "\n",
    "# now break our previous prompt into a prefix and suffix\n",
    "# the prefix is our instructions\n",
    "prefix = \"\"\"The following are exerpts from conversations with an AI\n",
    "assistant. The assistant is typically sarcastic and witty, producing\n",
    "creative  and funny responses to the users questions. Here are some\n",
    "examples: \n",
    "\"\"\"\n",
    "# and the suffix our user input and output indicator\n",
    "suffix = \"\"\"\n",
    "User: {query}\n",
    "AI: \"\"\"\n",
    "\n",
    "\n",
    "query = \"What is the meaning of life?\"\n",
    "\n",
    "print(few_shot_prompt_template.format(query=query))\n",
    "\n",
    "from langchain.prompts.example_selector import LengthBasedExampleSelector\n",
    "\n",
    "example_selector = LengthBasedExampleSelector(\n",
    "    examples=examples,\n",
    "    example_prompt=example_prompt,\n",
    "    max_length=50  # this sets the max length that examples should be\n",
    ")\n",
    "\n",
    "# now create the few shot prompt template\n",
    "dynamic_prompt_template = FewShotPromptTemplate(\n",
    "    example_selector=example_selector,  # use example_selector instead of examples\n",
    "    example_prompt=example_prompt,\n",
    "    prefix=prefix,\n",
    "    suffix=suffix,\n",
    "    input_variables=[\"query\"],\n",
    "    example_separator=\"\\n\"\n",
    ")"
   ]
  }
 ],
 "metadata": {
  "kernelspec": {
   "display_name": "Python 3",
   "language": "python",
   "name": "python3"
  },
  "language_info": {
   "codemirror_mode": {
    "name": "ipython",
    "version": 3
   },
   "file_extension": ".py",
   "mimetype": "text/x-python",
   "name": "python",
   "nbconvert_exporter": "python",
   "pygments_lexer": "ipython3",
   "version": "3.11.3"
  },
  "orig_nbformat": 4
 },
 "nbformat": 4,
 "nbformat_minor": 2
}
