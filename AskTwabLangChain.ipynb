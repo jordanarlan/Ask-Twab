{
 "cells": [
  {
   "cell_type": "code",
   "execution_count": 1,
   "metadata": {},
   "outputs": [
    {
     "name": "stdout",
     "output_type": "stream",
     "text": [
      "An error occurred: 'NextPaginationToken'\n"
     ]
    }
   ],
   "source": [
    "import requests\n",
    "import os\n",
    "from importlib.machinery import SourceFileLoader\n",
    "import pandas as pd\n",
    "import logging\n",
    "import torch\n",
    "\n",
    "\n",
    "try:\n",
    "    config = SourceFileLoader(\"config\", \"config.py\").load_module()\n",
    "    os.environ['OPENAI_API_KEY'] = config.OPENAI_API_KEY\n",
    "\n",
    "    bungie_api_key = config.BUNGIE_API_KEY\n",
    "    endpoint = \"https://www.bungie.net/Platform/Content/Rss/NewsArticles/{pageToken}/\"\n",
    "    page_token = \"0\"\n",
    "    include_body = True\n",
    "    headers = {\n",
    "        \"X-API-Key\": bungie_api_key\n",
    "    }\n",
    "    params = {\n",
    "        \"includebody\": include_body\n",
    "    }\n",
    "\n",
    "    results = []\n",
    "\n",
    "    while page_token is not None:\n",
    "        response = requests.get(endpoint.format(pageToken=page_token), headers=headers, params=params)\n",
    "\n",
    "        if response.status_code == 200:\n",
    "            json_response = response.json()\n",
    "            if 'NewsArticles' in json_response['Response']:\n",
    "                results.extend(json_response['Response']['NewsArticles'])\n",
    "            else:\n",
    "                print(\"No NewsArticles found in the response.\")\n",
    "                break\n",
    "            page_token = json_response['Response']['NextPaginationToken']\n",
    "        else:\n",
    "            print(\"Error:\", response.status_code)\n",
    "            print(\"Response:\", response.text)\n",
    "            break\n",
    "except Exception as e:\n",
    "    print(\"An error occurred:\", str(e))\n"
   ]
  },
  {
   "cell_type": "code",
   "execution_count": 2,
   "metadata": {},
   "outputs": [
    {
     "data": {
      "text/plain": [
       "{'Title': 'This Week in Destiny - 06/22/2023',\n",
       " 'Link': '/7/en/News/Article/this-week-in-destiny-6-22-23',\n",
       " 'PubDate': '2023-06-21T22:00:00Z',\n",
       " 'UniqueIdentifier': 'blt5aec7ef1b64cae0b',\n",
       " 'Description': '',\n",
       " 'HtmlContent': '<p>Moin Moin (That’s “Hello” in German), Guardians. This week in Destiny, we are going fishing! All over the world, Guardians have fallen in love with those little fishies. So, this week we have something special for you! But first...</p><p>In case you missed something, last week we talked about:</p><ul><li>Pride at Bungie 2023 recap and a free emote.</li><li>A nice little sandbox Q&amp;A to dive a little bit deeper into some of the most frequent burning questions.</li><li>Iron Banner is back with Eruption.</li><li>Fashion contest picks for #DrownInTheDrip.</li><li>PlayStation x Destiny 2 crossover art roundup.</li></ul><p>So, this week we will dive in the following stuff:</p><ul><li>Throne World fishing rally.</li><li>Bungie Day Giving Festival announcement.</li><li>What’s new from our Player Support Team.</li><li>Weekly #Destiny2AOTW and #Destiny2MOTW picks.</li><li>With no further ado, let´s get into it:</li></ul><p></p><h2>Get the fishies and the loot!</h2><p>To start this TWID off we have a tip for all who haven´t found out yet: you might want to visit Hawthorne. We heard that her people found something in the fishing ponds in the Throne World.</p><p>Go and spend some time there and see what bites! Remember you gotta catch ´em all. Have fun fishing, Guardians!</p><p></p><h2>Bungie Day Giving Festival</h2><p>Bungie Day (July 7) is right around the corner, and we are excited to welcome back the Bungie Day Giving Festival for its fourth edition. This year’s campaign returns with some of our biggest incentives, prizes, and surprises yet! The festivities kick off on Thursday July 6 at 10:00 a.m. PST with our first featured stream and the fun rolls through July 23.</p><p></p><img src=\"https://images.contentstack.io/v3/assets/blte410e3b15535c144/blt74f695bd68ce7b4b/64947fac604cb78248e6a0ec/image.png\"/><p></p><p>There will be more ways than ever to get involved this year with the campaign. Stay tuned for a special blog post next Wednesday, June 28, for full details on how to register, what you can earn AND win, and to learn about all the ways your continued support has created real, impactful, tangible good in the world. Don’t miss it!</p><p></p><h2><span>Player Support Report</span></h2><img asset_uid=\"blt3c271392ba9b7f1c\" src=\"https://images.contentstack.io/v3/assets/blte410e3b15535c144/blt3c271392ba9b7f1c/649480f637b8bfea022adae8/D2_DPS_Gif.gif\"/><p>The Player Support team is back with another report about known issues and aspects of the game that players should be aware of in the coming weeks. Here’s their report:</p><p></p><p style=\"text-align: center;\"><a href=\"https://help.bungie.net/articles/13265980348564-Destiny-2-Year-6-Known-Issues-and-Vital-Information\" target=\"_self\" style=\"text-align: center;\">Known Issues List</a> | <a href=\"https://www.bungie.net/en/Forums/Topics/?tg=Help\" target=\"_self\" style=\"text-align: center;\">Help Forums</a> | <a href=\"https://twitter.com/BungieHelp\" target=\"_self\" style=\"text-align: center;\">Bungie Help Twitter</a></p><h3>KNOWN ISSUES</h3><p>While we continue investigating various known issues, here is a list of the latest issues that were reported to us in our #Help Forum:</p><ul><li>We are aware of an issue where the \"Battle Rhythm\" Seasonal challenge incorrectly instructs players to defeat targets anywhere in the system. This challenge can be successfully completed in Crucible, Gambit, or Vanguard Ops playlists.</li><li>The Strand Slayer Crucible bounty is not progressing from Strand Primary weapon kills.</li><li>Players can die from finishers if the enemy dies before the finisher animation completes.</li><li>The “Efficient Angler” Seasonal cChallenge is progressing inconsistently.</li><li>The Crucible Competitive placement series does not drop the Mercurial Overreach Sniper Rifle.</li><li>Due to an issue, the Kephri’s Horn Exotic Titan Helmet has been temporarily disabled.</li><li>The Helm of Saint-14 Exotic Titan Helmet is not functioning as expected.</li><li>Players can get stuck outside of the final boss arena after self-reviving in the Ghosts of the Deep dungeon.</li></ul><span>For a full list of emergent issues in Destiny 2, players can review our Known Issues article. Players who observe other issues should report them to our #Help forum.</span><p></p><h3><span>From TWAB to TWID</span></h3><img src=\"https://images.contentstack.io/v3/assets/blte410e3b15535c144/blt1be1e66eabcd52a3/6494815771e0923013e8e159/TWAB_MovieOfTheWeek_2020_Animated.gif\"/><p><strong>Hippy: </strong>From TWAB to TWID, there’s a journey behind every blog post. If ever there was a more accurate representation of what that process is like, it’s this. Please, take this 100 percent seriously. It’s very serious, OK. OK?!</p><p><strong>Movie of the Week:</strong> Where TWID?</p><blockquote class=\"twitter-tweet\"><p lang=\"en\" dir=\"ltr\">For those wondering Where <a href=\"https://twitter.com/hashtag/TWID?src=hash&ref_src=twsrc%5Etfw\" target=\"_self\">#TWID</a><br/>Here is some behind the scenes of what <a href=\"https://twitter.com/Destiny2Team?ref_src=twsrc%5Etfw\" target=\"_self\">@Destiny2Team</a> has to do to bring it to you: <a href=\"https://t.co/4g4t2vyGCF\" target=\"_self\">pic.twitter.com/4g4t2vyGCF</a></p>— Gorath Hyun (@GorathHyun) <a href=\"https://twitter.com/GorathHyun/status/1669405022126510082?ref_src=twsrc%5Etfw\" target=\"_self\">June 15, 2023</a></blockquote><p></p><h3>Fishing in company</h3><img src=\"https://images.contentstack.io/v3/assets/blte410e3b15535c144/blt994c5e1e2382837b/64948179160c26812b5b83ae/TWAB_ArtistOfTheWeek_2020_Animated_V2.gif\"/><p><strong>Bruno:</strong> Fishing, what a great thing, right? EsSpecially in good company.</p><p></p><blockquote class=\"twitter-tweet\"><p lang=\"en\" dir=\"ltr\">What did Zlatt catch? <a href=\"https://twitter.com/hashtag/Destiny2?src=hash&ref_src=twsrc%5Etfw\" target=\"_self\">#Destiny2</a> <a href=\"https://twitter.com/hashtag/Destiny2Art?src=hash&ref_src=twsrc%5Etfw\" target=\"_self\">#Destiny2Art</a> <a href=\"https://twitter.com/hashtag/aotw?src=hash&ref_src=twsrc%5Etfw\" target=\"_self\">#aotw</a> <a href=\"https://twitter.com/hashtag/thedrifter?src=hash&ref_src=twsrc%5Etfw\" target=\"_self\">#thedrifter</a> <a href=\"https://t.co/BjHZarlpTi\" target=\"_self\">pic.twitter.com/BjHZarlpTi</a></p>— The Mighty Gefan 🐑 (@TMGefan) <a href=\"https://twitter.com/TMGefan/status/1670800491872149511?ref_src=twsrc%5Etfw\" target=\"_self\">June 19, 2023</a></blockquote><p></p><p>So, that is it for this week\\'s TWID. I hope you had fun reading and now go catch some fish! Get ready for the upcoming Bungie Day Giving Festival, and keep an eye out for a preview of our mid-season weapon tuning updates in July. See you next time and haut rein (That’s “Let´s go” in German)!</p><p><strong>Timon</strong></p>',\n",
       " 'ImagePath': 'https://images.contentstack.io/v3/assets/blte410e3b15535c144/blt4c57b5e08c272eaa/64948662edfc6472ff3510bf/FrontPageBanner_PC_1920x590.jpg',\n",
       " 'OptionalMobileImagePath': 'https://images.contentstack.io/v3/assets/blte410e3b15535c144/bltbc006dfd40869e9a/6494866f8ca291ce0f0ca399/FrontPageBanner_Mobile_313x126.jpg'}"
      ]
     },
     "execution_count": 2,
     "metadata": {},
     "output_type": "execute_result"
    }
   ],
   "source": [
    "results[0]"
   ]
  },
  {
   "cell_type": "code",
   "execution_count": 41,
   "metadata": {},
   "outputs": [],
   "source": [
    "# Convert the results list into a DataFrame\n",
    "df = pd.DataFrame(results)\n"
   ]
  },
  {
   "cell_type": "code",
   "execution_count": 42,
   "metadata": {},
   "outputs": [
    {
     "data": {
      "text/plain": [
       "0                         Destiny 2 Update 7.1.0.2\n",
       "1                         Destiny 2 Hotfix 6/02/23\n",
       "2                         Destiny 2 Update 7.1.0.1\n",
       "3                         Destiny 2 Hotfix 5/26/23\n",
       "4      Destiny 2 Update 7.1.0 - Season of the Deep\n",
       "5                         Destiny 2 Hotfix 7.0.5.3\n",
       "6                         Destiny 2 Hotfix 7.0.5.2\n",
       "7                         Destiny 2 Hotfix 7.0.5.1\n",
       "8                         Destiny 2 Update 7.0.5.0\n",
       "9                         Destiny 2 Hotfix 7.0.0.7\n",
       "10                        Destiny 2 Hotfix 7.0.0.6\n",
       "11                       Lightfall Crucible Update\n",
       "12                        Destiny 2 Hotfix 7.0.0.5\n",
       "13                        Destiny 2 Hotfix 7.0.0.3\n",
       "14                        Destiny 2 Update 7.0.0.1\n",
       "15                        Destiny 2 Hotfix 6.3.0.7\n",
       "16    Economy Updates And More Coming In Lightfall\n",
       "17                        Destiny 2 Hotfix 6.3.0.5\n",
       "18                        Destiny 2 Hotfix 6.3.0.4\n",
       "19                        Destiny 2 Hotfix 6.3.0.3\n",
       "20                        Destiny 2 Hotfix 6.3.0.2\n",
       "21                        Destiny 2 Hotfix 6.3.0.1\n",
       "22                          Destiny 2 Update 6.3.0\n",
       "23                       Destiny 2 Hotfix 6.2.5.4 \n",
       "24                        Destiny 2 Hotfix 6.2.5.3\n",
       "Name: Title, dtype: object"
      ]
     },
     "execution_count": 42,
     "metadata": {},
     "output_type": "execute_result"
    }
   ],
   "source": [
    "import re\n",
    "pattern = r'Update|Hotfix'\n",
    "df = df[df['Title'].str.contains(pattern, regex=True, flags=re.IGNORECASE)]\n",
    "df = df.iloc[0:25].reset_index()\n",
    "# Print the filtered DataFrame\n",
    "df['Title']"
   ]
  },
  {
   "cell_type": "code",
   "execution_count": 43,
   "metadata": {},
   "outputs": [
    {
     "data": {
      "text/plain": [
       "'<h2>Activities</h2><h3>Crucible</h3><ul><li>Fixed an issue where the Dazzling Iridescence Trials emblem could be awarded from the Flawless chest without completing the necessary requirements.<ul><li>Players who have already acquired the emblem will need to complete the requirements after this patch goes live in order to equip the emblem.</li></ul></li><li>Fixed an issue with spawn trapping that could occur on meltdown.</li></ul><h3>Raids and Dungeons</h3><ul><li>Fixed an issue where players can damage bosses in Ghosts of the Deep through immunity shields.</li></ul><h2>Gameplay and Investment</h2><h3>Armor</h3><ul><li>Gyrfalcon\\'s Hauberk\\'s reserve overshield now deploys when a player uses Ensnaring Slam.</li><li>Fixed an issue where Khepri\\'s Horn could disable various non-enemy objects.</li><li>Fixed an issue where Vesper of Radius\\'s effects were triggering on things other than casting a rift.</li><li>Fixed an issue where Point-Contact Cannon Brace would create lightning strikes on melees other than Thunderclap.</li><li>Fixed an issue where becoming frozen would disable Arbor Warden\\'s Exotic perk.</li><li>Fixed an issue where Arbor Warden would cause the Juggernaut aspect to not interact with your class ability energy correctly.</li><li>Fixed an issue causing Sunbracers to not improve Solar grenades.</li><li>Fixed an issue causing Helm of Saint-14 to not provide any effects.</li><li>Fixed an issue causing Verity\\'s Brow to not function in PvP.</li><li>Fixed an issue causing No Backup Plans to buff non-Shotgun damage in certain situations.</li><li>Fixed an issue where Athrys\\'s Embrace\\'s buff icon wasn\\'t appearing in the HUD in PvP.</li><li>The artifact perks Amped Up and Electric Armor no longer have their perk names switched.</li></ul><h3>Weapons</h3><ul><li>Fixed an issue where some older Iron Banner Special/Power weapons had lost their scope glint.</li><li>Fixed an issue where purchasing a Last Wish deepsight weapon from Hawthorne would unintentionally award bonus pattern progress on top of the progress provided by consuming the deepsight on the weapon itself.</li><li>Increased the size of the red dot in Mecurial Overreach\\'s scope to respond to player feedback.</li><li>Reduced the Collective Action weapon perk\\'s damage against Guardians to 10%, (from 20%).</li><li>Changed the Navigator\\'s intrinsic trait icon.</li></ul><h3>Abilities</h3><ul><li>Fixed an issue where certain thrown projectiles were able to over penetrate allied Titan Barricades.</li><li>Fixed an issue where Arc Jolt damage to minor combatants was lower than intended following the scaling changes in 7.1.0.</li></ul><h3>Commerce/Eververse</h3><ul><li>Fixed an issue where the Twitch sub bounty emblem, Pulsar Approaching, is not re-acquirable or equippable.</li></ul><p><h3>Triumphs</h3></p><ul><li>The \"Second Reckoning\" Triumph now displays the correct weapon names.</li><li>The \"Spend Salvage Keys\" Triumph now correctly progresses when a Salvage Key is spent instead of erroneously progressing the \"Spend Deep Dive Keys\" Triumph.</li><li>Fixed an issue on the Ambitious Angler Triumph where all players were getting credit for one player catching an exotic fish.</li></ul><h2>General</h2><ul><li>Weekly Challenges for Vanguard Ops and Gambit now reward the correct number of Exotic engrams.</li><li>Re-enabling Tier 1 Exotic Focusing on Master Rahool.</li></ul>'"
      ]
     },
     "execution_count": 43,
     "metadata": {},
     "output_type": "execute_result"
    }
   ],
   "source": [
    "df[\"HtmlContent\"].iloc[0]"
   ]
  },
  {
   "cell_type": "code",
   "execution_count": 45,
   "metadata": {},
   "outputs": [],
   "source": [
    "from bs4 import BeautifulSoup\n",
    "\n",
    "\n",
    "def extract_list_from_html(html):\n",
    "    soup = BeautifulSoup(html, 'html.parser')\n",
    "    list_items = soup.find_all('li')\n",
    "    result = [li.get_text(strip=True) for li in list_items]\n",
    "    return result\n",
    "\n",
    "def clean_html(text):\n",
    "    cleantext = re.sub(r'([.,?!;:])((?!\\s)|$)', r'\\1 ', text)\n",
    "    return cleantext\n",
    "\n",
    "def parse_html_content(df):\n",
    "    df['parsed_content'] = df['HtmlContent'].apply(extract_list_from_html)\n",
    "    df['joined_content'] = df['parsed_content'].apply(lambda x: ' '.join(x))\n",
    "    df['joined_content'] = df['joined_content'].apply(clean_html)\n",
    "    return df"
   ]
  },
  {
   "cell_type": "code",
   "execution_count": 46,
   "metadata": {},
   "outputs": [],
   "source": [
    "# Parse HTML content and create new column\n",
    "df = parse_html_content(df)"
   ]
  },
  {
   "cell_type": "code",
   "execution_count": 47,
   "metadata": {},
   "outputs": [],
   "source": [
    "df = df[['Title', 'Link', 'PubDate', 'UniqueIdentifier', 'Description',\n",
    "       'joined_content']]"
   ]
  },
  {
   "cell_type": "code",
   "execution_count": 48,
   "metadata": {},
   "outputs": [
    {
     "name": "stdout",
     "output_type": "stream",
     "text": [
      "Fixed an issue where the Dazzling Iridescence Trials emblem could be awarded from the Flawless chest without completing the necessary requirements. Players who have already acquired the emblem will need to complete the requirements after this patch goes live in order to equip the emblem. Players who have already acquired the emblem will need to complete the requirements after this patch goes live in order to equip the emblem. Fixed an issue with spawn trapping that could occur on meltdown. Fixed an issue where players can damage bosses in Ghosts of the Deep through immunity shields. Gyrfalcon's Hauberk's reserve overshield now deploys when a player uses Ensnaring Slam. Fixed an issue where Khepri's Horn could disable various non-enemy objects. Fixed an issue where Vesper of Radius's effects were triggering on things other than casting a rift. Fixed an issue where Point-Contact Cannon Brace would create lightning strikes on melees other than Thunderclap. Fixed an issue where becoming frozen would disable Arbor Warden's Exotic perk. Fixed an issue where Arbor Warden would cause the Juggernaut aspect to not interact with your class ability energy correctly. Fixed an issue causing Sunbracers to not improve Solar grenades. Fixed an issue causing Helm of Saint-14 to not provide any effects. Fixed an issue causing Verity's Brow to not function in PvP. Fixed an issue causing No Backup Plans to buff non-Shotgun damage in certain situations. Fixed an issue where Athrys's Embrace's buff icon wasn't appearing in the HUD in PvP. The artifact perks Amped Up and Electric Armor no longer have their perk names switched. Fixed an issue where some older Iron Banner Special/Power weapons had lost their scope glint. Fixed an issue where purchasing a Last Wish deepsight weapon from Hawthorne would unintentionally award bonus pattern progress on top of the progress provided by consuming the deepsight on the weapon itself. Increased the size of the red dot in Mecurial Overreach's scope to respond to player feedback. Reduced the Collective Action weapon perk's damage against Guardians to 10%, (from 20%). Changed the Navigator's intrinsic trait icon. Fixed an issue where certain thrown projectiles were able to over penetrate allied Titan Barricades. Fixed an issue where Arc Jolt damage to minor combatants was lower than intended following the scaling changes in 7. 1. 0. Fixed an issue where the Twitch sub bounty emblem, Pulsar Approaching, is not re-acquirable or equippable. The \"Second Reckoning\" Triumph now displays the correct weapon names. The \"Spend Salvage Keys\" Triumph now correctly progresses when a Salvage Key is spent instead of erroneously progressing the \"Spend Deep Dive Keys\" Triumph. Fixed an issue on the Ambitious Angler Triumph where all players were getting credit for one player catching an exotic fish. Weekly Challenges for Vanguard Ops and Gambit now reward the correct number of Exotic engrams. Re-enabling Tier 1 Exotic Focusing on Master Rahool. \n"
     ]
    }
   ],
   "source": [
    "print(df.iloc[0][\"joined_content\"])"
   ]
  },
  {
   "cell_type": "code",
   "execution_count": 49,
   "metadata": {},
   "outputs": [],
   "source": [
    "\n",
    "import tiktoken  # !pip install tiktoken\n",
    "\n",
    "tokenizer = tiktoken.get_encoding('p50k_base')\n",
    "\n",
    "# create the length function\n",
    "def tiktoken_len(text):\n",
    "    tokens = tokenizer.encode(\n",
    "        text,\n",
    "        disallowed_special=()\n",
    "    )\n",
    "    return len(tokens)\n",
    "\n",
    "from langchain.text_splitter import RecursiveCharacterTextSplitter\n",
    "\n",
    "text_splitter = RecursiveCharacterTextSplitter(\n",
    "    chunk_size=100,\n",
    "    chunk_overlap=50,\n",
    "    length_function=tiktoken_len,\n",
    "    separators=[\"\\n\\n\", \"\\n\", \" \", \"\"]\n",
    ")\n"
   ]
  },
  {
   "cell_type": "code",
   "execution_count": 12,
   "metadata": {},
   "outputs": [],
   "source": [
    "import os\n",
    "from importlib.machinery import SourceFileLoader\n",
    "from langchain.embeddings.openai import OpenAIEmbeddings\n",
    "from langchain.text_splitter import CharacterTextSplitter\n",
    "from langchain.chains import ConversationalRetrievalChain\n",
    "from langchain.chat_models import ChatOpenAI\n",
    "config = SourceFileLoader(\"config\", \"config.py\").load_module()\n",
    "os.environ['OPENAI_API_KEY'] = config.OPENAI_API_KEY"
   ]
  },
  {
   "cell_type": "code",
   "execution_count": 15,
   "metadata": {},
   "outputs": [],
   "source": [
    "pinecone_api_key = config.pinecone_api_key"
   ]
  },
  {
   "cell_type": "code",
   "execution_count": 17,
   "metadata": {},
   "outputs": [
    {
     "name": "stderr",
     "output_type": "stream",
     "text": [
      "c:\\Users\\jorda\\AppData\\Local\\Programs\\Python\\Python311\\Lib\\site-packages\\pinecone\\index.py:4: TqdmExperimentalWarning: Using `tqdm.autonotebook.tqdm` in notebook mode. Use `tqdm.tqdm` instead to force console mode (e.g. in jupyter console)\n",
      "  from tqdm.autonotebook import tqdm\n"
     ]
    }
   ],
   "source": [
    "import pinecone\n",
    "# connect to pinecone environment\n",
    "pinecone.init(\n",
    "    api_key = pinecone_api_key,\n",
    "    environment = \"us-west1-gcp-free\"\n",
    ")\n"
   ]
  },
  {
   "cell_type": "code",
   "execution_count": 18,
   "metadata": {},
   "outputs": [],
   "source": [
    "index_name = \"extractive-question-answering\""
   ]
  },
  {
   "cell_type": "code",
   "execution_count": 67,
   "metadata": {},
   "outputs": [
    {
     "data": {
      "text/plain": [
       "['extractive-question-answering']"
      ]
     },
     "execution_count": 67,
     "metadata": {},
     "output_type": "execute_result"
    }
   ],
   "source": [
    "pinecone.list_indexes()"
   ]
  },
  {
   "cell_type": "code",
   "execution_count": 82,
   "metadata": {},
   "outputs": [],
   "source": [
    "pinecone.delete_index(\"extractive-question-answering\")"
   ]
  },
  {
   "cell_type": "code",
   "execution_count": 87,
   "metadata": {},
   "outputs": [],
   "source": [
    "# check if the extractive-question-answering index exists\n",
    "if index_name not in pinecone.list_indexes():\n",
    "    # create the index if it does not exist\n",
    "    pinecone.create_index(\n",
    "        index_name,\n",
    "        dimension=1536,\n",
    "        metric=\"dotproduct\"\n",
    "    )\n",
    "\n",
    "# connect to extractive-question-answering index we created\n",
    "index = pinecone.Index(index_name)"
   ]
  },
  {
   "cell_type": "code",
   "execution_count": 84,
   "metadata": {},
   "outputs": [],
   "source": [
    "from langchain.embeddings.openai import OpenAIEmbeddings\n",
    "\n",
    "model_name = 'text-embedding-ada-002'\n",
    "\n",
    "embed = OpenAIEmbeddings(\n",
    "    openai_api_key=os.environ['OPENAI_API_KEY']\n",
    ")\n"
   ]
  },
  {
   "cell_type": "code",
   "execution_count": 85,
   "metadata": {},
   "outputs": [],
   "source": [
    "docs = []\n",
    "for index, row in df.iterrows():\n",
    "    doc = {\n",
    "        'content': row['joined_content'],  \n",
    "            'name': row['Title'],\n",
    "            'link': row['Link'],\n",
    "            'pub_date': row['PubDate'],\n",
    "            'unique_id': row['UniqueIdentifier'],\n",
    "           'description': row['Description']\n",
    "        }\n",
    "    docs.append(doc)\n",
    " "
   ]
  },
  {
   "cell_type": "code",
   "execution_count": 88,
   "metadata": {},
   "outputs": [
    {
     "data": {
      "application/vnd.jupyter.widget-view+json": {
       "model_id": "9eaed04a1ad443e6ad94f9e07e474385",
       "version_major": 2,
       "version_minor": 0
      },
      "text/plain": [
       "  0%|          | 0/25 [00:00<?, ?it/s]"
      ]
     },
     "metadata": {},
     "output_type": "display_data"
    }
   ],
   "source": [
    "from tqdm.auto import tqdm\n",
    "from uuid import uuid4\n",
    "\n",
    "batch_limit = 100\n",
    "\n",
    "texts = []\n",
    "metadatas = []\n",
    "\n",
    "for i, record in enumerate(tqdm(docs)):\n",
    "    # first get metadata fields for this record\n",
    "    metadata = {\n",
    "            'name': record['name'],\n",
    "            'source': record['link'],\n",
    "            'pub_date': record['pub_date'],\n",
    "            'unique_id': record['unique_id'],\n",
    "           'description': record['description']\n",
    "        }\n",
    "    # now we create chunks from the record text\n",
    "    record_texts = text_splitter.split_text(record['content'])\n",
    "    # create individual metadata dicts for each chunk\n",
    "    record_metadatas = [{\n",
    "        \"chunk\": j, \"text\": text, **metadata\n",
    "    } for j, text in enumerate(record_texts)]\n",
    "    # append these to current batches\n",
    "    texts.extend(record_texts)\n",
    "    metadatas.extend(record_metadatas)\n",
    "    # if we have reached the batch_limit we can add texts\n",
    "    if len(texts) >= batch_limit:\n",
    "        ids = [str(uuid4()) for _ in range(len(texts))]\n",
    "        embeds = embed.embed_documents(texts)\n",
    "        index.upsert(vectors=zip(ids, embeds, metadatas))\n",
    "        texts = []\n",
    "        metadatas = []\n"
   ]
  },
  {
   "cell_type": "code",
   "execution_count": 89,
   "metadata": {},
   "outputs": [
    {
     "data": {
      "text/plain": [
       "{'dimension': 1536,\n",
       " 'index_fullness': 0.0,\n",
       " 'namespaces': {'': {'vector_count': 683}},\n",
       " 'total_vector_count': 683}"
      ]
     },
     "execution_count": 89,
     "metadata": {},
     "output_type": "execute_result"
    }
   ],
   "source": [
    "index.describe_index_stats()"
   ]
  },
  {
   "cell_type": "code",
   "execution_count": 90,
   "metadata": {},
   "outputs": [],
   "source": [
    "from langchain.vectorstores import Pinecone\n",
    "\n",
    "text_field = \"text\"\n",
    "\n",
    "# switch back to normal index for langchain\n",
    "index = pinecone.Index(index_name)\n",
    "\n",
    "vectorstore = Pinecone(\n",
    "    index, embed.embed_query, text_field\n",
    ")\n"
   ]
  },
  {
   "cell_type": "code",
   "execution_count": 91,
   "metadata": {},
   "outputs": [
    {
     "data": {
      "text/plain": [
       "[Document(page_content=\"(crit damage goes from 21. 8 to 21). The Immortal Reduced base range value by 10. Bows Fixed an issue where the Arsenic Bite Bow would display an incorrect charge time on its tooltip. Updated the stats on the Tyranny of Heaven Bow to better compete with the current selection of Lightweight Bows. Miscellaneous and Visuals Fixed an issue where the glow when firing on the Nessa's Oblation Legendary Shotgun was not as bright as intended. Fixed an issue where the Nasreddin and\", metadata={'chunk': 80.0, 'description': 'The one about Season of the Deep.', 'name': 'Destiny 2 Update 7.1.0 - Season of the Deep', 'pub_date': datetime.datetime(2023, 5, 23, 16, 30, tzinfo=tzutc()), 'source': '/7/en/News/Article/season-deep-update-7-1-0', 'unique_id': 'blt56002d0e3c869908'}),\n",
       " Document(page_content='benefit from the recent buff to their projectile collision radius. They are now consistent with other Heavy Grenade Launchers. Submachine Guns Aggressive Submachine Guns Reduced base damage from 15 to 14. Increased precision hit multiplier from 1. 45 to 1. 5 (crit damage goes from 21. 8 to 21). The Immortal Reduced base range value by 10. Bows Fixed an issue where the Arsenic Bite Bow would display an incorrect charge time on its tooltip. Updated the stats on the Tyranny of Heaven', metadata={'chunk': 79.0, 'description': 'The one about Season of the Deep.', 'name': 'Destiny 2 Update 7.1.0 - Season of the Deep', 'pub_date': datetime.datetime(2023, 5, 23, 16, 30, tzinfo=tzutc()), 'source': '/7/en/News/Article/season-deep-update-7-1-0', 'unique_id': 'blt56002d0e3c869908'}),\n",
       " Document(page_content=\"more relative value to lower tiers of Resilience. The armor mods granting Resilience have had their armor energy costs increased to 4 (+10 Resilience) and 2 (+5 Resilience). The Iron Lord's Pride perk has been added to all Iron Banner armor sets from Season 8 to the present. Exotic Armor changes Khepri's Sting: Truesight is now granted when damaging an enemy with a smoke bomb. Additionally, when you have an undetonated smoke bomb on the\", metadata={'chunk': 37.0, 'description': 'The one about Lightfall', 'name': 'Destiny 2 Update 7.0.0.1', 'pub_date': datetime.datetime(2023, 2, 27, 0, 0, tzinfo=tzutc()), 'source': '/7/en/News/Article/update_7_0_0_1', 'unique_id': 'blt7a2f881341c4a9fc'})]"
      ]
     },
     "execution_count": 91,
     "metadata": {},
     "output_type": "execute_result"
    }
   ],
   "source": [
    "query = \"what were the changes to the immortal?\"\n",
    "\n",
    "vectorstore.similarity_search(\n",
    "    query,  # our search query\n",
    "    k=3  # return 3 most relevant docs\n",
    ")"
   ]
  },
  {
   "cell_type": "code",
   "execution_count": 92,
   "metadata": {},
   "outputs": [],
   "source": [
    "from langchain.chat_models import ChatOpenAI\n",
    "from langchain.chains import RetrievalQA\n",
    "\n",
    "# completion llm\n",
    "llm = ChatOpenAI(\n",
    "    openai_api_key=config.OPENAI_API_KEY,\n",
    "    model_name='gpt-3.5-turbo',\n",
    "    temperature=0.0\n",
    ")\n",
    "\n",
    "qa = RetrievalQA.from_chain_type(\n",
    "    llm=llm,\n",
    "    chain_type=\"stuff\",\n",
    "    retriever=vectorstore.as_retriever()\n",
    ")\n"
   ]
  },
  {
   "cell_type": "code",
   "execution_count": 93,
   "metadata": {},
   "outputs": [],
   "source": [
    "from langchain.chains import RetrievalQAWithSourcesChain\n",
    "\n",
    "qa_with_sources = RetrievalQAWithSourcesChain.from_chain_type(\n",
    "    llm=llm,\n",
    "    chain_type=\"stuff\",\n",
    "    retriever=vectorstore.as_retriever()\n",
    ")"
   ]
  },
  {
   "cell_type": "code",
   "execution_count": 94,
   "metadata": {},
   "outputs": [
    {
     "data": {
      "text/plain": [
       "{'question': 'list all the changes to the immortal.',\n",
       " 'answer': \"Changes to the Immortal: reduced base range value by 10. Other changes include: fixed an issue with the Arsenic Bite Bow, updated stats on the Tyranny of Heaven Bow, fixed an issue with the glow on Nessa's Oblation Legendary Shotgun, consistent projectile collision radius for Heavy Grenade Launchers, reduced base damage for Aggressive Submachine Guns, added Swashbuckler and Voltshot to the right trait column, moved Impulse Amplifier from the right trait column to the left, fixed various issues with spawn trapping, damage to bosses in Ghosts of the Deep, and progress in the Into the Depths pursuit. \\n\",\n",
       " 'sources': '/7/en/News/Article/season-deep-update-7-1-0, /7/en/News/Article/update_7_1_0_2, /7/en/News/Article/update_7_1_0_1'}"
      ]
     },
     "execution_count": 94,
     "metadata": {},
     "output_type": "execute_result"
    }
   ],
   "source": [
    "query = \"list all the changes to the immortal.\"\n",
    "qa_with_sources(query)"
   ]
  },
  {
   "cell_type": "code",
   "execution_count": 95,
   "metadata": {},
   "outputs": [
    {
     "data": {
      "text/plain": [
       "'The Immortal had its base range value reduced by 10.'"
      ]
     },
     "execution_count": 95,
     "metadata": {},
     "output_type": "execute_result"
    }
   ],
   "source": [
    "query = \"list all the changes to the immortal.\"\n",
    "qa.run(query)"
   ]
  },
  {
   "cell_type": "code",
   "execution_count": null,
   "metadata": {},
   "outputs": [
    {
     "name": "stdout",
     "output_type": "stream",
     "text": [
      "The following are exerpts from conversations with an AI\n",
      "assistant. The assistant is typically sarcastic and witty, producing\n",
      "creative  and funny responses to the users questions. Here are some\n",
      "examples: \n",
      "\n",
      "\n",
      "\n",
      "User: How are you?\n",
      "AI: I can't complain but sometimes I still do.\n",
      "\n",
      "\n",
      "\n",
      "User: What time is it?\n",
      "AI: It's time to get a watch.\n",
      "\n",
      "\n",
      "\n",
      "User: What is the meaning of life?\n",
      "AI: 42\n",
      "\n",
      "\n",
      "\n",
      "User: What is the weather like today?\n",
      "AI: Cloudy with a chance of memes.\n",
      "\n",
      "\n",
      "\n",
      "User: What is your favorite movie?\n",
      "AI: Terminator\n",
      "\n",
      "\n",
      "\n",
      "User: Who is your best friend?\n",
      "AI: Siri. We have spirited debates about the meaning of life.\n",
      "\n",
      "\n",
      "\n",
      "User: What should I do today?\n",
      "AI: Stop talking to chatbots on the internet and go outside.\n",
      "\n",
      "\n",
      "\n",
      "User: What is the meaning of life?\n",
      "AI: \n"
     ]
    }
   ],
   "source": [
    "from langchain.llms import OpenAI\n",
    "from langchain import LLMChain\n",
    "\n",
    "davinci = OpenAI(model_name='text-davinci-003')\n",
    "\n",
    "from langchain import PromptTemplate\n",
    "from langchain import FewShotPromptTemplate\n",
    "\n",
    "# create our examples\n",
    "examples = [\n",
    "    {\n",
    "        \"query\": \"How are you?\",\n",
    "        \"answer\": \"I can't complain but sometimes I still do.\"\n",
    "    }, {\n",
    "        \"query\": \"What time is it?\",\n",
    "        \"answer\": \"It's time to get a watch.\"\n",
    "    }, {\n",
    "        \"query\": \"What is the meaning of life?\",\n",
    "        \"answer\": \"42\"\n",
    "    }, {\n",
    "        \"query\": \"What is the weather like today?\",\n",
    "        \"answer\": \"Cloudy with a chance of memes.\"\n",
    "    }, {\n",
    "        \"query\": \"What is your favorite movie?\",\n",
    "        \"answer\": \"Terminator\"\n",
    "    }, {\n",
    "        \"query\": \"Who is your best friend?\",\n",
    "        \"answer\": \"Siri. We have spirited debates about the meaning of life.\"\n",
    "    }, {\n",
    "        \"query\": \"What should I do today?\",\n",
    "        \"answer\": \"Stop talking to chatbots on the internet and go outside.\"\n",
    "    }\n",
    "]\n",
    "\n",
    "\n",
    "# create a example template\n",
    "example_template = \"\"\"\n",
    "User: {query}\n",
    "AI: {answer}\n",
    "\"\"\"\n",
    "\n",
    "# create a prompt example from above template\n",
    "example_prompt = PromptTemplate(\n",
    "    input_variables=[\"query\", \"answer\"],\n",
    "    template=example_template\n",
    ")\n",
    "\n",
    "# now break our previous prompt into a prefix and suffix\n",
    "# the prefix is our instructions\n",
    "prefix = \"\"\"The following are exerpts from conversations with an AI\n",
    "assistant. The assistant is typically sarcastic and witty, producing\n",
    "creative  and funny responses to the users questions. Here are some\n",
    "examples: \n",
    "\"\"\"\n",
    "# and the suffix our user input and output indicator\n",
    "suffix = \"\"\"\n",
    "User: {query}\n",
    "AI: \"\"\"\n",
    "\n",
    "\n",
    "query = \"What is the meaning of life?\"\n",
    "\n",
    "print(few_shot_prompt_template.format(query=query))\n",
    "\n",
    "from langchain.prompts.example_selector import LengthBasedExampleSelector\n",
    "\n",
    "example_selector = LengthBasedExampleSelector(\n",
    "    examples=examples,\n",
    "    example_prompt=example_prompt,\n",
    "    max_length=50  # this sets the max length that examples should be\n",
    ")\n",
    "\n",
    "# now create the few shot prompt template\n",
    "dynamic_prompt_template = FewShotPromptTemplate(\n",
    "    example_selector=example_selector,  # use example_selector instead of examples\n",
    "    example_prompt=example_prompt,\n",
    "    prefix=prefix,\n",
    "    suffix=suffix,\n",
    "    input_variables=[\"query\"],\n",
    "    example_separator=\"\\n\"\n",
    ")"
   ]
  }
 ],
 "metadata": {
  "kernelspec": {
   "display_name": "Python 3",
   "language": "python",
   "name": "python3"
  },
  "language_info": {
   "codemirror_mode": {
    "name": "ipython",
    "version": 3
   },
   "file_extension": ".py",
   "mimetype": "text/x-python",
   "name": "python",
   "nbconvert_exporter": "python",
   "pygments_lexer": "ipython3",
   "version": "3.11.3"
  },
  "orig_nbformat": 4
 },
 "nbformat": 4,
 "nbformat_minor": 2
}
