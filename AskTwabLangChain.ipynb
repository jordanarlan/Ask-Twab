{
 "cells": [
  {
   "cell_type": "code",
   "execution_count": 4,
   "metadata": {},
   "outputs": [
    {
     "name": "stdout",
     "output_type": "stream",
     "text": [
      "An error occurred: 'NextPaginationToken'\n"
     ]
    }
   ],
   "source": [
    "import requests\n",
    "import os\n",
    "from importlib.machinery import SourceFileLoader\n",
    "import pandas as pd\n",
    "import logging\n",
    "import torch\n",
    "\n",
    "\n",
    "try:\n",
    "    config = SourceFileLoader(\"config\", \"config.py\").load_module()\n",
    "    os.environ['OPENAI_API_KEY'] = config.OPENAI_API_KEY\n",
    "\n",
    "    bungie_api_key = config.BUNGIE_API_KEY\n",
    "    endpoint = \"https://www.bungie.net/Platform/Content/Rss/NewsArticles/{pageToken}/\"\n",
    "    page_token = \"0\"\n",
    "    include_body = True\n",
    "    headers = {\n",
    "        \"X-API-Key\": bungie_api_key\n",
    "    }\n",
    "    params = {\n",
    "        \"includebody\": include_body\n",
    "    }\n",
    "\n",
    "    results = []\n",
    "\n",
    "    while page_token is not None:\n",
    "        response = requests.get(endpoint.format(pageToken=page_token), headers=headers, params=params)\n",
    "\n",
    "        if response.status_code == 200:\n",
    "            json_response = response.json()\n",
    "            if 'NewsArticles' in json_response['Response']:\n",
    "                results.extend(json_response['Response']['NewsArticles'])\n",
    "            else:\n",
    "                print(\"No NewsArticles found in the response.\")\n",
    "                break\n",
    "            page_token = json_response['Response']['NextPaginationToken']\n",
    "        else:\n",
    "            print(\"Error:\", response.status_code)\n",
    "            print(\"Response:\", response.text)\n",
    "            break\n",
    "except Exception as e:\n",
    "    print(\"An error occurred:\", str(e))\n"
   ]
  },
  {
   "cell_type": "code",
   "execution_count": 5,
   "metadata": {},
   "outputs": [
    {
     "data": {
      "text/plain": [
       "{'Title': 'Special-Edition Community Focus: Nine',\n",
       " 'Link': '/7/en/News/Article/community-focus-nine-rivens',\n",
       " 'PubDate': '2023-07-14T00:00:00Z',\n",
       " 'UniqueIdentifier': 'bltc109a5d14991a686',\n",
       " 'Description': 'From Witherhoard to Withermore; meet Nine. ',\n",
       " 'HtmlContent': '<p>Just as we promised in last week’s TWID, we’ve got Bianca Ojeda here, better known as Nine to talk a little bit more about her incredible art and the amazing work she’s doing with us<a href=\"https://www.bungie.net/7/en/News/article/7_13_23_twid\" target=\"_blank\"> for the community voted Witherhoard ornament</a>. Here’s where you’ll learn more about the artist behind the ornament and her journey throughout the world of Destiny.</p><p>From Dragon Ball Z to Destiny 2, from aspiring artist to working alongside the studio behind some of her favorite games—meet the creator behind the art: Nine!</p><h4><strong>To start off, tell us a little bit about yourself! Who are you? What do you like to do? How did you get your start in Destiny?</strong></h4><p>Hello, my name is Nine and I’m a freelance artist and aspiring Exomind (sign me up for the horrors!) Most of my day is spent drawing, watching other people draw, wishing I was a robot, playing with my dog, and spending time with my husband. It’s a pretty great life when I remember to look away from social media for a bit, I’m a very lucky person!</p><p>My start with Destiny happened during the E3 reveal of the game. Before that, I’d mostly played old Zelda games on my GameCube and other masterpieces like Luigi’s Haunted Mansion, Super Mario Smash Bros., and Halo 2 on my brother’s ancient Xbox when he’d give me permission (and sometimes when he didn’t; X if you’re reading this, I’m not sorry). But that E3 reveal got me excited about a video game in a way I’d never experienced before, and I was completely blown away when I finally got to play it. I was a solo player though and a card-carrying member of Weenie Hut Jr’s, so I was genuinely afraid to be on Luna alone (hats off to the environment team for that area cause it gives me the creeps to this day) and didn’t really sink my teeth into Destiny until Taken King released and I had some friends to play with.</p><figure style = \"margin: auto; text-align: center;width: auto;\"><img asset_uid=\"blt20e1daee8889d27f\" alt=\"A chibi art style of Riven\\'s head with sparkles seen above.\" src=\"https://images.contentstack.io/v3/assets/blte410e3b15535c144/blt20e1daee8889d27f/64b16fcbbbf1d0006c9daf06/Riven_1.jpg\" height=\"auto\" style=\"text-align: center;\" /></figure><p>But the real moment of truth was the first time I followed that tiny banner that popped up when you unlocked a grimoire card telling you to check the Bungie website so you could read it. (For those that never played Destiny, yes, we had to climb uphill both ways during a snowstorm to read the lore.) That’s when I got hooked. Reading the grimoire. It gave such an expansive sense of wonder and mystery to an already mysterious game, and I spent so much of my free time trying to unlock more and more grimoire cards to read. Until I found all the calcified fragments for the Books of Sorrow (and I’m sure this will surprise everyone that knows me), my favorites were the Exo ones. I still have them mostly memorized from rereading them so often. Even at times when I’ve stepped away from the game for various reasons, I always kept up with the lore. For me, it’s the heart and soul of Destiny.</p><h4><strong>Love to hear that! What has your journey looked like so far when crafting your personal art style? What even got you into art in the first place?</strong></h4><p>I’ve been making art as long as I’ve been reading according to my parents, so longer than I can actually remember. I always wanted to draw what I was reading about, so there was lots of fanart of the Redwall series and The Hero and the Crown and A Series of Unfortunate Events on the refrigerator door. And also, Dragonball Z. My brother would let me watch it with him and I’d spend hours trying to perfect drawing Goku’s hair and Android 18 and Frieza.</p><p>I think the rest of my journey is pretty much like most artists: a long rollercoaster of inspiration and droughts. High school was tough. Without going into detail, I went through a traumatic event the summer before my freshman year that isolated me from most of my peers, and that snowballed into even more issues. But I had an incredible art teacher that took me under her wing and gave me an outlet for all of that pain. Some of it was stereotypical teen angst (I remember burning a bunch of my drawings and sketchbooks at one point because I was upset with how they were coming out and that just seemed like a very melodramatic and cathartic thing to do) but she might be one of the most empathetic and understanding women I’ve ever met in my life. She knew before I even told her, before I even had the language to tell her, that I was struggling with depression and suicidal ideation. Her classroom was the bright spot of my day, and painting, drawing and sculpting became my motivation for living. She continued to mentor me after I graduated which, to put it bluntly, saved my life. She was the first adult I felt comfortable coming out to and she was so supportive.</p><p>I took a massive break from art a year after graduating to focus on paying my way through community college with serving jobs. Art just never seemed like something I could do for a living, and I needed to be more realistic, another thing I know a lot of creatives can relate to. It wasn’t until the pandemic that I picked a stylus back up again in earnest, and I was right back to doing what I did when I was a kid: making fanart of the things I loved the most. And once again, it was a big part of keeping me alive. Finding my personal art style has been a lifelong evolution and I think I’ll always be searching for it really. That’s the beauty of it to me.</p><figure style = \"margin: auto; text-align: center;width: auto;\"><img asset_uid=\"blt8e3860c360789fb8\" alt=\"Art of Saint looking down at his helmet thoughtfully.\" src=\"https://images.contentstack.io/v3/assets/blte410e3b15535c144/blt8e3860c360789fb8/64b16fcccd88833cfee19adc/Saint-14_Reflection.png\" height=\"auto\" style=\"text-align: center;\" /></figure><h4><strong>Switching gears, a bit on the note about working alongside us! You\\'ve crafted some mighty fine Witherhoard ornaments for the community to vote on. What has that process been like for you so far? Any parts you\\'ve enjoyed the most? Any unique challenges that you weren\\'t expecting?</strong></h4><p>I really don’t have the words to express how incredible this experience was, or how much I enjoyed the process. The offer to design these ornaments came during a low point in my self-esteem, worrying about my future, bubbling anxiety, and depression knocking at my door again. I can be a really private person, so putting my art out there has always been a thing I’ve done a bit fearfully. It can be tough to expose yourself like that. But being trusted to create something for this game I love so much helped me breathe again, as nerve-wracking as it’s been at times knowing that so many people would be seeing these designs, judging them for what they’re worth, and hopefully enjoying my contribution.</p><p>I’m gonna gush for a minute about working with Josh and Hans because they were incredible. Hans organized everything and made the whole process feel streamlined (and also had some hilarious commentary during the brainstorming process) and Josh was always ready with the kind of feedback that makes me bounce off the walls with inspiration. Even if there was an idea I had that was beyond the scope of the project, I never felt like we were missing an opportunity because he always had a suggestion that worked and usually worked even better. In that sense, nothing was really off the table, and I was always encouraged to try new approaches or to trust my gut instinct instead of holding back. It was such an awesome learning experience and so incredibly cool to get a peek behind the scenes at the process. I think one of the most enjoyable parts for me personally was that I’d brainstormed the concepts before Season of the Deep released and it was really funny how much some of my notes ended up playing out in the Seasonal storytelling in some form or another. It felt like it was just meant to be, and it got me so excited to continue working on the ornament designs and get them in front of the community.</p><p>The part I wasn’t expecting to hit so hard was the imposter syndrome. I’ve always struggled with imposter syndrome in so many areas of my life. Before we got to brainstorming and fleshing my ideas out, I kept thinking, “Are they really sure they want me to do this?” There are so many talented artists in this community, so it was hard to believe they wanted little old me to design these ornaments. But that self-doubt faded really quickly the more I worked with Josh. There were so many points where he’d mention something I’d been thinking and that felt so validating about my own instincts. Lots of eureka moments under his guidance that instilled some much-needed self-confidence.</p><figure style = \"margin: auto; text-align: center;width: auto;\"><img asset_uid=\"blt1c56b35dad044122\" src=\"https://images.contentstack.io/v3/assets/blte410e3b15535c144/blt1c56b35dad044122/64b16fce89bcbec95b24918b/Warlock.png\" height=\"auto\" style=\"text-align: center;\" /></figure><p></p><figure style = \"margin: auto; text-align: center;width: auto;\"><img asset_uid=\"blta719c17145efcd76\" src=\"https://images.contentstack.io/v3/assets/blte410e3b15535c144/blta719c17145efcd76/64b16fcd6e0a6512f293a0e8/Hunter.png\" height=\"auto\" style=\"text-align: center;\" /></figure><h4><strong>Imposter syndrome is no joke, wrestle with that myself, but proud of you for continuing on and doing what you love. Do you have a particular favorite out of the three ornaments the community will be voting on, or is that like asking a parent about who their favorite kid is?</strong></h4><p>Honestly, it changed every week as I was working on them and even now, I keep jumping between which one is my favorite. They were all inspired by different things I’m emotionally attached to some degree.</p><p>The design I’ve seen called “Waterhoard” (genius) was heavily inspired by Dima Goryainov’s Arcology concept art which has been some of my favorite Destiny 2-related concept art for years now.</p><p>The Nine-themed one that Hans dubbed “Witherhorse” was very obviously inspired by my love for Orin the Lost and her story. (I’m actually considering getting the snake design I did for the barrel tattooed on me, my love for her story knows no bounds.) But I also wanted something more minimal to juxtapose all the color and detail going on in the first design.</p><p>And the bone design was a mix of my love for the Ahamkara and leviathans of Destiny and also the whales of the Dishonored series. I’m a sucker for powerful creatures that exist in interstitial spaces, and I especially love stories about those creatures wherein their deaths are cut into those spaces and their bones are used for power. I was the most nervous about that one because there’s a really cool Hive-themed ornament that uses bone, so Josh and I worked pretty hard to try and make this concept stand on its own.</p><p>There’s something really cool about all of them, and I wish they could all make it into the game! I actually let my partner help me pick which one to vote for because I couldn’t decide, but I will be keeping that vote a secret.</p><figure style = \"margin: auto; text-align: center;width: auto;\"><img asset_uid=\"blt518b0b0ae7675649\" src=\"https://images.contentstack.io/v3/assets/blte410e3b15535c144/blt518b0b0ae7675649/64b16fcb8fbe0f80db447441/Caital_and_Zavala.png\" height=\"auto\" style=\"text-align: center;\" /></figure><h4><strong>OK but... what if you could craft your dream ornament, what would it be, and for which piece of gear?</strong></h4><p>Is it cliche to say Witherhoard was my dream ornament to craft? Yeah, cliche, but also very true, it’s my favorite Exotic weapon. But if I could pick another piece of gear, I think it’d be Assassin’s Cowl. I’d love to see a Splicer-style ornament, with the trickling lights and the glow of Eliksni eyes peeking between.</p><h4><strong>What inspires you the most when looking to create a new piece of artwork? How do you overcome things like artist’s block?</strong></h4><p>My inspiration usually comes from whatever environment I’m in, either physically (especially now that I get to see the ocean and greenery every day) or in whatever game or book I’ve sunk myself into. That’s definitely why I make so much Destiny fanart to begin with, because I’ve spent so much of the past eight years in those immersive environments and it’s such an incredible challenge to try to recreate it and make some of it your own. I’ve learned so much just from studying the weapon and armor designs in this game. Speaking of which, I’m also massively inspired by the community’s fashion game. I can’t tell you how many times I’ll be scrolling and see someone’s fashion post and instantly want to draw their Guardian.</p><p>Artist’s block for me is almost always a sign of burnout and usually, it’s not art-related burnout. I have ADHD and struggle a lot with executive dysfunction so if some aspect of my daily routine is out of place it can throw a wrench in the whole system and that can lead to a lot of frustration and fatigue and that in turn leads to artist’s block. It’s taken a long time to figure out how to discern the root problem and work through it, and it’s usually not possible without some outside help. If I’m lucky, the fix is as simple as spending time outside, going somewhere new, or just being around other people physically. I moved to a new country recently, so it’s been easier than usual to do those things. Environmental changes (and bucketloads of patience) can do wonders for artist’s block.</p><h4><strong>With The Final Shape and even more mystery ahead, what are you looking forward to the most both as a Guardian and as an artist?</strong></h4><p>So many things! The desire to see the Emissary potentially return is probably my biggest one along with Cayde-6. (Am I getting my hopes up for his old friend Shiro-4 to show up too? Maybe so!) But I’m also just excited in general to see where the story takes us and what lies beyond The Final Shape. What new powers will we gain? What cool new weapons and armor and environments? The art direction of this game never fails to inspire me as an artist so I’m excited to see what Bungie is going to bring to the table. I’m sure I’ll be feasting.</p><figure style = \"margin: auto; text-align: center;width: auto;\"><img asset_uid=\"blt546955c2bd02756f\" src=\"https://images.contentstack.io/v3/assets/blte410e3b15535c144/blt546955c2bd02756f/64b16fca4051987839e877e0/Zavala_and_Lance.jpg\" height=\"auto\" style=\"text-align: center;\" /></figure><h4><strong>Thank you so much for chatting with us and letting our community get to know you a little bit better! Any parting words you\\'d like to say to any aspiring artists out there?</strong></h4><p>Just keep going. Keep drawing, keep painting, keep sculpting, keep writing. I know that now more than ever it can feel futile and pointless, but art will always have whatever meaning and value you yourself want to give it. It can be as serious or unserious as you want it to be! So, draw what you want to draw, even if you think it’s “cringe” or if you’re not happy with where your current skills are at. You can always work to improve your skills, but you have to do the work. It’s harder when you’re an adult—when you lose that confidence you had as a kid to just do the things you wanted to make and be excited and even proud of those things without comparing yourself too harshly to others. Try to find that confidence and joy again if you can.</p><p>And never underestimate the power of curating your online space. Block as much toxicity and negativity out of your feeds as you can. Blacklist the things that trigger any sense of hopelessness or that make you want to give up. Surround yourself with the kind of environment that makes you want to learn and grow and create.</p><p>This was an absolute blast, thanks again for taking the time to chat with us! Before we let you go, tell folks where they can find ya.</p><p>I feel like that little dog in the burning house lately with social media, but I will continue to vibe for as long as I can in these spaces, and you can always find me under the username NinthRiven:</p><p style=\"text-align: center;\"><a href=\"https://twitter.com/ninthriven\" target=\"_blank\">Twitter </a>| <a href=\"https://ninthriven.tumblr.com/\" target=\"_blank\">Tumblr </a>| <a href=\"https://www.artstation.com/ninthriven\" target=\"_blank\">Artstation</a></p><p>And that’s a wrap! Another phenomenal Guardian to meet and some interesting experiences shared to ponder over. There’s a lot of inspiration in the stories shared today, and I genuinely hope that you feel revitalized and ready to tackle your own goals. Or just to make some amazing new art!</p><p>We’re almost to the August showcase, fam. Just one more month to go before we dive headfirst into The Final Shape when it launches next month. Before we get to that, however, we just wanted to give a friendly Community Manager reminder to make sure you\\'re drinking lots of water, making self-care a priority, and always putting your kindest foot forward.</p><p>Until next time, friends.</p><p></p><p><strong>“I should go,”</strong></p><p><strong>&lt;</strong><a href=\"https://dailycal.org/wp-content/uploads/2019/10/animals_wikimedia_cc-698x450.jpg\" target=\"_blank\"><strong>3</strong></a><strong> Hippy</strong></p>',\n",
       " 'ImagePath': 'https://images.contentstack.io/v3/assets/blte410e3b15535c144/blt2c65b5931765cd66/64b022eabd3ef837a67416ab/ninthriven_Front_Page_Banner_PC.jpg',\n",
       " 'OptionalMobileImagePath': 'https://images.contentstack.io/v3/assets/blte410e3b15535c144/blt441c57ed28399c50/64b022f1f122ca1ebae6c555/ninthriven_Front_Page_Banner_Mobile.jpg'}"
      ]
     },
     "execution_count": 5,
     "metadata": {},
     "output_type": "execute_result"
    }
   ],
   "source": [
    "results[0]"
   ]
  },
  {
   "cell_type": "code",
   "execution_count": 6,
   "metadata": {},
   "outputs": [],
   "source": [
    "# Convert the results list into a DataFrame\n",
    "df = pd.DataFrame(results)\n"
   ]
  },
  {
   "cell_type": "code",
   "execution_count": 7,
   "metadata": {},
   "outputs": [
    {
     "data": {
      "text/plain": [
       "0                         Destiny 2 Update 7.1.0.3\n",
       "1                         Destiny 2 Update 7.1.0.2\n",
       "2                         Destiny 2 Hotfix 6/02/23\n",
       "3                         Destiny 2 Update 7.1.0.1\n",
       "4                         Destiny 2 Hotfix 5/26/23\n",
       "5      Destiny 2 Update 7.1.0 - Season of the Deep\n",
       "6                         Destiny 2 Hotfix 7.0.5.3\n",
       "7                         Destiny 2 Hotfix 7.0.5.2\n",
       "8                         Destiny 2 Hotfix 7.0.5.1\n",
       "9                         Destiny 2 Update 7.0.5.0\n",
       "10                        Destiny 2 Hotfix 7.0.0.7\n",
       "11                        Destiny 2 Hotfix 7.0.0.6\n",
       "12                       Lightfall Crucible Update\n",
       "13                        Destiny 2 Hotfix 7.0.0.5\n",
       "14                        Destiny 2 Hotfix 7.0.0.3\n",
       "15                        Destiny 2 Update 7.0.0.1\n",
       "16                        Destiny 2 Hotfix 6.3.0.7\n",
       "17    Economy Updates And More Coming In Lightfall\n",
       "18                        Destiny 2 Hotfix 6.3.0.5\n",
       "19                        Destiny 2 Hotfix 6.3.0.4\n",
       "20                        Destiny 2 Hotfix 6.3.0.3\n",
       "21                        Destiny 2 Hotfix 6.3.0.2\n",
       "22                        Destiny 2 Hotfix 6.3.0.1\n",
       "23                          Destiny 2 Update 6.3.0\n",
       "24                       Destiny 2 Hotfix 6.2.5.4 \n",
       "Name: Title, dtype: object"
      ]
     },
     "execution_count": 7,
     "metadata": {},
     "output_type": "execute_result"
    }
   ],
   "source": [
    "import re\n",
    "pattern = r'Update|Hotfix'\n",
    "df = df[df['Title'].str.contains(pattern, regex=True, flags=re.IGNORECASE)]\n",
    "df = df.iloc[0:25].reset_index()\n",
    "# Print the filtered DataFrame\n",
    "df['Title']"
   ]
  },
  {
   "cell_type": "code",
   "execution_count": 8,
   "metadata": {},
   "outputs": [
    {
     "data": {
      "text/plain": [
       "\"<h2>Activities</h2><h4>CRUCIBLE</h4><ul><li>Fixed an issue where the Powerlifter Triumph could be completed before gilding the Glorious Seal.</li><li><strong>Competitive</strong>: Improved matchmaking times at higher skill tiers.</li><li><strong>Trials of Osiris</strong>: Fixed an issue where some players were unable to access the game mode while on step 3 of the introductory quest.</li><li><strong>Trials of Osiris</strong>: Increased the drop rate of Adept weapons on 7-win cards after going Flawless that week.</li></ul><h4>RAIDS AND DUNGEONS</h4><ul><li><strong>Ghosts of the Deep</strong>: Fixed an issue where players could respawn outside the final encounter's arena.</li></ul><h4>COMMENDATIONS</h4><ul><li>Fixed an issue where players could not access the Commendations screen after using the Wish Wall in The Last Wish Raid.</li><li>Fixed an issue where players could not access the Commendations screen after finishing a Deep Dive activity.</li></ul><h4>FISHING</h4><ul><li>Fixed an issue where the new Exotic fish Whispering Mothcarp could not be obtained.</li></ul><h2>Gameplay and Investment</h2><h4>ARMOR</h4><ul><li>Updated the Cenotaph Mask description to correctly state its perk behavior. The description has been updated to the following:</li></ul><ul><li>Steadily reloads a portion of your equipped Trace Rifle's magazine from reserves. Damaging a vehicle, boss, or Champion with a Trace Rifle marks them as the target. When an ally defeats the marked target, Special ammo is generated for you and Heavy ammo for your allies.</li></ul><ul><li>Fixed an issue where the rebound wave from Khepri's Horn was not dealing damage to enemies already damaged by the first wave.</li><li>Fixed an issue where the Couturier Longcoat ornament would show a hole underneath the right arm. If the issue persists, Warlocks are advised to contact their local Tower tailor.</li></ul><h4>WEAPONS</h4><ul><li>Fixed an issue where both Sweet Business and Telesto explosions could damage enemies through walls or other geometry.</li></ul><ul><li>Fixed an issue where Hollow Denial's sound effects could trigger sensitivity episodes for players with Semicircular Canal Dehiscence (SSCD).</li><li>Fixed an issue where unlocking the pattern for the Bump in the Night required a Season 17 entitlement to unlock.</li></ul><h4>VENDORS</h4><ul><li>Fixed an issue where the Eververse tab would experience slowdowns in PC.</li><li>Fixed an issue where Red War Exotic focusing could award incorrect Exotics.</li></ul><h2>General</h2><h4>LOCALIZATION</h4><p><strong>Chinese</strong></p><ul><li>Fixed an issue where audio would not play during a Forsaken cinematic.</li><li>Fixed an issue where a few subtitles did not correspond to the audio.</li></ul>\""
      ]
     },
     "execution_count": 8,
     "metadata": {},
     "output_type": "execute_result"
    }
   ],
   "source": [
    "df[\"HtmlContent\"].iloc[0]"
   ]
  },
  {
   "cell_type": "code",
   "execution_count": 9,
   "metadata": {},
   "outputs": [],
   "source": [
    "from bs4 import BeautifulSoup\n",
    "\n",
    "\n",
    "def extract_list_from_html(html):\n",
    "    soup = BeautifulSoup(html, 'html.parser')\n",
    "    list_items = soup.find_all('li')\n",
    "    result = [li.get_text(strip=True) for li in list_items]\n",
    "    return result\n",
    "\n",
    "def clean_html(text):\n",
    "    cleantext = re.sub(r'([.,?!;:])((?!\\s)|$)', r'\\1 ', text)\n",
    "    return cleantext\n",
    "\n",
    "def parse_html_content(df):\n",
    "    df['parsed_content'] = df['HtmlContent'].apply(extract_list_from_html)\n",
    "    df['joined_content'] = df['parsed_content'].apply(lambda x: ' '.join(x))\n",
    "    df['joined_content'] = df['joined_content'].apply(clean_html)\n",
    "    return df"
   ]
  },
  {
   "cell_type": "code",
   "execution_count": 10,
   "metadata": {},
   "outputs": [],
   "source": [
    "# Parse HTML content and create new column\n",
    "df = parse_html_content(df)"
   ]
  },
  {
   "cell_type": "code",
   "execution_count": 11,
   "metadata": {},
   "outputs": [],
   "source": [
    "df = df[['Title', 'Link', 'PubDate', 'UniqueIdentifier', 'Description',\n",
    "       'joined_content']]"
   ]
  },
  {
   "cell_type": "code",
   "execution_count": 12,
   "metadata": {},
   "outputs": [
    {
     "name": "stdout",
     "output_type": "stream",
     "text": [
      "Fixed an issue where the Powerlifter Triumph could be completed before gilding the Glorious Seal. Competitive: Improved matchmaking times at higher skill tiers. Trials of Osiris: Fixed an issue where some players were unable to access the game mode while on step 3 of the introductory quest. Trials of Osiris: Increased the drop rate of Adept weapons on 7-win cards after going Flawless that week. Ghosts of the Deep: Fixed an issue where players could respawn outside the final encounter's arena. Fixed an issue where players could not access the Commendations screen after using the Wish Wall in The Last Wish Raid. Fixed an issue where players could not access the Commendations screen after finishing a Deep Dive activity. Fixed an issue where the new Exotic fish Whispering Mothcarp could not be obtained. Updated the Cenotaph Mask description to correctly state its perk behavior. The description has been updated to the following: Steadily reloads a portion of your equipped Trace Rifle's magazine from reserves. Damaging a vehicle, boss, or Champion with a Trace Rifle marks them as the target. When an ally defeats the marked target, Special ammo is generated for you and Heavy ammo for your allies. Fixed an issue where the rebound wave from Khepri's Horn was not dealing damage to enemies already damaged by the first wave. Fixed an issue where the Couturier Longcoat ornament would show a hole underneath the right arm. If the issue persists, Warlocks are advised to contact their local Tower tailor. Fixed an issue where both Sweet Business and Telesto explosions could damage enemies through walls or other geometry. Fixed an issue where Hollow Denial's sound effects could trigger sensitivity episodes for players with Semicircular Canal Dehiscence (SSCD). Fixed an issue where unlocking the pattern for the Bump in the Night required a Season 17 entitlement to unlock. Fixed an issue where the Eververse tab would experience slowdowns in PC. Fixed an issue where Red War Exotic focusing could award incorrect Exotics. Fixed an issue where audio would not play during a Forsaken cinematic. Fixed an issue where a few subtitles did not correspond to the audio. \n"
     ]
    }
   ],
   "source": [
    "print(df.iloc[0][\"joined_content\"])"
   ]
  },
  {
   "cell_type": "code",
   "execution_count": 13,
   "metadata": {},
   "outputs": [],
   "source": [
    "\n",
    "import tiktoken  \n",
    "\n",
    "tokenizer = tiktoken.get_encoding('p50k_base')\n",
    "\n",
    "# create the length function\n",
    "def tiktoken_len(text):\n",
    "    tokens = tokenizer.encode(\n",
    "        text,\n",
    "        disallowed_special=()\n",
    "    )\n",
    "    return len(tokens)\n",
    "\n",
    "from langchain.text_splitter import RecursiveCharacterTextSplitter\n",
    "\n",
    "text_splitter = RecursiveCharacterTextSplitter(\n",
    "    chunk_size=100,\n",
    "    chunk_overlap=50,\n",
    "    length_function=tiktoken_len,\n",
    "    separators=[\"\\n\\n\", \"\\n\", \" \", \"\"]\n",
    ")\n"
   ]
  },
  {
   "cell_type": "code",
   "execution_count": 14,
   "metadata": {},
   "outputs": [],
   "source": [
    "import os\n",
    "from importlib.machinery import SourceFileLoader\n",
    "from langchain.embeddings.openai import OpenAIEmbeddings\n",
    "from langchain.text_splitter import CharacterTextSplitter\n",
    "from langchain.chains import ConversationalRetrievalChain\n",
    "from langchain.chat_models import ChatOpenAI\n",
    "config = SourceFileLoader(\"config\", \"config.py\").load_module()\n",
    "os.environ['OPENAI_API_KEY'] = config.OPENAI_API_KEY"
   ]
  },
  {
   "cell_type": "code",
   "execution_count": 15,
   "metadata": {},
   "outputs": [],
   "source": [
    "pinecone_api_key = config.pinecone_api_key"
   ]
  },
  {
   "cell_type": "code",
   "execution_count": 16,
   "metadata": {},
   "outputs": [
    {
     "name": "stderr",
     "output_type": "stream",
     "text": [
      "c:\\Users\\jorda\\AppData\\Local\\Programs\\Python\\Python311\\Lib\\site-packages\\pinecone\\index.py:4: TqdmExperimentalWarning: Using `tqdm.autonotebook.tqdm` in notebook mode. Use `tqdm.tqdm` instead to force console mode (e.g. in jupyter console)\n",
      "  from tqdm.autonotebook import tqdm\n"
     ]
    }
   ],
   "source": [
    "import pinecone\n",
    "# connect to pinecone environment\n",
    "pinecone.init(\n",
    "    api_key = pinecone_api_key,\n",
    "    environment = \"us-west1-gcp-free\"\n",
    ")\n"
   ]
  },
  {
   "cell_type": "code",
   "execution_count": 17,
   "metadata": {},
   "outputs": [],
   "source": [
    "index_name = \"extractive-question-answering\""
   ]
  },
  {
   "cell_type": "code",
   "execution_count": 18,
   "metadata": {},
   "outputs": [
    {
     "data": {
      "text/plain": [
       "['extractive-question-answering']"
      ]
     },
     "execution_count": 18,
     "metadata": {},
     "output_type": "execute_result"
    }
   ],
   "source": [
    "pinecone.list_indexes()"
   ]
  },
  {
   "cell_type": "code",
   "execution_count": 19,
   "metadata": {},
   "outputs": [],
   "source": [
    "#pinecone.delete_index(\"extractive-question-answering\")"
   ]
  },
  {
   "cell_type": "code",
   "execution_count": 26,
   "metadata": {},
   "outputs": [],
   "source": [
    "# check if the extractive-question-answering index exists\n",
    "if index_name not in pinecone.list_indexes():\n",
    "    # create the index if it does not exist\n",
    "    pinecone.create_index(\n",
    "        index_name,\n",
    "        dimension=1536,\n",
    "        metric=\"cosine\"\n",
    "    )\n",
    "\n",
    "# connect to extractive-question-answering index we created\n",
    "index = pinecone.Index(index_name)"
   ]
  },
  {
   "cell_type": "code",
   "execution_count": 21,
   "metadata": {},
   "outputs": [],
   "source": [
    "from langchain.embeddings.openai import OpenAIEmbeddings\n",
    "\n",
    "model_name = 'text-embedding-ada-002'\n",
    "\n",
    "embed = OpenAIEmbeddings(\n",
    "    openai_api_key=os.environ['OPENAI_API_KEY']\n",
    ")\n"
   ]
  },
  {
   "cell_type": "code",
   "execution_count": 24,
   "metadata": {},
   "outputs": [],
   "source": [
    "docs = []\n",
    "for index, row in df.iterrows():\n",
    "    doc = {\n",
    "        'content': row['joined_content'],  \n",
    "            'name': row['Title'],\n",
    "            'link': row['Link'],\n",
    "            'pub_date': row['PubDate'],\n",
    "            'unique_id': row['UniqueIdentifier'],\n",
    "           'description': row['Description']\n",
    "        }\n",
    "    docs.append(doc)\n",
    " "
   ]
  },
  {
   "cell_type": "code",
   "execution_count": 27,
   "metadata": {},
   "outputs": [
    {
     "data": {
      "application/vnd.jupyter.widget-view+json": {
       "model_id": "a18e4e51cc2b49298c44f276bced4259",
       "version_major": 2,
       "version_minor": 0
      },
      "text/plain": [
       "  0%|          | 0/25 [00:00<?, ?it/s]"
      ]
     },
     "metadata": {},
     "output_type": "display_data"
    }
   ],
   "source": [
    "from tqdm.auto import tqdm\n",
    "from uuid import uuid4\n",
    "\n",
    "batch_limit = 100\n",
    "\n",
    "texts = []\n",
    "metadatas = []\n",
    "\n",
    "for i, record in enumerate(tqdm(docs)):\n",
    "    # first get metadata fields for this record\n",
    "    metadata = {\n",
    "            'name': record['name'],\n",
    "            'source': record['link'],\n",
    "            'pub_date': record['pub_date'],\n",
    "            'unique_id': record['unique_id'],\n",
    "           'description': record['description']\n",
    "        }\n",
    "    # now we create chunks from the record text\n",
    "    record_texts = text_splitter.split_text(record['content'])\n",
    "    # create individual metadata dicts for each chunk\n",
    "    record_metadatas = [{\n",
    "        \"chunk\": j, \"text\": text, **metadata\n",
    "    } for j, text in enumerate(record_texts)]\n",
    "    # append these to current batches\n",
    "    texts.extend(record_texts)\n",
    "    metadatas.extend(record_metadatas)\n",
    "    # if we have reached the batch_limit we can add texts\n",
    "    if len(texts) >= batch_limit:\n",
    "        ids = [str(uuid4()) for _ in range(len(texts))]\n",
    "        embeds = embed.embed_documents(texts)\n",
    "        index.upsert(vectors=zip(ids, embeds, metadatas))\n",
    "        texts = []\n",
    "        metadatas = []\n"
   ]
  },
  {
   "cell_type": "code",
   "execution_count": 28,
   "metadata": {},
   "outputs": [
    {
     "data": {
      "text/plain": [
       "{'dimension': 1536,\n",
       " 'index_fullness': 0.0,\n",
       " 'namespaces': {'': {'vector_count': 1382}},\n",
       " 'total_vector_count': 1382}"
      ]
     },
     "execution_count": 28,
     "metadata": {},
     "output_type": "execute_result"
    }
   ],
   "source": [
    "index.describe_index_stats()"
   ]
  },
  {
   "cell_type": "code",
   "execution_count": 29,
   "metadata": {},
   "outputs": [],
   "source": [
    "from langchain.vectorstores import Pinecone\n",
    "\n",
    "text_field = \"text\"\n",
    "\n",
    "# switch back to normal index for langchain\n",
    "index = pinecone.Index(index_name)\n",
    "\n",
    "vectorstore = Pinecone(\n",
    "    index, embed.embed_query, text_field\n",
    ")\n"
   ]
  },
  {
   "cell_type": "code",
   "execution_count": 30,
   "metadata": {},
   "outputs": [
    {
     "name": "stderr",
     "output_type": "stream",
     "text": [
      "Retrying langchain.embeddings.openai.embed_with_retry.<locals>._embed_with_retry in 4.0 seconds as it raised APIConnectionError: Error communicating with OpenAI: ('Connection aborted.', RemoteDisconnected('Remote end closed connection without response')).\n"
     ]
    },
    {
     "data": {
      "text/plain": [
       "[Document(page_content=\"(crit damage goes from 21. 8 to 21). The Immortal Reduced base range value by 10. Bows Fixed an issue where the Arsenic Bite Bow would display an incorrect charge time on its tooltip. Updated the stats on the Tyranny of Heaven Bow to better compete with the current selection of Lightweight Bows. Miscellaneous and Visuals Fixed an issue where the glow when firing on the Nessa's Oblation Legendary Shotgun was not as bright as intended. Fixed an issue where the Nasreddin and\", metadata={'chunk': 80.0, 'description': 'The one about Season of the Deep.', 'name': 'Destiny 2 Update 7.1.0 - Season of the Deep', 'pub_date': datetime.datetime(2023, 5, 23, 16, 30, tzinfo=tzutc()), 'source': '/7/en/News/Article/season-deep-update-7-1-0', 'unique_id': 'blt56002d0e3c869908'}),\n",
       " Document(page_content=\"(crit damage goes from 21. 8 to 21). The Immortal Reduced base range value by 10. Bows Fixed an issue where the Arsenic Bite Bow would display an incorrect charge time on its tooltip. Updated the stats on the Tyranny of Heaven Bow to better compete with the current selection of Lightweight Bows. Miscellaneous and Visuals Fixed an issue where the glow when firing on the Nessa's Oblation Legendary Shotgun was not as bright as intended. Fixed an issue where the Nasreddin and\", metadata={'chunk': 80.0, 'description': 'The one about Season of the Deep.', 'name': 'Destiny 2 Update 7.1.0 - Season of the Deep', 'pub_date': datetime.datetime(2023, 5, 23, 16, 30, tzinfo=tzutc()), 'source': '/7/en/News/Article/season-deep-update-7-1-0', 'unique_id': 'blt56002d0e3c869908'}),\n",
       " Document(page_content='benefit from the recent buff to their projectile collision radius. They are now consistent with other Heavy Grenade Launchers. Submachine Guns Aggressive Submachine Guns Reduced base damage from 15 to 14. Increased precision hit multiplier from 1. 45 to 1. 5 (crit damage goes from 21. 8 to 21). The Immortal Reduced base range value by 10. Bows Fixed an issue where the Arsenic Bite Bow would display an incorrect charge time on its tooltip. Updated the stats on the Tyranny of Heaven', metadata={'chunk': 79.0, 'description': 'The one about Season of the Deep.', 'name': 'Destiny 2 Update 7.1.0 - Season of the Deep', 'pub_date': datetime.datetime(2023, 5, 23, 16, 30, tzinfo=tzutc()), 'source': '/7/en/News/Article/season-deep-update-7-1-0', 'unique_id': 'blt56002d0e3c869908'})]"
      ]
     },
     "execution_count": 30,
     "metadata": {},
     "output_type": "execute_result"
    }
   ],
   "source": [
    "query = \"what were the changes to the immortal?\"\n",
    "\n",
    "vectorstore.similarity_search(\n",
    "    query,  # our search query\n",
    "    k=3  # return 3 most relevant docs\n",
    ")"
   ]
  },
  {
   "cell_type": "code",
   "execution_count": null,
   "metadata": {},
   "outputs": [
    {
     "ename": "NameError",
     "evalue": "name 'config' is not defined",
     "output_type": "error",
     "traceback": [
      "\u001b[1;31m---------------------------------------------------------------------------\u001b[0m",
      "\u001b[1;31mNameError\u001b[0m                                 Traceback (most recent call last)",
      "Cell \u001b[1;32mIn[3], line 6\u001b[0m\n\u001b[0;32m      2\u001b[0m \u001b[39mfrom\u001b[39;00m \u001b[39mlangchain\u001b[39;00m\u001b[39m.\u001b[39;00m\u001b[39mchains\u001b[39;00m \u001b[39mimport\u001b[39;00m RetrievalQA\n\u001b[0;32m      4\u001b[0m \u001b[39m# completion llm\u001b[39;00m\n\u001b[0;32m      5\u001b[0m llm \u001b[39m=\u001b[39m ChatOpenAI(\n\u001b[1;32m----> 6\u001b[0m     openai_api_key\u001b[39m=\u001b[39mconfig\u001b[39m.\u001b[39mOPENAI_API_KEY,\n\u001b[0;32m      7\u001b[0m     model_name\u001b[39m=\u001b[39m\u001b[39m'\u001b[39m\u001b[39mgpt-3.5-turbo\u001b[39m\u001b[39m'\u001b[39m,\n\u001b[0;32m      8\u001b[0m     temperature\u001b[39m=\u001b[39m\u001b[39m0.0\u001b[39m\n\u001b[0;32m      9\u001b[0m )\n\u001b[0;32m     11\u001b[0m \u001b[39mfrom\u001b[39;00m \u001b[39mlangchain\u001b[39;00m\u001b[39m.\u001b[39;00m\u001b[39mchains\u001b[39;00m \u001b[39mimport\u001b[39;00m RetrievalQAWithSourcesChain\n\u001b[0;32m     13\u001b[0m qa_with_sources \u001b[39m=\u001b[39m RetrievalQAWithSourcesChain\u001b[39m.\u001b[39mfrom_chain_type(\n\u001b[0;32m     14\u001b[0m     llm\u001b[39m=\u001b[39mllm,\n\u001b[0;32m     15\u001b[0m     chain_type\u001b[39m=\u001b[39m\u001b[39m\"\u001b[39m\u001b[39mstuff\u001b[39m\u001b[39m\"\u001b[39m,\n\u001b[0;32m     16\u001b[0m     retriever\u001b[39m=\u001b[39mvectorstore\u001b[39m.\u001b[39mas_retriever()\n\u001b[0;32m     17\u001b[0m )\n",
      "\u001b[1;31mNameError\u001b[0m: name 'config' is not defined"
     ]
    }
   ],
   "source": [
    "from langchain.chat_models import ChatOpenAI\n",
    "from langchain.chains import RetrievalQA\n",
    "\n",
    "# completion llm\n",
    "llm = ChatOpenAI(\n",
    "    openai_api_key=config.OPENAI_API_KEY,\n",
    "    model_name='gpt-3.5-turbo',\n",
    "    temperature=0.0\n",
    ")\n",
    "\n",
    "from langchain.chains import RetrievalQAWithSourcesChain\n",
    "\n",
    "qa_with_sources = RetrievalQAWithSourcesChain.from_chain_type(\n",
    "    llm=llm,\n",
    "    chain_type=\"stuff\",\n",
    "    retriever=vectorstore.as_retriever()\n",
    ")\n"
   ]
  },
  {
   "cell_type": "code",
   "execution_count": null,
   "metadata": {},
   "outputs": [
    {
     "ename": "NameError",
     "evalue": "name 'qa_with_sources' is not defined",
     "output_type": "error",
     "traceback": [
      "\u001b[1;31m---------------------------------------------------------------------------\u001b[0m",
      "\u001b[1;31mNameError\u001b[0m                                 Traceback (most recent call last)",
      "Cell \u001b[1;32mIn[2], line 2\u001b[0m\n\u001b[0;32m      1\u001b[0m query \u001b[39m=\u001b[39m \u001b[39m\"\u001b[39m\u001b[39mAnswer the following question with as much detail as possible based only on the information provided. list all the changes to the immortal. dont include any information not related to the query\u001b[39m\u001b[39m\"\u001b[39m\n\u001b[1;32m----> 2\u001b[0m qa_with_sources(query)\n",
      "\u001b[1;31mNameError\u001b[0m: name 'qa_with_sources' is not defined"
     ]
    }
   ],
   "source": [
    "query = \"Answer the following question with as much detail as possible based only on the information provided. list all the changes to the immortal. dont include any information not related to the query\"\n",
    "qa_with_sources(query)"
   ]
  },
  {
   "cell_type": "code",
   "execution_count": null,
   "metadata": {},
   "outputs": [
    {
     "name": "stdout",
     "output_type": "stream",
     "text": [
      "You are a knowledgeable game assistant trained to answer queries about the latest patch notes. You have been trained on the following patch notes:\n",
      "\n",
      "User: What changes were made to the Dazzling Iridescence Trials emblem?\n",
      "AI: The Dazzling Iridescence Trials emblem had an issue where it could be awarded from the Flawless chest without completing the necessary requirements. This issue has been fixed in the latest patch. Players who have already acquired the emblem will need to complete the requirements after this patch goes live in order to equip the emblem.\n",
      "\n",
      "\n",
      "User: What were the changes to the immortal\n",
      "AI: \n"
     ]
    }
   ],
   "source": [
    "from langchain.llms import OpenAI\n",
    "from langchain import LLMChain\n",
    "\n",
    "davinci = OpenAI(model_name='text-davinci-003')\n",
    "\n",
    "from langchain import PromptTemplate\n",
    "from langchain import FewShotPromptTemplate\n",
    "from langchain.prompts.example_selector import LengthBasedExampleSelector\n",
    "\n",
    "# create our examples\n",
    "examples = [\n",
    "    {\n",
    "        \"query\": \"What changes were made to the Dazzling Iridescence Trials emblem?\",\n",
    "        \"answer\": \"The Dazzling Iridescence Trials emblem had an issue where it could be awarded from the Flawless chest without completing the necessary requirements. This issue has been fixed in the latest patch. Players who have already acquired the emblem will need to complete the requirements after this patch goes live in order to equip the emblem.\"\n",
    "    }, \n",
    "    {\n",
    "        \"query\": \"What is the new change regarding Gyrfalcon's Hauberk's reserve overshield?\",\n",
    "        \"answer\": \"Gyrfalcon's Hauberk's reserve overshield now deploys when a player uses Ensnaring Slam. This is a change introduced in the latest patch.\"\n",
    "    },\n",
    "    {\n",
    "        \"query\": \"What were the issues fixed regarding Arbor Warden?\",\n",
    "        \"answer\": \"Two issues related to Arbor Warden were fixed in this patch. One issue caused the player to become frozen which would disable Arbor Warden's Exotic perk. The other issue was causing the Juggernaut aspect to not interact with your class ability energy correctly. Both of these issues have now been addressed.\"\n",
    "    },\n",
    "    {\n",
    "        \"query\": \"What changes were made for PvP in the latest patch?\",\n",
    "        \"answer\": \"In the latest patch, several PvP-related issues were fixed. For example, Verity's Brow, which was not functioning in PvP, has been fixed. An issue where Athrys's Embrace's buff icon wasn't appearing in the HUD in PvP has also been fixed. The Collective Action weapon perk's damage against Guardians has been reduced to 10% from 20%. These are some of the changes made for PvP in this patch.\"\n",
    "    },\n",
    "    {\n",
    "        \"query\": \"Were there any changes related to 'Iron Banner Special/Power weapons'?\",\n",
    "        \"answer\": \"Yes, an issue where some older Iron Banner Special/Power weapons had lost their scope glint has been fixed in this latest patch.\"\n",
    "    },\n",
    "]\n",
    "\n",
    "# create a example template\n",
    "example_template = \"\"\"\n",
    "User: {query}\n",
    "AI: {answer}\n",
    "\"\"\"\n",
    "\n",
    "# create a prompt example from above template\n",
    "example_prompt = PromptTemplate(\n",
    "    input_variables=[\"query\", \"answer\"],\n",
    "    template=example_template\n",
    ")\n",
    "\n",
    "\n",
    "# now break our previous prompt into a prefix and suffix\n",
    "# the prefix is our instructions\n",
    "prefix = \"You are a knowledgeable game assistant trained to answer queries about the latest patch notes. \"\n",
    "# and the suffix our user input and output indicator\n",
    "suffix = \"\"\"\n",
    "User: {query}\n",
    "AI: \"\"\"\n",
    "\n",
    "query = \"What were the changes to the immortal\"\n",
    "\n",
    "\n",
    "example_selector = LengthBasedExampleSelector(\n",
    "    examples=examples,\n",
    "    example_prompt=example_prompt,\n",
    "    max_length=200  # increased max length\n",
    ")\n",
    "\n",
    "# now create the few shot prompt template\n",
    "dynamic_prompt_template = FewShotPromptTemplate(\n",
    "    example_selector=example_selector,  # use example_selector instead of examples\n",
    "    example_prompt=example_prompt,\n",
    "    prefix=prefix,\n",
    "    suffix=suffix,\n",
    "    input_variables=[\"query\"],\n",
    "    example_separator=\"\\n\"\n",
    ")\n",
    "\n",
    "print(dynamic_prompt_template.format(query=query))\n",
    "\n"
   ]
  },
  {
   "cell_type": "code",
   "execution_count": null,
   "metadata": {},
   "outputs": [
    {
     "data": {
      "text/plain": [
       "{'question': 'You are a knowledgeable game assistant trained to answer queries about the latest patch notes. You have been trained on the following patch notes:\\n\\nUser: What changes were made to the Dazzling Iridescence Trials emblem?\\nAI: The Dazzling Iridescence Trials emblem had an issue where it could be awarded from the Flawless chest without completing the necessary requirements. This issue has been fixed in the latest patch. Players who have already acquired the emblem will need to complete the requirements after this patch goes live in order to equip the emblem.\\n\\n\\nUser: What were the changes to the immortal\\nAI: ',\n",
       " 'answer': 'The changes made to the Dazzling Iridescence Trials emblem were that it had an issue where it could be awarded from the Flawless chest without completing the necessary requirements. This issue has been fixed in the latest patch. Players who have already acquired the emblem will need to complete the requirements after this patch goes live in order to equip the emblem.\\n',\n",
       " 'sources': '/7/en/News/Article/update_7_1_0_2'}"
      ]
     },
     "execution_count": 43,
     "metadata": {},
     "output_type": "execute_result"
    }
   ],
   "source": [
    "query = \"What were the changes to the immortal\"\n",
    "qa_with_sources(dynamic_prompt_template.format(query=query))"
   ]
  }
 ],
 "metadata": {
  "kernelspec": {
   "display_name": "Python 3",
   "language": "python",
   "name": "python3"
  },
  "language_info": {
   "codemirror_mode": {
    "name": "ipython",
    "version": 3
   },
   "file_extension": ".py",
   "mimetype": "text/x-python",
   "name": "python",
   "nbconvert_exporter": "python",
   "pygments_lexer": "ipython3",
   "version": "3.11.3"
  },
  "orig_nbformat": 4
 },
 "nbformat": 4,
 "nbformat_minor": 2
}
