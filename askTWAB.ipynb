{
 "cells": [
  {
   "cell_type": "code",
   "execution_count": 6,
   "metadata": {},
   "outputs": [
    {
     "name": "stderr",
     "output_type": "stream",
     "text": [
      "[nltk_data] Downloading package punkt to\n",
      "[nltk_data]     C:\\Users\\jorda\\AppData\\Roaming\\nltk_data...\n",
      "[nltk_data]   Unzipping tokenizers\\punkt.zip.\n",
      "[nltk_data] Downloading package stopwords to\n",
      "[nltk_data]     C:\\Users\\jorda\\AppData\\Roaming\\nltk_data...\n",
      "[nltk_data]   Unzipping corpora\\stopwords.zip.\n",
      "[nltk_data] Downloading package wordnet to\n",
      "[nltk_data]     C:\\Users\\jorda\\AppData\\Roaming\\nltk_data...\n"
     ]
    },
    {
     "ename": "KeyError",
     "evalue": "'NextPaginationToken'",
     "output_type": "error",
     "traceback": [
      "\u001b[1;31m---------------------------------------------------------------------------\u001b[0m",
      "\u001b[1;31mKeyError\u001b[0m                                  Traceback (most recent call last)",
      "Cell \u001b[1;32mIn[6], line 39\u001b[0m\n\u001b[0;32m     37\u001b[0m         \u001b[39mprint\u001b[39m(\u001b[39m\"\u001b[39m\u001b[39mNo NewsArticles found in the response.\u001b[39m\u001b[39m\"\u001b[39m)\n\u001b[0;32m     38\u001b[0m         \u001b[39mbreak\u001b[39;00m\n\u001b[1;32m---> 39\u001b[0m     page_token \u001b[39m=\u001b[39m json_response[\u001b[39m'\u001b[39;49m\u001b[39mResponse\u001b[39;49m\u001b[39m'\u001b[39;49m][\u001b[39m'\u001b[39;49m\u001b[39mNextPaginationToken\u001b[39;49m\u001b[39m'\u001b[39;49m]\n\u001b[0;32m     40\u001b[0m \u001b[39melse\u001b[39;00m:\n\u001b[0;32m     41\u001b[0m     \u001b[39mprint\u001b[39m(\u001b[39m\"\u001b[39m\u001b[39mError:\u001b[39m\u001b[39m\"\u001b[39m, response\u001b[39m.\u001b[39mstatus_code)\n",
      "\u001b[1;31mKeyError\u001b[0m: 'NextPaginationToken'"
     ]
    }
   ],
   "source": [
    "import requests\n",
    "import json\n",
    "from pprint import pprint\n",
    "import pandas as pd\n",
    "import re\n",
    "import nltk\n",
    "from nltk.corpus import stopwords\n",
    "from nltk.stem import WordNetLemmatizer\n",
    "\n",
    "# Download NLTK resources\n",
    "nltk.download('punkt')\n",
    "nltk.download('stopwords')\n",
    "nltk.download('wordnet')\n",
    "\n",
    "\n",
    "api_key = \"aebb0f3980c0466f8196511f2131b8fc\"\n",
    "endpoint = \"https://www.bungie.net/Platform/Content/Rss/NewsArticles/{pageToken}/\"\n",
    "page_token = \"0\"\n",
    "include_body = True\n",
    "headers = {\n",
    "    \"X-API-Key\": api_key\n",
    "}\n",
    "params = {\n",
    "    \"includebody\": include_body\n",
    "}\n",
    "\n",
    "results = []\n",
    "\n",
    "while page_token is not None:\n",
    "    response = requests.get(endpoint.format(pageToken=page_token), headers=headers, params=params)\n",
    "\n",
    "    if response.status_code == 200:\n",
    "        json_response = response.json()\n",
    "        if 'NewsArticles' in json_response['Response']:\n",
    "            results.extend(json_response['Response']['NewsArticles'])\n",
    "        else:\n",
    "            print(\"No NewsArticles found in the response.\")\n",
    "            break\n",
    "        page_token = json_response['Response']['NextPaginationToken']\n",
    "    else:\n",
    "        print(\"Error:\", response.status_code)\n",
    "        print(\"Response:\", response.text)\n",
    "        break\n",
    "\n"
   ]
  },
  {
   "cell_type": "code",
   "execution_count": 7,
   "metadata": {},
   "outputs": [
    {
     "name": "stdout",
     "output_type": "stream",
     "text": [
      "Total Results: 1006\n"
     ]
    }
   ],
   "source": [
    "print(f\"Total Results: {len(results)}\")"
   ]
  },
  {
   "cell_type": "code",
   "execution_count": 8,
   "metadata": {},
   "outputs": [
    {
     "data": {
      "text/plain": [
       "Title                                      Community Focus - Claire Corcoran\n",
       "Link                        /7/en/News/Article/community-focus-cosplay-corco\n",
       "PubDate                                                 2023-05-19T00:00:00Z\n",
       "UniqueIdentifier                                         bltc1422795bcebd539\n",
       "Description                Have you ever wanted to be an Eliksni? How abo...\n",
       "HtmlContent                <p>Community Focus time? Community Focus time....\n",
       "ImagePath                  https://images.contentstack.io/v3/assets/blte4...\n",
       "OptionalMobileImagePath    https://images.contentstack.io/v3/assets/blte4...\n",
       "Name: 0, dtype: object"
      ]
     },
     "execution_count": 8,
     "metadata": {},
     "output_type": "execute_result"
    }
   ],
   "source": [
    "# Convert the results list into a DataFrame\n",
    "df = pd.DataFrame(results)\n",
    "\n",
    "# Display the DataFrame\n",
    "df.iloc[0]\n"
   ]
  },
  {
   "cell_type": "code",
   "execution_count": 9,
   "metadata": {},
   "outputs": [
    {
     "name": "stdout",
     "output_type": "stream",
     "text": [
      "Title                          Community Focus - Claire Corcoran\n",
      "Description    Have you ever wanted to be an Eliksni? How abo...\n",
      "PubDate                                     2023-05-19T00:00:00Z\n",
      "Name: 0, dtype: object\n"
     ]
    }
   ],
   "source": [
    "selected_columns = ['Title', 'Description', 'PubDate']\n",
    "\n",
    "# Display the selected columns DataFrame\n",
    "print(df[selected_columns].iloc[0])"
   ]
  },
  {
   "cell_type": "code",
   "execution_count": 10,
   "metadata": {},
   "outputs": [
    {
     "data": {
      "text/plain": [
       "0           Community Focus - Claire Corcoran\n",
       "1            This Week At Bungie - 05/18/2023\n",
       "2            Season 21 Weapon Changes Preview\n",
       "3             This Week At Bungie – 5/11/2023\n",
       "4       Season 21 Exotic Armor Tuning Preview\n",
       "                        ...                  \n",
       "1001              Potentially Asked Questions\n",
       "1002                Inside the new Bungie.net\n",
       "1003                           This is a Test\n",
       "1004       Happy 10th Anniversary, Xbox LIVE!\n",
       "1005                 Breaking In - Adam Brown\n",
       "Name: Title, Length: 1006, dtype: object"
      ]
     },
     "execution_count": 10,
     "metadata": {},
     "output_type": "execute_result"
    }
   ],
   "source": [
    "df[\"Title\"]"
   ]
  },
  {
   "cell_type": "code",
   "execution_count": 12,
   "metadata": {},
   "outputs": [
    {
     "name": "stdout",
     "output_type": "stream",
     "text": [
      "Community Focus time? Community Focus time. This time, we’re diving back into the epic world of cosplay to chat with one creative Guardian that loves to put her best Eliksni foot forward. And other feet, obviously, but Eliksni... yeah, you’ll see what we’re talking about here in today’s blog post.Meet Claire Corcoran, a cosplayer that shows just how cool it would be if Destiny 2 joined us in the real world while also inviting us to question our own sanity when asking us one very important question: why do I want to be an Eliksni so bad after seeing her in a full, completely realistic costume?!Let’s dive in, shall we?You are making my day by sharing more of your cosplay with us, thank you for joining the Community Focus family! Before we start, tell us a little more about yourself and how you got into Destiny and the wonder that is cosplay.Thank you for reaching out, this is so flattering! Hi, I’m Claire! I guess the biggest thing about me is I’ve always been into art and fantasy and sought out ways to merge the two. By day, I’m an art teacher and by night I’m a gamer and cosplayer. Getting into cosplay was probably inevitable for me, but it took a long time. When I was a kid, I loved wearing costumes and playing pretend with my brothers and sister. We would make props, weapons, forts, and all that good stuff—really, we just liked to let that creativity run wild. In college I learned more about prop fabrication as a film student, and only after that did I jump into cosplay. It happened when I watched Transformers Prime and loved the character of Starscream so much that I decided to take the leap and build a costume. So yeah, my first cosplay was a giant robot. How hard could it be? (Narrator voice: it was very hard.)Regarding the game itself, I got into Destiny through my brother. He was really into it and got me to play it, and now it’s something we do together a lot to stay connected. It’s been really nice since we live in completely different cities. He can tell when I’m sizing up a character to cosplay in the game because my Hunter will circle around a character (or even another Guardian) slowly while I get screenshots of their clothing from every angle. He’ll be like, “No! Down! Spray bottle attack! You’re already working on too many things!” But he got me into this game, and into Transformers now that I think about it, so this is all his fault. I’m blameless.Here's another photo I liked from that shoot. We had fun with props pic.twitter.com/ODLum1BasU— Claire (@firmamenttyrant) November 10, 2021Real talk, I can’t even sew a button onto literally anything, so seeing the intricacy of some of your designs, especially your Eliksni, is mind-blowing. We’ve got to ask: What is your process like when crafting a new cosplay? Did it take you a while before you started feeling comfy with making your visions a reality?Thank you! I couldn’t sew either before I got into cosplay, funny enough, but I had to learn in order to make what I wanted to make. I started with foam armor, and it was a while before I felt comfortable sewing. My favorite thing about cosplay is how I always learn new skills along the way. I choose characters based on how much I like them and how cool they look and then figure out how to make it happen. I don’t hold back just because something looks hard since figuring it out is half the fun.For my process, I have a notebook of lists, notes, and sketches. I always sketch first, and also take pictures of myself and draw how I think the costume pieces will fit on my body. That was really important for the Eliksni anatomy. Then I make shopping lists, test materials, and do research. I have a whole cosplay research playlist on YouTube, and that’s how I learned to sew, among other skills. Along the way, I make all my patterns out of poster board and old sheets from thrift stores. I try everything on before committing to using more expensive materials.I think I’m always on the edge between comfort and discomfort when it comes to my skill level, which is the sweet spot to be when you’re learning. In education we call it the “Zone of Proximal Development” and it means you’re challenged but not overwhelmed, and you’re building on what you’ve learned before.Wow, so it's a lot more extensive than newcomers into the cosplay community might think. Do you have any advice for newbie cosplayers looking to make their own mark?For newcomers I have three pieces of advice.Don’t be scared. If you mess up, that just means you learned something that didn’t work, and that gives you direction to try the next idea. You can always go back and improve old costumes. My original Starscream cosplay from eight years ago has been rebuilt a few times and only has a few original pieces left. He looks way better now.Reach out to cosplayers you like. Most of us are happy to answer questions and offer advice, and you can learn a lot. Follow cosplayers on social media because they post a lot of process videos and how-tos, and you can ask them questions.Make lists. I know it sounds boring but it’s the best way to make sure you plan for everything your cosplay will need. What are all the things you can see the character wearing? What do you think they’re made of? Do you have any of those items in your closet or are they available at a thrift store? What will you need to make yourself? Once you know all that, even a big project will feel more doable.I'm sure you've noticed that we like to (playfully) poke jabs at our own class choices, and the rest of the Destiny community definitely jumps into the fun banter, as well. You're up! What's your go-to class and why? (Aggressively prays you say Titan even though you’ve clearly already stated Hunter.)Hunter because of dodging, no regrets. I get so upset when I can’t dodge, you have no idea! Plus dodging reloads your melee and melee turns you invisible! What could be better? (Please don’t nerf Assassin’s Cowl, lol.) Now that Titans can have a dodge-like ability with Arc 3.0 I’ve actually started using my Titan a bit. But still, Hunters are my go-to.You know what? Touché. Looking at your portfolio and how you interact with your community, you seem like an absolute blast to be around at conventions. What is your favorite memory from being in the cosplay community? What is one of your darker moments that you’d be willing to share?I have two favorite memories. One is when I was cosplaying Starscream and some kids had bought some Transformers figures at the con. They came over and basically started playing with me as if I was a giant action figure—making their figures fight me, moving my arms and pretending to shoot my missiles, falling down when I dramatically slow motion punched them. It was so cute!The other memory is people’s reactions to my Smallen. They usually see the whole picture of my Eliksni first, and then when they notice the babies, everyone loses their minds. I’ve seen grown men squeal from how cute they are. Smallen truly are a gift to the universe. That two-second shot of them in the Beyond Light trailer was everything I needed in life, and sealed the deal on what my next cosplay would be.A darker moment (besides how physically uncomfortable some cosplays are) is when people can’t keep their opinions to themselves. It’s not very nice to tell a cosplayer that you hate their character, even if it’s like “I hate that character, but your costume is cool.” Cosplayers pour hundreds of dollars and hours into these characters—we obviously love them, and in some ways are living a fantasy of being them for a few hours. It’s kind of silly but we do take it personally. Also commenting on a cosplayer’s body (even if it’s positive) is not a compliment—it’s kind of creepy. Keep your compliments focused on the costume and craftsmanship, please.With Lightfall out now, and The Final Shape on the horizon, we’re feeling amped about going down memory lane. That raises the question: What is your favorite thing about the universe of Guardians so far? It can be a clan moment, or a favorite cutscene; what spoke to you the most?It’s really hard to pick! Becoming friends with some of the aliens was huge for me, and something I’d hoped for a long time. I love Misraaks and Caiatl and I love seeing their people around the Tower and H.E.L.M. Something I found really satisfying in the game were the missions in Shadowkeep where you could find lost items from Eris’s fireteam and bring back her true memories of them. Seeing the Nightmares around her decrease in number and seeing her look less tired was so rewarding. Lol, it was worth how grindy those missions were.Speaking of \"new,\" if you could add anything you wanted to the game—anything at all, big or small—what would it be?I like how we can save loadouts with mods now, but I really wish we could save fashion loadouts. Having sets of ornaments and shaders we could just save and swap would be nice. And since we’re talking about fashion, maybe there could be a vendor where we could change our character’s appearance. Bungie did something to the textures and now my Exo’s cool star paint is barely visible, so I’d like to change the color and make it stand out again!What about a dream subclass?Since there’s one more Darkness subclass presumably out there, of course, I’ve been speculating. I think Blight might be neat (shoutout to Witherhoard, my beloved), but since Darkness is about the mind, Wish would be awesome. I have no idea how they would make Wish abilities for combat, but I think thematically and lore-wise it would be so cool.Seriously, thank you so much for taking the time to chat with us! Before we let you go, is there anyone you want to shout out here in your Community Focus? Also, where can people find you to support your work going forward?Huge shoutout to my brother Tom, who got me into Destiny, and to the kids in the Cosplay Club at my school! Also shoutout to my Transformers cosplay family at ConsPlay Superior. I’m everywhere at Creature Feature Cosplay.And that’s a wrap on our latest Community Focus! If you missed the last one with the incredible AllTimeBrianna, you should go check that out right now. But before you do that, make sure to show Claire some love and join me in manifesting her attempting to take a Caiatl cosplay on in the future. We can’t let these dreams be dreams, OK?Before we let you go, y’all know the drill by now. Make sure you’re drinking that water, indulging in that self-care, and always leading with your kindest foot forward.See you next time, friends.“I should go,”&lt;3 Hippy\n"
     ]
    }
   ],
   "source": [
    "from bs4 import BeautifulSoup\n",
    "\n",
    "# Assuming you have an HTML string stored in the 'html' variable\n",
    "html = df.iloc[0][\"HtmlContent\"]\n",
    "\n",
    "# Create a BeautifulSoup object to parse the HTML\n",
    "soup = BeautifulSoup(html, 'html.parser')\n",
    "\n",
    "# Retrieve the text content using the .get_text() method\n",
    "text_content = soup.get_text()\n",
    "\n",
    "# Print the extracted text content\n",
    "print(text_content)\n"
   ]
  },
  {
   "cell_type": "code",
   "execution_count": 13,
   "metadata": {},
   "outputs": [
    {
     "data": {
      "text/plain": [
       "Title                                      Community Focus - Claire Corcoran\n",
       "Link                        /7/en/News/Article/community-focus-cosplay-corco\n",
       "PubDate                                                 2023-05-19T00:00:00Z\n",
       "UniqueIdentifier                                         bltc1422795bcebd539\n",
       "Description                Have you ever wanted to be an Eliksni? How abo...\n",
       "HtmlContent                <p>Community Focus time? Community Focus time....\n",
       "ImagePath                  https://images.contentstack.io/v3/assets/blte4...\n",
       "OptionalMobileImagePath    https://images.contentstack.io/v3/assets/blte4...\n",
       "clean_text                 Community Focus time? Community Focus time. Th...\n",
       "Name: 0, dtype: object"
      ]
     },
     "execution_count": 13,
     "metadata": {},
     "output_type": "execute_result"
    }
   ],
   "source": [
    "# Create a new column 'clean_text' in the DataFrame\n",
    "df['clean_text'] = ''\n",
    "\n",
    "# Iterate over the rows of the DataFrame\n",
    "for index, row in df.iterrows():\n",
    "    html_content = row['HtmlContent']\n",
    "    \n",
    "    # Create a BeautifulSoup object to parse the HTML\n",
    "    soup = BeautifulSoup(html_content, 'html.parser')\n",
    "    \n",
    "    # Retrieve the text content using the .get_text() method\n",
    "    clean_text = soup.get_text().strip()  # Apply strip() to remove leading/trailing whitespaces\n",
    "    \n",
    "    # Assign the clean text to the 'clean_text' column of the current row\n",
    "    df.at[index, 'clean_text'] = clean_text\n",
    "\n",
    "df.iloc[0]"
   ]
  },
  {
   "cell_type": "code",
   "execution_count": 14,
   "metadata": {},
   "outputs": [
    {
     "data": {
      "text/plain": [
       "\"Happy Friday, Guardians! Welcome back to one of our favorite segments on Bungie.net, this week’s Community Focus!\\xa0 \\xa0I know I tend to say this almost every time I write something here, but it still blows my mind that (for those of us reading this) we all have found each other because of this game. We have our “in real life” moments: graduating high school, moving out for the first time, finding a partner, or even having children. And there is something special about the fact that a lot of these moments are also shared in-game with our fireteam, clan, and community. So, thank you once again for sharing these stories with us, and please continue to do so because we really love writing them.\\xa0Okay, enough cheesiness for now. This week we are hanging out over in the UK with an Aussie you may know!\\xa0\\xa0Hello and welcome! First, let's start with your name, pronouns, and a little bit about you.\\xa0\\xa0G’day! I am BonaFideHiro, he/him, but everyone calls me Bona or Hiro, but never Fide… Hmmmm?\\xa0I’m an Aussie who has moved back and forth from the UK since I was 19, and as of March 2020, we are in the south of England.\\xa0That sounds like quite an adventure! So, what got you into gaming and content creation?\\xa0Quite simply, my love for gaming came about like many other kids, coming home from school to my original PlayStation and Xbox where my brother and I would sit for hours escaping the heat of the Australian Outback. It was a great escape for a “weird” kid avoiding hot temps.\\xa0My first form of content creation was recording game nights in Halo custom games, where skill did not matter, but your ability to be wild and have fun did. Using that, I would upload quick clips and screenshots to social media profiles.\\xa0Then 2020 came along, and during the pandemic I started streaming on Twitch as a free and easy way to record longer content and capture funny moments in Destiny 2. I initially never had any intention of doing anything more than that.\\xa0Oh my gosh, I think a lot of us can relate to posting team wipes or 360-no-scopes back in the day. So many giggles and late nights trying to stay quiet, but it was so hard when you were so stoked. 😊\\xa0\\xa0So, you started with Halo, but what brought you to Destiny?\\xa0I remember seeing Destiny first at E3 in 2013, and as a lifelong Halo fan, I was so eager to see the next thing from Bungie after Halo: Reach. Following that, I put my pre-order in and got involved with the Destiny open beta in 2014, and thus I became the world’s worst teammate in any activity. I was super casual to the game and really had no idea what I was doing most of the time.\\xa0Fast forward to 2017 for the launch of Destiny 2, and my mindset had changed, my skills had improved, and over the years I found my feet as a community leader and PvE guide.\\xa0Destiny is one of my favorites for that reason. You can hop into it not knowing what you’re “supposed to do,” and you can still complete things, have a blast, and learn how to improve just by playing the game and meeting other Guardians in the wild.\\xa0\\xa0When someone comes to your stream, what type of content should they expect?\\xa0I mostly like to focus on endgame PvE activities like raids, dungeons, and Grandmaster Nightfalls. I love to get busy with the grind, but for most of the Season, I like to spend my time either guiding Guardians through Grandmasters, helping them get their base or gilded Conqueror Seal, or helping them when the next raid or dungeon comes out. There is nothing more awesome than helping show people that they can complete the activities they want to complete.\\xa0Heck yes! As a Guardian who still tends to start off their conversations with “I am sorry, I am bad, but can you help?” This brings a smile to my heart.\\xa0\\xa0Alright, I must ask, what do you main and your favorite Exotic?\\xa0\\xa0I have always been very much a Titan-minded individual, running and gunning without a second thought. I have felt pretty legendary as a Titan since Void and Solar 3.0.\\xa0I can often be quoted saying, “Dammit, I forgot I wasn’t wearing Lion Rampants.” Or, “I feel naked without my Rampants.” 😊\\xa0\\xa0Oh goodness, I feel like that might be a glimpse into your channel right there. How would you describe the vibe of your content?\\xa0I can easily sum it up in a few words: goofy, semi-comedic, helpful, and welcoming.\\xa0Whether you have been hanging out for a while or just started, you can easily feel at home here. I pride myself on my first impressions, interacting with my audience through a variety of ways while I am live on Twitch, and my daily impact. Hearing that someone has been able to escape for the day and smile—even if it was because they made me swap to a Rocket Launcher and blew up my Guardian—is something that means more to me than I can express.\\xa0\\xa0That is really neat, Hiro, and I love that you not only entertain chat but you actively interact with them. What is something you make sure to tell Kinderguardians as they join the game?\\xa0\\xa0The biggest thing I have come to learn over time is that Destiny is not a linear game. There is not one way to play the game, and everyone will have different experiences playing and will play for different reasons.\\xa0You can play the way you want to play, and do it in a positive way, and everyone wins.\\xa0Yes! That’s one of the things I like to point out too. You can be anything you want in Destiny if you’re kind to others. 😊\\xa0\\xa0Outside of Destiny, what do you do?\\xa0\\xa0Outside of Destiny and gaming, I am a new dad to a kickass little fella, codename: “Nugget.”\\xa0I spend my time outside of streaming as a broadcast consultant, helping creators and businesses become professionals in their own broadcast journeys.\\xa0Anything fun coming up or any events you are particularly excited for?\\xa0\\xa0I hope to run and kick some butt in my own month-long series of charity streams in October for the\\xa0 the National Breast Cancer Foundation in Australia. More specifically to a foundation that helps support families and individuals that have to be away from home due to treatment. Very precise, I know, but it’s something I have always wanted to give back to.\\xa0And then, other than waiting to apply for Twitch partnership again, I am continuing to play through the Seasonal content, helping peeps out and waiting for our next day-one raid day!\\xa0Anything else you want to add?\\xa0 \\xa0Thank you so much for the chat, Sam, and please give my thanks to the other community managers, the devs, and all other teams that make the world of Destiny happen. You all continue to support, me and so many others from every background and walk of life and you’ve given us a place to meet, love, laugh, and cry together. I would not be who I am without Destiny and the friends that I have met through it.\\xa0Done and done. Thank you for taking the time to hang out with us today. And finally, where can people find you?\\xa0Every weekday from 1 PM BST (4 AM PST), you can find me live on Twitch. I am\\xa0 on Twitter, Instagram, and TikTok as well.\\xa0*insert jazz hands here*\\xa0\\xa0There we have it! Please make sure you go check out Hiro’s socials and stream when you get a chance. And if you haven’t checked out our latest Community Focus with Pijinnn, you can go do that now!\\xa0\\xa0Don’t forget to keep sharing your favorite humans on socials. We love meeting new (to us) Guardians and sharing their stories. We hope you all have a great rest of your week, and we will see you next time!\\xa0Stay crafty, Guardians\\xa0Sam\""
      ]
     },
     "execution_count": 14,
     "metadata": {},
     "output_type": "execute_result"
    }
   ],
   "source": [
    "df.iloc[100][\"clean_text\"]"
   ]
  },
  {
   "cell_type": "code",
   "execution_count": 15,
   "metadata": {},
   "outputs": [],
   "source": [
    "# Create a new column 'preproc_text' in the DataFrame\n",
    "df['preproc_text'] = ''\n",
    "\n",
    "# Convert text to lowercase\n",
    "df['preproc_text'] = df['clean_text'].str.lower()\n",
    "\n",
    "# Remove special characters and numbers\n",
    "df['preproc_text'] = df['preproc_text'].apply(lambda text: re.sub(r'[^a-zA-Z\\'-]', ' ', text))\n",
    "\n",
    "# Tokenization\n",
    "df['preproc_text'] = df['preproc_text'].apply(lambda text: nltk.word_tokenize(text))\n",
    "\n",
    "# Remove stopwords\n",
    "stopwords_set = set(stopwords.words('english'))\n",
    "df['preproc_text'] = df['preproc_text'].apply(lambda tokens: [token for token in tokens if token not in stopwords_set])\n",
    "\n",
    "# Lemmatization\n",
    "lemmatizer = WordNetLemmatizer()\n",
    "df['preproc_text'] = df['preproc_text'].apply(lambda tokens: [lemmatizer.lemmatize(token) for token in tokens])\n",
    "\n",
    "# Join tokens back into sentences\n",
    "df['preproc_text'] = df['preproc_text'].apply(lambda tokens: ' '.join(tokens))\n"
   ]
  },
  {
   "cell_type": "code",
   "execution_count": 16,
   "metadata": {},
   "outputs": [
    {
     "data": {
      "text/plain": [
       "\"community focus time community focus time time diving back epic world cosplay chat one creative guardian love put best eliksni foot forward foot obviously eliksni yeah see talking today blog post meet claire corcoran cosplayer show cool would destiny joined u real world also inviting u question sanity asking u one important question want eliksni bad seeing full completely realistic costume let dive shall making day sharing cosplay u thank joining community focus family start tell u little got destiny wonder cosplay thank reaching flattering hi claire guess biggest thing always art fantasy sought way merge two day art teacher night gamer cosplayer getting cosplay probably inevitable took long time kid loved wearing costume playing pretend brother sister would make prop weapon fort good stuff really liked let creativity run wild college learned prop fabrication film student jump cosplay happened watched transformer prime loved character starscream much decided take leap build costume yeah first cosplay giant robot hard could narrator voice hard regarding game got destiny brother really got play something together lot stay connected really nice since live completely different city tell sizing character cosplay game hunter circle around character even another guardian slowly get screenshots clothing every angle like spray bottle attack already working many thing got game transformer think fault blameless 's another photo liked shoot fun prop pic twitter com odlum basu claire firmamenttyrant november real talk even sew button onto literally anything seeing intricacy design especially eliksni mind-blowing got ask process like crafting new cosplay take started feeling comfy making vision reality thank sew either got cosplay funny enough learn order make wanted make started foam armor felt comfortable sewing favorite thing cosplay always learn new skill along way choose character based much like cool look figure make happen hold back something look hard since figuring half fun process notebook list note sketch always sketch first also take picture draw think costume piece fit body really important eliksni anatomy make shopping list test material research whole cosplay research playlist youtube learned sew among skill along way make pattern poster board old sheet thrift store try everything committing using expensive material think always edge comfort discomfort come skill level sweet spot learning education call zone proximal development mean challenged overwhelmed building learned wow 's lot extensive newcomer cosplay community might think advice newbie cosplayers looking make mark newcomer three piece advice scared mess mean learned something work give direction try next idea always go back improve old costume original starscream cosplay eight year ago rebuilt time original piece left look way better reach cosplayers like u happy answer question offer advice learn lot follow cosplayers social medium post lot process video how-tos ask question make list know sound boring best way make sure plan everything cosplay need thing see character wearing think made item closet available thrift store need make know even big project feel doable 'm sure 've noticed like playfully poke jab class choice rest destiny community definitely jump fun banter well 're 's go-to class aggressively prays say titan even though clearly already stated hunter hunter dodging regret get upset dodge idea plus dodging reloads melee melee turn invisible could better please nerf assassin cowl lol titan dodge-like ability arc actually started using titan bit still hunter go-to know touch looking portfolio interact community seem like absolute blast around convention favorite memory cosplay community one darker moment willing share two favorite memory one cosplaying starscream kid bought transformer figure con came basically started playing giant action figure making figure fight moving arm pretending shoot missile falling dramatically slow motion punched cute memory people reaction smallen usually see whole picture eliksni first notice baby everyone loses mind seen grown men squeal cute smallen truly gift universe two-second shot beyond light trailer everything needed life sealed deal next cosplay would darker moment besides physically uncomfortable cosplays people keep opinion nice tell cosplayer hate character even like hate character costume cool cosplayers pour hundred dollar hour character obviously love way living fantasy hour kind silly take personally also commenting cosplayer body even positive compliment kind creepy keep compliment focused costume craftsmanship please lightfall final shape horizon feeling amped going memory lane raise question favorite thing universe guardian far clan moment favorite cutscene spoke really hard pick becoming friend alien huge something hoped long time love misraaks caiatl love seeing people around tower h e l something found really satisfying game mission shadowkeep could find lost item eris fireteam bring back true memory seeing nightmare around decrease number seeing look le tired rewarding lol worth grindy mission speaking new could add anything wanted game anything big small would like save loadouts mod really wish could save fashion loadouts set ornament shaders could save swap would nice since talking fashion maybe could vendor could change character appearance bungie something texture exo cool star paint barely visible like change color make stand dream subclass since one darkness subclass presumably course speculating think blight might neat shoutout witherhoard beloved since darkness mind wish would awesome idea would make wish ability combat think thematically lore-wise would cool seriously thank much taking time chat u let go anyone want shout community focus also people find support work going forward huge shoutout brother tom got destiny kid cosplay club school also shoutout transformer cosplay family consplay superior everywhere creature feature cosplay wrap latest community focus missed last one incredible alltimebrianna go check right make sure show claire love join manifesting attempting take caiatl cosplay future let dream dream ok let go know drill make sure drinking water indulging self-care always leading kindest foot forward see next time friend go lt hippy\""
      ]
     },
     "execution_count": 16,
     "metadata": {},
     "output_type": "execute_result"
    }
   ],
   "source": [
    "df.iloc[0][\"preproc_text\"]"
   ]
  }
 ],
 "metadata": {
  "kernelspec": {
   "display_name": "Python 3",
   "language": "python",
   "name": "python3"
  },
  "language_info": {
   "codemirror_mode": {
    "name": "ipython",
    "version": 3
   },
   "file_extension": ".py",
   "mimetype": "text/x-python",
   "name": "python",
   "nbconvert_exporter": "python",
   "pygments_lexer": "ipython3",
   "version": "3.11.3"
  },
  "orig_nbformat": 4
 },
 "nbformat": 4,
 "nbformat_minor": 2
}
