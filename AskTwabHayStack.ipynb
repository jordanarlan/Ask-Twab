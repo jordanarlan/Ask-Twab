{
 "cells": [
  {
   "cell_type": "code",
   "execution_count": 1,
   "metadata": {},
   "outputs": [
    {
     "name": "stdout",
     "output_type": "stream",
     "text": [
      "An error occurred: 'NextPaginationToken'\n"
     ]
    }
   ],
   "source": [
    "import requests\n",
    "import os\n",
    "from importlib.machinery import SourceFileLoader\n",
    "import pandas as pd\n",
    "import logging\n",
    "import torch\n",
    "logging.basicConfig(format=\"%(levelname)s - %(name)s -  %(message)s\", level=logging.WARNING)\n",
    "logging.getLogger(\"haystack\").setLevel(logging.INFO)\n",
    "\n",
    "\n",
    "try:\n",
    "    config = SourceFileLoader(\"config\", \"config.py\").load_module()\n",
    "    os.environ['OPENAI_API_KEY'] = config.OPENAI_API_KEY\n",
    "\n",
    "    bungie_api_key = config.BUNGIE_API_KEY\n",
    "    endpoint = \"https://www.bungie.net/Platform/Content/Rss/NewsArticles/{pageToken}/\"\n",
    "    page_token = \"0\"\n",
    "    include_body = True\n",
    "    headers = {\n",
    "        \"X-API-Key\": bungie_api_key\n",
    "    }\n",
    "    params = {\n",
    "        \"includebody\": include_body\n",
    "    }\n",
    "\n",
    "    results = []\n",
    "\n",
    "    while page_token is not None:\n",
    "        response = requests.get(endpoint.format(pageToken=page_token), headers=headers, params=params)\n",
    "\n",
    "        if response.status_code == 200:\n",
    "            json_response = response.json()\n",
    "            if 'NewsArticles' in json_response['Response']:\n",
    "                results.extend(json_response['Response']['NewsArticles'])\n",
    "            else:\n",
    "                print(\"No NewsArticles found in the response.\")\n",
    "                break\n",
    "            page_token = json_response['Response']['NextPaginationToken']\n",
    "        else:\n",
    "            print(\"Error:\", response.status_code)\n",
    "            print(\"Response:\", response.text)\n",
    "            break\n",
    "except Exception as e:\n",
    "    print(\"An error occurred:\", str(e))\n"
   ]
  },
  {
   "cell_type": "code",
   "execution_count": 2,
   "metadata": {},
   "outputs": [
    {
     "data": {
      "text/plain": [
       "{'Title': 'Community Focus - CBGray',\n",
       " 'Link': '/7/en/News/Article/community_focus_cbgray',\n",
       " 'PubDate': '2023-06-09T18:00:00Z',\n",
       " 'UniqueIdentifier': 'blt72c4f395173afe36',\n",
       " 'Description': 'Just a self-proclaimed potato grateful to be given a chance.',\n",
       " 'HtmlContent': '<p><span></span>Happy time zones Guardians, and welcome to this week\\'s Community Focus. Today we are hanging out with CBgrey, a content creator, self-proclaimed potato, and a PvE shepherd. So, let’s get into it.&nbsp;&nbsp;</p><p><strong>Hi CB! First up, let’s talk about who you are, what your pronouns are, and what got you into gaming in the first place?</strong>&nbsp;</p><p>My name is Christian or CBgray but most just call me CB for short! My pronouns are he/him.&nbsp;&nbsp;</p><p>The name CBgray was a name that some of my friends called me growing up, that was just my first and middle initial and my last name! I am from Virginia originally, just outside of Washington, D.C., which will always be home to me. About a year ago I moved to Austin, Texas.&nbsp;&nbsp;</p><p>Growing up in the 90s, what really got me into gaming was Nintendo. There was something so magical about playing Pokémon on the Gameboy Color and seeing the birth of 3D gaming with games like Mario 64. I think that is what really birthed my love for video games. As I continued to get older, I had a dream to work as a game developer for Nintendo. In terms of what got me into content creation, I always wanted to try YouTube and even took a few stabs at it in high school with my cousin, Lena, and in college with one of my best friends and roommates, Gramm. Nothing really stuck though until I discovered Destiny.&nbsp;&nbsp;</p><p><strong>Oh, I love a good cliff hanger. So how </strong><em><strong>did </strong></em><strong>you find Destiny?</strong>&nbsp;</p><p>I saw Destiny for the first time during E3. I thought the game looked like nothing I had seen before, and I recognized the name Bungie from Halo. However, despite that, I had never really played an FPS game seriously so I never would have imagined that I would fall in love with the game and still be playing it almost 10 years later. My brother, Evan, got the game on PS3 and I got the game on PS4 when it came out. I remember I was trying to win the white PS4 bundle in the Taco Bell promotion from way back when. When I started playing the game, I was hooked. I played through the whole campaign in a night with one of my best friends, Lamar, with two TV\\'s side by side and we played all night. I had never experienced anything in gaming like that.&nbsp;&nbsp;</p><p>Around the time I started my channel, near the end of the Taken King expansion, I was going through a rough time, and I just wanted to try to create a family and a space where other people that enjoy Destiny could come together and help each other out with things inside the game and outside of the game. I had completely fallen in love with the game at this point and sank more hours in it during college than I probably should have with the amount of computer science work I had at the time, but I was really just hoping to form friendships with others and just provide an atmosphere where we could take our minds off things.&nbsp;&nbsp;</p><p>Never in my wildest dreams did I ever think that would happen, so I\\'m really grateful. I can\\'t thank my friends and family for believing in me when it could have looked like I was just wasting my time. I’m especially thankful to my mom who, without even knowing what it was, bought me an Elgato in 2016 when I couldn\\'t afford it.&nbsp;Streaming was still a new concept in 2016 so I really appreciated their support. Thank you mom, dad, Evan, Kashema, Lamar, Tyler, Quan, Gramm, Nate, and so many others.&nbsp;</p><p>&nbsp;</p><p><strong>Through good and sad times, Destiny seems to be a way a lot of people find their community, and it’s really neat to hear about another one forming.&nbsp;</strong>&nbsp;</p><p><strong>Speaking of building a community, you recently left your job to do content creation full time. How had that changed the way you play the game, create content, and interact with your community?</strong>&nbsp;</p><p>I did! It was a scary leap, but it has been one of the best decisions I have ever made. Honestly, I don\\'t think it changed the way I play the game as much as it\\'s allowed me to enhance what I was already doing, just putting my 100 percent info focusing on interacting with our community and making content on the game we all love. I have always wanted to see what my content could be like if I could just give it my best shot, so I am very grateful to the community for putting me in a position to do this as a job and to do what I love.&nbsp;&nbsp;</p><p><strong>That’s really great to hear, keep on keeping on CB!&nbsp;</strong>&nbsp;</p><p><strong>So, what type of content do you tend to focus on? Are you a PvE shepherd or a PvP no scope 360 kind of player?&nbsp;</strong>&nbsp;</p><p>For streams I mainly focus on helping players with PvE related activities! For example, I have 900 total helps for the Whisper and Zero Hour Missions. I <em>love</em> those missions so much, but even more than that, I love helping players cross the finish line on activities that they may have been struggling with or maybe just couldn\\'t find players to game with. This type of content will always hold such a special place in my heart for myself and many others that I met along the way like Pause, Skarrow9, and so many others in the YouTube streaming family.&nbsp;</p><p>In terms of YouTube videos, we started off making helpful guides for players in the game as well as theory videos (as we would call them) where I along with Vet, Sweat, and so many others would hunt for things like Whisper of the Worm before it was out. More recently on YouTube, my focus over the past few years has been short-form content where I really just am trying to put a smile on people\\'s faces for 60 seconds. It\\'s mainly just a mixture of me being a goofball and trying to provide players with quick helpful information. That has kind of been my main niche for videos since Covid. I love these videos and it makes me happy to see people\\'s reactions to them.&nbsp;&nbsp;</p><p>My next focus is on my Pokémon styled Destiny challenges, but we will talk more about that later!&nbsp;</p><p><strong>Before we get to that, we have to know what your main character is, and your favorite loadout.</strong>&nbsp;</p><p>Titan for sure, it\\'s been my main character since 2014. &nbsp;</p><p>My favorite loadout is a hard one but I\\'ll just name some of my favorite things over the years. For armor, Lion Rampants (my babies), Twilight Garrison, and Precious Scars with the ornament to make it the tinfoil hat. (Important in our community.)&nbsp;&nbsp;</p><p>For weapons, the D1 Touch of Malice was my favorite gun in the game. Some other guns include Whisper of the Worm, Legend of Acrius in Vanilla D2, and the Duke Hand Cannon.&nbsp;</p><p><strong>Alright, we’ve got a few questions left, let’s hear about the vibe of your channel for people who might want to stop by.</strong>&nbsp;</p><p>The vibe my channel brings is a chill escape. I try to make sure the channel feels like a place where you can just come to have a good time, feel welcomed, and not have to worry about anything else that might be going on. Just a place to hopefully leave with a smile on your face. Our community has lifted my spirits so many times that I just hope that our channel can reciprocate that for others who may need it.&nbsp;&nbsp;</p><p><strong>Love that, truly.&nbsp;</strong>&nbsp;</p><p><strong>What is something you wish you knew before starting Destiny?&nbsp;&nbsp;</strong>&nbsp;</p><p>I feel like there are things that probably could have been beneficial to know before starting Destiny, like maybe having a deeper understanding about FPS games like Halo and other games or the realm of possibilities with content creation. I genuinely didn\\'t think I had much to offer to the community. That deterred me from starting sooner. Even to have this conversation with y’all feels like I am dreaming. So maybe if I knew what was possible, I would have started earlier. But with that being said, I\\'m glad I didn\\'t know because it allowed me to follow the exact path that led me here and I wouldn\\'t change that for the world. Also not having that much knowledge in the FPS space made for such a new and fun journey in gaming for me that felt so new.&nbsp;&nbsp;</p><p>So, I guess my actual answer is, I\\'m happy with what I knew.&nbsp;&nbsp;</p><p><strong>That is a rad way to think about it. Having an understanding would have been helpful at the time, but it would have changed your experience.&nbsp;</strong>&nbsp;</p><p><strong>So, what’s next for you and your community? Anything fun coming up or any events you are particularly excited for?</strong>&nbsp;</p><p>More Pokémon challenges in Destiny 2! I just recently did an ExoticDex challenge (what I call it) where I did a subathon stream where I collected all 222 obtainable Exotics in one stream! It took 16 days, but it was one of my favorite streams ever! I plan to bring more challenges like these to our community over the coming months on Twitch and YouTube side! I\\'m so excited and really feel a fire to try to innovate as much as and I am grateful to our community for putting me in a position to give it my all! Also, thank you to my team working behind the scenes for making that event possible.&nbsp;</p><p><strong>That is absolutely wild CB. Such a neat thing to come up with.&nbsp;</strong>&nbsp;</p><p><strong>Now having the experience that you do with Destiny, what do you want to tell any of the New Lights out there reading this?&nbsp;</strong>&nbsp;</p><p>Don\\'t stress and play the game how you want to play it. There are so many fun memories to make in this game and that should be the focus. Everything else will fall into place as you go. Also realize that some of the friends you make in game will be friends you have for life. Never in my wildest dreams did I think I would be living with two people I met through Destiny, but I couldn\\'t be happier to now share a home with Sweat and Evan. It blows my mind how much Destiny has changed all of our lives. It\\'s just the power and magic of Destiny.&nbsp;</p><p><strong>Where can people find you?&nbsp;&nbsp;</strong>&nbsp;</p><ul><li><a href=\"https://www.youtube.com/@cbgray/featured\" target=\"_blank\">YouTube</a></li><li><a href=\"https://www.twitch.tv/cbgray\" target=\"_blank\">Twitch</a></li><li><a href=\"https://twitter.com/cbgray_\" target=\"_blank\">Twitter</a></li><li><a href=\"https://www.tiktok.com/@cbgrayyt?lang=en\" target=\"_blank\">Tiktok</a></li><li><a href=\"https://www.instagram.com/cbgrayyt/\" target=\"_blank\">Instagram</a></li></ul><p><strong>Anything else you want to add? \\u202f&nbsp;</strong>&nbsp;</p><p>I just need to give a big thank you to our community. I would not be having this interview without them. I want to thank you, and everyone at Bungie for creating a game and a community that has changed my life, I\\'m really grateful. I thank god every day that I picked up this game and got to meet all the amazing people I\\'ve gotten to meet. This game and community has saved my life. A million thank you’s wouldn\\'t be enough. I\\'m grateful for the opportunity. To anyone discouraged with anything in life, <em>follow</em> your dreams and don\\'t give up. Anything is truly possible with patience and persistence.&nbsp;&nbsp;</p><p>__________________________________________________________________________________________________________________</p><p>And there we have it, this week’s Community Focus. Be sure to swing by CB’s channels and give him a follow if you want to check out his content for yourself. And don’t forget to check out our <a href=\"https://www.bungie.net/7/en/News/article/bungie-aapi-history-month-cf\" target=\"_blank\">Community Focus with Asians@Bungie and Plumli</a>. Thanks for hanging out with us!&nbsp;&nbsp;</p><p>Stay Crafty,&nbsp;</p><p>Sam&nbsp;</p><p><span></span><span>&nbsp;</span></p>',\n",
       " 'ImagePath': 'https://images.contentstack.io/v3/assets/blte410e3b15535c144/blt6bd1f225c6836688/64835960c326810e8c55c073/CB_Gray_Header.png',\n",
       " 'OptionalMobileImagePath': 'https://images.contentstack.io/v3/assets/blte410e3b15535c144/bltcc4b80500848f45e/648359730b7fca4f5f62c52e/CB_Gray_Header.png'}"
      ]
     },
     "execution_count": 2,
     "metadata": {},
     "output_type": "execute_result"
    }
   ],
   "source": [
    "results[0]"
   ]
  },
  {
   "cell_type": "code",
   "execution_count": 4,
   "metadata": {},
   "outputs": [],
   "source": [
    "# Convert the results list into a DataFrame\n",
    "df = pd.DataFrame(results)\n"
   ]
  },
  {
   "cell_type": "code",
   "execution_count": 5,
   "metadata": {},
   "outputs": [
    {
     "data": {
      "text/plain": [
       "0               This Week In Destiny - 06/08/2023\n",
       "1                        Destiny 2 Hotfix 6/02/23\n",
       "2                This Week At Bungie - 06/01/2023\n",
       "3                        Destiny 2 Update 7.1.0.1\n",
       "4                        Destiny 2 Hotfix 5/26/23\n",
       "5                This Week at Bungie - 05/25/2023\n",
       "6     Destiny 2 Update 7.1.0 - Season of the Deep\n",
       "7                This Week At Bungie - 05/18/2023\n",
       "8                 This Week At Bungie – 5/11/2023\n",
       "9                        Destiny 2 Hotfix 7.0.5.3\n",
       "10               This Week at Bungie - 05/04/2023\n",
       "11                       Destiny 2 Hotfix 7.0.5.2\n",
       "12               This Week At Bungie – 04/27/2023\n",
       "13          Destiny 2 Artist Reference Collection\n",
       "14                       Destiny 2 Hotfix 7.0.5.1\n",
       "15                This Week At Bungie - 4/20/2023\n",
       "16                       Destiny 2 Update 7.0.5.0\n",
       "17                This Week at Bungie - 4/13/2023\n",
       "18               This Week At Bungie - 04/06/2023\n",
       "19               This Week at Bungie - 03/30/2023\n",
       "20                       Destiny 2 Hotfix 7.0.0.7\n",
       "21                       Destiny 2 Hotfix 7.0.0.6\n",
       "22               This Week At Bungie – 03/23/2023\n",
       "23               This Week At Bungie - 03/16/2023\n",
       "24                       Destiny 2 Hotfix 7.0.0.5\n",
       "Name: Title, dtype: object"
      ]
     },
     "execution_count": 5,
     "metadata": {},
     "output_type": "execute_result"
    }
   ],
   "source": [
    "df = df[df['Title'].str.startswith(('This Week', 'Destiny 2'))]\n",
    "df = df.iloc[0:25].reset_index()\n",
    "# Print the filtered DataFrame\n",
    "df['Title']"
   ]
  },
  {
   "cell_type": "code",
   "execution_count": 6,
   "metadata": {},
   "outputs": [
    {
     "data": {
      "text/plain": [
       "'<p>This Week in Destiny... yeah, you read that right. As we mentioned <a href=\"https://www.bungie.net/7/en/News/article/twab-may-25-2023\" target=\"_self\">a couple of weeks ago</a>, we are fully leaning into this becoming a Destiny-centric space going forward. More on that in a bit! Before we jump into it, let\\'s recap the contents of <a href=\"https://www.bungie.net/7/en/News/article/06_01_2023_twab\" target=\"_self\">the previous week</a>:</p><ul><li>Ghosts of the Deep rundown.</li><li>Bungie Rewards got new dungeon-themed merch.</li><li>Did you get your Marathon emblem?</li><li>You got new Prime Gaming loot.</li></ul><p>And here\\'s what we have for the first TWID ever:</p><ul><li>A new name for the TWAB.</li><li>Ready for a new Community Fashion Contest?</li><li>Grandmasters will be back on June 13.</li><li>And Supremacy, too.</li><li>You all owe Kalli an apology.</li><li>Preview of some 7.1.0.2 fixes.</li><li>Collaboration art!</li><li>The usual Player Support Report, and our AOTW and MOTW picks.</li></ul><h2>Rebranding the TWAB</h2><p>For as long as anyone can remember, there has been a weekly check-in between Bungie and our community. Back in <a href=\"https://www.bungie.net/7/en/News/article/44307\" target=\"_self\">February of 2016</a>, we rebranded the “Bungie Weekly Update” to “This Week At Bungie.” This was done primarily because, at the time, there was a lot of confusion when a live game put something out with the name “Update” and there weren’t patch notes to read.</p><p>Fast forward to today, and it’s time once again to evolve the name of our weekly ritual. Don’t fret, our weekly check in for Destiny news and community highlights will continue! The main change here is that we will be keeping things Destiny-specific, so we need a name that reflects that since Bungie has now publicly <a href=\"https://www.bungie.net/7/en/News/article/slrecap\" target=\"_self\">announced a new game</a>.</p><p>Starting today, the weekly Destiny blog will be named <strong>This Week in Destiny.</strong> As you may have noticed already, each week’s blog post will be announced on official Destiny social channels rather than on Bungie’s channels, and we’ll continue to drop the occasional standalone blog with in-depth details and insights from the dev team. Now that you know the new name and the reasoning behind it, you can do what you do best, Destiny Community: Meme away! But first, please join us in bidding farewell to the TWAB and welcoming the TWID.</p><h2>Put On Your Best Dress</h2><p>Fashion is the ultimate, true endgame. Matching the perfect textures, forms, and colors to express the right idea is not easy, so we want to reward those who succeed in such endeavors.</p><p>Given that Season of the Deep is all about how the scariest floors of the sea can also be the most beautiful, how Guardians are good at killing gods, but better at catching exotic fishes, and how even the most dangerous warmonger can break down a bit when recalling simpler times... Well, why not celebrate all that complexity with a good Community Fashion Contest?</p><p>We know you can express what Season of the Deep is all about with just five pieces of armor, . Don your drippiest designs and try out the most combinations, and of course, let us know with the <strong>#DrownInTheDrip</strong> hashtag for a chance to earn our very new and exclusive Prêt-à-porter fashion emblem. You have until June 15, so get to work, fashionistas!.</p><img asset_uid=\"blt638a6b18fe64f7b2\" src=\"https://images.contentstack.io/v3/assets/blte410e3b15535c144/blt638a6b18fe64f7b2/64808a139601bc428707efba/d2_136_Emblem-Social.jpg\"/><h2>Ready for Some Early Grandmaster Nightfalls?</h2><p>As we mentioned in our <a href=\"https://www.bungie.net/7/en/News/article/reflecting-on-lightfall\" target=\"_self\">”Reflecting on Lightfall” article</a>, Grandmaster Nightfalls will be available a bit earlier than usual during Season of the Deep. The reason for this is simple: without the seasonal Power climb, and with the requirement level changes we added during Season 19, we believe we can successfully launch them earlier. Grandmasters are coming on Week 4, and that means you\\'ll have a chance to earn Exotic materials and Adept weapons starting next Tuesday, June 13.</p><p>Note that this is only for the Weekly Grandmasters. The Conqueror gilding node is still planned to open in Week 7. So, get ready to face The Lightblade if you are aiming to get the Adept version of the Wendigo GL3 Heavy Grenade Launcher next week. And in case you are wondering, The Loaded Question Fusion Rifle and the Braytech Osprey Rocket Launcher will be featured in the following two weeks.</p><h2>Supremacy Enters the Relentless Rotator</h2><p>For those of you who got a taste of Supremacy during Guardian Games and wanted more, congratulations! Supremacy will be added to the Relentless rotator in the Crucible starting next week.</p><p>This Crucible game mode requires you to collect the crests dropped by the enemies you take down to score for your team, while you also deny the enemy their points by picking up crests from fallen allies. Show everyone who’s in charge here and secure each kill. While you earn ranks, you might even get that renewed Randy\\'s Throwing Knife Kinetic Scout Rifle that Shaxx has brought back into the loot pool. Keep an eye on Cascade Point or Box Breathing for this one... Trust me.</p><h2>You Owe Kalli an Apology</h2><p>People, we need to talk. Why? What did she ever do to you? What\\'s your problem with murderous, Taken Techeuns? We know The Supremacy got Rewind Rounds, that Techeun Force has a sick PvP roll and that Reconstruction and Bait and Switch make Apex Predator a top-tier option for DPS, but that\\'s no reason to put Kalli into such a situation!</p><p>A lot of you stepped into every plate to get double rewards, while others just cursed their aim over how many Golden Gun or Sleeper Simulant shots they missed... Either way, the outcome would be the same: a lot of good loot. No wonder players spent 2.17 million hours in the Last Wish raid during the first week of Season of the Deep. That\\'s not only more than 247 years of play time, but also the single highest week of total hours ever engaged in the activity... even bigger than the Last Wish\\'s launch week back in 2018!</p><p>We hope you consider it time well spent. Because I do.</p><h2>Some Fixes Coming Next Week</h2><p>The Destiny 2 Update 7.1.0.2 will be deployed on June 13. Although we\\'ll have our usual patch notes available the moment it\\'s available, we wanted to give you a preview of some of the implemented fixes.</p><p>First, a reminder that the extra reward awarded by the weekly Last Wish quest, the one handed by Hawthorne, was not intentional, so <a href=\"https://twitter.com/Destiny2Team/status/1664373758390566912\" target=\"_self\">it\\'s going away</a>. Starting Tuesday, you\\'ll get one Deepsight weapon from it, since that was always the plan. You\\'ll still earn at least another one every week, because the final chest after dumping Riven\\'s heart gives one per week and account. But you still have a few days until the fix is implemented, so if you want that extra reward, go for it.</p><p>Now, for a few Exotics\\' fixes. This update will reenable the Vesper of Radius, since it won\\'t have such explosive behavior with certain weapons anymore. Sunbracers will have their increased duration of Solar grenades restored. And after Saladin had a very long conversation with Kephri\\'s Horn, the strange interactions that this Titan Exotic Helmet allowed have been fixed, so it will also be reenabled.</p><p>Finally, to name a few other fixes coming: we also have one for the issue that allowed certain grenades to go through Barricades and Wards of Dawn, we are toning down the new Collective Action perk in PvP (10% damage buff instead of a 20%), and we are giving the new Mercurial Overreach Competitive Sniper Rifle a bigger reticle when scoping so it\\'s easier to use.</p><p>The rest of the patch notes for the 7.1.0.2 updates will be available on June 13.</p><h2>Keep That Art Coming</h2><p>Remember two weeks ago when&nbsp;<a href=\"https://www.bungie.net/7/en/News/article/twab-may-25-2023\" target=\"_self\">we announced a small art and cosplay contes</a>t to celebrate the collaboration between Destiny 2 and PlayStation? Well, we have some amazing submissions already, like these two below:</p><blockquote class=\"twitter-tweet\"><p dir=\"ltr\" lang=\"en\">\"Death can have me... When it earns me\"<br/><br/>image if some characters from PlayStation games became characters in Destiny. Who would you love to see?<a href=\"https://twitter.com/hashtag/Destiny2AOTW?src=hash&ref_src=twsrc%5Etfw\" target=\"_self\">#Destiny2AOTW</a> <a href=\"https://twitter.com/hashtag/Destiny2?src=hash&ref_src=twsrc%5Etfw\" target=\"_self\">#Destiny2</a> <a href=\"https://twitter.com/hashtag/Destiny2Art?src=hash&ref_src=twsrc%5Etfw\" target=\"_self\">#Destiny2Art</a> <a href=\"https://twitter.com/hashtag/DestinyTheGame?src=hash&ref_src=twsrc%5Etfw\" target=\"_self\">#DestinyTheGame</a> <a href=\"https://twitter.com/hashtag/GOW?src=hash&ref_src=twsrc%5Etfw\" target=\"_self\">#GOW</a> <a href=\"https://t.co/frim0WlEEC\" target=\"_self\">pic.twitter.com/frim0WlEEC</a></p>— BO (@BO_7aSSan597) <a href=\"https://twitter.com/BO_7aSSan597/status/1663591869815586828?ref_src=twsrc%5Etfw\" target=\"_self\">May 30, 2023</a></blockquote><p>&nbsp;</p><blockquote class=\"twitter-tweet\"><p dir=\"ltr\" lang=\"en\">To go with the Titan Kratos armor I made a matching Atreus Set!<a href=\"https://twitter.com/hashtag/Bungie?src=hash&ref_src=twsrc%5Etfw\" target=\"_self\">#Bungie</a> <a href=\"https://twitter.com/hashtag/Destiny2?src=hash&ref_src=twsrc%5Etfw\" target=\"_self\">#Destiny2</a> <a href=\"https://twitter.com/hashtag/Dresstiny?src=hash&ref_src=twsrc%5Etfw\" target=\"_self\">#Dresstiny</a><a href=\"https://twitter.com/hashtag/GodofWar?src=hash&ref_src=twsrc%5Etfw\" target=\"_self\">#GodofWar</a> <a href=\"https://twitter.com/hashtag/Destiny2Fashion?src=hash&ref_src=twsrc%5Etfw\" target=\"_self\">#Destiny2Fashion</a> <a href=\"https://twitter.com/Destiny2Team?ref_src=twsrc%5Etfw\" target=\"_self\">@Destiny2Team</a> <a href=\"https://twitter.com/DestinyTheGame?ref_src=twsrc%5Etfw\" target=\"_self\">@DestinyTheGame</a> <a href=\"https://t.co/3pwJLFj8Sw\" target=\"_self\">pic.twitter.com/3pwJLFj8Sw</a></p>— Amanda TheBeebo (@TheLadyBeebo) <a href=\"https://twitter.com/TheLadyBeebo/status/1661912732294103040?ref_src=twsrc%5Etfw\" target=\"_self\">May 26, 2023</a></blockquote><p>We love to see your creations, so please keep them coming. You have until the end of June and each winner will earn the Art of the Week emblem and all the bragging rights in the world, of course.</p><h2>Player Support Report</h2><p><em>20,000 Screebs Under the Sea</em></p><img asset_uid=\"blt355cd313b88d8753\" src=\"https://images.contentstack.io/v3/assets/blte410e3b15535c144/blt355cd313b88d8753/6345dc2e2d122610be62fb2c/D2_DPS_Gif.gif\"/><p><a href=\"https://help.bungie.net/articles/13265980348564-Destiny-2-Year-6-Known-Issues-and-Vital-Information\" target=\"_self\">Known Issues List</a>&nbsp; |&nbsp;&nbsp;<a href=\"https://www.bungie.net/en/Forums/Topics/?tg=Help\" target=\"_self\">Help Forums</a>&nbsp; |&nbsp;&nbsp;<a href=\"https://twitter.com/BungieHelp\" target=\"_self\">Bungie Help Twitter</a>&nbsp;</p><h4><strong>TRIALS OF OSIRIS EMBLEM</strong></h4><p>&nbsp;The Dazzling Iridescence Trials emblem was meant to be rewarded to the best of the best, those who could go Flawless while earning a Flight of the Pigeon medal (lead in score for the entire game) in every win along the way. Ultimately, an issue caused this emblem to be awarded to anyone who made it to the Lighthouse at all which, while still a challenging endeavor, made seeing the emblem a little more common than we had hoped. In this upcoming patch, we will have a fix for this which is two-fold:</p><ul><li>Starting with Week 4’s Trials (June 16) the emblem will no longer drop from the Flawless chest for those who have not achieved the requirements on their way to the Lighthouse.</li><li>Those who already have the emblem (meaning those players who went Flawless in Week 1 or who go Flawless in this upcoming weekend) will be able to retain the emblem in their collections but will not be able to equip the emblem unless they complete the requirements AFTER the patch has gone live.</li></ul><p>We understand in some cases this will mean that people who rightfully earned the emblem must re-earn it a second time if they want to equip it, but we felt that this was a necessary step to retain the original intent of the emblem.</p><h4><strong>ADVANCED FOCUSING</strong></h4><p>Due to an issue causing Exotic focusing to not grant intended rewards, we have temporarily disabled Advanced Decryption focusing. Precision Decryption focusing will continue to be available as we investigate.</p><h4><strong>EVERVERSE INTERFACE</strong></h4><p>Some UI pricing elements in Eververse will be disabled with the release of 7.1.0.2. Note that the displayed price is the correct one.</p><h4><strong>KNOWN ISSUES</strong></h4><p>While we continue investigating various <a href=\"https://help.bungie.net/articles/13265980348564-Destiny-2-Year-6-Known-Issues-and-Vital-Information\" target=\"_self\">known issues</a>, here is a list of the latest issues that were reported to us in our <a href=\"https://www.bungie.net/en/Forums/Topics/?tg=Help\" target=\"_self\">#Help Forum</a>:</p><ul><li>Due to an issue the Kephri’s Horn exotic Titan helmet has been temporarily disabled.</li><li>The Helm of Saint-14 Exotic Titan helmet is not functioning as expected.</li><li>Players can get stuck outside of the final boss arena after self-reviving in the Ghosts of the Deep dungeon.</li><li>Spending Salvage Keys after a Salvage activity is not providing progress toward the \"Spend Salvage Keys\" Triumph and is instead progressing the \"Spend Deep Dive Keys\" Triumph.</li><li>The Bump in the Night Weapon Pattern Triumph requires the Season 17 Season Pass.</li><li>The Standard Fare bounty does not gain progress on Kinetic weapon kills.</li><li>The Warlock Courtier Longcoat chest ornament has a gap beneath the right arm.</li><li>The Verity’s Brow perk “The Fourth Magic” is not functioning correctly in PvP.</li><li>The New Pacific Epitaph Grenade Launcher is doing less damage than intended to Stasis crystals.</li></ul><p>For a full list of emergent issues in <em>Destiny 2</em>, players can review our <a href=\"https://help.bungie.net/articles/13265980348564-Destiny-2-Year-6-Known-Issues-and-Vital-Information\" target=\"_self\">Known Issues article</a>. Players who observe other issues should report them to our <a href=\"https://www.bungie.net/en/Forums/Topics/?tg=Help\" target=\"_self\">#Help forum</a>.</p><h2>You Gotta Work For It, Guardian</h2><img asset_uid=\"blt6173704a8449c46a\" src=\"https://images.contentstack.io/v3/assets/blte410e3b15535c144/blt6173704a8449c46a/6345dc2d90be9f1178379cdd/TWAB_MovieOfTheWeek_2020_Animated.gif\"/><p><strong>Hippy: </strong>An artist with synesthesia, a phenomenon that allows a blending of senses like the ability to hear color and feel sounds, took their unique lens of the world and turned it into art for fellow Guardians to enjoy. Titled The Fear of Dreams, here’s a really cool opportunity to see the world in a way that someone else does and how truly beautiful that really is.</p><p><strong>Movie of the Week</strong>: The Fear of Dreams</p><blockquote class=\"twitter-tweet\"><p dir=\"ltr\" lang=\"en\">🌙ONEIROPHOBIA // THE FEAR OF DREAMS.🌟<br/><br/>(I have synesthesia. I paint music. This time, I used Tilt Brush and an Oculus Rift to sculpt/paint the song to get a closer facsimile of what I perceive.) <a href=\"https://twitter.com/hashtag/Destiny2Art?src=hash&ref_src=twsrc%5Etfw\" target=\"_self\">#Destiny2Art</a> <a href=\"https://twitter.com/hashtag/AOTW?src=hash&ref_src=twsrc%5Etfw\" target=\"_self\">#AOTW</a> <a href=\"https://twitter.com/hashtag/MOTW?src=hash&ref_src=twsrc%5Etfw\" target=\"_self\">#MOTW</a> <a href=\"https://t.co/kaMhoSelHB\" target=\"_self\">pic.twitter.com/kaMhoSelHB</a></p>— Runesael L. de la Peña Flynn (@Runesael) <a href=\"https://twitter.com/Runesael/status/1663039914760454144?ref_src=twsrc%5Etfw\" target=\"_self\">May 29, 2023</a></blockquote><p><strong>Sam: </strong>Sometimes you want to be the very best, but it helps when you put in the extra work. Take these Guardians for example; couldn’t jump, couldn’t fight, and after... nope, not going to spoil it. Go check it out.</p><p><strong>Movie of the Week:</strong> Guardians try the Cloud Strider workout</p><iframe src=\"https://www.youtube.com/embed/iVF2Sk57ivE\" allowfullscreen=\"\" frameborder=\"0\"></iframe><h2>That\\'s One Big Bonk</h2><img asset_uid=\"blt43c6042af4116138\" src=\"https://images.contentstack.io/v3/assets/blte410e3b15535c144/blt43c6042af4116138/6345dc15b03b6c10c5ee0594/TWAB_ArtistOfTheWeek_2020_Animated_V2.gif\"/><p><strong>Ivan: </strong>Looks like a solid battle just finished and this Titan came out as victorious. As with many great paintings, you first spot the brightest object — the Titan\\'s hammer — and then find more and more details. Amazing #Destiny2AOTW. Well done!</p><p><strong>Art of the Week: </strong>The last Sunbreaker</p><blockquote class=\"twitter-tweet\"><p dir=\"ltr\" lang=\"en\">The last Sunbreaker<a href=\"https://twitter.com/hashtag/Destiny2?src=hash&ref_src=twsrc%5Etfw\" target=\"_self\">#Destiny2</a> <a href=\"https://twitter.com/hashtag/Destiny2Art?src=hash&ref_src=twsrc%5Etfw\" target=\"_self\">#Destiny2Art</a> <a href=\"https://twitter.com/hashtag/Destiny2AOTW?src=hash&ref_src=twsrc%5Etfw\" target=\"_self\">#Destiny2AOTW</a> <a href=\"https://t.co/YKzM3f6zBP\" target=\"_self\">pic.twitter.com/YKzM3f6zBP</a></p>— Max Vick (@MaksymPotselui1) <a href=\"https://twitter.com/MaksymPotselui1/status/1663711112150364161?ref_src=twsrc%5Etfw\" target=\"_self\">May 31, 2023</a></blockquote><p><strong>Timon: </strong>Look at this amazing fishing art! When I see this I just wanna drop everything and go out there grinding those Exotic fishies! Always remember: Less working, more fishing.</p><p><strong>Art of the Week: </strong>Go fish</p><blockquote class=\"twitter-tweet\"><p dir=\"ltr\" lang=\"en\">Made this birthday present for my sister <a href=\"https://twitter.com/MajaroniArt?ref_src=twsrc%5Etfw\" target=\"_self\">@MajaroniArt</a> who had her birthday yesterday 🥳\\U0001fa77💜<br/>Had a lot of fun making this 😁👍<a href=\"https://twitter.com/hashtag/Destiny2Art?src=hash&ref_src=twsrc%5Etfw\" target=\"_self\">#Destiny2Art</a> <a href=\"https://twitter.com/hashtag/Destiny2AOTW?src=hash&ref_src=twsrc%5Etfw\" target=\"_self\">#Destiny2AOTW</a> <a href=\"https://twitter.com/hashtag/Destiny2?src=hash&ref_src=twsrc%5Etfw\" target=\"_self\">#Destiny2</a> <a href=\"https://twitter.com/hashtag/DestinyTheGame?src=hash&ref_src=twsrc%5Etfw\" target=\"_self\">#DestinyTheGame</a> <a href=\"https://twitter.com/hashtag/Destiny2Fishing?src=hash&ref_src=twsrc%5Etfw\" target=\"_self\">#Destiny2Fishing</a> <a href=\"https://twitter.com/hashtag/DigitalArtist?src=hash&ref_src=twsrc%5Etfw\" target=\"_self\">#DigitalArtist</a> <a href=\"https://twitter.com/hashtag/DigitalArt?src=hash&ref_src=twsrc%5Etfw\" target=\"_self\">#DigitalArt</a> <a href=\"https://t.co/6ObwQLcXsq\" target=\"_self\">pic.twitter.com/6ObwQLcXsq</a></p>— Pickles ✨Comms open!✨ (@xPickles77x) <a href=\"https://twitter.com/xPickles77x/status/1663108586539548672?ref_src=twsrc%5Etfw\" target=\"_self\">May 29, 2023</a></blockquote><p><strong>Bonus AOTW:&nbsp;</strong>MY BROTHER, DEAD!!??</p><blockquote class=\"twitter-tweet\"><p dir=\"ltr\" lang=\"en\">BLASPHEMY. BLASPHEMY!<a href=\"https://twitter.com/hashtag/Destiny2?src=hash&ref_src=twsrc%5Etfw\" target=\"_self\">#Destiny2</a> <a href=\"https://twitter.com/hashtag/Destiny2Art?src=hash&ref_src=twsrc%5Etfw\" target=\"_self\">#Destiny2Art</a> <a href=\"https://twitter.com/hashtag/Destiny2AOTW?src=hash&ref_src=twsrc%5Etfw\" target=\"_self\">#Destiny2AOTW</a> <a href=\"https://twitter.com/hashtag/Destiny?src=hash&ref_src=twsrc%5Etfw\" target=\"_self\">#Destiny</a> <a href=\"https://twitter.com/hashtag/DestinyTheGame?src=hash&ref_src=twsrc%5Etfw\" target=\"_self\">#DestinyTheGame</a> <a href=\"https://twitter.com/Bungie?ref_src=twsrc%5Etfw\" target=\"_self\">@Bungie</a> <a href=\"https://twitter.com/DestinyTheGame?ref_src=twsrc%5Etfw\" target=\"_self\">@DestinyTheGame</a> <a href=\"https://t.co/vYKcSGfFLs\" target=\"_self\">pic.twitter.com/vYKcSGfFLs</a></p>— AliveWake (@AliveWake) <a href=\"https://twitter.com/AliveWake/status/1663277251310366723?ref_src=twsrc%5Etfw\" target=\"_self\">May 29, 2023</a></blockquote><hr/><p>Another week that goes by, and it\\'s almost summer around here. Or winter, for those of you in the southern hemisphere. We are deep into Season of the Deep and there\\'s still much to uncover from under the methane seas.</p><p>Methane, what a thing, by the way. I checked the other day and liquid methane has a temperature range between 91 and 112 kelvins, which makes me think those new Guardian armor sets not only look amazing, but also have some pretty insane heating systems. And s<a href=\"https://wallpaperaccess.com/full/94009.jpg\" target=\"_blank\">p</a>eaking of heat, how can Solar grenades scorch stuff under such extreme circumstances, or Stasis crystals even hold their structure under such pressure? Anyway, transmat firing!</p><p></p><p><strong>‘Hasta Luego’</strong></p><p><strong>Br1 &nbsp;</strong></p>'"
      ]
     },
     "execution_count": 6,
     "metadata": {},
     "output_type": "execute_result"
    }
   ],
   "source": [
    "df[\"HtmlContent\"].iloc[0]"
   ]
  },
  {
   "cell_type": "code",
   "execution_count": 21,
   "metadata": {},
   "outputs": [
    {
     "name": "stdout",
     "output_type": "stream",
     "text": [
      "this week in destiny yeah, you read that right. as we mentioned a couple of weeks ago, we are fully leaning into this becoming a destiny-centric space going forward. more on that in a bit! before we jump into it, let's recap the contents of the previous week: ghosts of the deep rundown. bungie rewards got new dungeon-themed merch. did you get your marathon emblem? you got new prime gaming loot. and here's what we have for the first twid ever: a new name for the twab. ready for a new community fashion contest? grandmasters will be back on june 13. and supremacy, too. you all owe kalli an apology. preview of some 7.1.0.2 fixes. collaboration art! the usual player support report, and our aotw and motw picks. rebranding the twabfor as long as anyone can remember, there has been a weekly check-in between bungie and our community. back in february of 2016, we rebranded the “bungie weekly update” to “this week at bungie.” this was done primarily because, at the time, there was a lot of confusion when a live game put something out with the name “update” and there weren’t patch notes to read. fast forward to today, and it’s time once again to evolve the name of our weekly ritual. don’t fret, our weekly check in for destiny news and community highlights will continue! the main change here is that we will be keeping things destiny-specific, so we need a name that reflects that since bungie has now publicly announced a new game. starting today, the weekly destiny blog will be named this week in destiny. as you may have noticed already, each week’s blog post will be announced on official destiny social channels rather than on bungie’s channels, and we’ll continue to drop the occasional standalone blog with in-depth details and insights from the dev team. now that you know the new name and the reasoning behind it, you can do what you do best, destiny community: meme away! but first, please join us in bidding farewell to the twab and welcoming the twid. put on your best dressfashion is the ultimate, true endgame. matching the perfect textures, forms, and colors to express the right idea is not easy, so we want to reward those who succeed in such endeavors. given that season of the deep is all about how the scariest floors of the sea can also be the most beautiful, how guardians are good at killing gods, but better at catching exotic fishes, and how even the most dangerous warmonger can break down a bit when recalling simpler times well, why not celebrate all that complexity with a good community fashion contest? we know you can express what season of the deep is all about with just five pieces of armor, . don your drippiest designs and try out the most combinations, and of course, let us know with the #drowninthedrip hashtag for a chance to earn our very new and exclusive prêt-à-porter fashion emblem. you have until june 15, so get to work, fashionistas!. ready for some early grandmaster nightfalls? as we mentioned in our ”reflecting on lightfall” article, grandmaster nightfalls will be available a bit earlier than usual during season of the deep. the reason for this is simple: without the seasonal power climb, and with the requirement level changes we added during season 19, we believe we can successfully launch them earlier. grandmasters are coming on week 4, and that means you'll have a chance to earn exotic materials and adept weapons starting next tuesday, june 13. note that this is only for the weekly grandmasters. the conqueror gilding node is still planned to open in week 7. so, get ready to face the lightblade if you are aiming to get the adept version of the wendigo gl3 heavy grenade launcher next week. and in case you are wondering, the loaded question fusion rifle and the braytech osprey rocket launcher will be featured in the following two weeks. supremacy enters the relentless rotatorfor those of you who got a taste of supremacy during guardian games and wanted more, congratulations! supremacy will be added to the relentless rotator in the crucible starting next week. this crucible game mode requires you to collect the crests dropped by the enemies you take down to score for your team, while you also deny the enemy their points by picking up crests from fallen allies. show everyone who’s in charge here and secure each kill. while you earn ranks, you might even get that renewed randy's throwing knife kinetic scout rifle that shaxx has brought back into the loot pool. keep an eye on cascade point or box breathing for this one trust me. you owe kalli an apologypeople, we need to talk. why? what did she ever do to you? what's your problem with murderous, taken techeuns? we know the supremacy got rewind rounds, that techeun force has a sick pvp roll and that reconstruction and bait and switch make apex predator a top-tier option for dps, but that's no reason to put kalli into such a situation! a lot of you stepped into every plate to get double rewards, while others just cursed their aim over how many golden gun or sleeper simulant shots they missed either way, the outcome would be the same: a lot of good loot. no wonder players spent 2.17 million hours in the last wish raid during the first week of season of the deep. that's not only more than 247 years of play time, but also the single highest week of total hours ever engaged in the activity even bigger than the last wish's launch week back in 2018! we hope you consider it time well spent. because i do. some fixes coming next weekthe destiny 2 update 7.1.0.2 will be deployed on june 13. although we'll have our usual patch notes available the moment it's available, we wanted to give you a preview of some of the implemented fixes. first, a reminder that the extra reward awarded by the weekly last wish quest, the one handed by hawthorne, was not intentional, so it's going away. starting tuesday, you'll get one deepsight weapon from it, since that was always the plan. you'll still earn at least another one every week, because the final chest after dumping riven's heart gives one per week and account. but you still have a few days until the fix is implemented, so if you want that extra reward, go for it. now, for a few exotics' fixes. this update will reenable the vesper of radius, since it won't have such explosive behavior with certain weapons anymore. sunbracers will have their increased duration of solar grenades restored. and after saladin had a very long conversation with kephri's horn, the strange interactions that this titan exotic helmet allowed have been fixed, so it will also be reenabled. finally, to name a few other fixes coming: we also have one for the issue that allowed certain grenades to go through barricades and wards of dawn, we are toning down the new collective action perk in pvp (10% damage buff instead of a 20%), and we are giving the new mercurial overreach competitive sniper rifle a bigger reticle when scoping so it's easier to use. the rest of the patch notes for the 7.1.0.2 updates will be available on june 13. keep that art comingremember two weeks ago when we announced a small art and cosplay contest to celebrate the collaboration between destiny 2 and playstation? well, we have some amazing submissions already, like these two below:\"death can have me when it earns me\"image if some characters from playstation games became characters in destiny. who would you love to see?#destiny2aotw #destiny2 #destiny2art #destinythegame #gow pic. twitter. com/frim0wleec— bo (_7assan597) may 30, 2023 to go with the titan kratos armor i made a matching atreus set!#bungie #destiny2 #dresstiny#godofwar #destiny2fashion 2team  pic. twitter. com/3pwjlfj8sw— amanda thebeebo () may 26, 2023we love to see your creations, so please keep them coming. you have until the end of june and each winner will earn the art of the week emblem and all the bragging rights in the world, of course. player support report20,000 screebs under the seaknown issues list  |  help forums  |  bungie help twitter trials of osiris emblem the dazzling iridescence trials emblem was meant to be rewarded to the best of the best, those who could go flawless while earning a flight of the pigeon medal (lead in score for the entire game) in every win along the way. ultimately, an issue caused this emblem to be awarded to anyone who made it to the lighthouse at all which, while still a challenging endeavor, made seeing the emblem a little more common than we had hoped. in this upcoming patch, we will have a fix for this which is two-fold: starting with week 4’s trials (june 16) the emblem will no longer drop from the flawless chest for those who have not achieved the requirements on their way to the lighthouse. those who already have the emblem (meaning those players who went flawless in week 1 or who go flawless in this upcoming weekend) will be able to retain the emblem in their collections but will not be able to equip the emblem unless they complete the requirements after the patch has gone live. we understand in some cases this will mean that people who rightfully earned the emblem must re-earn it a second time if they want to equip it, but we felt that this was a necessary step to retain the original intent of the emblem. advanced focusingdue to an issue causing exotic focusing to not grant intended rewards, we have temporarily disabled advanced decryption focusing. precision decryption focusing will continue to be available as we investigate. eververse interfacesome ui pricing elements in eververse will be disabled with the release of 7.1.0.2. note that the displayed price is the correct one. known issueswhile we continue investigating various known issues, here is a list of the latest issues that were reported to us in our #help forum: due to an issue the kephri’s horn exotic titan helmet has been temporarily disabled. the helm of saint-14 exotic titan helmet is not functioning as expected. players can get stuck outside of the final boss arena after self-reviving in the ghosts of the deep dungeon. spending salvage keys after a salvage activity is not providing progress toward the \"spend salvage keys\" triumph and is instead progressing the \"spend deep dive keys\" triumph. the bump in the night weapon pattern triumph requires the season 17 season pass. the standard fare bounty does not gain progress on kinetic weapon kills. the warlock courtier longcoat chest ornament has a gap beneath the right arm. the verity’s brow perk “the fourth magic” is not functioning correctly in pvp. the new pacific epitaph grenade launcher is doing less damage than intended to stasis crystals. for a full list of emergent issues in destiny 2, players can review our known issues article. players who observe other issues should report them to our #help forum. you gotta work for it, guardianhippy: an artist with synesthesia, a phenomenon that allows a blending of senses like the ability to hear color and feel sounds, took their unique lens of the world and turned it into art for fellow guardians to enjoy. titled the fear of dreams, here’s a really cool opportunity to see the world in a way that someone else does and how truly beautiful that really is. movie of the week: the fear of dreams🌙oneirophobia // the fear of dreams.🌟(i have synesthesia. i paint music. this time, i used tilt brush and an oculus rift to sculpt/paint the song to get a closer facsimile of what i perceive.) #destiny2art #aotw #motw pic. twitter. com/kamhoselhb— runesael l. de la peña flynn () may 29, 2023sam: sometimes you want to be the very best, but it helps when you put in the extra work. take these guardians for example; couldn’t jump, couldn’t fight, and after nope, not going to spoil it. go check it out. movie of the week: guardians try the cloud strider workoutthat's one big bonkivan: looks like a solid battle just finished and this titan came out as victorious. as with many great paintings, you first spot the brightest object — the titan's hammer — and then find more and more details. amazing #destiny2aotw. well done! art of the week: the last sunbreakerthe last sunbreaker#destiny2 #destiny2art #destiny2aotw pic. twitter. com/ykzm3f6zbp— max vick (1) may 31, 2023timon: look at this amazing fishing art! when i see this i just wanna drop everything and go out there grinding those exotic fishies! always remember: less working, more fishing. art of the week: go fishmade this birthday present for my sister  who had her birthday yesterday 🥳🩷💜had a lot of fun making this 😁👍#destiny2art #destiny2aotw #destiny2 #destinythegame #destiny2fishing #digitalartist #digitalart pic. twitter. com/6obwqlcxsq— pickles ✨comms open!✨ (77x) may 29, 2023bonus aotw: my brother, dead!!?? blasphemy. blasphemy!#destiny2 #destiny2art #destiny2aotw #destiny #destinythegame   pic. twitter. com/vykcsgffls— alivewake () may 29, 2023another week that goes by, and it's almost summer around here. or winter, for those of you in the southern hemisphere. we are deep into season of the deep and there's still much to uncover from under the methane seas. methane, what a thing, by the way. i checked the other day and liquid methane has a temperature range between 91 and 112 kelvins, which makes me think those new guardian armor sets not only look amazing, but also have some pretty insane heating systems. and speaking of heat, how can solar grenades scorch stuff under such extreme circumstances, or stasis crystals even hold their structure under such pressure? anyway, transmat firing!‘hasta luego’br1  \n"
     ]
    }
   ],
   "source": [
    "from bs4 import BeautifulSoup\n",
    "import re\n",
    "\n",
    "def clean_html(raw_html):\n",
    "    soup = BeautifulSoup(raw_html, \"html.parser\")\n",
    "    cleantext = soup.get_text().lower()\n",
    "    \n",
    "    replacements = {\n",
    "        r'([^a-zA-Z0-9.])([A-Z])': r'\\1 \\2',\n",
    "        r'(\\.)([a-zA-Z])': r'\\1 \\2',\n",
    "        r'(\\?)([a-zA-Z])': r'\\1 \\2',\n",
    "        r'(!)([a-zA-Z])': r'\\1 \\2',\n",
    "        r'(:)([a-zA-Z])': r'\\1 \\2',\n",
    "        r'\\.{3}': r'',\n",
    "        r'@([a-zA-Z]+)': r''\n",
    "    }\n",
    "    \n",
    "    for pattern, replacement in replacements.items():\n",
    "        cleantext = re.sub(pattern, replacement, cleantext)\n",
    "    \n",
    "    return cleantext\n",
    "\n",
    "raw_html = df[\"HtmlContent\"].iloc[0]\n",
    "\n",
    "cleaned_text = clean_html(raw_html)\n",
    "print(cleaned_text)\n",
    "\n",
    "\n"
   ]
  },
  {
   "cell_type": "code",
   "execution_count": 6,
   "metadata": {},
   "outputs": [],
   "source": [
    "from bs4 import BeautifulSoup\n",
    "\n",
    "# Create a new column 'clean_text' in the DataFrame\n",
    "df['clean_text'] = ''\n",
    "\n",
    "# Iterate over the rows of the DataFrame\n",
    "for index, row in df.iterrows():\n",
    "    html_content = row['HtmlContent']\n",
    "    \n",
    "    # Create a BeautifulSoup object to parse the HTML\n",
    "    soup = BeautifulSoup(html_content, 'html.parser')\n",
    "    \n",
    "    # Retrieve the text content using the .get_text() method\n",
    "    clean_text = soup.get_text().strip()  # Apply strip() to remove leading/trailing whitespaces\n",
    "    \n",
    "    # break into lines and remove leading and trailing space on each\n",
    "    lines = (line.strip() for line in clean_text.splitlines())\n",
    "    \n",
    "    # break multi-headlines into a line each\n",
    "    chunks = (phrase.strip() for line in lines for phrase in line.split(\"  \"))\n",
    "    \n",
    "    # drop blank lines\n",
    "    clean_text = '\\n'.join(chunk for chunk in chunks if chunk)\n",
    "\n",
    "    # Assign the clean text to the 'clean_text' column of the current row\n",
    "    df.at[index, 'clean_text'] = clean_text"
   ]
  },
  {
   "cell_type": "code",
   "execution_count": 7,
   "metadata": {},
   "outputs": [],
   "source": [
    "df = df[['Title', 'Link', 'PubDate', 'UniqueIdentifier', 'Description',\n",
    "       'clean_text']]"
   ]
  },
  {
   "cell_type": "code",
   "execution_count": 8,
   "metadata": {},
   "outputs": [],
   "source": [
    "docs = []\n",
    "## convert to haystack format\n",
    "for index, row in df.iterrows():\n",
    "    doc = {\n",
    "        'content': row['clean_text'],  \n",
    "        'meta': {\n",
    "            'name': row['Title'],\n",
    "            'link': row['Link'],\n",
    "            'pub_date': row['PubDate'],\n",
    "            'unique_id': row['UniqueIdentifier'],\n",
    "            'description': row['Description']\n",
    "        }\n",
    "    }\n",
    "    docs.append(doc)\n"
   ]
  },
  {
   "cell_type": "code",
   "execution_count": 9,
   "metadata": {},
   "outputs": [
    {
     "name": "stderr",
     "output_type": "stream",
     "text": [
      "INFO - haystack.modeling.utils -  Using devices: CUDA:0 - Number of GPUs: 1\n"
     ]
    }
   ],
   "source": [
    "from haystack.document_stores import InMemoryDocumentStore\n",
    "\n",
    "document_store = InMemoryDocumentStore(use_bm25=True)\n"
   ]
  },
  {
   "cell_type": "code",
   "execution_count": 10,
   "metadata": {},
   "outputs": [
    {
     "data": {
      "application/vnd.jupyter.widget-view+json": {
       "model_id": "78db0ff8e2c4420f856de2a8ed3511a5",
       "version_major": 2,
       "version_minor": 0
      },
      "text/plain": [
       "Preprocessing:   0%|          | 0/25 [00:00<?, ?docs/s]"
      ]
     },
     "metadata": {},
     "output_type": "display_data"
    },
    {
     "name": "stderr",
     "output_type": "stream",
     "text": [
      "WARNING - haystack.nodes.preprocessor.preprocessor -  We found one or more sentences whose word count is higher than the split length.\n"
     ]
    }
   ],
   "source": [
    "from haystack.nodes import PreProcessor\n",
    "\n",
    "processor = PreProcessor(\n",
    "    clean_empty_lines=True,\n",
    "    clean_whitespace=True,\n",
    "    clean_header_footer=True,\n",
    "    split_by=\"word\",\n",
    "    split_length=100,\n",
    "    split_respect_sentence_boundary=True,\n",
    "    split_overlap=50\n",
    ")\n",
    "\n",
    "docs = processor.process(docs)"
   ]
  },
  {
   "cell_type": "code",
   "execution_count": 11,
   "metadata": {},
   "outputs": [
    {
     "name": "stderr",
     "output_type": "stream",
     "text": [
      "INFO - haystack.document_stores.base -  Duplicate Documents: Document with id '4745c8710fd69e307f36d22f8a893c58' already exists in index 'document'\n",
      "INFO - haystack.document_stores.base -  Duplicate Documents: Document with id 'a88448568c8c5281df70b881f18ef4a3' already exists in index 'document'\n"
     ]
    },
    {
     "data": {
      "application/vnd.jupyter.widget-view+json": {
       "model_id": "24d9fae6d83b4ff7ac05a21e05cfcd53",
       "version_major": 2,
       "version_minor": 0
      },
      "text/plain": [
       "Updating BM25 representation...:   0%|          | 0/772 [00:00<?, ? docs/s]"
      ]
     },
     "metadata": {},
     "output_type": "display_data"
    }
   ],
   "source": [
    "document_store.write_documents(docs)\n"
   ]
  },
  {
   "cell_type": "code",
   "execution_count": 12,
   "metadata": {},
   "outputs": [],
   "source": [
    "from haystack.nodes import BM25Retriever\n",
    "\n",
    "retriever = BM25Retriever(document_store=document_store)\n"
   ]
  },
  {
   "cell_type": "code",
   "execution_count": 29,
   "metadata": {},
   "outputs": [
    {
     "name": "stderr",
     "output_type": "stream",
     "text": [
      "INFO - haystack.modeling.utils -  Using devices: CUDA:0 - Number of GPUs: 1\n"
     ]
    }
   ],
   "source": [
    "from haystack.nodes import PromptNode, PromptTemplate\n",
    "\n",
    "lfqa_prompt = PromptTemplate(\n",
    "    name=\"lfqa\",\n",
    "    prompt_text=\"\"\"Synthesize a comprehensive answer from the following text for the given question. \n",
    "                    Provide a clear and concise response that summarizes the key points and information presented in the text. \n",
    "                             Your answer should directly pull from the source but be organized. \n",
    "                             \\n\\n Related text: {join(documents)} \\n\\n Question: {query} \\n\\n Answer:\"\"\",\n",
    ")\n",
    "\n",
    "prompt_node = PromptNode(model_name_or_path=\"google/flan-t5-large\", default_prompt_template=lfqa_prompt,  model_kwargs={\"stream\":True})\n"
   ]
  },
  {
   "cell_type": "code",
   "execution_count": 14,
   "metadata": {},
   "outputs": [
    {
     "name": "stderr",
     "output_type": "stream",
     "text": [
      "INFO - haystack.modeling.utils -  Using devices: CUDA:0 - Number of GPUs: 1\n"
     ]
    }
   ],
   "source": [
    "from haystack.nodes import TransformersReader\n",
    "\n",
    "reader = TransformersReader(model_name_or_path=\"ahotrod/albert_xxlargev1_squad2_512\", use_gpu=True)"
   ]
  },
  {
   "cell_type": "code",
   "execution_count": 25,
   "metadata": {},
   "outputs": [],
   "source": [
    "from haystack.pipelines import Pipeline\n",
    "\n",
    "pipe = Pipeline()\n",
    "pipe.add_node(component=retriever, name=\"retriever\", inputs=[\"Query\"])\n",
    "pipe.add_node(component=reader, name=\"reader\", inputs=[\"retriever\"])\n",
    "pipe.add_node(component=prompt_node, name=\"prompt_node\", inputs=[\"reader\"])\n"
   ]
  },
  {
   "cell_type": "code",
   "execution_count": 32,
   "metadata": {},
   "outputs": [
    {
     "name": "stderr",
     "output_type": "stream",
     "text": [
      "WARNING - haystack.nodes.prompt.invocation_layer.hugging_face -  The prompt has been truncated from 523 tokens to 412 tokens so that the prompt length and answer length (100 tokens) fit within the max token limit (512 tokens). Shorten the prompt to prevent it from being cut off\n"
     ]
    },
    {
     "name": "stdout",
     "output_type": "stream",
     "text": [
      "<pad> This week we’re back with some Season 21.</s>\n",
      "'Query: who won guardian games?'\n",
      "'Answers:'\n",
      "[   <Answer {'answer': ' emotes', 'type': 'extractive', 'score': 3.2196183497035236e-07, 'context': 'your clips, running alongside some of you in Supremacy, and seeing the emotes in the Tower after you bank your Medallions. ', 'offsets_in_document': [{'start': 772, 'end': 779}], 'offsets_in_context': [{'start': 70, 'end': 77}], 'document_ids': ['36e502e455b6415363f4dddda144b3ed'], 'meta': {'name': 'This Week At Bungie – 5/11/2023', 'link': '/7/en/News/Article/05-011-2023-twab', 'pub_date': '2023-05-11T18:00:00Z', 'unique_id': 'blt8dcb8e715bde5605', 'description': 'This week at Bungie, we’ve got an armor preview and a dungeon date. ', '_split_id': 2, '_split_overlap': [{'doc_id': '282ee7f586356079e3c94cc66b05cee', 'range': (0, 660)}, {'doc_id': '84d02b1ac8d2dd7cb1660cd0af85e504', 'range': (661, 824)}]}}>,\n",
      "    <Answer {'answer': ' the emotes', 'type': 'extractive', 'score': 1.6923993939599313e-07, 'context': 'ing your clips, running alongside some of you in Supremacy, and seeing the emotes in the Tower after you bank your Medallions. ', 'offsets_in_document': [{'start': 768, 'end': 779}], 'offsets_in_context': [{'start': 70, 'end': 81}], 'document_ids': ['36e502e455b6415363f4dddda144b3ed'], 'meta': {'name': 'This Week At Bungie – 5/11/2023', 'link': '/7/en/News/Article/05-011-2023-twab', 'pub_date': '2023-05-11T18:00:00Z', 'unique_id': 'blt8dcb8e715bde5605', 'description': 'This week at Bungie, we’ve got an armor preview and a dungeon date. ', '_split_id': 2, '_split_overlap': [{'doc_id': '282ee7f586356079e3c94cc66b05cee', 'range': (0, 660)}, {'doc_id': '84d02b1ac8d2dd7cb1660cd0af85e504', 'range': (661, 824)}]}}>,\n",
      "    <Answer {'answer': ' Guardian Games Cup', 'type': 'extractive', 'score': 5.1259775091239135e-08, 'context': 'hat we got to talk about last week.Last week’s TWAB:Guardian Games and Guardian Games Cup began!Season of the Deep first look.Prime Gaming loot drops.Wallpaper', 'offsets_in_document': [{'start': 179, 'end': 198}], 'offsets_in_context': [{'start': 70, 'end': 89}], 'document_ids': ['282ee7f586356079e3c94cc66b05cee'], 'meta': {'name': 'This Week At Bungie – 5/11/2023', 'link': '/7/en/News/Article/05-011-2023-twab', 'pub_date': '2023-05-11T18:00:00Z', 'unique_id': 'blt8dcb8e715bde5605', 'description': 'This week at Bungie, we’ve got an armor preview and a dungeon date. ', '_split_id': 1, '_split_overlap': [{'doc_id': '7f8fb5e0a23626638f011cdcba2cb8c0', 'range': (0, 82)}, {'doc_id': '36e502e455b6415363f4dddda144b3ed', 'range': (83, 743)}]}}>,\n",
      "    <Answer {'answer': ' TWAB:Guardian Games and Guardian Games Cup', 'type': 'extractive', 'score': 4.744038051285315e-08, 'context': \"rst up, let's get into what we got to talk about last week.Last week’s TWAB:Guardian Games and Guardian Games Cup began!Season of the Deep first look.Prime Gaming loot drops.Wallpaper\", 'offsets_in_document': [{'start': 155, 'end': 198}], 'offsets_in_context': [{'start': 70, 'end': 113}], 'document_ids': ['282ee7f586356079e3c94cc66b05cee'], 'meta': {'name': 'This Week At Bungie – 5/11/2023', 'link': '/7/en/News/Article/05-011-2023-twab', 'pub_date': '2023-05-11T18:00:00Z', 'unique_id': 'blt8dcb8e715bde5605', 'description': 'This week at Bungie, we’ve got an armor preview and a dungeon date. ', '_split_id': 1, '_split_overlap': [{'doc_id': '7f8fb5e0a23626638f011cdcba2cb8c0', 'range': (0, 82)}, {'doc_id': '36e502e455b6415363f4dddda144b3ed', 'range': (83, 743)}]}}>,\n",
      "    <Answer {'answer': ' Supremacy, and seeing the emotes', 'type': 'extractive', 'score': 4.331705483195947e-08, 'context': 'ving so much fun watching your clips, running alongside some of you in Supremacy, and seeing the emotes in the Tower after you bank your Medallions. ', 'offsets_in_document': [{'start': 746, 'end': 779}], 'offsets_in_context': [{'start': 70, 'end': 103}], 'document_ids': ['36e502e455b6415363f4dddda144b3ed'], 'meta': {'name': 'This Week At Bungie – 5/11/2023', 'link': '/7/en/News/Article/05-011-2023-twab', 'pub_date': '2023-05-11T18:00:00Z', 'unique_id': 'blt8dcb8e715bde5605', 'description': 'This week at Bungie, we’ve got an armor preview and a dungeon date. ', '_split_id': 2, '_split_overlap': [{'doc_id': '282ee7f586356079e3c94cc66b05cee', 'range': (0, 660)}, {'doc_id': '84d02b1ac8d2dd7cb1660cd0af85e504', 'range': (661, 824)}]}}>,\n",
      "    <Answer {'answer': ' TWAB:Guardian Games', 'type': 'extractive', 'score': 7.324953088527764e-09, 'context': \"rst up, let's get into what we got to talk about last week.Last week’s TWAB:Guardian Games and Guardian Games Cup began!Season of the Deep first look.Prime Gami\", 'offsets_in_document': [{'start': 155, 'end': 175}], 'offsets_in_context': [{'start': 70, 'end': 90}], 'document_ids': ['282ee7f586356079e3c94cc66b05cee'], 'meta': {'name': 'This Week At Bungie – 5/11/2023', 'link': '/7/en/News/Article/05-011-2023-twab', 'pub_date': '2023-05-11T18:00:00Z', 'unique_id': 'blt8dcb8e715bde5605', 'description': 'This week at Bungie, we’ve got an armor preview and a dungeon date. ', '_split_id': 1, '_split_overlap': [{'doc_id': '7f8fb5e0a23626638f011cdcba2cb8c0', 'range': (0, 82)}, {'doc_id': '36e502e455b6415363f4dddda144b3ed', 'range': (83, 743)}]}}>]\n"
     ]
    }
   ],
   "source": [
    "from haystack.utils import print_answers\n",
    "\n",
    "results = pipe.run(\n",
    "    query=\"who won guardian games?\",\n",
    "    params={\n",
    "        \"retriever\": {\"top_k\": 2},\n",
    "        \"reader\": {\"top_k\": 10}\n",
    "    }\n",
    ")\n",
    "\n",
    "print_answers(results, details=\"all\", max_text_len=1000)\n"
   ]
  },
  {
   "cell_type": "code",
   "execution_count": 19,
   "metadata": {},
   "outputs": [
    {
     "name": "stdout",
     "output_type": "stream",
     "text": [
      "{'answers': [<Answer {'answer': ' Season of the Deep,', 'type': 'extractive', 'score': 0.8737624883651733, 'context': 'Alright, that does it for us this week. We’re less than two weeks from Season of the Deep, so be sure you let us know over on Twitter what you’re most excited f', 'offsets_in_document': [{'start': 303, 'end': 323}], 'offsets_in_context': [{'start': 70, 'end': 90}], 'document_ids': ['b9b293933fa3f84ecbbc9aa95f7ce1d5'], 'meta': {'name': 'This Week At Bungie – 5/11/2023', 'link': '/7/en/News/Article/05-011-2023-twab', 'pub_date': '2023-05-11T18:00:00Z', 'unique_id': 'blt8dcb8e715bde5605', 'description': 'This week at Bungie, we’ve got an armor preview and a dungeon date. ', '_split_id': 33, '_split_overlap': [{'doc_id': 'ae33fa9b51a4a427ecfec5ae6aafb95f', 'range': (0, 461)}, {'doc_id': 'b0bfdf309865b1df62511f8d41ff393d', 'range': (273, 617)}]}}>,\n",
      "             <Answer {'answer': ' Season of the Deep,', 'type': 'extractive', 'score': 0.8365026712417603, 'context': 'We’re less than two weeks from Season of the Deep, so be sure you let us know over on Twitter what you’re most excited f', 'offsets_in_document': [{'start': 30, 'end': 50}], 'offsets_in_context': [{'start': 30, 'end': 50}], 'document_ids': ['b0bfdf309865b1df62511f8d41ff393d'], 'meta': {'name': 'This Week At Bungie – 5/11/2023', 'link': '/7/en/News/Article/05-011-2023-twab', 'pub_date': '2023-05-11T18:00:00Z', 'unique_id': 'blt8dcb8e715bde5605', 'description': 'This week at Bungie, we’ve got an armor preview and a dungeon date. ', '_split_id': 34, '_split_overlap': [{'doc_id': 'b9b293933fa3f84ecbbc9aa95f7ce1d5', 'range': (0, 344)}, {'doc_id': '7a952768d11e2a3e517f417fc1a25cf8', 'range': (189, 484)}]}}>,\n",
      "             <Answer {'answer': ' Season of Defiance.Exclusive', 'type': 'extractive', 'score': 0.7905268669128418, 'context': 'linesThis includes seasonal story missions.Seasonal activitiesCurrent: Season of Defiance.Exclusive Exotic weapons and armor pieces alongside a variety of other cosmetic', 'offsets_in_document': [{'start': 397, 'end': 426}], 'offsets_in_context': [{'start': 70, 'end': 99}], 'document_ids': ['db66af135b71aebcb958b53e29e00290'], 'meta': {'name': 'Destiny 2: New and Returning Player Guide', 'link': '/7/en/News/Article/official-destiny-2-guide-new', 'pub_date': '2023-03-03T23:30:00Z', 'unique_id': 'blt5a82a15b55a1407c', 'description': 'Destiny 2 tips and tricks for new and returning players suiting back up for Lightfall and beyond.', '_split_id': 9, '_split_overlap': []}}>,\n",
      "             <Answer {'answer': ' Season of the Deep!Cutscenes', 'type': 'extractive', 'score': 0.6490001082420349, 'context': ' PlayStation crossover.Guardian Games has concluded.Save the Dates for Season of the Deep!Cutscenes for days.Guardian Ranks reminder.Aquanaut is now available.This week ', 'offsets_in_document': [{'start': 505, 'end': 534}], 'offsets_in_context': [{'start': 70, 'end': 99}], 'document_ids': ['a25ca77ef006c37a6fb56ae088f65bd'], 'meta': {'name': 'This Week At Bungie - 06/01/2023', 'link': '/7/en/News/Article/06_01_2023_twab', 'pub_date': '2023-06-01T18:00:00Z', 'unique_id': 'blt36382dc929299957', 'description': 'This week at Bungie, we fought the ghosts of the deep. ', '_split_id': 1, '_split_overlap': [{'doc_id': '84bbd4f6e7d56fb80e98a9cd9bd7a8c3', 'range': (0, 311)}, {'doc_id': '99e544246f372f52997e008a2ff49646', 'range': (312, 959)}]}}>,\n",
      "             <Answer {'answer': ' Season of the Deep,', 'type': 'extractive', 'score': 0.3550117611885071, 'context': 'Alright, that does it for us this week. We’re less than two weeks from Season of the Deep, so be sure you let us know over on Twitter what you’re most excited f', 'offsets_in_document': [{'start': 561, 'end': 581}], 'offsets_in_context': [{'start': 70, 'end': 90}], 'document_ids': ['ae33fa9b51a4a427ecfec5ae6aafb95f'], 'meta': {'name': 'This Week At Bungie – 5/11/2023', 'link': '/7/en/News/Article/05-011-2023-twab', 'pub_date': '2023-05-11T18:00:00Z', 'unique_id': 'blt8dcb8e715bde5605', 'description': 'This week at Bungie, we’ve got an armor preview and a dungeon date. ', '_split_id': 32, '_split_overlap': [{'doc_id': 'a897cb7766299bb882c4293a71e49e7b', 'range': (0, 530)}, {'doc_id': 'b9b293933fa3f84ecbbc9aa95f7ce1d5', 'range': (258, 719)}]}}>],\n",
      " 'documents': [<Document: {'content': 'Other expansions, like The Witch Queen, offer not only a new level of challenge with a legendary campaign difficulty option but a thrilling narrative that casts Destiny lore in a new light.What’s not available for free Destiny 2 players?More raids and dungeons.Trials of OsirisRequires the most recent expansion.Expansion storylinesThis includes seasonal story missions.Seasonal activitiesCurrent: Season of Defiance.Exclusive Exotic weapons and armor pieces alongside a variety of other cosmetic itemsThis includes the Season Pass rewards.As for the expansions themselves, here is the order of release for each expansion that has launched since the release of Destiny 2.Every Destiny 2 Expansion:Curse of OsirisWarmindForsakenShadowkeepBeyond LightThe Witch QueenLightfallThe Final Shape (announced, release TBD)*Curse of Osiris, Warmind, and Forsaken are no longer active expansions in Destiny 2, learn more about vaulting and hat’s changed right here.Each expansion contains its own story that explores more of the Destiny universe and the wildly eclectic individual characters that bring the stories to life and give Guardians their purpose.Where Should I Start When Playing Destiny 2?The journey begins with an introductory mini-campaign that lasts about two hours on the Cosmodrome with the New Light mission called A Guardian Rises. ', 'content_type': 'text', 'score': 0.7811339697664424, 'meta': {'name': 'Destiny 2: New and Returning Player Guide', 'link': '/7/en/News/Article/official-destiny-2-guide-new', 'pub_date': '2023-03-03T23:30:00Z', 'unique_id': 'blt5a82a15b55a1407c', 'description': 'Destiny 2 tips and tricks for new and returning players suiting back up for Lightfall and beyond.', '_split_id': 9, '_split_overlap': []}, 'id_hash_keys': ['content'], 'embedding': None, 'id': 'db66af135b71aebcb958b53e29e00290'}>,\n",
      "               <Document: {'content': 'Go redeem it now!Prime Gaming UpdateWelcome to the latest Prime Gaming update. It’s finally time for me to give up the skedaddle shenanigans and let you in on where that came from. This month we are vanishing into thin air, and then transmatting out with our Ghost and skedaddling on over to the next fishing hole.Ninja Vanish emoteRedline Ghost ShellSkedaddle Legendary SparrowThe Deep Ghost ProjectionIf you don’t know what Prime Gaming is, you can check out our article and learn more!Player Support ReportAquanauts, assemble!The Player Support team is back this week and ready to share with you the most recent update of known issues in the Deep and beyond.Known Issues List | Help Forum | Bungie Help TwitterLIGHTFALL DUNGEON KEYPlayers experiencing issues accessing the Ghosts of the Deep dungeon should be aware of the following vital information:Players must acquire the Rise quest from Hawthorne in the Tower in order to launch into the dungeon for the first time.Ownership of the Lightfall Dungeon Key is required. ', 'content_type': 'text', 'score': 0.7664176707423684, 'meta': {'name': 'This Week At Bungie - 06/01/2023', 'link': '/7/en/News/Article/06_01_2023_twab', 'pub_date': '2023-06-01T18:00:00Z', 'unique_id': 'blt36382dc929299957', 'description': 'This week at Bungie, we fought the ghosts of the deep. ', '_split_id': 11, '_split_overlap': [{'doc_id': '3590d821c14dce72389f406a1969f9e5', 'range': (0, 180)}]}, 'id_hash_keys': ['content'], 'embedding': None, 'id': 'aa03ddd87979df0851fa8c72dbc779a9'}>,\n",
      "               <Document: {'content': \"Raid launches are unforgettable for the studio and this one was extra special as we broke our viewership record on Twitch.We hope that players (more than 190,000 of you) who beat the final boss during Contest Mode are feeling good right about now. Time to go complete some challenges if you want to improve your chances of getting the new Conditional Finality Exotic Shotgun.The Art of LightfallArt, what a concept! Isn't it amazing how humans transform thoughts and ideas into literally the most stunning and inspiring stuff you’ve ever seen? \", 'content_type': 'text', 'score': 0.7641384895502196, 'meta': {'name': 'This Week At Bungie - 03/16/2023', 'link': '/7/en/News/Article/twab_03_16_2023', 'pub_date': '2023-03-16T19:00:00Z', 'unique_id': 'bltee5d207f8857369b', 'description': 'The Gensym Scribe of the Radiolarian Lake', '_split_id': 6, '_split_overlap': [{'doc_id': 'df3b1c5567448746d651b5691d462ef0', 'range': (0, 247)}, {'doc_id': '3f998436783bad93a6da2b2ca35dd8a5', 'range': (248, 543)}]}, 'id_hash_keys': ['content'], 'embedding': None, 'id': '3afbeb73ee1f0028207402c512d5bc49'}>,\n",
      "               <Document: {'content': \"Time to go complete some challenges if you want to improve your chances of getting the new Conditional Finality Exotic Shotgun.The Art of LightfallArt, what a concept! Isn't it amazing how humans transform thoughts and ideas into literally the most stunning and inspiring stuff you’ve ever seen? From creating brand-new characters to designing a metropolis in the post-Collapse world of Destiny 2, Lightfall’s art was a very special challenge for our team.There’s a lot of work behind Strand’s identity and the design of Neomuna’s buildings, billboards, lights, and that very specific Neptune-neon vibe. \", 'content_type': 'text', 'score': 0.7633319941455851, 'meta': {'name': 'This Week At Bungie - 03/16/2023', 'link': '/7/en/News/Article/twab_03_16_2023', 'pub_date': '2023-03-16T19:00:00Z', 'unique_id': 'bltee5d207f8857369b', 'description': 'The Gensym Scribe of the Radiolarian Lake', '_split_id': 7, '_split_overlap': [{'doc_id': '3afbeb73ee1f0028207402c512d5bc49', 'range': (0, 295)}, {'doc_id': 'c5dce5c9f9164bc04263c0623a2be263', 'range': (168, 603)}]}, 'id_hash_keys': ['content'], 'embedding': None, 'id': '3f998436783bad93a6da2b2ca35dd8a5'}>,\n",
      "               <Document: {'content': 'We’re less than two weeks from Season of the Deep, so be sure you let us know over on Twitter what you’re most excited for and share your Guardians fly fits or favorite emotes you have on. But since we do still have Guardian Games going, get back out there, earn those medals, and let’s win it for the Warlocks, [cough] Hunters, [cough] Titans!\\xa0One more reminder, don’t forget to finish your Seasonal Triumphs, Season Pass, Weekly Challenges, or anything else you may have left to do. ', 'content_type': 'text', 'score': 0.7533986660233944, 'meta': {'name': 'This Week At Bungie – 5/11/2023', 'link': '/7/en/News/Article/05-011-2023-twab', 'pub_date': '2023-05-11T18:00:00Z', 'unique_id': 'blt8dcb8e715bde5605', 'description': 'This week at Bungie, we’ve got an armor preview and a dungeon date. ', '_split_id': 34, '_split_overlap': [{'doc_id': 'b9b293933fa3f84ecbbc9aa95f7ce1d5', 'range': (0, 344)}, {'doc_id': '7a952768d11e2a3e517f417fc1a25cf8', 'range': (189, 484)}]}, 'id_hash_keys': ['content'], 'embedding': None, 'id': 'b0bfdf309865b1df62511f8d41ff393d'}>,\n",
      "               <Document: {'content': 'The Forsaken Pack will still be available as its own separate content pack.KNOWN ISSUESWhile we continue investigating various known issues, here is a list of the latest issues that were reported to us in our #Help forum:Some Xbox players are re-downloading the most recent update on every game launch.We are continuing to investigate reports of WEASEL errors occurring for characters on log in.Players who receive a leaver penalty in the competitive Crucible playlist may be unable to launch into the playlist once their leaver penalty has expired. This can be resolved by swapping characters and playing another match in the competitive Crucible playlist.For a full list of emergent issues in Destiny 2, players can review our Known Issues article. ', 'content_type': 'text', 'score': 0.7485064550337913, 'meta': {'name': 'This Week At Bungie - 02/23/23', 'link': '/7/en/News/Article/twab-02-23-2023', 'pub_date': '2023-02-23T19:00:00Z', 'unique_id': 'blt4abdcdd36712be1a', 'description': 'Only five more sleeps', '_split_id': 60, '_split_overlap': [{'doc_id': '871b0781bed8655df0f08a5f50998e60', 'range': (0, 549)}, {'doc_id': '9e3175c3641595825431600af974189', 'range': (550, 750)}]}, 'id_hash_keys': ['content'], 'embedding': None, 'id': '6618c184e4d263405c05ff5884dcd89a'}>,\n",
      "               <Document: {'content': 'The current Legacy Collection (containing the Forsaken Pack, Shadowkeep, and Beyond Light) will be retired from our platform stores and replaced by the Legacy Collection (2023). This updated collection will contain the Shadowkeep, Beyond Light, and The Witch Queen expansions. The Forsaken Pack will still be available as its own separate content pack.KNOWN ISSUESWhile we continue investigating various known issues, here is a list of the latest issues that were reported to us in our #Help forum:Some Xbox players are re-downloading the most recent update on every game launch.We are continuing to investigate reports of WEASEL errors occurring for characters on log in.Players who receive a leaver penalty in the competitive Crucible playlist may be unable to launch into the playlist once their leaver penalty has expired. ', 'content_type': 'text', 'score': 0.7484676334784701, 'meta': {'name': 'This Week At Bungie - 02/23/23', 'link': '/7/en/News/Article/twab-02-23-2023', 'pub_date': '2023-02-23T19:00:00Z', 'unique_id': 'blt4abdcdd36712be1a', 'description': 'Only five more sleeps', '_split_id': 59, '_split_overlap': [{'doc_id': '866c2602bb878b8def554ba32fc7c3ab', 'range': (0, 276)}, {'doc_id': '6618c184e4d263405c05ff5884dcd89a', 'range': (277, 826)}]}, 'id_hash_keys': ['content'], 'embedding': None, 'id': '871b0781bed8655df0f08a5f50998e60'}>,\n",
      "               <Document: {'content': 'Art of the Week: Final God of Amazing Poses러블리 돼지감자 #Destiny2Art pic.twitter.com/Ds6e9EX33s— 벨로프 (@Belov_W) May 9, 2023__________________________________________________________________________________________________________________Alright, that does it for us this week. We’re less than two weeks from Season of the Deep, so be sure you let us know over on Twitter what you’re most excited for and share your Guardians fly fits or favorite emotes you have on. But since we do still have Guardian Games going, get back out there, earn those medals, and let’s win it for the Warlocks, [cough] Hunters, [cough] Titans!\\xa0', 'content_type': 'text', 'score': 0.7465928066062202, 'meta': {'name': 'This Week At Bungie – 5/11/2023', 'link': '/7/en/News/Article/05-011-2023-twab', 'pub_date': '2023-05-11T18:00:00Z', 'unique_id': 'blt8dcb8e715bde5605', 'description': 'This week at Bungie, we’ve got an armor preview and a dungeon date. ', '_split_id': 33, '_split_overlap': [{'doc_id': 'ae33fa9b51a4a427ecfec5ae6aafb95f', 'range': (0, 461)}, {'doc_id': 'b0bfdf309865b1df62511f8d41ff393d', 'range': (273, 617)}]}, 'id_hash_keys': ['content'], 'embedding': None, 'id': 'b9b293933fa3f84ecbbc9aa95f7ce1d5'}>,\n",
      "               <Document: {'content': \"Art of the Week:\\xa0SWIM in the deepSWIM in the deep - merman🧜\\u200d♂️ warlock✨#Destiny2Art #Destiny2AOTW pic.twitter.com/GInWtMfaN1— Dawn ✨ (COMMS open) (@dawn_thewarlock) May 7, 2023Bruno: I'm here once again sharing an amazing rendition of our latest raid boss.\\xa0\\xa0Art of the Week: Final God of Amazing Poses러블리 돼지감자 #Destiny2Art pic.twitter.com/Ds6e9EX33s— 벨로프 (@Belov_W) May 9, 2023__________________________________________________________________________________________________________________Alright, that does it for us this week. We’re less than two weeks from Season of the Deep, so be sure you let us know over on Twitter what you’re most excited for and share your Guardians fly fits or favorite emotes you have on. \", 'content_type': 'text', 'score': 0.7463395205922533, 'meta': {'name': 'This Week At Bungie – 5/11/2023', 'link': '/7/en/News/Article/05-011-2023-twab', 'pub_date': '2023-05-11T18:00:00Z', 'unique_id': 'blt8dcb8e715bde5605', 'description': 'This week at Bungie, we’ve got an armor preview and a dungeon date. ', '_split_id': 32, '_split_overlap': [{'doc_id': 'a897cb7766299bb882c4293a71e49e7b', 'range': (0, 530)}, {'doc_id': 'b9b293933fa3f84ecbbc9aa95f7ce1d5', 'range': (258, 719)}]}, 'id_hash_keys': ['content'], 'embedding': None, 'id': 'ae33fa9b51a4a427ecfec5ae6aafb95f'}>,\n",
      "               <Document: {'content': \"What’s your favorite thing so far about the Season? What about... [deep breaths] Ok, ok, it's time to calm down. It’s just something special to see all your social posts tackling Ghosts of the Deep, working with Sloane, and did I mention fishing already? It gets us pretty hyped.Anyhoo, let’s get back on topic. Here is what we shared last week and what we are going to read about today.Last week in TWAB:Marathon was announced!Our new PlayStation crossover.Guardian Games has concluded.Save the Dates for Season of the Deep!Cutscenes for days.Guardian Ranks reminder.Aquanaut is now available.This week we’ve got:Ghosts of the Deep recap.Dungeon-themed items in the Bungie Store.Pride@Bungie announcement.M:\\\\STARTPrime Gaming update.The weekly update from the Player Support Team.Weekly Art of the Week and Movie of the week picks.The DungeonWere you one of the Guardians who dove deep into a Titan Archology only to arrive face to face with the Lucent Hive? \", 'content_type': 'text', 'score': 0.7433119699910364, 'meta': {'name': 'This Week At Bungie - 06/01/2023', 'link': '/7/en/News/Article/06_01_2023_twab', 'pub_date': '2023-06-01T18:00:00Z', 'unique_id': 'blt36382dc929299957', 'description': 'This week at Bungie, we fought the ghosts of the deep. ', '_split_id': 1, '_split_overlap': [{'doc_id': '84bbd4f6e7d56fb80e98a9cd9bd7a8c3', 'range': (0, 311)}, {'doc_id': '99e544246f372f52997e008a2ff49646', 'range': (312, 959)}]}, 'id_hash_keys': ['content'], 'embedding': None, 'id': 'a25ca77ef006c37a6fb56ae088f65bd'}>],\n",
      " 'node_id': 'Reader',\n",
      " 'params': {'Reader': {'top_k': 5}, 'Retriever': {'top_k': 10}},\n",
      " 'query': 'what was the most recent season?',\n",
      " 'root_node': 'Query'}\n"
     ]
    }
   ],
   "source": [
    "from pprint import pprint\n",
    "\n",
    "pprint(results)\n"
   ]
  }
 ],
 "metadata": {
  "kernelspec": {
   "display_name": "Python 3",
   "language": "python",
   "name": "python3"
  },
  "language_info": {
   "codemirror_mode": {
    "name": "ipython",
    "version": 3
   },
   "file_extension": ".py",
   "mimetype": "text/x-python",
   "name": "python",
   "nbconvert_exporter": "python",
   "pygments_lexer": "ipython3",
   "version": "3.11.3"
  },
  "orig_nbformat": 4
 },
 "nbformat": 4,
 "nbformat_minor": 2
}
