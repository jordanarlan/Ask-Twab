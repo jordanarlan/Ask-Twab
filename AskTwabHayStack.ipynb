{
 "cells": [
  {
   "cell_type": "code",
   "execution_count": 2,
   "metadata": {},
   "outputs": [
    {
     "name": "stdout",
     "output_type": "stream",
     "text": [
      "An error occurred: 'NextPaginationToken'\n"
     ]
    }
   ],
   "source": [
    "import requests\n",
    "import os\n",
    "from importlib.machinery import SourceFileLoader\n",
    "import pandas as pd\n",
    "try:\n",
    "    config = SourceFileLoader(\"config\", \"config.py\").load_module()\n",
    "    os.environ['OPENAI_API_KEY'] = config.OPENAI_API_KEY\n",
    "\n",
    "    bungie_api_key = config.BUNGIE_API_KEY\n",
    "    endpoint = \"https://www.bungie.net/Platform/Content/Rss/NewsArticles/{pageToken}/\"\n",
    "    page_token = \"0\"\n",
    "    include_body = True\n",
    "    headers = {\n",
    "        \"X-API-Key\": bungie_api_key\n",
    "    }\n",
    "    params = {\n",
    "        \"includebody\": include_body\n",
    "    }\n",
    "\n",
    "    results = []\n",
    "\n",
    "    while page_token is not None:\n",
    "        response = requests.get(endpoint.format(pageToken=page_token), headers=headers, params=params)\n",
    "\n",
    "        if response.status_code == 200:\n",
    "            json_response = response.json()\n",
    "            if 'NewsArticles' in json_response['Response']:\n",
    "                results.extend(json_response['Response']['NewsArticles'])\n",
    "            else:\n",
    "                print(\"No NewsArticles found in the response.\")\n",
    "                break\n",
    "            page_token = json_response['Response']['NextPaginationToken']\n",
    "        else:\n",
    "            print(\"Error:\", response.status_code)\n",
    "            print(\"Response:\", response.text)\n",
    "            break\n",
    "except Exception as e:\n",
    "    print(\"An error occurred:\", str(e))\n"
   ]
  },
  {
   "cell_type": "code",
   "execution_count": 3,
   "metadata": {},
   "outputs": [
    {
     "data": {
      "text/plain": [
       "{'Title': 'Destiny 2 Hotfix 6/02/23',\n",
       " 'Link': '/7/en/News/Article/destiny-2-hotfix-6-02-23',\n",
       " 'PubDate': '2023-06-03T04:52:00Z',\n",
       " 'UniqueIdentifier': 'blt612fd6dfe9162c9d',\n",
       " 'Description': 'The one about a horn.',\n",
       " 'HtmlContent': \"<h4>GENERAL</h4><ul><li>Due to an issue, the Khepri's Horn exotic Titan helmet has been disabled in all activities.</li><li>Iron Banner's gametype has changed from Control to Eruption.</li></ul>\",\n",
       " 'ImagePath': 'https://images.contentstack.io/v3/assets/blte410e3b15535c144/blt09415b4dd64c163d/6389b9be07dd0d0d5a3c8e15/Update_Hotfix_Header.jpg',\n",
       " 'OptionalMobileImagePath': 'https://images.contentstack.io/v3/assets/blte410e3b15535c144/bltb22972426ba11c0a/6389b9a4ebfc405e2908ae61/Update_Hotfix_Blog.jpg'}"
      ]
     },
     "execution_count": 3,
     "metadata": {},
     "output_type": "execute_result"
    }
   ],
   "source": [
    "results[0]"
   ]
  },
  {
   "cell_type": "code",
   "execution_count": 4,
   "metadata": {},
   "outputs": [
    {
     "name": "stdout",
     "output_type": "stream",
     "text": [
      "Total Results: 1014\n"
     ]
    }
   ],
   "source": [
    "print(f\"Total Results: {len(results)}\")"
   ]
  },
  {
   "cell_type": "code",
   "execution_count": 6,
   "metadata": {},
   "outputs": [
    {
     "data": {
      "text/plain": [
       "Title                                               Destiny 2 Hotfix 6/02/23\n",
       "Link                             /7/en/News/Article/destiny-2-hotfix-6-02-23\n",
       "PubDate                                                 2023-06-03T04:52:00Z\n",
       "UniqueIdentifier                                         blt612fd6dfe9162c9d\n",
       "Description                                            The one about a horn.\n",
       "HtmlContent                <h4>GENERAL</h4><ul><li>Due to an issue, the K...\n",
       "ImagePath                  https://images.contentstack.io/v3/assets/blte4...\n",
       "OptionalMobileImagePath    https://images.contentstack.io/v3/assets/blte4...\n",
       "Name: 0, dtype: object"
      ]
     },
     "execution_count": 6,
     "metadata": {},
     "output_type": "execute_result"
    }
   ],
   "source": [
    "# Convert the results list into a DataFrame\n",
    "df = pd.DataFrame(results)\n",
    "\n",
    "# Display the DataFrame\n",
    "df.iloc[0]\n"
   ]
  },
  {
   "cell_type": "code",
   "execution_count": 9,
   "metadata": {},
   "outputs": [],
   "source": [
    "df = df[df['Title'].str.startswith(('This Week At Bungie', 'Destiny 2'))]\n",
    "df = df.reset_index()\n",
    "# Print the filtered DataFrame\n",
    "df['Title']"
   ]
  },
  {
   "cell_type": "code",
   "execution_count": 24,
   "metadata": {},
   "outputs": [],
   "source": [
    "from bs4 import BeautifulSoup\n",
    "\n",
    "# Create a new column 'clean_text' in the DataFrame\n",
    "df['clean_text'] = ''\n",
    "\n",
    "# Iterate over the rows of the DataFrame\n",
    "for index, row in df.iterrows():\n",
    "    html_content = row['HtmlContent']\n",
    "    \n",
    "    # Create a BeautifulSoup object to parse the HTML\n",
    "    soup = BeautifulSoup(html_content, 'html.parser')\n",
    "    \n",
    "    # Retrieve the text content using the .get_text() method\n",
    "    clean_text = soup.get_text().strip()  # Apply strip() to remove leading/trailing whitespaces\n",
    "    \n",
    "    # break into lines and remove leading and trailing space on each\n",
    "    lines = (line.strip() for line in clean_text.splitlines())\n",
    "    \n",
    "    # break multi-headlines into a line each\n",
    "    chunks = (phrase.strip() for line in lines for phrase in line.split(\"  \"))\n",
    "    \n",
    "    # drop blank lines\n",
    "    clean_text = '\\n'.join(chunk for chunk in chunks if chunk)\n",
    "\n",
    "    # Assign the clean text to the 'clean_text' column of the current row\n",
    "    df.at[index, 'clean_text'] = clean_text"
   ]
  },
  {
   "cell_type": "code",
   "execution_count": 41,
   "metadata": {},
   "outputs": [],
   "source": [
    "df = df[['Title', 'Link', 'PubDate', 'UniqueIdentifier', 'Description',\n",
    "       'clean_text']].iloc[0:25]"
   ]
  },
  {
   "cell_type": "code",
   "execution_count": 50,
   "metadata": {},
   "outputs": [],
   "source": [
    "docs = []\n",
    "\n",
    "for index, row in df.iterrows():\n",
    "    doc = {\n",
    "        'content': row['clean_text'],  # Assuming 'HtmlContent' contains the document text\n",
    "        'meta': {\n",
    "            'name': row['Title'],\n",
    "            'link': row['Link'],\n",
    "            'pub_date': row['PubDate'],\n",
    "            'unique_id': row['UniqueIdentifier'],\n",
    "            'description': row['Description']\n",
    "        }\n",
    "    }\n",
    "    docs.append(doc)\n"
   ]
  },
  {
   "cell_type": "code",
   "execution_count": 44,
   "metadata": {},
   "outputs": [],
   "source": [
    "import logging\n",
    "\n",
    "logging.basicConfig(format=\"%(levelname)s - %(name)s -  %(message)s\", level=logging.WARNING)\n",
    "logging.getLogger(\"haystack\").setLevel(logging.INFO)"
   ]
  },
  {
   "cell_type": "code",
   "execution_count": 45,
   "metadata": {},
   "outputs": [
    {
     "name": "stderr",
     "output_type": "stream",
     "text": [
      "INFO - haystack.modeling.utils -  Using devices: CPU - Number of GPUs: 0\n"
     ]
    }
   ],
   "source": [
    "from haystack.document_stores import InMemoryDocumentStore\n",
    "\n",
    "document_store = InMemoryDocumentStore(use_bm25=True)\n"
   ]
  },
  {
   "cell_type": "code",
   "execution_count": 51,
   "metadata": {},
   "outputs": [
    {
     "data": {
      "application/vnd.jupyter.widget-view+json": {
       "model_id": "29e3cddd4de647368a4e1bbf831bac17",
       "version_major": 2,
       "version_minor": 0
      },
      "text/plain": [
       "Preprocessing:   0%|          | 0/25 [00:00<?, ?docs/s]"
      ]
     },
     "metadata": {},
     "output_type": "display_data"
    },
    {
     "name": "stderr",
     "output_type": "stream",
     "text": [
      "WARNING - haystack.nodes.preprocessor.preprocessor -  We found one or more sentences whose word count is higher than the split length.\n"
     ]
    }
   ],
   "source": [
    "from haystack.nodes import PreProcessor\n",
    "\n",
    "processor = PreProcessor(\n",
    "    clean_empty_lines=True,\n",
    "    clean_whitespace=True,\n",
    "    clean_header_footer=True,\n",
    "    split_by=\"word\",\n",
    "    split_length=300,\n",
    "    split_respect_sentence_boundary=True,\n",
    "    split_overlap=10\n",
    ")\n",
    "\n",
    "docs = processor.process(docs)"
   ]
  },
  {
   "cell_type": "code",
   "execution_count": 59,
   "metadata": {},
   "outputs": [
    {
     "data": {
      "application/vnd.jupyter.widget-view+json": {
       "model_id": "48eda9bf90244ddca1ab42e614b8e356",
       "version_major": 2,
       "version_minor": 0
      },
      "text/plain": [
       "Updating BM25 representation...:   0%|          | 0/190 [00:00<?, ? docs/s]"
      ]
     },
     "metadata": {},
     "output_type": "display_data"
    }
   ],
   "source": [
    "document_store.write_documents(docs)\n"
   ]
  },
  {
   "cell_type": "code",
   "execution_count": 61,
   "metadata": {},
   "outputs": [],
   "source": [
    "from haystack.nodes import BM25Retriever\n",
    "\n",
    "retriever = BM25Retriever(document_store=document_store)\n"
   ]
  },
  {
   "cell_type": "code",
   "execution_count": 66,
   "metadata": {},
   "outputs": [
    {
     "name": "stderr",
     "output_type": "stream",
     "text": [
      "INFO - haystack.modeling.utils -  Using devices: CPU - Number of GPUs: 0\n",
      "INFO - haystack.modeling.utils -  Using devices: CPU - Number of GPUs: 0\n"
     ]
    },
    {
     "data": {
      "application/vnd.jupyter.widget-view+json": {
       "model_id": "96f2dc7edaf54064ada8c40daf60e17f",
       "version_major": 2,
       "version_minor": 0
      },
      "text/plain": [
       "Downloading (…)lve/main/config.json:   0%|          | 0.00/715 [00:00<?, ?B/s]"
      ]
     },
     "metadata": {},
     "output_type": "display_data"
    },
    {
     "name": "stderr",
     "output_type": "stream",
     "text": [
      "INFO - haystack.modeling.model.language_model -   * LOADING MODEL: 'ahotrod/albert_xxlargev1_squad2_512' (Albert)\n"
     ]
    },
    {
     "data": {
      "application/vnd.jupyter.widget-view+json": {
       "model_id": "e82e197f2f53486883588a0c88ecb157",
       "version_major": 2,
       "version_minor": 0
      },
      "text/plain": [
       "Downloading pytorch_model.bin:   0%|          | 0.00/890M [00:00<?, ?B/s]"
      ]
     },
     "metadata": {},
     "output_type": "display_data"
    },
    {
     "name": "stderr",
     "output_type": "stream",
     "text": [
      "INFO - haystack.modeling.model.language_model -  Auto-detected model language: english\n",
      "INFO - haystack.modeling.model.language_model -  Loaded 'ahotrod/albert_xxlargev1_squad2_512' (Albert model) from model hub.\n"
     ]
    },
    {
     "data": {
      "application/vnd.jupyter.widget-view+json": {
       "model_id": "295b7b2615e241eea84fc338cf3a4fd8",
       "version_major": 2,
       "version_minor": 0
      },
      "text/plain": [
       "Downloading (…)okenizer_config.json:   0%|          | 0.00/48.0 [00:00<?, ?B/s]"
      ]
     },
     "metadata": {},
     "output_type": "display_data"
    },
    {
     "data": {
      "application/vnd.jupyter.widget-view+json": {
       "model_id": "5175e3b0beaf4fbe825ac42e9bc6c101",
       "version_major": 2,
       "version_minor": 0
      },
      "text/plain": [
       "Downloading (…)ve/main/spiece.model:   0%|          | 0.00/760k [00:00<?, ?B/s]"
      ]
     },
     "metadata": {},
     "output_type": "display_data"
    },
    {
     "data": {
      "application/vnd.jupyter.widget-view+json": {
       "model_id": "2f1bbb5350de46c2af31e3cd207c2168",
       "version_major": 2,
       "version_minor": 0
      },
      "text/plain": [
       "Downloading (…)cial_tokens_map.json:   0%|          | 0.00/156 [00:00<?, ?B/s]"
      ]
     },
     "metadata": {},
     "output_type": "display_data"
    },
    {
     "name": "stderr",
     "output_type": "stream",
     "text": [
      "INFO - haystack.modeling.utils -  Using devices: CPU - Number of GPUs: 0\n"
     ]
    }
   ],
   "source": [
    "from haystack.nodes import FARMReader\n",
    "\n",
    "reader = FARMReader(model_name_or_path=\"ahotrod/albert_xxlargev1_squad2_512\")\n"
   ]
  },
  {
   "cell_type": "code",
   "execution_count": 67,
   "metadata": {},
   "outputs": [],
   "source": [
    "from haystack.pipelines import ExtractiveQAPipeline\n",
    "\n",
    "pipe = ExtractiveQAPipeline(reader, retriever)"
   ]
  },
  {
   "cell_type": "code",
   "execution_count": 71,
   "metadata": {},
   "outputs": [
    {
     "data": {
      "application/vnd.jupyter.widget-view+json": {
       "model_id": "01519208f397416caaa66f08a0c144c9",
       "version_major": 2,
       "version_minor": 0
      },
      "text/plain": [
       "Inferencing Samples:   0%|          | 0/1 [00:00<?, ? Batches/s]"
      ]
     },
     "metadata": {},
     "output_type": "display_data"
    }
   ],
   "source": [
    "prediction = pipe.run(\n",
    "    query=\"what was the change to the immortal?\",\n",
    "    params={\n",
    "        \"Retriever\": {\"top_k\": 10},\n",
    "        \"Reader\": {\"top_k\": 5}\n",
    "    }\n",
    ")\n"
   ]
  },
  {
   "cell_type": "code",
   "execution_count": 72,
   "metadata": {},
   "outputs": [
    {
     "name": "stdout",
     "output_type": "stream",
     "text": [
      "{'answers': [<Answer {'answer': 'Reduced base range value by 10', 'type': 'extractive', 'score': 0.4572427272796631, 'context': '.45 to 1.5 (crit damage goes from 21.8 to 21).\\xa0The Immortal\\xa0Reduced base range value by 10.\\xa0BowsFixed an issue where the Arsenic Bite Bow would displa', 'offsets_in_document': [{'start': 367, 'end': 397}], 'offsets_in_context': [{'start': 60, 'end': 90}], 'document_ids': ['cff4415fe2e69d3178c6c550321662f1'], 'meta': {'name': 'Destiny 2 Update 7.1.0 - Season of the Deep', 'link': '/7/en/News/Article/season-deep-update-7-1-0', 'pub_date': '2023-05-23T16:30:00Z', 'unique_id': 'blt56002d0e3c869908', 'description': 'The one about Season of the Deep.', '_split_id': 12, '_split_overlap': [{'doc_id': 'f80e490fa3813d2a187ebdddc7ffe19b', 'range': (0, 188)}, {'doc_id': 'b78ae1022598db992d26c83d1c67e4a7', 'range': (1636, 1774)}]}}>,\n",
      "             <Answer {'answer': '(SMG)', 'type': 'extractive', 'score': 0.004935511387884617, 'context': ' to improve the process even further.\\nDestiny Player Support\\nMy Immortal (SMG)\\nThe Player Support team is back this week and ready to share their know', 'offsets_in_document': [{'start': 965, 'end': 970}], 'offsets_in_context': [{'start': 73, 'end': 78}], 'document_ids': ['918cd78f155d33a731ef4a87556992fe'], 'meta': {'name': 'This Week At Bungie – 03/23/2023', 'link': '/7/en/News/Article/twab_03_23_23', 'pub_date': '2023-03-23T00:00:00Z', 'unique_id': 'blt1a3356ebe245b4b7', 'description': 'This week at Bungie, we’re sharing Crucible info and upcoming changes.', '_split_id': 3, '_split_overlap': [{'doc_id': 'df7cf92142e3b5e2beb4a4ffacb98e1', 'range': (0, 73)}, {'doc_id': '490ed34cc478ba837d8e6a51eea80e91', 'range': (1761, 1857)}]}}>,\n",
      "             <Answer {'answer': \"won't be as tightly tied to Guardian\", 'type': 'extractive', 'score': 0.00113866594620049, 'context': \" be faster than it was to rank from 6 to 7.Commendations won't be as tightly tied to Guardian Rank progression.Reduced the requirements for Ranks 7 to\", 'offsets_in_document': [{'start': 1346, 'end': 1382}], 'offsets_in_context': [{'start': 57, 'end': 93}], 'document_ids': ['eb95a3b5be62fdce9cdb46795d052b0d'], 'meta': {'name': 'This Week At Bungie - 04/06/2023', 'link': '/7/en/News/Article/this-week-at-bungie-04-06-23', 'pub_date': '2023-04-06T18:00:00Z', 'unique_id': 'bltec01481e4b6d22ac', 'description': \"Let's get that Conqueror title\", '_split_id': 1, '_split_overlap': [{'doc_id': '61f5d59aa750177fa703148bc2cdfc2e', 'range': (0, 792)}]}}>,\n",
      "             <Answer {'answer': 'out', 'type': 'extractive', 'score': 0.0006004220340400934, 'context': ' go make Shaxx proud and get ready to build and save your perfect PvP loadout next week.\\xa0Embrace the Passive ArtifactThe Seasonal Artifact has been wi', 'offsets_in_document': [{'start': 597, 'end': 600}], 'offsets_in_context': [{'start': 74, 'end': 77}], 'document_ids': ['1e9229fcb3e49a6d29c4ad80583908fe'], 'meta': {'name': 'This Week At Bungie - 02/23/23', 'link': '/7/en/News/Article/twab-02-23-2023', 'pub_date': '2023-02-23T19:00:00Z', 'unique_id': 'blt4abdcdd36712be1a', 'description': 'Only five more sleeps', '_split_id': 4, '_split_overlap': [{'doc_id': '64558163708baf2c1fc4a83043ce5336', 'range': (0, 156)}, {'doc_id': '6dc8a662f51f4b4bcf6439d8ec43c0bc', 'range': (1563, 1741)}]}}>,\n",
      "             <Answer {'answer': '750 RPM Strand Legendary Submachine Gun that can roll with some crazy perks, like Rangefinder and Killing Wind', 'type': 'extractive', 'score': 0.0005996858235448599, 'context': 'mortal, a brand new 750 RPM Strand Legendary Submachine Gun that can roll with some crazy perks, like Rangefinder and Killing Wind. I’ll be looking fo', 'offsets_in_document': [{'start': 109, 'end': 219}], 'offsets_in_context': [{'start': 20, 'end': 130}], 'document_ids': ['ce5d96c84537110efcb937296a10e176'], 'meta': {'name': 'This Week At Bungie - 03/16/2023', 'link': '/7/en/News/Article/twab_03_16_2023', 'pub_date': '2023-03-16T19:00:00Z', 'unique_id': 'bltee5d207f8857369b', 'description': 'The Gensym Scribe of the Radiolarian Lake', '_split_id': 4, '_split_overlap': [{'doc_id': '42cd444dd4dab09c757dd9266e92efaf', 'range': (0, 67)}, {'doc_id': '7bb3a05823c324ffbf6ae8a8d1d93383', 'range': (1420, 1600)}]}}>],\n",
      " 'documents': [<Document: {'content': \"We're investigating a change to address the issue in an upcoming release.\\nGuardian Ranks Updates\\nAs we’ve watched new and veteran players alike work through their Guardian Ranks since Lightfall’s launch, we realized the Legendary and Master Lost Sector objectives were placed a bit too early in the progression. In today’s update, we've moved both the solo completion and solo flawless objectives up to a higher Guardian Rank, so fewer players will hit the same bottleneck at Rank 6:\\nLegend Lost Sector Guardian Rank objectives have moved from Rank 7 to Rank 8.\\nMaster Lost Sector Guardian Rank objectives have moved from Rank 9 to Rank 10.\\nCombined with last week’s reduction to Commendations targets in Ranks 7 through 11, these changes will make for a smoother progression path for everyone through the Guardian Ranks system. We're also working on a broader “rank remix” in the near future to improve the process even further.\\nDestiny Player Support\\nMy Immortal (SMG)\\nThe Player Support team is back this week and ready to share their known issues.\\nKnown Issues List / Help Forums / Bungie Help Twitter\\nKNOWN ISSUES\\nWhile we continue investigating various known issues, here is a list of the latest issues that were reported to us in our #Help forum:\\nThe Dimensional Hypotrochoid Grenade Launcher can have a range Masterwork.\\nNon-Lightfall quests show up under the Lightfall quest category.\\nHunters that die and have Strand reapplied will lose their first Strand Aspect.\\nThunderhead Grips are missing as an ornament for Armor Synthesis.\\nCertain Heavy weapon archetypes are not benefitting from equipping a third reserve mod.\\nUnpowered melee can produce fast melee combos in quick succession.\\nCommendations are greyed out as already given in some activities.\\nMaster dungeons aren't showing Artifice armor in the reward preview when selecting the activity.\\n\", 'content_type': 'text', 'score': 0.8244004024093503, 'meta': {'name': 'This Week At Bungie – 03/23/2023', 'link': '/7/en/News/Article/twab_03_23_23', 'pub_date': '2023-03-23T00:00:00Z', 'unique_id': 'blt1a3356ebe245b4b7', 'description': 'This week at Bungie, we’re sharing Crucible info and upcoming changes.', '_split_id': 3, '_split_overlap': [{'doc_id': 'df7cf92142e3b5e2beb4a4ffacb98e1', 'range': (0, 73)}, {'doc_id': '490ed34cc478ba837d8e6a51eea80e91', 'range': (1761, 1857)}]}, 'id_hash_keys': ['content'], 'embedding': None, 'id': '918cd78f155d33a731ef4a87556992fe'}>,\n",
      "               <Document: {'content': \"Fixed an issue where Omolon Heavy Grenade Launchers would not benefit from the recent buff to their projectile collision radius. They are now consistent with other Heavy Grenade Launchers.\\xa0Submachine GunsAggressive Submachine Guns\\xa0Reduced base damage from 15 to 14.\\xa0Increased precision hit multiplier from 1.45 to 1.5 (crit damage goes from 21.8 to 21).\\xa0The Immortal\\xa0Reduced base range value by 10.\\xa0BowsFixed an issue where the Arsenic Bite Bow would display an incorrect charge time on its tooltip.\\xa0Updated the stats on the Tyranny of Heaven Bow to better compete with the current selection of Lightweight Bows.\\xa0Miscellaneous and Visuals\\xa0Fixed an issue where the glow when firing on the Nessa's Oblation Legendary Shotgun was not as bright as intended.Fixed an issue where the Nasreddin and Caretaker Legendary Swords would not display their proper stats.\\xa0Fixed an issue where the muzzle flash on the Stay Frosty Pulse Rifle was brighter than intended.\\xa0Exotic WeaponsEyes of Tomorrow\\xa0Killing 4 targets with a missile volley will refund 1 ammo.\\xa0Graviton Lance\\xa0Increased RPM from 257 to 300 (reduced burst delay by 20%, now matches Revision Zero's Häkke Heavy Rounds rate of fire).\\xa0Rebalanced damage per shot.\\xa0Increased first shot damage from:\\xa0Body: 9.5 to 19\\xa0Crit: 15.7 to 31.4\\xa0Decreased second shot damage from:Body: 35.6 to 25.6\\xa0Crit: 58.7 to 42.3\\xa0Jade Rabbit\\xa0Added buff text to show when Fate of All Fools increased body shot damage is active.\\xa0Quickly hitting 3 critical hits now refunds 3 shots instead of 1.\\xa0The Manticore\\xa0Increased the catalyst's damage resistance from tier 3 to tier 4.\\xa0Increased movement speed during hang time.\\xa0Activating the catalyst perk (through an airborne kill or sustained damage following an airborne kill) now partially refills the magazine.\\xa0\", 'content_type': 'text', 'score': 0.8117812418465914, 'meta': {'name': 'Destiny 2 Update 7.1.0 - Season of the Deep', 'link': '/7/en/News/Article/season-deep-update-7-1-0', 'pub_date': '2023-05-23T16:30:00Z', 'unique_id': 'blt56002d0e3c869908', 'description': 'The one about Season of the Deep.', '_split_id': 12, '_split_overlap': [{'doc_id': 'f80e490fa3813d2a187ebdddc7ffe19b', 'range': (0, 188)}, {'doc_id': 'b78ae1022598db992d26c83d1c67e4a7', 'range': (1636, 1774)}]}, 'id_hash_keys': ['content'], 'embedding': None, 'id': 'cff4415fe2e69d3178c6c550321662f1'}>,\n",
      "               <Document: {'content': 'Visit the Guardian Games Cup page for more information on how to get started.It all begins on Tuesday, May 2! Make sure you say hi to (Grandma) Levante, raise some money with the Bungie Foundation, and have fun out there.Trials Community VoteAlright Guardians, it’s time to get your Trials map voting on again. This time we have Rusted Lands, Convergence, and Disjunction up for grabs. On May 2, players that signed up for Bungie emails will be able to vote for which map they want to see.Trials Community Map Vote:• Rusted Lands• Convergence• DisjunctionUpcoming Strand UpdatesSandbox team here to make a patch notes clarification and provide a quick preview of an ability-balance article we’ll be posting next week. We wanted to provide more clarity on the change to the Ashes to Assets and Hands On armor mods in the patch notes we released after Update 7.0.5.0 went live earlier this week.Our patch notes made it sound like when both the Ashes to Assets and Hands On are equipped, only one of the mods will work. In reality, these mods can still be used at the same time, and the change here is that defeating an enemy specifically with the grapple melee will no longer double dip and count as both a grenade and melee kill. This change was made to make the grapple melee consistent with how other abilities in the game interact with these mods.On the subject of Strand abilities, we’re generally happy with how Strand is performing, and we’re continuing to monitor data and player sentiment as we move forward. We’ll be balancing Strand over time, but in the short term, we’re making some Strand changes in Season 21 as part of a larger ability-balance pass. ', 'content_type': 'text', 'score': 0.7895056868068544, 'meta': {'name': 'This Week At Bungie – 04/27/2023', 'link': '/7/en/News/Article/twab_april_27_2023', 'pub_date': '2023-04-27T18:00:00Z', 'unique_id': 'blt3e537675f887b87e', 'description': 'This week at Bungie, we have Trials map voting.', '_split_id': 1, '_split_overlap': [{'doc_id': '5cb1ed00223229c42adb4e39124a0ed', 'range': (0, 109)}, {'doc_id': '3d563ec3d61179bbce446ef555086dde', 'range': (1516, 1663)}]}, 'id_hash_keys': ['content'], 'embedding': None, 'id': 'f5984d99f2f53f341d39b7b20c0b63f9'}>,\n",
      "               <Document: {'content': 'Fixed an issue causing the Dynamo mod to extend active Supers when a class ability was used.\\xa0The Harmonic Resistance now displays a message while used on a Strand subclass indicating that it provides no benefit.\\xa0MiscellaneousFixed issues causing Artifice Armor from Spire of the Watcher and the Warlock Deep Explorer Boots to not be able to be made into armor ornaments.\\xa0Players can no longer reacquire the Season 17 or 18 Artifact from Collections.\\xa0WeaponsGlobalA full-auto melee setting is now available.\\xa0Weapon ReticlesA setting to change the reticle color when it is over an enemy target is now available. Players can now change their hip-fire reticle color both in its normal state and in the state where it is above an enemy.\\xa0Weapon CraftingCrafted and enhanced weapons using Special ammo now make slightly faster weapon progress from kills.\\xa0Weapon crafting components no longer require Legendary Shards. This change is excluded from weapon enhancing, which still requires Legendary Shards at enhancement tier 1.\\xa0Last Wish weapons can now be crafted. Each week, players can visit Hawthorne in the Tower to acquire a pursuit to complete all encounters of the Last Wish raid. Completion will award guaranteed Last Wish pattern progress until all patterns are acquired. In addition, completion of the pursuit will unlock a vendor exchange on Hawthorne for that week where players can spend Spoils of Conquest to purchase 1 additional Deepsight weapon from a selection of Last Wish weapons they\\'ve previously obtained.Players can now obtain a limited number of Deepsight Harmonizers from the Season Pass. On a weapon with an available pattern that has never had Deepsight, a player can apply this currency to immediately give the weapon Deepsight for Pattern Extraction through Deepsight Activation.\"', 'content_type': 'text', 'score': 0.7869848766396343, 'meta': {'name': 'Destiny 2 Update 7.1.0 - Season of the Deep', 'link': '/7/en/News/Article/season-deep-update-7-1-0', 'pub_date': '2023-05-23T16:30:00Z', 'unique_id': 'blt56002d0e3c869908', 'description': 'The one about Season of the Deep.', '_split_id': 10, '_split_overlap': [{'doc_id': 'f9f4624f5704e70b548deef9e61d7f38', 'range': (0, 92)}, {'doc_id': 'f80e490fa3813d2a187ebdddc7ffe19b', 'range': (1607, 1801)}]}, 'id_hash_keys': ['content'], 'embedding': None, 'id': '84797e3726d5caa569d74d2e210e438d'}>,\n",
      "               <Document: {'content': \"This is what we talked about last week, in case you need a refresh:We honored Amanda HollidayTalked about the buffs coming with the mid-Season updateWe gave details on some changes to difficulty and CommendationsWe explained why a certain old-school weapon has been used as placeholderWe shared some amazing wallpapersToday's TWAB is all about:A recap of this week’s “Reflecting on Lightfall” articleGrandmaster Nightfalls start next TuesdayA preview of the weapons coming and leaving in Season 21New Prime Gaming rewardsOur Player Support Report, followed by some community creationsReflecting on LightfallYesterday, we published a retrospective on Lightfall's launch, the feedback you have given us, and some of the quality-of-life changes we have been cooking up for Season 21 and onwards. Destiny 2 is an evolving world, and we’re committed to making sure the resolution of our first saga lives up to its legacy.As a recap, these were the main topics featured:Guardian Ranks are meant to represent your accomplishments.Your rank displayed will reflect your highest rank earned last season.If you surpass that rank in the current season, the number will update.Renewing previously completed ranks will be fast-tracked.Returning players will start at Rank 5, and ranking from 5 to 7 will be faster than it was to rank from 6 to 7.Commendations won't be as tightly tied to Guardian Rank progression.Reduced the requirements for Ranks 7 to 9.Leadership commendations for Ranks 10 to 11 will be retroactive.We are adding a ‘Best Dressed’ commendation.Most activities will receive adjustments to difficulty and/or rewards.Enemies won't be as tanky in Legend and Master activities.Scoring objectives will be adjusted to better suit bounties and Guardian Rank progression.Improved Terminal Overload matchmaking.Adjustments to team-unfriendly Vanguard bounties are coming, and more.There will be better ways to obtain Exotic armor.Vex Strike Force will award unobtained Exotic armor pieces, on a knockout list.We are introducing Exotic armor focusing next Season.Updates to more than 15 Exotic armor pieces are coming next Season.Buildcrafting next steps for Season 21.Two new armor mods are coming.Shoot to Loot will collect Orbs of Power in addition to ammo.We are adding one Strand Aspect for each class.Artifact Perks will be refunded and applied individually.You will no longer need to full reset to change your build!There's no Power level increase in Season 21, so the schedule will change a bit:Trials of Osiris available in Week 1.Weekly Grandmaster Nightfalls available in Week 4.Conqueror gilding node is still planned for Week 7.That's a lot to chew, even as bullet points, but if you are really into Destiny 2 and want to know what's coming, we suggest you go read the whole article.Who wants to be a Conqueror?Season 20’s Grandmaster Nightfalls start on April 11. \", 'content_type': 'text', 'score': 0.7865408885909482, 'meta': {'name': 'This Week At Bungie - 04/06/2023', 'link': '/7/en/News/Article/this-week-at-bungie-04-06-23', 'pub_date': '2023-04-06T18:00:00Z', 'unique_id': 'bltec01481e4b6d22ac', 'description': \"Let's get that Conqueror title\", '_split_id': 1, '_split_overlap': [{'doc_id': '61f5d59aa750177fa703148bc2cdfc2e', 'range': (0, 792)}]}, 'id_hash_keys': ['content'], 'embedding': None, 'id': 'eb95a3b5be62fdce9cdb46795d052b0d'}>,\n",
      "               <Document: {'content': \"In activities with Notswap, if you change your Exotic armor during the match, all of your ability energy is removed, just like if you swapped your subclass.\\xa0We will be monitoring gameplay and community discussion around this issue, but we are not currently planning on adding it to Gambit or other Crucible playlists.\\xa0We are also not planning on adding it to any PvE modes — anywhere it might provide a meaningful advantage already has equipment locked.\\xa0More details to come in a Crucible blog post next Season! Until then, go make Shaxx proud and get ready to build and save your perfect PvP loadout next week.\\xa0Embrace the Passive ArtifactThe Seasonal Artifact has been with us for a while now, and we have adjusted its functionalities to better suit how you face some of the most challenging activities in Destiny 2 and to spice up the meta a bit each Season. We’re making several improvements to it in Lightfall, starting with the following:Artifact mods are now artifact perks.These are passive and you don't have to slot them into armor pieces. Once you unlock an artifact perk, it automatically applies to your Guardian.Twelve perks are unlockable per character.You can reset the artifact at no cost any number of times.The anti-Champion weapons featured on the artifact can also be Overcharged in higher difficulty activities.To accommodate these changes, Artifice Armor has now has a unique mod slot that grants three additional points to a character stat of your choice.This change is retroactive to all Artifice Armor.But why tell you when we can show? Here's what the Ascendant Scepter brings to the table for Season 20.Column 1Anti-Barrier Sidearms - Your equipped Sidearms fire shield-piercing rounds and stun Barrier Champions. \", 'content_type': 'text', 'score': 0.78280359869776, 'meta': {'name': 'This Week At Bungie - 02/23/23', 'link': '/7/en/News/Article/twab-02-23-2023', 'pub_date': '2023-02-23T19:00:00Z', 'unique_id': 'blt4abdcdd36712be1a', 'description': 'Only five more sleeps', '_split_id': 4, '_split_overlap': [{'doc_id': '64558163708baf2c1fc4a83043ce5336', 'range': (0, 156)}, {'doc_id': '6dc8a662f51f4b4bcf6439d8ec43c0bc', 'range': (1563, 1741)}]}, 'id_hash_keys': ['content'], 'embedding': None, 'id': '1e9229fcb3e49a6d29c4ad80583908fe'}>,\n",
      "               <Document: {'content': \"So, Trials of Osiris is back and there are new rewards on the menu. First, we have The Immortal, a brand new 750 RPM Strand Legendary Submachine Gun that can roll with some crazy perks, like Rangefinder and Killing Wind. I’ll be looking for that combination for sure. Then, there’s Astral Horizon, a Kinetic Aggressive Frame Shotgun returning with some new perks. Worry not, Slideshot, Surplus, and Opening Shot are still there, but I would keep an eye on Shot Swap or Elemental Capacitor if I were you.Don’t forget that the Trials of Osiris reward system has been slightly changed to work the same way as other Tower vendors. Instead of carrying your earned engrams with you, they’ll stay with Saint-14 until you decode them. Apart from the currently featured ones, there's the option to focus weapons and armor sets that are no longer in rotation for a certain number of engrams and resources. Trials engrams from previous Seasons can’t be used in this new system and must be decrypted at Master Rahool.Iron Banner Returns Next Week We previously announced that we would be running Iron Banner three times each Season again, starting in Season 20. As a reminder, we also increased Iron Banner reputation gains from winning matches starting in the final week of Iron Banner in Season 19, adjusted the balance of multipliers between challenges and gear, and significantly increased the multiplier for wearing an emblem. In Season 20, players will be able to claim this emblem at Rank 16 on the first reset of Iron Banner, so more players will have a chance to equip it and start earning 50% more rep! \", 'content_type': 'text', 'score': 0.7818757702596216, 'meta': {'name': 'This Week At Bungie - 03/16/2023', 'link': '/7/en/News/Article/twab_03_16_2023', 'pub_date': '2023-03-16T19:00:00Z', 'unique_id': 'bltee5d207f8857369b', 'description': 'The Gensym Scribe of the Radiolarian Lake', '_split_id': 4, '_split_overlap': [{'doc_id': '42cd444dd4dab09c757dd9266e92efaf', 'range': (0, 67)}, {'doc_id': '7bb3a05823c324ffbf6ae8a8d1d93383', 'range': (1420, 1600)}]}, 'id_hash_keys': ['content'], 'embedding': None, 'id': 'ce5d96c84537110efcb937296a10e176'}>,\n",
      "               <Document: {'content': \"And don’t worry, if it takes a little bit to find the style that’s right for you, that’s OK – play around, and have fun!MobilityIdeal for HuntersFocuses on mobility and improving overall movement.ResilienceIdeal for TitansOffers increased damage reduction.RecoveryIdeal for WarlocksHealth regenerates faster.Discipline - Grenade cooldown reduction.Intellect - Super cooldown reduction.Strength - Melee cooldown reduction.Now that we know the base formula for buildcrafting, let’s talk about actual buildcrafting.What is Buildcrafting and What's the Best Way to Build in Destiny 2?Buildcrafting is the art of creating a build that makes sense for your playstyle that makes you even more powerful with some strategic planning. The art of buildcrafting has progressed a lot since Destiny 1 and this is something we are going to continue to evolve season over season, but here’s what you need to know about the here and now. First, let’s talk about mods and how they are important with the newly implemented Loadouts feature.Mods and How They WorkMods are a vital component to buildcrafting. For example, some instances will contain a specific type of enemy called Champions and to efficiently defeat them, Guardians will need to specify their damage output. This is done through mod components that can be slotted onto armor pieces for some additional perks.How to get mods:Guardian Rank progression.Seasonal Artifact progression.A critical change to note here is that with Lightfall, you don’t have to slot these Artifact mods (now called perks) into an armor mod slot. \", 'content_type': 'text', 'score': 0.7807921326707171, 'meta': {'name': 'Destiny 2: New and Returning Player Guide', 'link': '/7/en/News/Article/official-destiny-2-guide-new', 'pub_date': '2023-03-03T23:30:00Z', 'unique_id': 'blt5a82a15b55a1407c', 'description': 'Destiny 2 tips and tricks for new and returning players suiting back up for Lightfall and beyond.', '_split_id': 17, '_split_overlap': [{'doc_id': '643a845e4985ffd0ba68daf0ca823813', 'range': (0, 724)}, {'doc_id': 'df4b35387e1abd7878e4e5ef7f9b5f7f', 'range': (1255, 1567)}]}, 'id_hash_keys': ['content'], 'embedding': None, 'id': 'e4ffa78288556bccd6aaef40406756b9'}>,\n",
      "               <Document: {'content': \"Arc final blows extend the duration of this benefit.Updates to Enemy Elemental Shields\\xa0We have one more update coming with Season of the Deep, one we haven't mentioned until today: we are changing how enemy shields look. To tell you all about it, here's the Destiny 2 Combat Team.Destiny 2 Combat Team:\\xa0Over the past few years, the Destiny Dev team has introduced numerous changes to the core game experience as we’ve overhauled internal systems, as well as endeavored to make the game more accessible to our audience. The change we are about to talk about touches on both of these topics.With the launch of Season of the Deep we’re introducing a change to most combatant shields that will update their visuals across the entire game. This update had the explicit goal of not affecting Destiny’s existing gameplay, so this will be a visual-only change.This is how shields are nowThis is how shields will look starting next season:Given that the majority of these shields have been in service since 2017, the number of bespoke combatant shields has become more difficult to maintain as we’ve significantly expanded the number of enemy combatants in the game. To address this challenge, we’ve made a large backend shift to a new shield system that will be easier to maintain and improve upon.\\xa0Which brings us to our next point: accessibility.When we decided to overhaul this system, we took the opportunity to create visuals that are more accessible for colorblind players and players with other visual impairments. As such, we’ve minimized visual information that is not relevant to gameplay in favor of bringing to the foreground more combat-relevant details. This primarily takes form in more clearly surfacing the unit’s shield element. \", 'content_type': 'text', 'score': 0.7800105937280969, 'meta': {'name': 'This Week At Bungie - 05/18/2023', 'link': '/7/en/News/Article/this_week_at_bungie_05_18_23', 'pub_date': '2023-05-18T18:00:00Z', 'unique_id': 'blt00659ca627b99132', 'description': 'Under the methane sea', '_split_id': 7, '_split_overlap': [{'doc_id': 'f0e792581170188b71e4a4b97e621cc8', 'range': (0, 220)}, {'doc_id': 'c7e95a50c8197ee73693d2edddac843', 'range': (1660, 1738)}]}, 'id_hash_keys': ['content'], 'embedding': None, 'id': 'f945aa270096957e167e26c32afc9aa5'}>,\n",
      "               <Document: {'content': \"It offers uniquely themed rewards that reflect the history of the Iron Lords.Trials of Osiris: Saint-14A competitive three-player PvP weekend activity that challenges you to embark on win streaks for as long as they can.Destiny 2 Classes ExplainedThere are three classes available for you to choose from when crafting your ideal Guardian; to level up more quickly and to explore the radically different abilities each class brings to a fight, we suggest running more than one character if you have the time, one character of each subclass. Here’s what you need to know about Destiny 2 subclasses when choosing the one that’s right for you:Destiny 2 Classes:HuntersAgile, known for their mobility and stealth, and perfect for those that favor rogue classes.WarlocksStrategists and, if wanted, excellent healers; ideal for those who favor magic classes.TitansIf you like to punch, Titans are for you. This class is perfect for those that favor tank classes like warriors and barbarians. They also have powerful shielding capabilities for protecting the entire fireteam.Subclasses: What's Your Destiny 2 Playstyle?Subclasses are where your character masters a combat style unique to their class. Rooted heavily in the elements, here’s a quick breakdown of the available options:SolarScorch your enemies and heal your allies.ArcBecome lightning itself and unleash your fury.VoidUnleash pure destruction and protect your fireteam.The below subclasses are available for those with the Beyond Light and Lightfall expansions, respectively:StasisFreeze your foes and change the battlefield.StrandWeave the fabric of the cosmos to create new mobility options and suspend your enemies.These subclass skill trees will vary depending on the class chosen, but each has their role when in combat. \", 'content_type': 'text', 'score': 0.7777680091247866, 'meta': {'name': 'Destiny 2: New and Returning Player Guide', 'link': '/7/en/News/Article/official-destiny-2-guide-new', 'pub_date': '2023-03-03T23:30:00Z', 'unique_id': 'blt5a82a15b55a1407c', 'description': 'Destiny 2 tips and tricks for new and returning players suiting back up for Lightfall and beyond.', '_split_id': 9, '_split_overlap': [{'doc_id': '4c1ca44fb7ed58411b607090d64c8325', 'range': (0, 539)}, {'doc_id': '92f7f1701ea7ca842b142500f3db565b', 'range': (1193, 1781)}]}, 'id_hash_keys': ['content'], 'embedding': None, 'id': '950ea378a4836bd56a194fe7804ddc1'}>],\n",
      " 'no_ans_gap': 2.1059885025024414,\n",
      " 'node_id': 'Reader',\n",
      " 'params': {'Reader': {'top_k': 5}, 'Retriever': {'top_k': 10}},\n",
      " 'query': 'what was the change to the immortal?',\n",
      " 'root_node': 'Query'}\n"
     ]
    }
   ],
   "source": [
    "from pprint import pprint\n",
    "\n",
    "pprint(prediction)\n"
   ]
  },
  {
   "cell_type": "code",
   "execution_count": 74,
   "metadata": {},
   "outputs": [
    {
     "name": "stdout",
     "output_type": "stream",
     "text": [
      "'Query: what was the change to the immortal?'\n",
      "'Answers:'\n",
      "[   <Answer {'answer': 'Reduced base range value by 10', 'type': 'extractive', 'score': 0.4572427272796631, 'context': '.45 to 1.5 (crit damage goes from 21.8 to 21).\\xa0The Immortal\\xa0Reduced base range value by 10.\\xa0BowsFixed an issue where the Arsenic Bite Bow would displa', 'offsets_in_document': [{'start': 367, 'end': 397}], 'offsets_in_context': [{'start': 60, 'end': 90}], 'document_ids': ['cff4415fe2e69d3178c6c550321662f1'], 'meta': {'name': 'Destiny 2 Update 7.1.0 - Season of the Deep', 'link': '/7/en/News/Article/season-deep-update-7-1-0', 'pub_date': '2023-05-23T16:30:00Z', 'unique_id': 'blt56002d0e3c869908', 'description': 'The one about Season of the Deep.', '_split_id': 12, '_split_overlap': [{'doc_id': 'f80e490fa3813d2a187ebdddc7ffe19b', 'range': (0, 188)}, {'doc_id': 'b78ae1022598db992d26c83d1c67e4a7', 'range': (1636, 1774)}]}}>,\n",
      "    <Answer {'answer': '(SMG)', 'type': 'extractive', 'score': 0.004935511387884617, 'context': ' to improve the process even further.\\nDestiny Player Support\\nMy Immortal (SMG)\\nThe Player Support team is back this week and ready to share their know', 'offsets_in_document': [{'start': 965, 'end': 970}], 'offsets_in_context': [{'start': 73, 'end': 78}], 'document_ids': ['918cd78f155d33a731ef4a87556992fe'], 'meta': {'name': 'This Week At Bungie – 03/23/2023', 'link': '/7/en/News/Article/twab_03_23_23', 'pub_date': '2023-03-23T00:00:00Z', 'unique_id': 'blt1a3356ebe245b4b7', 'description': 'This week at Bungie, we’re sharing Crucible info and upcoming changes.', '_split_id': 3, '_split_overlap': [{'doc_id': 'df7cf92142e3b5e2beb4a4ffacb98e1', 'range': (0, 73)}, {'doc_id': '490ed34cc478ba837d8e6a51eea80e91', 'range': (1761, 1857)}]}}>,\n",
      "    <Answer {'answer': \"won't be as tightly tied to Guardian\", 'type': 'extractive', 'score': 0.00113866594620049, 'context': \" be faster than it was to rank from 6 to 7.Commendations won't be as tightly tied to Guardian Rank progression.Reduced the requirements for Ranks 7 to\", 'offsets_in_document': [{'start': 1346, 'end': 1382}], 'offsets_in_context': [{'start': 57, 'end': 93}], 'document_ids': ['eb95a3b5be62fdce9cdb46795d052b0d'], 'meta': {'name': 'This Week At Bungie - 04/06/2023', 'link': '/7/en/News/Article/this-week-at-bungie-04-06-23', 'pub_date': '2023-04-06T18:00:00Z', 'unique_id': 'bltec01481e4b6d22ac', 'description': \"Let's get that Conqueror title\", '_split_id': 1, '_split_overlap': [{'doc_id': '61f5d59aa750177fa703148bc2cdfc2e', 'range': (0, 792)}]}}>,\n",
      "    <Answer {'answer': 'out', 'type': 'extractive', 'score': 0.0006004220340400934, 'context': ' go make Shaxx proud and get ready to build and save your perfect PvP loadout next week.\\xa0Embrace the Passive ArtifactThe Seasonal Artifact has been wi', 'offsets_in_document': [{'start': 597, 'end': 600}], 'offsets_in_context': [{'start': 74, 'end': 77}], 'document_ids': ['1e9229fcb3e49a6d29c4ad80583908fe'], 'meta': {'name': 'This Week At Bungie - 02/23/23', 'link': '/7/en/News/Article/twab-02-23-2023', 'pub_date': '2023-02-23T19:00:00Z', 'unique_id': 'blt4abdcdd36712be1a', 'description': 'Only five more sleeps', '_split_id': 4, '_split_overlap': [{'doc_id': '64558163708baf2c1fc4a83043ce5336', 'range': (0, 156)}, {'doc_id': '6dc8a662f51f4b4bcf6439d8ec43c0bc', 'range': (1563, 1741)}]}}>,\n",
      "    <Answer {'answer': '750 RPM Strand Legendary Submachine Gun that can roll with some crazy perks, like Rangefinder and Killing Wind', 'type': 'extractive', 'score': 0.0005996858235448599, 'context': 'mortal, a brand new 750 RPM Strand Legendary Submachine Gun that can roll with some crazy perks, like Rangefinder and Killing Wind. I’ll be looking fo', 'offsets_in_document': [{'start': 109, 'end': 219}], 'offsets_in_context': [{'start': 20, 'end': 130}], 'document_ids': ['ce5d96c84537110efcb937296a10e176'], 'meta': {'name': 'This Week At Bungie - 03/16/2023', 'link': '/7/en/News/Article/twab_03_16_2023', 'pub_date': '2023-03-16T19:00:00Z', 'unique_id': 'bltee5d207f8857369b', 'description': 'The Gensym Scribe of the Radiolarian Lake', '_split_id': 4, '_split_overlap': [{'doc_id': '42cd444dd4dab09c757dd9266e92efaf', 'range': (0, 67)}, {'doc_id': '7bb3a05823c324ffbf6ae8a8d1d93383', 'range': (1420, 1600)}]}}>]\n"
     ]
    }
   ],
   "source": [
    "from haystack.utils import print_answers\n",
    "\n",
    "print_answers(\n",
    "    prediction,\n",
    "    details=\"all\" ## Choose from `minimum`, `medium`, and `all`\n",
    ")\n"
   ]
  }
 ],
 "metadata": {
  "kernelspec": {
   "display_name": "Python 3",
   "language": "python",
   "name": "python3"
  },
  "language_info": {
   "codemirror_mode": {
    "name": "ipython",
    "version": 3
   },
   "file_extension": ".py",
   "mimetype": "text/x-python",
   "name": "python",
   "nbconvert_exporter": "python",
   "pygments_lexer": "ipython3",
   "version": "3.11.3"
  },
  "orig_nbformat": 4
 },
 "nbformat": 4,
 "nbformat_minor": 2
}
