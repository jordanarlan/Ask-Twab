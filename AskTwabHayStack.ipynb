{
 "cells": [
  {
   "cell_type": "code",
   "execution_count": 1,
   "metadata": {},
   "outputs": [
    {
     "name": "stdout",
     "output_type": "stream",
     "text": [
      "An error occurred: 'NextPaginationToken'\n"
     ]
    }
   ],
   "source": [
    "import requests\n",
    "import os\n",
    "from importlib.machinery import SourceFileLoader\n",
    "import pandas as pd\n",
    "import logging\n",
    "import torch\n",
    "\n",
    "\n",
    "try:\n",
    "    config = SourceFileLoader(\"config\", \"config.py\").load_module()\n",
    "    os.environ['OPENAI_API_KEY'] = config.OPENAI_API_KEY\n",
    "\n",
    "    bungie_api_key = config.BUNGIE_API_KEY\n",
    "    endpoint = \"https://www.bungie.net/Platform/Content/Rss/NewsArticles/{pageToken}/\"\n",
    "    page_token = \"0\"\n",
    "    include_body = True\n",
    "    headers = {\n",
    "        \"X-API-Key\": bungie_api_key\n",
    "    }\n",
    "    params = {\n",
    "        \"includebody\": include_body\n",
    "    }\n",
    "\n",
    "    results = []\n",
    "\n",
    "    while page_token is not None:\n",
    "        response = requests.get(endpoint.format(pageToken=page_token), headers=headers, params=params)\n",
    "\n",
    "        if response.status_code == 200:\n",
    "            json_response = response.json()\n",
    "            if 'NewsArticles' in json_response['Response']:\n",
    "                results.extend(json_response['Response']['NewsArticles'])\n",
    "            else:\n",
    "                print(\"No NewsArticles found in the response.\")\n",
    "                break\n",
    "            page_token = json_response['Response']['NextPaginationToken']\n",
    "        else:\n",
    "            print(\"Error:\", response.status_code)\n",
    "            print(\"Response:\", response.text)\n",
    "            break\n",
    "except Exception as e:\n",
    "    print(\"An error occurred:\", str(e))\n"
   ]
  },
  {
   "cell_type": "code",
   "execution_count": 2,
   "metadata": {},
   "outputs": [
    {
     "data": {
      "text/plain": [
       "{'Title': 'This Week In Destiny - 06/15/2023',\n",
       " 'Link': '/7/en/News/Article/this-week-in-destiny-6-15-23',\n",
       " 'PubDate': '2023-06-15T00:00:00Z',\n",
       " 'UniqueIdentifier': 'blt85ee83215ddfaef7',\n",
       " 'Description': 'You’ve got sandbox questions, we’ve got answers. And some solid drip, as a treat.  ',\n",
       " 'HtmlContent': '<p>This week in Destiny, we’re TWIDdling our way into more epic fashion, answering some sandbox Qs, and offering up a few other reminders that some folks might be looking for. Before we get into this week’s shenanigans, however, let’s quickly look back at <a href=\"https://www.bungie.net/7/en/News/article/the_first_twid_06_08_2023\" target=\"_blank\">what went down last week</a>, in case you missed it:</p><ul><li>New blog name, who dis? Heralding in TWID.</li><li>Walk, walk, fashion baby with a brand-new Guardian fashion contest.</li><li>GM Nightfalls heads up, starting this week.</li><li>Supremacy returned to Crucible.</li><li>A very well-earned apology to Kalli, The Corrupted.</li><li>Patch 7.1.0.2 preview.</li></ul><p>Now for this week, here’s what we’ve got:</p><ul><li>Pride at Bungie 2023 recap and a free emote.</li><li>A nice little sandbox Q&amp;A to dive a little bit deeper into some of the most frequent burning questions.</li><li>Iron Banner is back next week with Eruption.</li><li>Fashion contest picks for #DrownInTheDrip.</li><li>PlayStation x Destiny 2 crossover art roundup.</li><li>What’s new from our Player Support Team with a new PSR.</li><li>Weekly #Destiny2AOTW and #Destiny2MOTW picks.</li></ul><p>Let’s dive in, shall we?</p><h2>Pride@Bungie and Trans@Bungie Say Good Morning (Say It Back)</h2><p>As you may already know, June is celebrated as Pride Month and our Pride@Bungie and Trans@Bungie teams couldn’t wait to share what Pride means with the entire studio and our players. But what is Pride Month and why does it matter? If you haven\\'t checked out the full blog yet, <a href=\"https://www.bungie.net/7/en/News/article/bungie-pride-2023\" target=\"_blank\">you can do so here</a>, but a small little recap includes why this period is still important today. According to the blog post, “It’s a celebration. It’s a family. It’s remembrance of a history full of people that were willing to put everything on the line for the freedom to be who they truly are. History like <a href=\"https://www.history.com/topics/gay-rights/the-stonewall-riots\" target=\"_blank\">1969’s Stonewall Riots</a> that sparked a flame that rages even now for the modern gay rights movement in the United States. History like same-sex marriage legalization efforts in countries like Spain, South Africa, Sweden, France, Austria, and so many more over the past 20 years.”</p><p>Knowing the history is important and knowing that there is still work to do, even more so. But we did say that we’re celebrating, and that means we want your Guardians to celebrate with us, so don’t forget to snag the new Rainbow Connection emote seen below. And if you haven’t grabbed last year’s spiffy transmat effect, you can do that too with both the emote and transmat codes below:</p><iframe src=\"https://www.youtube.com/embed/mYQ_8MskDTs\" allowfullscreen=\"\" frameborder=\"0\"></iframe><ul><li>New emote goodness: TK7-D3P-FDF</li><li>Last year’s transmat of rainbow-y glory: R9J-79M-J6C</li></ul><p>Share with us your own celebration for Pride month with @<a href=\"http://twitter.com/destinythegame\" target=\"_blank\">DestinytheGame </a>and @<a href=\"http://twitter.com/destiny2team\" target=\"_blank\">Destiny2Team</a>, we’d love to see how you are celebrating this month!</p><h2>Breaking Down Some Frequently Asked Questions, Sandbox Edition</h2><p>Earlier this month, we took to the <a href=\"https://twitter.com/Destiny2Team/status/1666506495931056129\" target=\"_blank\">official Destiny 2 Team account</a> to ask for some questions and feedback about anything to do with abilities, buildcrafting, weapons, and more. You all didn’t hesitate to share with us those thoughts that have been bouncing around in those noggins, and now we’ve got the team here with some answers to the most frequent questions we’ve seen.</p><p>Before we dive in, this is a good time to remind folks that this is an example of the type of content we’ll look to feature standalone Developer Insight blog posts in the future, so keep an eye out!</p><h3>Abilities</h3><p><strong>Question: In PvE, ability uptime is very high and has increased despite global changes to base cooldowns. What are the current thoughts on the ability energy economy?</strong></p><ul><li><strong>Gameplay team answer</strong>: The ability-energy economy is something we’re always evaluating and adjusting. With the massive number of sources that can grant ability energy, it’s always an area of concern. While we don’t have any sweeping changes to announce today, this is a continual area of focus for us. Destiny’s identity is fundamentally rooted in space-magic power fantasies, but we don’t want ability uptime to balloon to a point where the power spike from active abilities ceases to become a spike and becomes the norm.</li></ul><p><strong>Question: With aspects, armor mods, and artifact perks that rely on players being able to throw or destroy their created Tangles, the cooldown can feel frustrating. What is the intent behind the Tangle creation cooldown time and are there any plans to revisit it?</strong></p><ul><li>During Strand development, we experimented with a significantly lower Tangle-creation cooldown time. When the Tangle cooldown was too low, combat became extremely chaotic, with random explosions going off all over the battlefield. We don’t have any plans to go back to that level of uptime, but we agree that competition around Tangles can be frustrating. In Season 22, we’re currently planning on reducing the Tangle cooldown time from 15 seconds to 12 seconds.</li></ul><p><strong>Question: Broodweavers were intended to be the minion masters of Strand, but Threadlings can feel underwhelming in high-end content, especially with the potency of suspend. Are there any plans to adjust this relationship going forward?</strong></p><ul><li>We’re working on a two-pronged approach to this problem for Season 22. We agree that it can be hard for Threadlings to feel valuable as combatant health increases in high-difficulty PvE content. We also believe that suspend is currently too strong in PvE. For Season 22, we’re implementing a sizable increase in Threadling damage against PvE targets and reducing the duration and uptime of suspend sources in PvE. In addition, we’re making a change to the Broodweaver’s newest Strand aspect, The Wanderer, to address community feedback regarding its potency.</li></ul><p><strong>Question: How does the team feel about the current suite of grenades?</strong></p><ul><li>While we want all grenades to feel viable, some grenades are fundamentally better suited to specific situations or modes. We don’t expect perfect equalization as a result, but we want to avoid situations where a single option is clearly the best across many different combat roles. For Season 22, we’re making some small adjustments to the uptime of a few underperforming grenade options. As we move forward, we’ll continue to evaluate and adjust both overperforming and underperforming options as needed for the health of the sandbox.</li></ul><h3>Weapons</h3><p><strong>Question: Can/will Hand Cannons get a buff, not quite to Shadowkeep levels, but at least something?</strong></p><ul><li><strong>Weapons Team answer</strong>: Note that Hand Cannons have been touched several times over the past few years, and the current PvE damage numbers mean that compared to pre-Shadowkeep they currently deal roughly the same damage per crit, and almost double the body damage. Reverting to Shadowkeep numbers would be a substantial nerf for anyone who ever misses a crit, which we’re not planning to do. The overall balance of PvE has changed substantially over the last few years though, and some weapons have suffered as a result.</li><li>We agree though, which is why Hand Cannons got an extra 20% damage in the Season 20 mid-season update. This didn’t move the needle as much as we’d like, hand cannons still struggle to find a niche in PvE. Their damage output is comparable to other weapon types, but reload speed and a small-ish magazine make it painful to run out of ammo. There’s some room to bump them up a little more against minor enemies, but what if they did what they looked like and became a primary ammo option for chunking down tougher single enemies? Here’s what we’re currently playtesting for a future season (numbers may still change), along with a quick preview of specific Hand Cannons that we felt languished more than most:</li></ul><ul><li><span></span><span>Increased reload speed at 0 stat by 15%, this benefit scales down at increasing stat, with 100 stat being unchanged – this is a substantial benefit to Hand Cannons with low reload stat, which includes several Aggressive and Precision Hand Cannons.</span></li><li><span>PvE Damage</span><ul><li><span>Increased damage against minors (red bars) by 20%.</span></li><li><span>Increased damage against majors (orange bars) by 75%.</span></li></ul></li><li><span>Heavy Burst Hand Cannons</span><ul><li><span>Changed the Warden\\'s Law Legendary Hand Cannon to be the first member of a new subfamily, Heavy Burst Hand Cannon. This fires a two-round burst, and is overall much more satisfying to use than the previous version, while still benefiting from some of the unique properties of the original.</span></li></ul></li></ul><p><strong>Question: Kinetic weapons seem to be falling behind as builds get more intricate. Are there any plans or ideas to make them more interesting to help integrate them into builds?</strong></p><ul><li>We’ve also noticed this. We’ve poked at the issue a little, with the damage increase vs. unshielded enemies, and the Kinetic Tremors perk, but we’ve also prioritized shipping more Strand and Stasis weapons in the Kinetic slot to equalize those numbers a little and ensure that all slots can tie into buildcrafting. We’re continuing to look at Kinetic and have something planned on a year-of-The-Final-Shape timeline that may make them a little more unique, but maybe it’s time for that Kinetic subclass? Probably not.</li></ul><p><strong>Question: How’s the team feeling about the current state of Glaives? What about the Exotics?</strong></p><ul><li>We’ve got a substantial Glaive tuning pass coming in a future season (currently this is on Season 23), aiming to make them more satisfying to use, particularly in PvP.</li><li>We’re not happy with the current state of the class-specific Exotic Glaives and are making some major changes to them when we touch Glaives all up. This will likely take the form of adjusting how players activate the Exotic perk along with some other changes.</li></ul><p><strong>Question: How do you determine what gets nerfed and what gets buffed. Do those parameters change season over season?</strong></p><ul><li>Just to comment on the persistent “Bungie balances based on usage” narrative – this is not the case (see below!), but note that if something is wildly overused, in many cases that’s because it’s both strong and easy to use – players typically won’t flock to a specific weapon in droves if it’s perfectly balanced.</li><li>When we’re deciding what to do for a balance pass, we look at five main sources of information to identify what we ought to look at:<ul><li>Internal feedback from playtesting (designers have ~10+ hours of playtests a week), or our own experiences playing the live game (designers typically play the game heavily, and we carve out a little time each week to fireteam up for raids and Trials).</li><li>Live feedback sourced from playersWeapon usage (typically we look at usage by owners, so as not to miss what’s going on with low-ownership weapons).</li><li>Weapon effectiveness (e.g. kills per time equipped, win rate with the weapon equipped, and so forth).</li><li>Design analysis of the implementation of a weapon (looking through weapon perks and other data to see if something is obviously wrong).</li><li>Having pulled together a list of weapons, we’ll go through them and identify what’s contributing to the issues. In some cases, it’s innate to the weapon itself and we’ll adjust it, but in other cases it’s a specific perk/perk combo, the overall weapon type rather than a single weapon, or lack of competition, and we can address the issue without touching the weapon in question.</li><li>Yes, some of the logic for which weapons get attention changes depending on the focus of the season. If we have high representation of a weapon type in the seasonal artifact, we’re shipping several new or reprised weapons of a specific type, or encounters that play well with specific weapon types, we’ll dig into the matching weapons to make sure they perform well with the seasonal focus from other teams. For example, in the past we’ve had seasons that revolved around high-density close-range encounters, with matching artifact unlocks, and revisited the tuning of Submachineguns and Grenade Launchers.</li></ul></li></ul><p><strong>Question: Any further Exotic tuning planned for the future and what\\'s the thought process behind those planned changes?</strong></p><ul><li>Just to give some context on timelines, we’ve just shipped Season 21, Season 22 is complete, Season 23 is in full production and The Final Shape is entering early production. We have a small set of changes to Exotic weapons coming in Season 22 that we’ve been playtesting for the last few months, including the long-awaited PvP nerf to Le Monarque, a buff to Touch of Malice, a couple of minor changes to other Exotics, and some tweaks to Legendary perks (such as Bipod, Shoot to Loot, and Under-Over). Also, bear in mind that the zoom-to-damage-falloff normalization and Sword guard rework are coming in S22 and affect Exotic weapons as well. We’ve pulled several well-tested changes from Season 22 into the Season 21 mid-season balance update, which we’ll talk about shortly before it ships. As usual, we’re making an Exotic catalyst for an older Exotic weapon in S22, and this is one that’s been heavily requested, and is likely the most complex catalyst we’ve ever made. The process for Exotic tuning is looking at pain points around over or underperforming weapons.</li><li>The process for exotic tuning is looking at pain points around over or underperforming weapons, and honestly just looking at the 20 least-used exotic weapons, we poke at that list every season.</li></ul><h3>Exotic Armor and Buildcrafting</h3><p><strong>Question: My favorite Exotic armor could use a buff! Any plans to continue balancing legacy Exotic armor?</strong></p><ul><li><strong>Armor Team answer:</strong> There are many existing Exotic armors that we want to see get more use in the sandbox, and a few that still feel a little too strong. It is our intention to continue to balance Exotic armor incrementally over time – you can look forward to the next batch of changes in Season 22.</li></ul><p><strong>Question: Can you explain the recent St0mp-EE5 changes?</strong></p><ul><li>St0mp-EE5 provides great neutral game benefits that excel in PvP and have the potential to make it very difficult to target a Hunter wearing them thanks to the unique nature of the Hunter jump, which allows for rapid direction changes in mid-air. Our goal was to make them a little less free, so that the wearer can still gain their benefit, but with a small amount of downtime each time the player uses their dodge – which, itself, provides numerous benefits since many armor mods key off of the use of your class ability. That being said, we will continue to monitor how St0mp-EE5 is performing and will make further changes as necessary.</li></ul><p><strong>Question: Are there any plans for more Exotic armor interactions with Exotic weapons, like Necrotic Grip has with the Weapons of Sorrow?</strong></p><ul><li>We feel these special connections between Exotics are best when they are rare and a little bit hidden. That being said, we would like to add more of them to the game, especially for Hunters and Titans. Keep an eye out for the future!</li></ul><p><strong>Question: Will we ever see any of the pre-Lightfall armor mods come back?</strong></p><ul><li>We are paying close attention to how the current armor mod system is performing, as well as how it is being received. It is our goal that the base armor mods are straightforward and approachable – they should be the behind-the-scenes foundation of your build, not the star elements. We do want to experiment with fun and novel ways to interact with Orbs of Power, Armor Charge, and other armor mod systems, and plan to do so via the seasonal artifact.</li></ul><h3>Miscellaneous Questions</h3><p><strong>Question: Can we favorite shaders soon, please?</strong></p><ul><li>Rewards UIUX popping in here to answer this one! We’re hesitant to talk too much about complex features that aren’t far enough along to attach to a specific release, but are going to be sharing info some new features in this vein real soon.</li></ul><p><strong>Question: Are there any details or confirmations regarding HUD/UI updates that were previously mentioned?</strong></p><ul><li>We’ll talk more about this when we have something to show, closer to The Final Shape.</li></ul><h2>Do It for Saladin... and That Sweet, Sweet Emblem</h2><p>Iron Banner returns next week for the second time in Season of the Deep, another chance to earn that sweet, sweet new Iron Banner emblem that still has me drooling with how intense those wolf eyes look. Seriously, it looks like it’s looking into your soul. And you know what? Not mad at it, give me that soul-staring wolf and that sick new shader. About to strut down that map runway like a fashion god. Now if only I was actually good at playing PvP...</p><p></p><blockquote class=\"twitter-tweet\"><p dir=\"ltr\" lang=\"en\">Become hungry like the wolf. 🐺<br/><br/>Have you claimed the new Brazen Wolf Emblem from Lord Saladin? <a href=\"https://t.co/1Rzt2GzlYY\" target=\"_self\">pic.twitter.com/1Rzt2GzlYY</a></p>— Destiny 2 (@DestinyTheGame) <a href=\"https://twitter.com/DestinyTheGame/status/1664980259161112578?ref_src=twsrc%5Etfw\" target=\"_self\">June 3, 2023</a></blockquote><p></p><p>Anyway... round 2 of Iron Banner will be Eruption, so you know the drill: get out there and get your Surge on. We’ll also have an update in the future from the team going over the first few Iron Banners of the Season, so be sure to keep those eyes peeled for that.</p><h2>You\\'re a Winner, Guardian</h2><p>Drip on, drip on, drip on drip. #DrownintheDrip fashion came pouring in after last week’s TWID went live asking for your favorite fashion-forward Guardians. Given how stylish you all are on any given day, it was not at all surprising to see how many incredible looks y’all dropped as if looking like a fashion god was like a normal Tuesday. To pick just a few was difficult, but we did our best. Here are some of the top looks that we couldn’t get out of our minds.&nbsp;&nbsp;</p><p><strong>Die, sacrificial moths, </strong><span style=\"color: rgb(0, 0, 0);\"><em><strong>die:</strong></em></span></p><p></p><blockquote class=\"twitter-tweet\"><p dir=\"ltr\" lang=\"en\">This is my Hunter\\'s moth fit for Season of the Deep, to represent the deaths of sacrificial moths in the new dungeon. <a href=\"https://twitter.com/hashtag/DrownInTheDrip?src=hash&ref_src=twsrc%5Etfw\" target=\"_self\">#DrownInTheDrip</a> <a href=\"https://twitter.com/hashtag/Destiny2?src=hash&ref_src=twsrc%5Etfw\" target=\"_self\">#Destiny2</a> <a href=\"https://t.co/7ahni3mG7c\" target=\"_self\">pic.twitter.com/7ahni3mG7c</a></p>— mylk (@got_mylk) <a href=\"https://twitter.com/got_mylk/status/1666871840009232385?ref_src=twsrc%5Etfw\" target=\"_self\">June 8, 2023</a></blockquote><p></p><p><strong>Oh, shiny</strong></p><p></p><blockquote class=\"twitter-tweet\"><p dir=\"ltr\" lang=\"en\">Pink arc hunter<br/>Bungie ID:Googi#0119<a href=\"https://twitter.com/hashtag/DrownInTheDrip?src=hash&ref_src=twsrc%5Etfw\" target=\"_self\">#DrownInTheDrip</a> <a href=\"https://twitter.com/hashtag/Destiny2?src=hash&ref_src=twsrc%5Etfw\" target=\"_self\">#Destiny2</a> <a href=\"https://twitter.com/hashtag/destiny2fashion?src=hash&ref_src=twsrc%5Etfw\" target=\"_self\">#destiny2fashion</a> <a href=\"https://t.co/20dR09bE8z\" target=\"_self\">pic.twitter.com/20dR09bE8z</a></p>— Googi (@GoogiWasTaken) <a href=\"https://twitter.com/GoogiWasTaken/status/1668253097662066689?ref_src=twsrc%5Etfw\" target=\"_self\">June 12, 2023</a></blockquote><p></p><p><strong>No, this is Patrick!</strong></p><p></p><blockquote class=\"twitter-tweet\"><p dir=\"ltr\" lang=\"en\">This technically counts as under the sea, right? <a href=\"https://twitter.com/hashtag/drowninthedrip?src=hash&ref_src=twsrc%5Etfw\" target=\"_self\">#drowninthedrip</a> <a href=\"https://t.co/0ACGtm8MYv\" target=\"_self\">pic.twitter.com/0ACGtm8MYv</a></p>— Thursday (@MitchellXOTWOD) <a href=\"https://twitter.com/MitchellXOTWOD/status/1666875209175932928?ref_src=twsrc%5Etfw\" target=\"_self\">June 8, 2023</a></blockquote><p></p><p><strong>Something for every subclass:</strong></p><p></p><blockquote class=\"twitter-tweet\"><p dir=\"ltr\" lang=\"en\">My armor for sub-classes and two Playlists. <a href=\"https://twitter.com/hashtag/DrownInTheDrip?src=hash&ref_src=twsrc%5Etfw\" target=\"_self\">#DrownInTheDrip</a> <a href=\"https://t.co/Xfi5BA0Gi6\" target=\"_self\">pic.twitter.com/Xfi5BA0Gi6</a></p>— Disturbed Shifty (@DisturbedShifty) <a href=\"https://twitter.com/DisturbedShifty/status/1666873272112119817?ref_src=twsrc%5Etfw\" target=\"_self\">June 8, 2023</a></blockquote><p></p><p><strong>Who doesn\\'t love a good shoutout to </strong><span style=\"color: rgb(0, 0, 0);\"><em><strong>The Mask?</strong></em></span></p><p></p><blockquote class=\"twitter-tweet\"><p dir=\"ltr\" lang=\"en\"><a href=\"https://twitter.com/hashtag/DrownInTheDrip?src=hash&ref_src=twsrc%5Etfw\" target=\"_self\">#DrownInTheDrip</a> <a href=\"https://twitter.com/hashtag/destiny2fashion?src=hash&ref_src=twsrc%5Etfw\" target=\"_self\">#destiny2fashion</a><br/>The MASK!!! One of my favorite creations. <a href=\"https://t.co/WXXXLKKBqY\" target=\"_self\">pic.twitter.com/WXXXLKKBqY</a></p>— Mr. Arche (@abe_arche) <a href=\"https://twitter.com/abe_arche/status/1667201355797401601?ref_src=twsrc%5Etfw\" target=\"_self\">June 9, 2023</a></blockquote><p></p><p><strong>Cyber runner, but moonlight as a radioactive grape with style:</strong></p><p></p><blockquote class=\"twitter-tweet\"><p dir=\"ltr\" lang=\"en\">Cyber Runner<a href=\"https://twitter.com/hashtag/DrownintheDrip?src=hash&ref_src=twsrc%5Etfw\" target=\"_self\">#DrownintheDrip</a> <a href=\"https://t.co/6mZayrzQES\" target=\"_self\">pic.twitter.com/6mZayrzQES</a></p>— BaggyBuilds (@BaggyBuilds) <a href=\"https://twitter.com/BaggyBuilds/status/1666890584798429184?ref_src=twsrc%5Etfw\" target=\"_self\">June 8, 2023</a></blockquote><strong></strong><p></p><p><strong>Yoda is forever:</strong></p><p></p><blockquote class=\"twitter-tweet\"><p dir=\"ltr\" lang=\"en\">Let the force be with u! Yoda Warlock look! <a href=\"https://twitter.com/hashtag/Drowninthedrip?src=hash&ref_src=twsrc%5Etfw\" target=\"_self\">#Drowninthedrip</a> <a href=\"https://twitter.com/hashtag/StarWars?src=hash&ref_src=twsrc%5Etfw\" target=\"_self\">#StarWars</a> <a href=\"https://twitter.com/hashtag/DestinyTheGame?src=hash&ref_src=twsrc%5Etfw\" target=\"_self\">#DestinyTheGame</a> <a href=\"https://t.co/CWM6ZYbOW6\" target=\"_self\">pic.twitter.com/CWM6ZYbOW6</a></p>— Vad (@Vad_xbx) <a href=\"https://twitter.com/Vad_xbx/status/1666901167492804608?ref_src=twsrc%5Etfw\" target=\"_self\">June 8, 2023</a></blockquote><p></p><p><strong>Hunters do love their all-black looks:</strong></p><p></p><blockquote class=\"twitter-tweet\"><p dir=\"ltr\" lang=\"en\">‘Disciple of The Taken King’<br/><br/>Went with the edgiest of my looks for this contest! 🖤<a href=\"https://twitter.com/hashtag/DrownInTheDrip?src=hash&ref_src=twsrc%5Etfw\" target=\"_self\">#DrownInTheDrip</a> <a href=\"https://twitter.com/hashtag/Destiny2?src=hash&ref_src=twsrc%5Etfw\" target=\"_self\">#Destiny2</a> <a href=\"https://twitter.com/hashtag/ThreadsOfLight?src=hash&ref_src=twsrc%5Etfw\" target=\"_self\">#ThreadsOfLight</a> <a href=\"https://twitter.com/hashtag/DestinyFashion?src=hash&ref_src=twsrc%5Etfw\" target=\"_self\">#DestinyFashion</a> <a href=\"https://twitter.com/hashtag/Destiny2Fashion?src=hash&ref_src=twsrc%5Etfw\" target=\"_self\">#Destiny2Fashion</a> <a href=\"https://twitter.com/hashtag/DestinyTheGame?src=hash&ref_src=twsrc%5Etfw\" target=\"_self\">#DestinyTheGame</a> <a href=\"https://twitter.com/Destiny2Team?ref_src=twsrc%5Etfw\" target=\"_self\">@Destiny2Team</a> <a href=\"https://twitter.com/DirtyEffinHippy?ref_src=twsrc%5Etfw\" target=\"_self\">@DirtyEffinHippy</a> <a href=\"https://twitter.com/Bungie?ref_src=twsrc%5Etfw\" target=\"_self\">@Bungie</a> <a href=\"https://twitter.com/DestinyTheGame?ref_src=twsrc%5Etfw\" target=\"_self\">@DestinyTheGame</a> <a href=\"https://t.co/4gD00yZkiv\" target=\"_self\">pic.twitter.com/4gD00yZkiv</a></p>— Dog Dad Drew (@FSdogdad) <a href=\"https://twitter.com/FSdogdad/status/1666876917474000910?ref_src=twsrc%5Etfw\" target=\"_self\">June 8, 2023</a></blockquote><p></p><p><strong>Do it for Miles:</strong></p><p></p><blockquote class=\"twitter-tweet\"><p dir=\"ltr\" lang=\"en\">Watched <a href=\"https://twitter.com/hashtag/AcrossTheSpiderVerse?src=hash&ref_src=twsrc%5Etfw\" target=\"_self\">#AcrossTheSpiderVerse</a> last night, so I guess this is as good a time as any to revisit my Miles Morales hunter fashion from 2020! 🕸️❤️🕷️💙<a href=\"https://twitter.com/hashtag/Destiny2?src=hash&ref_src=twsrc%5Etfw\" target=\"_self\">#Destiny2</a> <a href=\"https://twitter.com/hashtag/destinyfashion?src=hash&ref_src=twsrc%5Etfw\" target=\"_self\">#destinyfashion</a> <a href=\"https://twitter.com/hashtag/ThreadsOfLight?src=hash&ref_src=twsrc%5Etfw\" target=\"_self\">#ThreadsOfLight</a> <a href=\"https://twitter.com/hashtag/Bungie?src=hash&ref_src=twsrc%5Etfw\" target=\"_self\">#Bungie</a> <a href=\"https://twitter.com/hashtag/DestinyTheGame?src=hash&ref_src=twsrc%5Etfw\" target=\"_self\">#DestinyTheGame</a> <a href=\"https://twitter.com/hashtag/destiny2fashion?src=hash&ref_src=twsrc%5Etfw\" target=\"_self\">#destiny2fashion</a> <a href=\"https://twitter.com/Destiny2Team?ref_src=twsrc%5Etfw\" target=\"_self\">@Destiny2Team</a> <a href=\"https://twitter.com/DirtyEffinHippy?ref_src=twsrc%5Etfw\" target=\"_self\">@DirtyEffinHippy</a> <a href=\"https://twitter.com/DestinyTheGame?ref_src=twsrc%5Etfw\" target=\"_self\">@DestinyTheGame</a> <a href=\"https://t.co/QKAcy06X0v\" target=\"_self\">pic.twitter.com/QKAcy06X0v</a></p>— Dog Dad Drew (@FSdogdad) <a href=\"https://twitter.com/FSdogdad/status/1667236500625588224?ref_src=twsrc%5Etfw\" target=\"_self\">June 9, 2023</a></blockquote><p></p><h2>I Can Show You the (PlayStation Crossover) World</h2><p>PlayStation, Destiny 2... perfection. Last month, we dropped some killer new looks for Guardians to don when celebrating the various stunning worlds that the PlayStation family has created. From Aloy and Kratos, to Clicker Ghosts and harnessing that inner Jin Sakai, the blending of universes with Destiny 2 was a treat to reveal and a treat to see how you all incorporated these worlds into your Guardian’s story.</p><p>To celebrate the merging of epic universes, we worked with some stunning artists in our community to bring these worlds to even more impressive life with crossover art that would make even a Clicker stop and say “Slay, boo, slay.” Which, we get, totally. I mean... have you <em>seen </em>the art?!</p><p<strong>Art by Polux:<p></p><p></p><blockquote class=\"twitter-tweet\"><p dir=\"ltr\" lang=\"en\">Sometimes, you need to fight with the might of gods and Ghosts. 👻<br/><br/>Art inspired by the <a href=\"https://twitter.com/PlayStation?ref_src=twsrc%5Etfw\" target=\"_self\">@PlayStation</a> x Destiny 2 collab, brought to life by <a href=\"https://twitter.com/HyakunanaArts?ref_src=twsrc%5Etfw\" target=\"_self\">@HyakunanaArts</a> <a href=\"https://t.co/kydecF4L7n\" target=\"_self\">pic.twitter.com/kydecF4L7n</a></p>— Destiny 2 (@DestinyTheGame) <a href=\"https://twitter.com/DestinyTheGame/status/1665828816168574980?ref_src=twsrc%5Etfw\" target=\"_self\">June 5, 2023</a></blockquote><p></p><p><strong>Art by Yue:</strong></p><p></p><blockquote class=\"twitter-tweet\"><p dir=\"ltr\" lang=\"en\">A Ghost, brought back by a Ghost. ⚔<br/><br/>Art inspired by the <a href=\"https://twitter.com/PlayStation?ref_src=twsrc%5Etfw\" target=\"_self\">@PlayStation</a> x Destiny 2 collab, brought to life by <a href=\"https://twitter.com/memento1113?ref_src=twsrc%5Etfw\" target=\"_self\">@memento1113</a>. <a href=\"https://t.co/e2RKfeXYBV\" target=\"_self\">pic.twitter.com/e2RKfeXYBV</a></p>— Destiny 2 (@DestinyTheGame) <a href=\"https://twitter.com/DestinyTheGame/status/1666158311442374656?ref_src=twsrc%5Etfw\" target=\"_self\">June 6, 2023</a></blockquote><p></p><p><strong>Art by Ian Pesty:</strong></p><p></p><blockquote class=\"twitter-tweet\"><p dir=\"ltr\" lang=\"en\">Time to get down to nuts and bolts. 🔩<br/><br/>Art inspired by the <a href=\"https://twitter.com/PlayStation?ref_src=twsrc%5Etfw\" target=\"_self\">@PlayStation</a> x Destiny 2 collab, brought to life by <a href=\"https://twitter.com/IanPesty?ref_src=twsrc%5Etfw\" target=\"_self\">@IanPesty</a>. <a href=\"https://t.co/J2NtLmMdlr\" target=\"_self\">pic.twitter.com/J2NtLmMdlr</a></p>— Destiny 2 (@DestinyTheGame) <a href=\"https://twitter.com/DestinyTheGame/status/1666520849753550848?ref_src=twsrc%5Etfw\" target=\"_self\">June 7, 2023</a></blockquote><p></p><p><strong>Art by Owlcath:</strong></p><p></p><blockquote class=\"twitter-tweet\"><p dir=\"ltr\" lang=\"en\">Tame the forgotten wilds, or risk joining them. 🏹<br/><br/>Art inspired by the <a href=\"https://twitter.com/PlayStation?ref_src=twsrc%5Etfw\" target=\"_self\">@PlayStation</a> x Destiny 2 collab, brought to life by <a href=\"https://twitter.com/Kathi_Langley?ref_src=twsrc%5Etfw\" target=\"_self\">@Kathi_Langley</a>. <a href=\"https://t.co/4bXr6UdIQY\" target=\"_self\">pic.twitter.com/4bXr6UdIQY</a></p>— Destiny 2 (@DestinyTheGame) <a href=\"https://twitter.com/DestinyTheGame/status/1666898147761610759?ref_src=twsrc%5Etfw\" target=\"_self\">June 8, 2023</a></blockquote><p></p><p><strong>Art by Azlaar:</strong></p><p></p><blockquote class=\"twitter-tweet\"><p dir=\"ltr\" lang=\"en\">When you’re lost in the darkness, look for the Little Light. 💠<br/><br/>Art inspired by the <a href=\"https://twitter.com/PlayStation?ref_src=twsrc%5Etfw\" target=\"_self\">@PlayStation</a> x Destiny 2 collab, brought to life by <a href=\"https://twitter.com/Azlaar?ref_src=twsrc%5Etfw\" target=\"_self\">@Azlaar</a>. <a href=\"https://t.co/mwDk47boAE\" target=\"_self\">pic.twitter.com/mwDk47boAE</a></p>— Destiny 2 (@DestinyTheGame) <a href=\"https://twitter.com/DestinyTheGame/status/1667245440289460224?ref_src=twsrc%5Etfw\" target=\"_self\">June 9, 2023</a></blockquote><p></p><p><strong>Art by Ohlac:</strong></p><p></p><blockquote class=\"twitter-tweet\"><p dir=\"ltr\" lang=\"en\">From Olympus to the Tower, your might will be known. 💪<br/><br/>Art inspired by the <a href=\"https://twitter.com/PlayStation?ref_src=twsrc%5Etfw\" target=\"_self\">@PlayStation</a> x Destiny 2 collab, brought to life by <a href=\"https://twitter.com/Ohlac3D?ref_src=twsrc%5Etfw\" target=\"_self\">@Ohlac3D</a>. <a href=\"https://t.co/vQBF6lNqAe\" target=\"_self\">pic.twitter.com/vQBF6lNqAe</a></p>— Destiny 2 (@DestinyTheGame) <a href=\"https://twitter.com/DestinyTheGame/status/1667607867329839106?ref_src=twsrc%5Etfw\" target=\"_self\">June 10, 2023</a></blockquote><p></p><h2>Player Support Report</h2><p><em>20,000 Screebs Under the Sea, Innit</em></p><img asset_uid=\"blt355cd313b88d8753\" src=\"https://images.contentstack.io/v3/assets/blte410e3b15535c144/blt355cd313b88d8753/6345dc2e2d122610be62fb2c/D2_DPS_Gif.gif\"/><p>The Player Support team is back with another report about known issues and aspects of the game that players should be aware of in the coming weeks. Here’s their report:</p><p><a href=\"https://help.bungie.net/articles/13265980348564-Destiny-2-Year-6-Known-Issues-and-Vital-Information\" target=\"_blank\"><br/></a>|\\u202f\\u202f<a href=\"https://www.bungie.net/en/Forums/Topics/?tg=Help\" target=\"_blank\">Help Forums</a> |<a href=\"https://twitter.com/BungieHelp\" target=\"_blank\">\\u202fBungie Help Twitter\\u202f</a></p><h3>TRIALS OF OSIRIS EMBLEM</h3><p>Beginning with the June 16 Trials of Osiris, the Dazzling Iridescence Trials emblem will no longer drop from the Flawless chest for players who did not successfully earn the Flight of the Pigeon medal for every match.</p><p>Players who previously earned the emblem without earning the Flight of the Pigeon medal in all games will continue to have it unlocked in their Collections, however, they will be unable to equip the emblem until the medal requirements have been met.</p><h3>KNOWN ISSUES</h3><p>While we continue investigating various known issues, here is a list of the latest issues that were reported to us in our <a href=\"https://www.bungie.net/en/Forums/Topics/?tg=Help\" target=\"_blank\">#Help Forum</a>:</p><ul><li>The Strand Slayer Crucible bounty is not progressing from Strand Primary weapon kills.</li><li>Players can die from finishers if the enemy dies before the finisher animation completes.</li><li>The “Efficient Angler” Seasonal Challenge is progressing inconsistently.</li><li>The Crucible Competitive placement series does not drop the Mercurial Overreach Sniper Rifle.</li><li>Dexterity mods are not granting a benefit to weapon ready and stow speed.</li><li>Players can get stuck outside of the final boss arena after self-reviving in the Ghosts of the Deep dungeon.</li><li>The Bump in the Night Weapon Pattern Triumph requires the Season 17 Season Pass.</li><li>The Warlock Courtier Longcoat chest ornament has a gap beneath the right arm.</li></ul><p><span style=\"color: rgb(0, 0, 0);\">For a full list of emergent issues in Destiny 2, players can review our Known Issues article. Players who observe other issues should report them to our </span><a href=\"https://www.bungie.net/en/Forums/Topics/?tg=Help\" target=\"_blank\"><span style=\"color: rgb(0, 0, 0);\">#Help Forum</span></a><span style=\"color: rgb(0, 0, 0);\">.</span></p><h2>STOP PEW-PEWing AT ME, I\\'M FRIENDLY!</h2><img asset_uid=\"blt6173704a8449c46a\" src=\"https://images.contentstack.io/v3/assets/blte410e3b15535c144/blt6173704a8449c46a/6345dc2d90be9f1178379cdd/TWAB_MovieOfTheWeek_2020_Animated.gif\" max-width=\"718\" style=\"max-width: 718px;width: 718;height: 86;\" width=\"718\" height=\"86\"/><p><strong>Ivan: </strong>This #Destiny2AOTW feels short, but special. Can you imagine the amount of work needed to create something like this? I am very interested in how this movie can continue, so hopefully we\\'ll see a sequel one day. Congrats on the win!</p><p><strong>Movie of the Week: </strong>Pale White Horse</p><iframe src=\"https://www.youtube.com/embed/JbVtkVxPa20\" allowfullscreen=\"\" frameborder=\"0\"></iframe><p><strong>Timon: </strong>The moment when you realize they were friendly! I love the genuine reaction from Zyndal so much.</p><p><strong>Movie of the Week: </strong>He was friendly!</p><p></p><blockquote class=\"twitter-tweet\"><p dir=\"ltr\" lang=\"pt\">Não jogue bandeira de ferro com um titã de ombrada 🤣<a href=\"https://twitter.com/hashtag/Destiny2MOTW?src=hash&ref_src=twsrc%5Etfw\" target=\"_self\">#Destiny2MOTW</a> <a href=\"https://twitter.com/hashtag/Destiny2?src=hash&ref_src=twsrc%5Etfw\" target=\"_self\">#Destiny2</a> <a href=\"https://twitter.com/destinygameBR?ref_src=twsrc%5Etfw\" target=\"_self\">@destinygameBR</a> <a href=\"https://t.co/5j3xR4HIbz\" target=\"_self\">pic.twitter.com/5j3xR4HIbz</a></p>— Zyndal (@Zyndal_) <a href=\"https://twitter.com/Zyndal_/status/1666141764049043467?ref_src=twsrc%5Etfw\" target=\"_self\">June 6, 2023</a></blockquote><p></p><h2>Bank Those Fishies, Guardian!</h2><img asset_uid=\"blt43c6042af4116138\" src=\"https://images.contentstack.io/v3/assets/blte410e3b15535c144/blt43c6042af4116138/6345dc15b03b6c10c5ee0594/TWAB_ArtistOfTheWeek_2020_Animated_V2.gif\"/><p><strong>Hippy: </strong>I\\'ve said it before, and I will say it a billion more times: Cosplayers are <em>magical. </em>For a new burst of serotonin ala epic cosplay creations, we\\'ve got the TKBearCrew here with an impressive look at Phoenix Protocol IRL. Want to talk about fashion? <em>Sheeeeesh.</em></p><p><strong>Art of the Week: </strong>Phoenix Protocol cosplay</p><p></p><blockquote class=\"twitter-tweet\"><p dir=\"ltr\" lang=\"en\"><a href=\"https://twitter.com/hashtag/Destiny2?src=hash&ref_src=twsrc%5Etfw\" target=\"_self\">#Destiny2</a> <a href=\"https://twitter.com/hashtag/Cosplay?src=hash&ref_src=twsrc%5Etfw\" target=\"_self\">#Cosplay</a> <a href=\"https://twitter.com/hashtag/destinyart?src=hash&ref_src=twsrc%5Etfw\" target=\"_self\">#destinyart</a> <a href=\"https://twitter.com/hashtag/destiny?src=hash&ref_src=twsrc%5Etfw\" target=\"_self\">#destiny</a> <a href=\"https://twitter.com/hashtag/aotw?src=hash&ref_src=twsrc%5Etfw\" target=\"_self\">#aotw</a> <a href=\"https://twitter.com/hashtag/pheonixprotocol?src=hash&ref_src=twsrc%5Etfw\" target=\"_self\">#pheonixprotocol</a> <a href=\"https://twitter.com/hashtag/VaultofGlassTrying?src=hash&ref_src=twsrc%5Etfw\" target=\"_self\">#VaultofGlassTrying</a> to get the cosplay Emblem 100% <a href=\"https://twitter.com/hashtag/Destiny2Cosplay?src=hash&ref_src=twsrc%5Etfw\" target=\"_self\">#Destiny2Cosplay</a> <a href=\"https://twitter.com/Bungie?ref_src=twsrc%5Etfw\" target=\"_self\">@bungie</a> <a href=\"https://twitter.com/DestinyTheGame?ref_src=twsrc%5Etfw\" target=\"_self\">@destinythegame</a> <a href=\"https://twitter.com/DragonCon?ref_src=twsrc%5Etfw\" target=\"_self\">@dragoncon</a> <a href=\"https://twitter.com/DirtyEffinHippy?ref_src=twsrc%5Etfw\" target=\"_self\">@dirtyeffinhippy</a> <a href=\"https://t.co/QEpBd3lF0T\" target=\"_self\">pic.twitter.com/QEpBd3lF0T</a></p>— The TK-Bear Crew (@TKBearCrew) <a href=\"https://twitter.com/TKBearCrew/status/1665699467444600832?ref_src=twsrc%5Etfw\" target=\"_self\">June 5, 2023</a></blockquote><p></p><p><strong>Sam: </strong>Fishing has been such a fun part of this Season, and we love seeing all of your catches and memories made as you continue to fill up your aquariams. This #Destiny2AOTW is showing us fishing from the Vanguard\\'s point of view, and it\\'s something else to think about Zavala and Caiatl taking a break and catching a few fishies together.</p><p><strong>Art of the Week: </strong>Fishing with the Vanguard.</p><p></p><blockquote class=\"twitter-tweet\"><p dir=\"ltr\" lang=\"en\">Sunset fishing 💫<a href=\"https://twitter.com/hashtag/Destiny2?src=hash&ref_src=twsrc%5Etfw\" target=\"_self\">#Destiny2</a> <a href=\"https://twitter.com/hashtag/destiny2art?src=hash&ref_src=twsrc%5Etfw\" target=\"_self\">#destiny2art</a> <a href=\"https://twitter.com/hashtag/DestinyTheGame?src=hash&ref_src=twsrc%5Etfw\" target=\"_self\">#DestinyTheGame</a> <a href=\"https://twitter.com/hashtag/destiny2aotw?src=hash&ref_src=twsrc%5Etfw\" target=\"_self\">#destiny2aotw</a> <a href=\"https://twitter.com/hashtag/art?src=hash&ref_src=twsrc%5Etfw\" target=\"_self\">#art</a> <a href=\"https://twitter.com/DestinyTheGame?ref_src=twsrc%5Etfw\" target=\"_self\">@DestinyTheGame</a> <a href=\"https://twitter.com/DirtyEffinHippy?ref_src=twsrc%5Etfw\" target=\"_self\">@DirtyEffinHippy</a> <a href=\"https://twitter.com/TheSamBartley?ref_src=twsrc%5Etfw\" target=\"_self\">@TheSamBartley</a> <a href=\"https://twitter.com/Destiny2Team?ref_src=twsrc%5Etfw\" target=\"_self\">@Destiny2Team</a> <a href=\"https://t.co/bDimqYpwL0\" target=\"_self\">pic.twitter.com/bDimqYpwL0</a></p>— onehandedbanditt_ 🖐 (@onehandedbndt) <a href=\"https://twitter.com/onehandedbndt/status/1668255702702338050?ref_src=twsrc%5Etfw\" target=\"_self\">June 12, 2023</a></blockquote><p></p><p></p><p>And that’s a wrap on another TWID. We’ve had some epic fashion, burning questions answered, and we prepped for Eruption whilst enjoying some very fine crossover art.</p><p>Before heading out into the fray once more to help Sloane and crush some opponents in the PvP arena, here’s your usual Hippy reminder to remember that self-care, drink that water, and always lead with your kindest foot forward. Until next time, friend<a href=\"https://pbs.twimg.com/media/EiYdoZCWoAEs4d6?format=jpg&name=large\" target=\"_blank\">s</a>.</p><p></p><p><strong>\"I should go,”</strong></p><p><a href=\"https://pbs.twimg.com/media/EHv-vBbWsAM74Cw?format=jpg&name=small\" target=\"_blank\"><strong>&lt;3</strong></a><strong> Hippy</strong></p></p<strong>',\n",
       " 'ImagePath': 'https://images.contentstack.io/v3/assets/blte410e3b15535c144/blt03dd263485c75f3f/648b48122429af8daef48486/FrontPageBanner_PC_1920x590.jpg',\n",
       " 'OptionalMobileImagePath': 'https://images.contentstack.io/v3/assets/blte410e3b15535c144/bltd6c264119eb3d296/648b4821207042678d86cd4b/FrontPageBanner_Mobile_313x126.jpg'}"
      ]
     },
     "execution_count": 2,
     "metadata": {},
     "output_type": "execute_result"
    }
   ],
   "source": [
    "results[0]"
   ]
  },
  {
   "cell_type": "code",
   "execution_count": 3,
   "metadata": {},
   "outputs": [],
   "source": [
    "# Convert the results list into a DataFrame\n",
    "df = pd.DataFrame(results)\n"
   ]
  },
  {
   "cell_type": "code",
   "execution_count": 6,
   "metadata": {},
   "outputs": [
    {
     "data": {
      "text/plain": [
       "0                         Destiny 2 Update 7.1.0.2\n",
       "1                         Destiny 2 Hotfix 6/02/23\n",
       "2                         Destiny 2 Update 7.1.0.1\n",
       "3                         Destiny 2 Hotfix 5/26/23\n",
       "4      Destiny 2 Update 7.1.0 - Season of the Deep\n",
       "5                         Destiny 2 Hotfix 7.0.5.3\n",
       "6                         Destiny 2 Hotfix 7.0.5.2\n",
       "7                         Destiny 2 Hotfix 7.0.5.1\n",
       "8                         Destiny 2 Update 7.0.5.0\n",
       "9                         Destiny 2 Hotfix 7.0.0.7\n",
       "10                        Destiny 2 Hotfix 7.0.0.6\n",
       "11                       Lightfall Crucible Update\n",
       "12                        Destiny 2 Hotfix 7.0.0.5\n",
       "13                        Destiny 2 Hotfix 7.0.0.3\n",
       "14                        Destiny 2 Update 7.0.0.1\n",
       "15                        Destiny 2 Hotfix 6.3.0.7\n",
       "16    Economy Updates And More Coming In Lightfall\n",
       "17                        Destiny 2 Hotfix 6.3.0.5\n",
       "18                        Destiny 2 Hotfix 6.3.0.4\n",
       "19                        Destiny 2 Hotfix 6.3.0.3\n",
       "20                        Destiny 2 Hotfix 6.3.0.2\n",
       "21                        Destiny 2 Hotfix 6.3.0.1\n",
       "22                          Destiny 2 Update 6.3.0\n",
       "23                       Destiny 2 Hotfix 6.2.5.4 \n",
       "24                        Destiny 2 Hotfix 6.2.5.3\n",
       "Name: Title, dtype: object"
      ]
     },
     "execution_count": 6,
     "metadata": {},
     "output_type": "execute_result"
    }
   ],
   "source": [
    "import re\n",
    "pattern = r'Update|Hotfix'\n",
    "df = df[df['Title'].str.contains(pattern, regex=True, flags=re.IGNORECASE)]\n",
    "df = df.iloc[0:25].reset_index()\n",
    "# Print the filtered DataFrame\n",
    "df['Title']"
   ]
  },
  {
   "cell_type": "code",
   "execution_count": 7,
   "metadata": {},
   "outputs": [
    {
     "data": {
      "text/plain": [
       "'<h2>Activities</h2><h3>Crucible</h3><ul><li>Fixed an issue where the Dazzling Iridescence Trials emblem could be awarded from the Flawless chest without completing the necessary requirements.<ul><li>Players who have already acquired the emblem will need to complete the requirements after this patch goes live in order to equip the emblem.</li></ul></li><li>Fixed an issue with spawn trapping that could occur on meltdown.</li></ul><h3>Raids and Dungeons</h3><ul><li>Fixed an issue where players can damage bosses in Ghosts of the Deep through immunity shields.</li></ul><h2>Gameplay and Investment</h2><h3>Armor</h3><ul><li>Gyrfalcon\\'s Hauberk\\'s reserve overshield now deploys when a player uses Ensnaring Slam.</li><li>Fixed an issue where Khepri\\'s Horn could disable various non-enemy objects.</li><li>Fixed an issue where Vesper of Radius\\'s effects were triggering on things other than casting a rift.</li><li>Fixed an issue where Point-Contact Cannon Brace would create lightning strikes on melees other than Thunderclap.</li><li>Fixed an issue where becoming frozen would disable Arbor Warden\\'s Exotic perk.</li><li>Fixed an issue where Arbor Warden would cause the Juggernaut aspect to not interact with your class ability energy correctly.</li><li>Fixed an issue causing Sunbracers to not improve Solar grenades.</li><li>Fixed an issue causing Helm of Saint-14 to not provide any effects.</li><li>Fixed an issue causing Verity\\'s Brow to not function in PvP.</li><li>Fixed an issue causing No Backup Plans to buff non-Shotgun damage in certain situations.</li><li>Fixed an issue where Athrys\\'s Embrace\\'s buff icon wasn\\'t appearing in the HUD in PvP.</li><li>The artifact perks Amped Up and Electric Armor no longer have their perk names switched.</li></ul><h3>Weapons</h3><ul><li>Fixed an issue where some older Iron Banner Special/Power weapons had lost their scope glint.</li><li>Fixed an issue where purchasing a Last Wish deepsight weapon from Hawthorne would unintentionally award bonus pattern progress on top of the progress provided by consuming the deepsight on the weapon itself.</li><li>Increased the size of the red dot in Mecurial Overreach\\'s scope to respond to player feedback.</li><li>Reduced the Collective Action weapon perk\\'s damage against Guardians to 10%, (from 20%).</li><li>Changed the Navigator\\'s intrinsic trait icon.</li></ul><h3>Abilities</h3><ul><li>Fixed an issue where certain thrown projectiles were able to over penetrate allied Titan Barricades.</li><li>Fixed an issue where Arc Jolt damage to minor combatants was lower than intended following the scaling changes in 7.1.0.</li></ul><h3>Commerce/Eververse</h3><ul><li>Fixed an issue where the Twitch sub bounty emblem, Pulsar Approaching, is not re-acquirable or equippable.</li></ul><p><h3>Triumphs</h3></p><ul><li>The \"Second Reckoning\" Triumph now displays the correct weapon names.</li><li>The \"Spend Salvage Keys\" Triumph now correctly progresses when a Salvage Key is spent instead of erroneously progressing the \"Spend Deep Dive Keys\" Triumph.</li><li>Fixed an issue on the Ambitious Angler Triumph where all players were getting credit for one player catching an exotic fish.</li></ul><h2>General</h2><ul><li>Weekly Challenges for Vanguard Ops and Gambit now reward the correct number of Exotic engrams.</li><li>Re-enabling Tier 1 Exotic Focusing on Master Rahool.</li></ul>'"
      ]
     },
     "execution_count": 7,
     "metadata": {},
     "output_type": "execute_result"
    }
   ],
   "source": [
    "df[\"HtmlContent\"].iloc[0]"
   ]
  },
  {
   "cell_type": "code",
   "execution_count": 8,
   "metadata": {},
   "outputs": [],
   "source": [
    "from bs4 import BeautifulSoup\n",
    "\n",
    "\n",
    "def extract_list_from_html(html):\n",
    "    soup = BeautifulSoup(html, 'html.parser')\n",
    "    list_items = soup.find_all('li')\n",
    "    result = [li.get_text(strip=True) for li in list_items]\n",
    "    return result\n",
    "\n",
    "def clean_html(text):\n",
    "    cleantext = re.sub(r'([.,?!;:])((?!\\s)|$)', r'\\1 ', text)\n",
    "    return cleantext\n",
    "\n",
    "def parse_html_content(df):\n",
    "    df['parsed_content'] = df['HtmlContent'].apply(extract_list_from_html)\n",
    "    df['joined_content'] = df['parsed_content'].apply(lambda x: ' '.join(x))\n",
    "    df['joined_content'] = df['joined_content'].apply(clean_html)\n",
    "    return df"
   ]
  },
  {
   "cell_type": "code",
   "execution_count": 9,
   "metadata": {},
   "outputs": [],
   "source": [
    "# Parse HTML content and create new column\n",
    "df = parse_html_content(df)"
   ]
  },
  {
   "cell_type": "code",
   "execution_count": 10,
   "metadata": {},
   "outputs": [],
   "source": [
    "df = df[['Title', 'Link', 'PubDate', 'UniqueIdentifier', 'Description',\n",
    "       'joined_content']]"
   ]
  },
  {
   "cell_type": "code",
   "execution_count": 11,
   "metadata": {},
   "outputs": [
    {
     "name": "stdout",
     "output_type": "stream",
     "text": [
      "Fixed an issue where the Dazzling Iridescence Trials emblem could be awarded from the Flawless chest without completing the necessary requirements. Players who have already acquired the emblem will need to complete the requirements after this patch goes live in order to equip the emblem. Players who have already acquired the emblem will need to complete the requirements after this patch goes live in order to equip the emblem. Fixed an issue with spawn trapping that could occur on meltdown. Fixed an issue where players can damage bosses in Ghosts of the Deep through immunity shields. Gyrfalcon's Hauberk's reserve overshield now deploys when a player uses Ensnaring Slam. Fixed an issue where Khepri's Horn could disable various non-enemy objects. Fixed an issue where Vesper of Radius's effects were triggering on things other than casting a rift. Fixed an issue where Point-Contact Cannon Brace would create lightning strikes on melees other than Thunderclap. Fixed an issue where becoming frozen would disable Arbor Warden's Exotic perk. Fixed an issue where Arbor Warden would cause the Juggernaut aspect to not interact with your class ability energy correctly. Fixed an issue causing Sunbracers to not improve Solar grenades. Fixed an issue causing Helm of Saint-14 to not provide any effects. Fixed an issue causing Verity's Brow to not function in PvP. Fixed an issue causing No Backup Plans to buff non-Shotgun damage in certain situations. Fixed an issue where Athrys's Embrace's buff icon wasn't appearing in the HUD in PvP. The artifact perks Amped Up and Electric Armor no longer have their perk names switched. Fixed an issue where some older Iron Banner Special/Power weapons had lost their scope glint. Fixed an issue where purchasing a Last Wish deepsight weapon from Hawthorne would unintentionally award bonus pattern progress on top of the progress provided by consuming the deepsight on the weapon itself. Increased the size of the red dot in Mecurial Overreach's scope to respond to player feedback. Reduced the Collective Action weapon perk's damage against Guardians to 10%, (from 20%). Changed the Navigator's intrinsic trait icon. Fixed an issue where certain thrown projectiles were able to over penetrate allied Titan Barricades. Fixed an issue where Arc Jolt damage to minor combatants was lower than intended following the scaling changes in 7. 1. 0. Fixed an issue where the Twitch sub bounty emblem, Pulsar Approaching, is not re-acquirable or equippable. The \"Second Reckoning\" Triumph now displays the correct weapon names. The \"Spend Salvage Keys\" Triumph now correctly progresses when a Salvage Key is spent instead of erroneously progressing the \"Spend Deep Dive Keys\" Triumph. Fixed an issue on the Ambitious Angler Triumph where all players were getting credit for one player catching an exotic fish. Weekly Challenges for Vanguard Ops and Gambit now reward the correct number of Exotic engrams. Re-enabling Tier 1 Exotic Focusing on Master Rahool. \n"
     ]
    }
   ],
   "source": [
    "print(df.iloc[0][\"joined_content\"])"
   ]
  },
  {
   "cell_type": "code",
   "execution_count": 20,
   "metadata": {},
   "outputs": [],
   "source": [
    "docs = []\n",
    "for index, row in df.iterrows():\n",
    "    doc = {\n",
    "        'content': row['joined_content'],  \n",
    "        'meta': {\n",
    "            'name': row['Title'],\n",
    "            'link': row['Link'],\n",
    "            'pub_date': row['PubDate'],\n",
    "            'unique_id': row['UniqueIdentifier'],\n",
    "           'description': row['Description']\n",
    "        }\n",
    "    }\n",
    "    docs.append(doc)\n",
    " "
   ]
  },
  {
   "cell_type": "code",
   "execution_count": 21,
   "metadata": {},
   "outputs": [
    {
     "name": "stderr",
     "output_type": "stream",
     "text": [
      "INFO - haystack.modeling.utils -  Using devices: CUDA:0 - Number of GPUs: 1\n"
     ]
    }
   ],
   "source": [
    "from haystack.document_stores import InMemoryDocumentStore\n",
    "\n",
    "logging.basicConfig(format=\"%(levelname)s - %(name)s -  %(message)s\", level=logging.WARNING)\n",
    "logging.getLogger(\"haystack\").setLevel(logging.INFO)\n",
    "\n",
    "document_store = InMemoryDocumentStore(use_bm25=True)\n"
   ]
  },
  {
   "cell_type": "code",
   "execution_count": 22,
   "metadata": {},
   "outputs": [
    {
     "data": {
      "application/vnd.jupyter.widget-view+json": {
       "model_id": "d0855bdb783b4c3e8ed1a09a34aaa7ad",
       "version_major": 2,
       "version_minor": 0
      },
      "text/plain": [
       "Preprocessing:   0%|          | 0/25 [00:00<?, ?docs/s]"
      ]
     },
     "metadata": {},
     "output_type": "display_data"
    },
    {
     "name": "stderr",
     "output_type": "stream",
     "text": [
      "WARNING - haystack.nodes.preprocessor.preprocessor -  We found one or more sentences whose word count is higher than the split length.\n"
     ]
    }
   ],
   "source": [
    "from haystack.nodes import PreProcessor\n",
    "\n",
    "processor = PreProcessor(\n",
    "    clean_empty_lines=True,\n",
    "    clean_whitespace=True,\n",
    "    clean_header_footer=True,\n",
    "    split_by=\"word\",\n",
    "    split_length=100,\n",
    "    split_respect_sentence_boundary=True,\n",
    "    split_overlap=50\n",
    ")\n",
    "\n",
    "docs = processor.process(docs)"
   ]
  },
  {
   "cell_type": "code",
   "execution_count": 23,
   "metadata": {},
   "outputs": [
    {
     "data": {
      "application/vnd.jupyter.widget-view+json": {
       "model_id": "6cdfda939b4f47d59cc10c738a96b493",
       "version_major": 2,
       "version_minor": 0
      },
      "text/plain": [
       "Updating BM25 representation...:   0%|          | 0/705 [00:00<?, ? docs/s]"
      ]
     },
     "metadata": {},
     "output_type": "display_data"
    }
   ],
   "source": [
    "document_store.write_documents(docs)\n"
   ]
  },
  {
   "cell_type": "code",
   "execution_count": 24,
   "metadata": {},
   "outputs": [],
   "source": [
    "from haystack.nodes import BM25Retriever\n",
    "\n",
    "retriever = BM25Retriever(document_store=document_store)\n"
   ]
  },
  {
   "cell_type": "code",
   "execution_count": 25,
   "metadata": {},
   "outputs": [
    {
     "name": "stderr",
     "output_type": "stream",
     "text": [
      "INFO - haystack.modeling.utils -  Using devices: CUDA:0 - Number of GPUs: 1\n",
      "c:\\Users\\jorda\\AppData\\Local\\Programs\\Python\\Python311\\Lib\\site-packages\\torch\\_utils.py:803: UserWarning: TypedStorage is deprecated. It will be removed in the future and UntypedStorage will be the only storage class. This should only matter to you if you are using storages directly.  To access UntypedStorage directly, use tensor.untyped_storage() instead of tensor.storage()\n",
      "  return self.fget.__get__(instance, owner)()\n"
     ]
    }
   ],
   "source": [
    "from haystack.nodes import PromptNode, PromptTemplate\n",
    "\n",
    "lfqa_prompt = PromptTemplate(\n",
    "    name=\"lfqa\",\n",
    "    prompt_text=\"\"\"Synthesize a comprehensive answer from the following text for the given question. \n",
    "                    Provide a clear and concise response that summarizes the key points and information presented in the text. \n",
    "                             Your answer should directly pull from the source but be organized. \n",
    "                             \\n\\n Related text: {join(documents)} \\n\\n Question: {query} \\n\\n Answer:\"\"\",\n",
    ")\n",
    "\n",
    "prompt_node = PromptNode(model_name_or_path=\"google/flan-t5-large\", default_prompt_template=lfqa_prompt,  model_kwargs={\"stream\":True})\n"
   ]
  },
  {
   "cell_type": "code",
   "execution_count": 26,
   "metadata": {},
   "outputs": [
    {
     "name": "stderr",
     "output_type": "stream",
     "text": [
      "INFO - haystack.modeling.utils -  Using devices: CUDA:0 - Number of GPUs: 1\n"
     ]
    }
   ],
   "source": [
    "from haystack.nodes import TransformersReader\n",
    "\n",
    "reader = TransformersReader(model_name_or_path=\"ahotrod/albert_xxlargev1_squad2_512\", use_gpu=True)"
   ]
  },
  {
   "cell_type": "code",
   "execution_count": 37,
   "metadata": {},
   "outputs": [],
   "source": [
    "from haystack.pipelines import Pipeline\n",
    "\n",
    "pipe = Pipeline()\n",
    "pipe.add_node(component=retriever, name=\"retriever\", inputs=[\"Query\"])\n",
    "pipe.add_node(component=reader, name=\"reader\", inputs=[\"retriever\"])\n",
    "pipe.add_node(component=prompt_node, name=\"prompt_node\", inputs=[\"reader\"])\n"
   ]
  },
  {
   "cell_type": "code",
   "execution_count": 39,
   "metadata": {},
   "outputs": [
    {
     "name": "stdout",
     "output_type": "stream",
     "text": [
      "<pad> The Immortal Reduced base range value by 10.</s>\n",
      "'Query: what were the changes to immortal?'\n",
      "'Answers:'\n",
      "[   <Answer {'answer': ' Reduced base range value by 10.', 'type': 'extractive', 'score': 0.10633327811956406, 'context': 'r from 1. 45 to 1. 5 (crit damage goes from 21. 8 to 21). The Immortal Reduced base range value by 10. ', 'offsets_in_document': [{'start': 484, 'end': 516}], 'offsets_in_context': [{'start': 70, 'end': 102}], 'document_ids': ['2a0e4c66543552bc658256794ea0daff'], 'meta': {'name': 'Destiny 2 Update 7.1.0 - Season of the Deep', 'link': '/7/en/News/Article/season-deep-update-7-1-0', 'pub_date': '2023-05-23T16:30:00Z', 'unique_id': 'blt56002d0e3c869908', 'description': 'The one about Season of the Deep.', '_split_id': 101, '_split_overlap': [{'doc_id': '25134dcea5689c07049c1964118b44db', 'range': (0, 423)}, {'doc_id': 'fd52d17de2198d99af68379b741fd6fd', 'range': (114, 516)}]}}>,\n",
      "    <Answer {'answer': ' Reduced base range value by 10.', 'type': 'extractive', 'score': 0.08777889609336853, 'context': 'r from 1. 45 to 1. 5 (crit damage goes from 21. 8 to 21). The Immortal Reduced base range value by 10. ', 'offsets_in_document': [{'start': 484, 'end': 516}], 'offsets_in_context': [{'start': 70, 'end': 102}], 'document_ids': ['2a0e4c66543552bc658256794ea0daff'], 'meta': {'name': 'Destiny 2 Update 7.1.0 - Season of the Deep', 'link': '/7/en/News/Article/season-deep-update-7-1-0', 'pub_date': '2023-05-23T16:30:00Z', 'unique_id': 'blt56002d0e3c869908', 'description': 'The one about Season of the Deep.', '_split_id': 101, '_split_overlap': [{'doc_id': '25134dcea5689c07049c1964118b44db', 'range': (0, 423)}, {'doc_id': 'fd52d17de2198d99af68379b741fd6fd', 'range': (114, 516)}]}}>,\n",
      "    <Answer {'answer': ' The Immortal Reduced base range value by 10.', 'type': 'extractive', 'score': 0.007145799230784178, 'context': 'hit multiplier from 1. 45 to 1. 5 (crit damage goes from 21. 8 to 21). The Immortal Reduced base range value by 10. ', 'offsets_in_document': [{'start': 471, 'end': 516}], 'offsets_in_context': [{'start': 70, 'end': 115}], 'document_ids': ['2a0e4c66543552bc658256794ea0daff'], 'meta': {'name': 'Destiny 2 Update 7.1.0 - Season of the Deep', 'link': '/7/en/News/Article/season-deep-update-7-1-0', 'pub_date': '2023-05-23T16:30:00Z', 'unique_id': 'blt56002d0e3c869908', 'description': 'The one about Season of the Deep.', '_split_id': 101, '_split_overlap': [{'doc_id': '25134dcea5689c07049c1964118b44db', 'range': (0, 423)}, {'doc_id': 'fd52d17de2198d99af68379b741fd6fd', 'range': (114, 516)}]}}>,\n",
      "    <Answer {'answer': ' Lightfall,', 'type': 'extractive', 'score': 1.6659826940212952e-07, 'context': 'mods will be in your Collections. With the changes made to prepare for Lightfall, not all pre-Lightfall builds will be doable. A new way to stun Champi', 'offsets_in_document': [{'start': 322, 'end': 333}], 'offsets_in_context': [{'start': 70, 'end': 81}], 'document_ids': ['4a3a85c56b61b62383d87aff110e4493'], 'meta': {'name': 'Destiny 2: New and Returning Player Guide', 'link': '/7/en/News/Article/official-destiny-2-guide-new', 'pub_date': '2023-03-03T23:30:00Z', 'unique_id': 'blt5a82a15b55a1407c', 'description': 'Destiny 2 tips and tricks for new and returning players suiting back up for Lightfall and beyond.', '_split_id': 39, '_split_overlap': [{'doc_id': '8b5a27fa8b65c45e72a12d847ea48a62', 'range': (0, 378)}, {'doc_id': '2dc3f909267060da07770272f78a7aee', 'range': (286, 658)}]}}>,\n",
      "    <Answer {'answer': ' prepare for Lightfall,', 'type': 'extractive', 'score': 4.199003100779919e-08, 'context': 'ly unlocked mods will be in your Collections. With the changes made to prepare for Lightfall, not all pre-Lightfall builds will be doable. A new way to stun Champi', 'offsets_in_document': [{'start': 310, 'end': 333}], 'offsets_in_context': [{'start': 70, 'end': 93}], 'document_ids': ['4a3a85c56b61b62383d87aff110e4493'], 'meta': {'name': 'Destiny 2: New and Returning Player Guide', 'link': '/7/en/News/Article/official-destiny-2-guide-new', 'pub_date': '2023-03-03T23:30:00Z', 'unique_id': 'blt5a82a15b55a1407c', 'description': 'Destiny 2 tips and tricks for new and returning players suiting back up for Lightfall and beyond.', '_split_id': 39, '_split_overlap': [{'doc_id': '8b5a27fa8b65c45e72a12d847ea48a62', 'range': (0, 378)}, {'doc_id': '2dc3f909267060da07770272f78a7aee', 'range': (286, 658)}]}}>,\n",
      "    <Answer {'answer': ' Lightfall,', 'type': 'extractive', 'score': 2.8279799835218e-08, 'context': 'mods will be in your Collections. With the changes made to prepare for Lightfall, not all pre-Lightfall builds will be doable. A new way to stun Champi', 'offsets_in_document': [{'start': 322, 'end': 333}], 'offsets_in_context': [{'start': 70, 'end': 81}], 'document_ids': ['4a3a85c56b61b62383d87aff110e4493'], 'meta': {'name': 'Destiny 2: New and Returning Player Guide', 'link': '/7/en/News/Article/official-destiny-2-guide-new', 'pub_date': '2023-03-03T23:30:00Z', 'unique_id': 'blt5a82a15b55a1407c', 'description': 'Destiny 2 tips and tricks for new and returning players suiting back up for Lightfall and beyond.', '_split_id': 39, '_split_overlap': [{'doc_id': '8b5a27fa8b65c45e72a12d847ea48a62', 'range': (0, 378)}, {'doc_id': '2dc3f909267060da07770272f78a7aee', 'range': (286, 658)}]}}>]\n"
     ]
    }
   ],
   "source": [
    "from haystack.utils import print_answers\n",
    "\n",
    "results = pipe.run(\n",
    "    query=\"what were the changes to immortal?\",\n",
    "    params={\n",
    "        \"retriever\": {\"top_k\": 2}\n",
    "        ,\"reader\": {\"top_k\": 10}\n",
    "    }\n",
    ")\n",
    "\n",
    "print_answers(results, details=\"all\", max_text_len=1000)\n"
   ]
  },
  {
   "cell_type": "code",
   "execution_count": 29,
   "metadata": {},
   "outputs": [
    {
     "name": "stdout",
     "output_type": "stream",
     "text": [
      "{'answers': [<Answer {'answer': ' Best Dressed Commendation card to the Ironwood Tree', 'type': 'extractive', 'score': 2.004014959311462e-06, 'context': 'dian Rank objectives to make for a more intuitive experience Added the Best Dressed Commendation card to the Ironwood Tree in the Tower. ', 'offsets_in_document': [{'start': 455, 'end': 507}], 'offsets_in_context': [{'start': 70, 'end': 122}], 'document_ids': ['341b724048921ded57783de0e08d932b'], 'meta': {'name': 'Destiny 2 Update 7.1.0 - Season of the Deep', 'link': '/7/en/News/Article/season-deep-update-7-1-0', 'pub_date': '2023-05-23T16:30:00Z', 'unique_id': 'blt56002d0e3c869908', 'description': 'The one about Season of the Deep.', '_split_id': 217, '_split_overlap': [{'doc_id': 'e99e94e3cb804e0cb12529b23b206432', 'range': (0, 339)}, {'doc_id': 'e099f69b59b0df9ef02adffdd7646d8c', 'range': (154, 521)}]}}>,\n",
      "             <Answer {'answer': ' Best Dressed Commendation card', 'type': 'extractive', 'score': 1.9467454421828734e-06, 'context': 'dian Rank objectives to make for a more intuitive experience Added the Best Dressed Commendation card to the Ironwood Tree in the Tower. ', 'offsets_in_document': [{'start': 455, 'end': 486}], 'offsets_in_context': [{'start': 70, 'end': 101}], 'document_ids': ['341b724048921ded57783de0e08d932b'], 'meta': {'name': 'Destiny 2 Update 7.1.0 - Season of the Deep', 'link': '/7/en/News/Article/season-deep-update-7-1-0', 'pub_date': '2023-05-23T16:30:00Z', 'unique_id': 'blt56002d0e3c869908', 'description': 'The one about Season of the Deep.', '_split_id': 217, '_split_overlap': [{'doc_id': 'e99e94e3cb804e0cb12529b23b206432', 'range': (0, 339)}, {'doc_id': 'e099f69b59b0df9ef02adffdd7646d8c', 'range': (154, 521)}]}}>,\n",
      "             <Answer {'answer': ' Best Dressed Commendation card to the Ironwood Tree in the Tower.', 'type': 'extractive', 'score': 1.3251901691546664e-06, 'context': 'dian Rank objectives to make for a more intuitive experience Added the Best Dressed Commendation card to the Ironwood Tree in the Tower. ', 'offsets_in_document': [{'start': 455, 'end': 521}], 'offsets_in_context': [{'start': 70, 'end': 136}], 'document_ids': ['341b724048921ded57783de0e08d932b'], 'meta': {'name': 'Destiny 2 Update 7.1.0 - Season of the Deep', 'link': '/7/en/News/Article/season-deep-update-7-1-0', 'pub_date': '2023-05-23T16:30:00Z', 'unique_id': 'blt56002d0e3c869908', 'description': 'The one about Season of the Deep.', '_split_id': 217, '_split_overlap': [{'doc_id': 'e99e94e3cb804e0cb12529b23b206432', 'range': (0, 339)}, {'doc_id': 'e099f69b59b0df9ef02adffdd7646d8c', 'range': (154, 521)}]}}>,\n",
      "             <Answer {'answer': ' the Cryptarch.', 'type': 'extractive', 'score': 2.9954051683489524e-08, 'context': 'y Shards and Glimmer. Moved the Twitch gift sub bounty rewards back to the Cryptarch. Audio distortion has been improved on consoles and PC. Final fix is c', 'offsets_in_document': [{'start': 285, 'end': 300}], 'offsets_in_context': [{'start': 70, 'end': 85}], 'document_ids': ['882b6f42dbc391d9a7785b4550ba7af9'], 'meta': {'name': 'Destiny 2 Hotfix 7.0.5.2', 'link': '/7/en/News/Article/hotfix_7-0-5-2', 'pub_date': '2023-05-02T00:00:00Z', 'unique_id': 'blt485c0d240d1b3bba', 'description': '', '_split_id': 2, '_split_overlap': [{'doc_id': 'd6b0878aedeb0acdb8ac350cd9dc8e4e', 'range': (0, 355)}]}}>,\n",
      "             <Answer {'answer': ' Legendary Shards', 'type': 'extractive', 'score': 1.9798408246174404e-08, 'context': 'd an issue where the Guardian Games class item could be dismantled for Legendary Shards and Glimmer. Moved the Twitch gift sub bounty rewards back to the Cry', 'offsets_in_document': [{'start': 206, 'end': 223}], 'offsets_in_context': [{'start': 70, 'end': 87}], 'document_ids': ['882b6f42dbc391d9a7785b4550ba7af9'], 'meta': {'name': 'Destiny 2 Hotfix 7.0.5.2', 'link': '/7/en/News/Article/hotfix_7-0-5-2', 'pub_date': '2023-05-02T00:00:00Z', 'unique_id': 'blt485c0d240d1b3bba', 'description': '', '_split_id': 2, '_split_overlap': [{'doc_id': 'd6b0878aedeb0acdb8ac350cd9dc8e4e', 'range': (0, 355)}]}}>,\n",
      "             <Answer {'answer': ' Cryptarch.', 'type': 'extractive', 'score': 1.6266954006027845e-08, 'context': 'ards and Glimmer. Moved the Twitch gift sub bounty rewards back to the Cryptarch. Audio distortion has been improved on consoles and PC. Final fix is c', 'offsets_in_document': [{'start': 289, 'end': 300}], 'offsets_in_context': [{'start': 70, 'end': 81}], 'document_ids': ['882b6f42dbc391d9a7785b4550ba7af9'], 'meta': {'name': 'Destiny 2 Hotfix 7.0.5.2', 'link': '/7/en/News/Article/hotfix_7-0-5-2', 'pub_date': '2023-05-02T00:00:00Z', 'unique_id': 'blt485c0d240d1b3bba', 'description': '', '_split_id': 2, '_split_overlap': [{'doc_id': 'd6b0878aedeb0acdb8ac350cd9dc8e4e', 'range': (0, 355)}]}}>],\n",
      " 'documents': [<Document: {'content': 'When starting a new Season (or if you are returning Veteran player who has never played around with Guardian Ranks) you now are reset to Guardian Rank 5. All Seasonal (Blue) Guardian Rank objectives are reset and must be completed again to get your Guardian Rank back. Guardians display their previous rank for the entire following Season. We have taken a pass at placement of all Guardian Rank objectives to make for a more intuitive experience Added the Best Dressed Commendation card to the Ironwood Tree in the Tower. ', 'content_type': 'text', 'score': 0.7261259632446194, 'meta': {'name': 'Destiny 2 Update 7.1.0 - Season of the Deep', 'link': '/7/en/News/Article/season-deep-update-7-1-0', 'pub_date': '2023-05-23T16:30:00Z', 'unique_id': 'blt56002d0e3c869908', 'description': 'The one about Season of the Deep.', '_split_id': 217, '_split_overlap': [{'doc_id': 'e99e94e3cb804e0cb12529b23b206432', 'range': (0, 339)}, {'doc_id': 'e099f69b59b0df9ef02adffdd7646d8c', 'range': (154, 521)}]}, 'id_hash_keys': ['content'], 'embedding': None, 'id': '341b724048921ded57783de0e08d932b'}>,\n",
      "               <Document: {'content': 'Fixed an issue with the Firepower armor mod where Orbs of Power were spawning at their origin point instead of on defeated enemies. Fixed an issue where the Guardian Games class item could be dismantled for Legendary Shards and Glimmer. Moved the Twitch gift sub bounty rewards back to the Cryptarch. Audio distortion has been improved on consoles and PC. Final fix is coming at a later date.', 'content_type': 'text', 'score': 0.7251835191962691, 'meta': {'name': 'Destiny 2 Hotfix 7.0.5.2', 'link': '/7/en/News/Article/hotfix_7-0-5-2', 'pub_date': '2023-05-02T00:00:00Z', 'unique_id': 'blt485c0d240d1b3bba', 'description': '', '_split_id': 2, '_split_overlap': [{'doc_id': 'd6b0878aedeb0acdb8ac350cd9dc8e4e', 'range': (0, 355)}]}, 'id_hash_keys': ['content'], 'embedding': None, 'id': '882b6f42dbc391d9a7785b4550ba7af9'}>],\n",
      " 'invocation_context': {'documents': [<Document: {'content': 'When starting a new Season (or if you are returning Veteran player who has never played around with Guardian Ranks) you now are reset to Guardian Rank 5. All Seasonal (Blue) Guardian Rank objectives are reset and must be completed again to get your Guardian Rank back. Guardians display their previous rank for the entire following Season. We have taken a pass at placement of all Guardian Rank objectives to make for a more intuitive experience Added the Best Dressed Commendation card to the Ironwood Tree in the Tower. ', 'content_type': 'text', 'score': 0.7261259632446194, 'meta': {'name': 'Destiny 2 Update 7.1.0 - Season of the Deep', 'link': '/7/en/News/Article/season-deep-update-7-1-0', 'pub_date': '2023-05-23T16:30:00Z', 'unique_id': 'blt56002d0e3c869908', 'description': 'The one about Season of the Deep.', '_split_id': 217, '_split_overlap': [{'doc_id': 'e99e94e3cb804e0cb12529b23b206432', 'range': (0, 339)}, {'doc_id': 'e099f69b59b0df9ef02adffdd7646d8c', 'range': (154, 521)}]}, 'id_hash_keys': ['content'], 'embedding': None, 'id': '341b724048921ded57783de0e08d932b'}>,\n",
      "                                      <Document: {'content': 'Fixed an issue with the Firepower armor mod where Orbs of Power were spawning at their origin point instead of on defeated enemies. Fixed an issue where the Guardian Games class item could be dismantled for Legendary Shards and Glimmer. Moved the Twitch gift sub bounty rewards back to the Cryptarch. Audio distortion has been improved on consoles and PC. Final fix is coming at a later date.', 'content_type': 'text', 'score': 0.7251835191962691, 'meta': {'name': 'Destiny 2 Hotfix 7.0.5.2', 'link': '/7/en/News/Article/hotfix_7-0-5-2', 'pub_date': '2023-05-02T00:00:00Z', 'unique_id': 'blt485c0d240d1b3bba', 'description': '', '_split_id': 2, '_split_overlap': [{'doc_id': 'd6b0878aedeb0acdb8ac350cd9dc8e4e', 'range': (0, 355)}]}, 'id_hash_keys': ['content'], 'embedding': None, 'id': '882b6f42dbc391d9a7785b4550ba7af9'}>],\n",
      "                        'prompts': ['Synthesize a comprehensive answer from '\n",
      "                                    'the following text for the given '\n",
      "                                    'question. \\n'\n",
      "                                    '                    Provide a clear and '\n",
      "                                    'concise response that summarizes the key '\n",
      "                                    'points and information presented in the '\n",
      "                                    'text. \\n'\n",
      "                                    '                             Your answer '\n",
      "                                    'should directly pull from the source but '\n",
      "                                    'be organized. \\n'\n",
      "                                    '                             \\n'\n",
      "                                    '\\n'\n",
      "                                    ' Related text: When starting a new Season '\n",
      "                                    '(or if you are returning Veteran player '\n",
      "                                    'who has never played around with Guardian '\n",
      "                                    'Ranks) you now are reset to Guardian Rank '\n",
      "                                    '5. All Seasonal (Blue) Guardian Rank '\n",
      "                                    'objectives are reset and must be '\n",
      "                                    'completed again to get your Guardian Rank '\n",
      "                                    'back. Guardians display their previous '\n",
      "                                    'rank for the entire following Season. We '\n",
      "                                    'have taken a pass at placement of all '\n",
      "                                    'Guardian Rank objectives to make for a '\n",
      "                                    'more intuitive experience Added the Best '\n",
      "                                    'Dressed Commendation card to the Ironwood '\n",
      "                                    'Tree in the Tower.  Fixed an issue with '\n",
      "                                    'the Firepower armor mod where Orbs of '\n",
      "                                    'Power were spawning at their origin point '\n",
      "                                    'instead of on defeated enemies. Fixed an '\n",
      "                                    'issue where the Guardian Games class item '\n",
      "                                    'could be dismantled for Legendary Shards '\n",
      "                                    'and Glimmer. Moved the Twitch gift sub '\n",
      "                                    'bounty rewards back to the Cryptarch. '\n",
      "                                    'Audio distortion has been improved on '\n",
      "                                    'consoles and PC. Final fix is coming at a '\n",
      "                                    'later date. \\n'\n",
      "                                    '\\n'\n",
      "                                    ' Question: who won guardian games? \\n'\n",
      "                                    '\\n'\n",
      "                                    ' Answer:'],\n",
      "                        'query': 'who won guardian games?',\n",
      "                        'results': ['The Guardian Games class item could be '\n",
      "                                    'dismantled for Legendary Shards and '\n",
      "                                    'Glimmer.']},\n",
      " 'node_id': 'prompt_node',\n",
      " 'params': {'reader': {'top_k': 10}, 'retriever': {'top_k': 2}},\n",
      " 'query': 'who won guardian games?',\n",
      " 'results': ['The Guardian Games class item could be dismantled for Legendary '\n",
      "             'Shards and Glimmer.'],\n",
      " 'root_node': 'Query'}\n"
     ]
    }
   ],
   "source": [
    "from pprint import pprint\n",
    "\n",
    "pprint(results)\n"
   ]
  }
 ],
 "metadata": {
  "kernelspec": {
   "display_name": "Python 3",
   "language": "python",
   "name": "python3"
  },
  "language_info": {
   "codemirror_mode": {
    "name": "ipython",
    "version": 3
   },
   "file_extension": ".py",
   "mimetype": "text/x-python",
   "name": "python",
   "nbconvert_exporter": "python",
   "pygments_lexer": "ipython3",
   "version": "3.11.3"
  },
  "orig_nbformat": 4
 },
 "nbformat": 4,
 "nbformat_minor": 2
}
