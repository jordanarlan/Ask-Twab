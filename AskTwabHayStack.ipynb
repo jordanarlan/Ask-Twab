{
 "cells": [
  {
   "cell_type": "code",
   "execution_count": 1,
   "metadata": {},
   "outputs": [
    {
     "name": "stdout",
     "output_type": "stream",
     "text": [
      "An error occurred: 'NextPaginationToken'\n"
     ]
    }
   ],
   "source": [
    "import requests\n",
    "import os\n",
    "from importlib.machinery import SourceFileLoader\n",
    "import pandas as pd\n",
    "import logging\n",
    "import torch\n",
    "logging.basicConfig(format=\"%(levelname)s - %(name)s -  %(message)s\", level=logging.WARNING)\n",
    "logging.getLogger(\"haystack\").setLevel(logging.INFO)\n",
    "\n",
    "\n",
    "try:\n",
    "    config = SourceFileLoader(\"config\", \"config.py\").load_module()\n",
    "    os.environ['OPENAI_API_KEY'] = config.OPENAI_API_KEY\n",
    "\n",
    "    bungie_api_key = config.BUNGIE_API_KEY\n",
    "    endpoint = \"https://www.bungie.net/Platform/Content/Rss/NewsArticles/{pageToken}/\"\n",
    "    page_token = \"0\"\n",
    "    include_body = True\n",
    "    headers = {\n",
    "        \"X-API-Key\": bungie_api_key\n",
    "    }\n",
    "    params = {\n",
    "        \"includebody\": include_body\n",
    "    }\n",
    "\n",
    "    results = []\n",
    "\n",
    "    while page_token is not None:\n",
    "        response = requests.get(endpoint.format(pageToken=page_token), headers=headers, params=params)\n",
    "\n",
    "        if response.status_code == 200:\n",
    "            json_response = response.json()\n",
    "            if 'NewsArticles' in json_response['Response']:\n",
    "                results.extend(json_response['Response']['NewsArticles'])\n",
    "            else:\n",
    "                print(\"No NewsArticles found in the response.\")\n",
    "                break\n",
    "            page_token = json_response['Response']['NextPaginationToken']\n",
    "        else:\n",
    "            print(\"Error:\", response.status_code)\n",
    "            print(\"Response:\", response.text)\n",
    "            break\n",
    "except Exception as e:\n",
    "    print(\"An error occurred:\", str(e))\n"
   ]
  },
  {
   "cell_type": "code",
   "execution_count": 2,
   "metadata": {},
   "outputs": [
    {
     "data": {
      "text/plain": [
       "{'Title': 'Destiny 2 Hotfix 6/02/23',\n",
       " 'Link': '/7/en/News/Article/destiny-2-hotfix-6-02-23',\n",
       " 'PubDate': '2023-06-03T04:52:00Z',\n",
       " 'UniqueIdentifier': 'blt612fd6dfe9162c9d',\n",
       " 'Description': 'The one about a horn.',\n",
       " 'HtmlContent': \"<h4>GENERAL</h4><ul><li>Due to an issue, the Khepri's Horn exotic Titan helmet has been disabled in all activities.</li><li>Iron Banner's gametype has changed from Control to Eruption.</li></ul>\",\n",
       " 'ImagePath': 'https://images.contentstack.io/v3/assets/blte410e3b15535c144/blt09415b4dd64c163d/6389b9be07dd0d0d5a3c8e15/Update_Hotfix_Header.jpg',\n",
       " 'OptionalMobileImagePath': 'https://images.contentstack.io/v3/assets/blte410e3b15535c144/bltb22972426ba11c0a/6389b9a4ebfc405e2908ae61/Update_Hotfix_Blog.jpg'}"
      ]
     },
     "execution_count": 2,
     "metadata": {},
     "output_type": "execute_result"
    }
   ],
   "source": [
    "results[0]"
   ]
  },
  {
   "cell_type": "code",
   "execution_count": 3,
   "metadata": {},
   "outputs": [
    {
     "name": "stdout",
     "output_type": "stream",
     "text": [
      "Total Results: 1014\n"
     ]
    }
   ],
   "source": [
    "print(f\"Total Results: {len(results)}\")"
   ]
  },
  {
   "cell_type": "code",
   "execution_count": 4,
   "metadata": {},
   "outputs": [
    {
     "data": {
      "text/plain": [
       "Title                                               Destiny 2 Hotfix 6/02/23\n",
       "Link                             /7/en/News/Article/destiny-2-hotfix-6-02-23\n",
       "PubDate                                                 2023-06-03T04:52:00Z\n",
       "UniqueIdentifier                                         blt612fd6dfe9162c9d\n",
       "Description                                            The one about a horn.\n",
       "HtmlContent                <h4>GENERAL</h4><ul><li>Due to an issue, the K...\n",
       "ImagePath                  https://images.contentstack.io/v3/assets/blte4...\n",
       "OptionalMobileImagePath    https://images.contentstack.io/v3/assets/blte4...\n",
       "Name: 0, dtype: object"
      ]
     },
     "execution_count": 4,
     "metadata": {},
     "output_type": "execute_result"
    }
   ],
   "source": [
    "# Convert the results list into a DataFrame\n",
    "df = pd.DataFrame(results)\n",
    "\n",
    "# Display the DataFrame\n",
    "df.iloc[0]\n"
   ]
  },
  {
   "cell_type": "code",
   "execution_count": 5,
   "metadata": {},
   "outputs": [
    {
     "data": {
      "text/plain": [
       "0                        Destiny 2 Hotfix 6/02/23\n",
       "1                This Week At Bungie - 06/01/2023\n",
       "2                        Destiny 2 Update 7.1.0.1\n",
       "3                        Destiny 2 Hotfix 5/26/23\n",
       "4     Destiny 2 Update 7.1.0 - Season of the Deep\n",
       "5                This Week At Bungie - 05/18/2023\n",
       "6                 This Week At Bungie – 5/11/2023\n",
       "7                        Destiny 2 Hotfix 7.0.5.3\n",
       "8                        Destiny 2 Hotfix 7.0.5.2\n",
       "9                This Week At Bungie – 04/27/2023\n",
       "10          Destiny 2 Artist Reference Collection\n",
       "11                       Destiny 2 Hotfix 7.0.5.1\n",
       "12                This Week At Bungie - 4/20/2023\n",
       "13                       Destiny 2 Update 7.0.5.0\n",
       "14               This Week At Bungie - 04/06/2023\n",
       "15                       Destiny 2 Hotfix 7.0.0.7\n",
       "16                       Destiny 2 Hotfix 7.0.0.6\n",
       "17               This Week At Bungie – 03/23/2023\n",
       "18               This Week At Bungie - 03/16/2023\n",
       "19                       Destiny 2 Hotfix 7.0.0.5\n",
       "20                 This Week At Bungie – 3/9/2023\n",
       "21                       Destiny 2 Hotfix 7.0.0.3\n",
       "22      Destiny 2: New and Returning Player Guide\n",
       "23                       Destiny 2 Update 7.0.0.1\n",
       "24                 This Week At Bungie - 02/23/23\n",
       "Name: Title, dtype: object"
      ]
     },
     "execution_count": 5,
     "metadata": {},
     "output_type": "execute_result"
    }
   ],
   "source": [
    "df = df[df['Title'].str.startswith(('This Week At Bungie', 'Destiny 2'))]\n",
    "df = df.iloc[0:25].reset_index()\n",
    "# Print the filtered DataFrame\n",
    "df['Title']"
   ]
  },
  {
   "cell_type": "code",
   "execution_count": 6,
   "metadata": {},
   "outputs": [],
   "source": [
    "from bs4 import BeautifulSoup\n",
    "\n",
    "# Create a new column 'clean_text' in the DataFrame\n",
    "df['clean_text'] = ''\n",
    "\n",
    "# Iterate over the rows of the DataFrame\n",
    "for index, row in df.iterrows():\n",
    "    html_content = row['HtmlContent']\n",
    "    \n",
    "    # Create a BeautifulSoup object to parse the HTML\n",
    "    soup = BeautifulSoup(html_content, 'html.parser')\n",
    "    \n",
    "    # Retrieve the text content using the .get_text() method\n",
    "    clean_text = soup.get_text().strip()  # Apply strip() to remove leading/trailing whitespaces\n",
    "    \n",
    "    # break into lines and remove leading and trailing space on each\n",
    "    lines = (line.strip() for line in clean_text.splitlines())\n",
    "    \n",
    "    # break multi-headlines into a line each\n",
    "    chunks = (phrase.strip() for line in lines for phrase in line.split(\"  \"))\n",
    "    \n",
    "    # drop blank lines\n",
    "    clean_text = '\\n'.join(chunk for chunk in chunks if chunk)\n",
    "\n",
    "    # Assign the clean text to the 'clean_text' column of the current row\n",
    "    df.at[index, 'clean_text'] = clean_text"
   ]
  },
  {
   "cell_type": "code",
   "execution_count": 25,
   "metadata": {},
   "outputs": [],
   "source": [
    "df = df[['Title', 'Link', 'PubDate', 'UniqueIdentifier', 'Description',\n",
    "       'clean_text']]"
   ]
  },
  {
   "cell_type": "code",
   "execution_count": 27,
   "metadata": {},
   "outputs": [],
   "source": [
    "docs = []\n",
    "## convert to haystack format\n",
    "for index, row in df.iterrows():\n",
    "    doc = {\n",
    "        'content': row['clean_text'],  \n",
    "        'meta': {\n",
    "            'name': row['Title'],\n",
    "            'link': row['Link'],\n",
    "            'pub_date': row['PubDate'],\n",
    "            'unique_id': row['UniqueIdentifier'],\n",
    "            'description': row['Description']\n",
    "        }\n",
    "    }\n",
    "    docs.append(doc)\n"
   ]
  },
  {
   "cell_type": "code",
   "execution_count": 28,
   "metadata": {},
   "outputs": [
    {
     "name": "stderr",
     "output_type": "stream",
     "text": [
      "INFO - haystack.modeling.utils -  Using devices: CUDA:0 - Number of GPUs: 1\n"
     ]
    }
   ],
   "source": [
    "from haystack.document_stores import InMemoryDocumentStore\n",
    "\n",
    "document_store = InMemoryDocumentStore(use_bm25=True)\n"
   ]
  },
  {
   "cell_type": "code",
   "execution_count": 29,
   "metadata": {},
   "outputs": [
    {
     "data": {
      "application/vnd.jupyter.widget-view+json": {
       "model_id": "ff48651f288d4b5c973f11127d228f71",
       "version_major": 2,
       "version_minor": 0
      },
      "text/plain": [
       "Preprocessing:   0%|          | 0/25 [00:00<?, ?docs/s]"
      ]
     },
     "metadata": {},
     "output_type": "display_data"
    },
    {
     "name": "stderr",
     "output_type": "stream",
     "text": [
      "WARNING - haystack.nodes.preprocessor.preprocessor -  We found one or more sentences whose word count is higher than the split length.\n"
     ]
    }
   ],
   "source": [
    "from haystack.nodes import PreProcessor\n",
    "\n",
    "processor = PreProcessor(\n",
    "    clean_empty_lines=True,\n",
    "    clean_whitespace=True,\n",
    "    clean_header_footer=True,\n",
    "    split_by=\"word\",\n",
    "    split_length=100,\n",
    "    split_respect_sentence_boundary=True,\n",
    "    split_overlap=50\n",
    ")\n",
    "\n",
    "docs = processor.process(docs)"
   ]
  },
  {
   "cell_type": "code",
   "execution_count": 30,
   "metadata": {},
   "outputs": [
    {
     "name": "stderr",
     "output_type": "stream",
     "text": [
      "INFO - haystack.document_stores.base -  Duplicate Documents: Document with id '4745c8710fd69e307f36d22f8a893c58' already exists in index 'document'\n",
      "INFO - haystack.document_stores.base -  Duplicate Documents: Document with id 'a88448568c8c5281df70b881f18ef4a3' already exists in index 'document'\n"
     ]
    },
    {
     "data": {
      "application/vnd.jupyter.widget-view+json": {
       "model_id": "20c58ccf5853418ea7e0cbbbd9b5aeaf",
       "version_major": 2,
       "version_minor": 0
      },
      "text/plain": [
       "Updating BM25 representation...:   0%|          | 0/772 [00:00<?, ? docs/s]"
      ]
     },
     "metadata": {},
     "output_type": "display_data"
    }
   ],
   "source": [
    "document_store.write_documents(docs)\n"
   ]
  },
  {
   "cell_type": "code",
   "execution_count": 31,
   "metadata": {},
   "outputs": [],
   "source": [
    "from haystack.nodes import BM25Retriever\n",
    "\n",
    "retriever = BM25Retriever(document_store=document_store)\n"
   ]
  },
  {
   "cell_type": "code",
   "execution_count": 32,
   "metadata": {},
   "outputs": [
    {
     "name": "stderr",
     "output_type": "stream",
     "text": [
      "INFO - haystack.modeling.utils -  Using devices: CUDA:0 - Number of GPUs: 1\n"
     ]
    },
    {
     "data": {
      "application/vnd.jupyter.widget-view+json": {
       "model_id": "2e312688c7134e40b7065ffcd203eca7",
       "version_major": 2,
       "version_minor": 0
      },
      "text/plain": [
       "Downloading (…)lve/main/config.json:   0%|          | 0.00/662 [00:00<?, ?B/s]"
      ]
     },
     "metadata": {},
     "output_type": "display_data"
    },
    {
     "name": "stderr",
     "output_type": "stream",
     "text": [
      "c:\\Users\\jorda\\AppData\\Local\\Programs\\Python\\Python311\\Lib\\site-packages\\huggingface_hub\\file_download.py:133: UserWarning: `huggingface_hub` cache-system uses symlinks by default to efficiently store duplicated files but your machine does not support them in C:\\Users\\jorda\\.cache\\huggingface\\hub. Caching files will still work but in a degraded version that might require more space on your disk. This warning can be disabled by setting the `HF_HUB_DISABLE_SYMLINKS_WARNING` environment variable. For more details, see https://huggingface.co/docs/huggingface_hub/how-to-cache#limitations.\n",
      "To support symlinks on Windows, you either need to activate Developer Mode or to run Python as an administrator. In order to see activate developer mode, see this article: https://docs.microsoft.com/en-us/windows/apps/get-started/enable-your-device-for-development\n",
      "  warnings.warn(message)\n"
     ]
    },
    {
     "data": {
      "application/vnd.jupyter.widget-view+json": {
       "model_id": "4854857f956f48168afe06bdaa773568",
       "version_major": 2,
       "version_minor": 0
      },
      "text/plain": [
       "Downloading pytorch_model.bin:   0%|          | 0.00/3.13G [00:00<?, ?B/s]"
      ]
     },
     "metadata": {},
     "output_type": "display_data"
    },
    {
     "data": {
      "application/vnd.jupyter.widget-view+json": {
       "model_id": "066fdc41820c43738c0e1acc5fbc0afc",
       "version_major": 2,
       "version_minor": 0
      },
      "text/plain": [
       "Downloading (…)neration_config.json:   0%|          | 0.00/147 [00:00<?, ?B/s]"
      ]
     },
     "metadata": {},
     "output_type": "display_data"
    },
    {
     "data": {
      "application/vnd.jupyter.widget-view+json": {
       "model_id": "05b2afe482c24903a0df2d879f6dcf6c",
       "version_major": 2,
       "version_minor": 0
      },
      "text/plain": [
       "Downloading (…)okenizer_config.json:   0%|          | 0.00/2.54k [00:00<?, ?B/s]"
      ]
     },
     "metadata": {},
     "output_type": "display_data"
    },
    {
     "data": {
      "application/vnd.jupyter.widget-view+json": {
       "model_id": "4dec267cd1574c49a90b78b7c1ab564b",
       "version_major": 2,
       "version_minor": 0
      },
      "text/plain": [
       "Downloading spiece.model:   0%|          | 0.00/792k [00:00<?, ?B/s]"
      ]
     },
     "metadata": {},
     "output_type": "display_data"
    },
    {
     "data": {
      "application/vnd.jupyter.widget-view+json": {
       "model_id": "21169d9ac69f44b1a71f4be6f3d9809c",
       "version_major": 2,
       "version_minor": 0
      },
      "text/plain": [
       "Downloading (…)/main/tokenizer.json:   0%|          | 0.00/2.42M [00:00<?, ?B/s]"
      ]
     },
     "metadata": {},
     "output_type": "display_data"
    },
    {
     "data": {
      "application/vnd.jupyter.widget-view+json": {
       "model_id": "40a45060feef4eacbf0e272ddb179a99",
       "version_major": 2,
       "version_minor": 0
      },
      "text/plain": [
       "Downloading (…)cial_tokens_map.json:   0%|          | 0.00/2.20k [00:00<?, ?B/s]"
      ]
     },
     "metadata": {},
     "output_type": "display_data"
    }
   ],
   "source": [
    "from haystack.nodes import PromptNode, PromptTemplate\n",
    "\n",
    "lfqa_prompt = PromptTemplate(\n",
    "    name=\"lfqa\",\n",
    "    prompt_text=\"\"\"Synthesize a comprehensive answer from the following text for the given question. \n",
    "                    Provide a clear and concise response that summarizes the key points and information presented in the text. \n",
    "                             Your answer should be in your own words and be no longer than 50 words. \n",
    "                             \\n\\n Related text: {join(documents)} \\n\\n Question: {query} \\n\\n Answer:\"\"\",\n",
    ")\n",
    "\n",
    "prompt_node = PromptNode(model_name_or_path=\"google/flan-t5-large\", default_prompt_template=lfqa_prompt)\n"
   ]
  },
  {
   "cell_type": "code",
   "execution_count": 36,
   "metadata": {},
   "outputs": [
    {
     "name": "stderr",
     "output_type": "stream",
     "text": [
      "INFO - haystack.modeling.utils -  Using devices: CUDA:0 - Number of GPUs: 1\n"
     ]
    }
   ],
   "source": [
    "from haystack.nodes import TransformersReader\n",
    "\n",
    "reader = TransformersReader(model_name_or_path=\"ahotrod/albert_xxlargev1_squad2_512\", use_gpu=True)"
   ]
  },
  {
   "cell_type": "code",
   "execution_count": 42,
   "metadata": {},
   "outputs": [],
   "source": [
    "from haystack.pipelines import Pipeline\n",
    "\n",
    "pipe2 = Pipeline()\n",
    "pipe2.add_node(component=retriever, name=\"retriever\", inputs=[\"Query\"])\n",
    "pipe2.add_node(component=reader, name=\"reader\", inputs=[\"retriever\"])\n",
    "pipe2.add_node(component=prompt_node, name=\"prompt_node\", inputs=[\"reader\"])\n"
   ]
  },
  {
   "cell_type": "code",
   "execution_count": 47,
   "metadata": {},
   "outputs": [
    {
     "data": {
      "text/plain": [
       "{'results': [\"Fixed an issue causing Verglas Curve's Stasis crystals to fail to spawn if shot at a titan bubble.\"],\n",
       " 'invocation_context': {'query': 'what are the changes to stasis titan',\n",
       "  'documents': [<Document: {'content': \"Fixed an issue that caused Winterbite's melee to mistakenly count as an Energy weapon slot kill for the purposes of progression.\\xa0Vexcalibur\\xa0Vexcalibur's upgraded intrinsic traits at the crafting table now provide slight stat increases.\\xa0Veriglas Curve\\xa0Fixed an issue causing Verglas Curve's Stasis crystals to fail to spawn if shot at a titan bubble.\\xa0Tractor Cannon\\xa0Fixed an issue where Tractor Cannon was impacted by the recent non-lethal collision damage changes.Now causes hit targets to be able to suffer lethal collision damage for a brief duration.\\xa0\", 'content_type': 'text', 'score': 0.8403645018059493, 'meta': {'name': 'Destiny 2 Update 7.1.0 - Season of the Deep', 'link': '/7/en/News/Article/season-deep-update-7-1-0', 'pub_date': '2023-05-23T16:30:00Z', 'unique_id': 'blt56002d0e3c869908', 'description': 'The one about Season of the Deep.', '_split_id': 109, '_split_overlap': [{'doc_id': '6222fa94f65b904f2876753fca17a414', 'range': (0, 349)}, {'doc_id': '16062a8fb83a41f69c40c4b93e7e7ce6', 'range': (236, 553)}]}, 'id_hash_keys': ['content'], 'embedding': None, 'id': '71ef4bcae67f94276364f242488324c9'}>,\n",
       "   <Document: {'content': \"Veriglas Curve\\xa0Fixed an issue causing Verglas Curve's Stasis crystals to fail to spawn if shot at a titan bubble.\\xa0Tractor Cannon\\xa0Fixed an issue where Tractor Cannon was impacted by the recent non-lethal collision damage changes.Now causes hit targets to be able to suffer lethal collision damage for a brief duration.\\xa0Thunderlord\\xa0Fixed an issue with Thunderlord where damaging a target under the effects of Divinity’s debuffcould cause lightning strikes with unintentional frequency, as the hit would count as two precision hits, instead of one.\\xa0\", 'content_type': 'text', 'score': 0.8399740210874205, 'meta': {'name': 'Destiny 2 Update 7.1.0 - Season of the Deep', 'link': '/7/en/News/Article/season-deep-update-7-1-0', 'pub_date': '2023-05-23T16:30:00Z', 'unique_id': 'blt56002d0e3c869908', 'description': 'The one about Season of the Deep.', '_split_id': 110, '_split_overlap': [{'doc_id': '71ef4bcae67f94276364f242488324c9', 'range': (0, 317)}, {'doc_id': '33712a3dbbb558900be9a3af7753779e', 'range': (114, 545)}]}, 'id_hash_keys': ['content'], 'embedding': None, 'id': '16062a8fb83a41f69c40c4b93e7e7ce6'}>],\n",
       "  'results': [\"Fixed an issue causing Verglas Curve's Stasis crystals to fail to spawn if shot at a titan bubble.\"],\n",
       "  'prompts': [\"Synthesize a comprehensive answer from the following text for the given question. \\n                             Provide a clear and concise response that summarizes the key points and information presented in the text. \\n                             Your answer should be in your own words and be no longer than 50 words. \\n                             \\n\\n Related text: Fixed an issue that caused Winterbite's melee to mistakenly count as an Energy weapon slot kill for the purposes of progression.\\xa0Vexcalibur\\xa0Vexcalibur's upgraded intrinsic traits at the crafting table now provide slight stat increases.\\xa0Veriglas Curve\\xa0Fixed an issue causing Verglas Curve's Stasis crystals to fail to spawn if shot at a titan bubble.\\xa0Tractor Cannon\\xa0Fixed an issue where Tractor Cannon was impacted by the recent non-lethal collision damage changes.Now causes hit targets to be able to suffer lethal collision damage for a brief duration.\\xa0 Veriglas Curve\\xa0Fixed an issue causing Verglas Curve's Stasis crystals to fail to spawn if shot at a titan bubble.\\xa0Tractor Cannon\\xa0Fixed an issue where Tractor Cannon was impacted by the recent non-lethal collision damage changes.Now causes hit targets to be able to suffer lethal collision damage for a brief duration.\\xa0Thunderlord\\xa0Fixed an issue with Thunderlord where damaging a target under the effects of Divinity’s debuffcould cause lightning strikes with unintentional frequency, as the hit would count as two precision hits, instead of one.\\xa0 \\n\\n Question: what are the changes to stasis titan \\n\\n Answer:\"]},\n",
       " 'query': 'what are the changes to stasis titan',\n",
       " 'answers': [<Answer {'answer': ' Stasis crystals to fail to spawn if shot at a titan bubble.', 'type': 'extractive', 'score': 4.447975879884325e-05, 'context': \"Veriglas Curve\\xa0Fixed an issue causing Verglas Curve's Stasis crystals to fail to spawn if shot at a titan bubble.\\xa0Tractor Cannon\\xa0Fixed an issue where Tractor Cannon was impacted by th\", 'offsets_in_document': [{'start': 53, 'end': 113}], 'offsets_in_context': [{'start': 53, 'end': 113}], 'document_ids': ['16062a8fb83a41f69c40c4b93e7e7ce6'], 'meta': {'name': 'Destiny 2 Update 7.1.0 - Season of the Deep', 'link': '/7/en/News/Article/season-deep-update-7-1-0', 'pub_date': '2023-05-23T16:30:00Z', 'unique_id': 'blt56002d0e3c869908', 'description': 'The one about Season of the Deep.', '_split_id': 110, '_split_overlap': [{'doc_id': '71ef4bcae67f94276364f242488324c9', 'range': (0, 317)}, {'doc_id': '33712a3dbbb558900be9a3af7753779e', 'range': (114, 545)}]}}>,\n",
       "  <Answer {'answer': ' Stasis crystals to fail to spawn if shot at a titan bubble.', 'type': 'extractive', 'score': 3.7045097997179255e-05, 'context': \"Veriglas Curve\\xa0Fixed an issue causing Verglas Curve's Stasis crystals to fail to spawn if shot at a titan bubble.\\xa0Tractor Cannon\\xa0Fixed an issue where Tractor Cannon was impacted by th\", 'offsets_in_document': [{'start': 53, 'end': 113}], 'offsets_in_context': [{'start': 53, 'end': 113}], 'document_ids': ['16062a8fb83a41f69c40c4b93e7e7ce6'], 'meta': {'name': 'Destiny 2 Update 7.1.0 - Season of the Deep', 'link': '/7/en/News/Article/season-deep-update-7-1-0', 'pub_date': '2023-05-23T16:30:00Z', 'unique_id': 'blt56002d0e3c869908', 'description': 'The one about Season of the Deep.', '_split_id': 110, '_split_overlap': [{'doc_id': '71ef4bcae67f94276364f242488324c9', 'range': (0, 317)}, {'doc_id': '33712a3dbbb558900be9a3af7753779e', 'range': (114, 545)}]}}>,\n",
       "  <Answer {'answer': 'Veriglas Curve', 'type': 'extractive', 'score': 5.0107396418752614e-06, 'context': \"Veriglas Curve\\xa0Fixed an issue causing Verglas Curve's Stasis crystals to fail to spa\", 'offsets_in_document': [{'start': 0, 'end': 14}], 'offsets_in_context': [{'start': 0, 'end': 14}], 'document_ids': ['16062a8fb83a41f69c40c4b93e7e7ce6'], 'meta': {'name': 'Destiny 2 Update 7.1.0 - Season of the Deep', 'link': '/7/en/News/Article/season-deep-update-7-1-0', 'pub_date': '2023-05-23T16:30:00Z', 'unique_id': 'blt56002d0e3c869908', 'description': 'The one about Season of the Deep.', '_split_id': 110, '_split_overlap': [{'doc_id': '71ef4bcae67f94276364f242488324c9', 'range': (0, 317)}, {'doc_id': '33712a3dbbb558900be9a3af7753779e', 'range': (114, 545)}]}}>,\n",
       "  <Answer {'answer': ' Stasis crystals to fail to spawn if shot at a titan bubble.', 'type': 'extractive', 'score': 2.3569905351905618e-06, 'context': \" stat increases.\\xa0Veriglas Curve\\xa0Fixed an issue causing Verglas Curve's Stasis crystals to fail to spawn if shot at a titan bubble.\\xa0Tractor Cannon\\xa0Fixed an issue where Tractor Cannon was impacted by th\", 'offsets_in_document': [{'start': 289, 'end': 349}], 'offsets_in_context': [{'start': 70, 'end': 130}], 'document_ids': ['71ef4bcae67f94276364f242488324c9'], 'meta': {'name': 'Destiny 2 Update 7.1.0 - Season of the Deep', 'link': '/7/en/News/Article/season-deep-update-7-1-0', 'pub_date': '2023-05-23T16:30:00Z', 'unique_id': 'blt56002d0e3c869908', 'description': 'The one about Season of the Deep.', '_split_id': 109, '_split_overlap': [{'doc_id': '6222fa94f65b904f2876753fca17a414', 'range': (0, 349)}, {'doc_id': '16062a8fb83a41f69c40c4b93e7e7ce6', 'range': (236, 553)}]}}>,\n",
       "  <Answer {'answer': ' Stasis crystals', 'type': 'extractive', 'score': 1.778621481207665e-06, 'context': \" stat increases.\\xa0Veriglas Curve\\xa0Fixed an issue causing Verglas Curve's Stasis crystals to fail to spawn if shot at a titan bubble.\\xa0Tractor Cannon\\xa0Fixed an i\", 'offsets_in_document': [{'start': 289, 'end': 305}], 'offsets_in_context': [{'start': 70, 'end': 86}], 'document_ids': ['71ef4bcae67f94276364f242488324c9'], 'meta': {'name': 'Destiny 2 Update 7.1.0 - Season of the Deep', 'link': '/7/en/News/Article/season-deep-update-7-1-0', 'pub_date': '2023-05-23T16:30:00Z', 'unique_id': 'blt56002d0e3c869908', 'description': 'The one about Season of the Deep.', '_split_id': 109, '_split_overlap': [{'doc_id': '6222fa94f65b904f2876753fca17a414', 'range': (0, 349)}, {'doc_id': '16062a8fb83a41f69c40c4b93e7e7ce6', 'range': (236, 553)}]}}>,\n",
       "  <Answer {'answer': '\\xa0Veriglas Curve', 'type': 'extractive', 'score': 8.820412631393992e-07, 'context': \"rinsic traits at the crafting table now provide slight stat increases.\\xa0Veriglas Curve\\xa0Fixed an issue causing Verglas Curve's Stasis crystals to fail to spa\", 'offsets_in_document': [{'start': 235, 'end': 250}], 'offsets_in_context': [{'start': 70, 'end': 85}], 'document_ids': ['71ef4bcae67f94276364f242488324c9'], 'meta': {'name': 'Destiny 2 Update 7.1.0 - Season of the Deep', 'link': '/7/en/News/Article/season-deep-update-7-1-0', 'pub_date': '2023-05-23T16:30:00Z', 'unique_id': 'blt56002d0e3c869908', 'description': 'The one about Season of the Deep.', '_split_id': 109, '_split_overlap': [{'doc_id': '6222fa94f65b904f2876753fca17a414', 'range': (0, 349)}, {'doc_id': '16062a8fb83a41f69c40c4b93e7e7ce6', 'range': (236, 553)}]}}>],\n",
       " 'documents': [<Document: {'content': \"Fixed an issue that caused Winterbite's melee to mistakenly count as an Energy weapon slot kill for the purposes of progression.\\xa0Vexcalibur\\xa0Vexcalibur's upgraded intrinsic traits at the crafting table now provide slight stat increases.\\xa0Veriglas Curve\\xa0Fixed an issue causing Verglas Curve's Stasis crystals to fail to spawn if shot at a titan bubble.\\xa0Tractor Cannon\\xa0Fixed an issue where Tractor Cannon was impacted by the recent non-lethal collision damage changes.Now causes hit targets to be able to suffer lethal collision damage for a brief duration.\\xa0\", 'content_type': 'text', 'score': 0.8403645018059493, 'meta': {'name': 'Destiny 2 Update 7.1.0 - Season of the Deep', 'link': '/7/en/News/Article/season-deep-update-7-1-0', 'pub_date': '2023-05-23T16:30:00Z', 'unique_id': 'blt56002d0e3c869908', 'description': 'The one about Season of the Deep.', '_split_id': 109, '_split_overlap': [{'doc_id': '6222fa94f65b904f2876753fca17a414', 'range': (0, 349)}, {'doc_id': '16062a8fb83a41f69c40c4b93e7e7ce6', 'range': (236, 553)}]}, 'id_hash_keys': ['content'], 'embedding': None, 'id': '71ef4bcae67f94276364f242488324c9'}>,\n",
       "  <Document: {'content': \"Veriglas Curve\\xa0Fixed an issue causing Verglas Curve's Stasis crystals to fail to spawn if shot at a titan bubble.\\xa0Tractor Cannon\\xa0Fixed an issue where Tractor Cannon was impacted by the recent non-lethal collision damage changes.Now causes hit targets to be able to suffer lethal collision damage for a brief duration.\\xa0Thunderlord\\xa0Fixed an issue with Thunderlord where damaging a target under the effects of Divinity’s debuffcould cause lightning strikes with unintentional frequency, as the hit would count as two precision hits, instead of one.\\xa0\", 'content_type': 'text', 'score': 0.8399740210874205, 'meta': {'name': 'Destiny 2 Update 7.1.0 - Season of the Deep', 'link': '/7/en/News/Article/season-deep-update-7-1-0', 'pub_date': '2023-05-23T16:30:00Z', 'unique_id': 'blt56002d0e3c869908', 'description': 'The one about Season of the Deep.', '_split_id': 110, '_split_overlap': [{'doc_id': '71ef4bcae67f94276364f242488324c9', 'range': (0, 317)}, {'doc_id': '33712a3dbbb558900be9a3af7753779e', 'range': (114, 545)}]}, 'id_hash_keys': ['content'], 'embedding': None, 'id': '16062a8fb83a41f69c40c4b93e7e7ce6'}>],\n",
       " 'root_node': 'Query',\n",
       " 'params': {'retriever': {'top_k': 2}, 'reader': {'top_k': 10}},\n",
       " 'node_id': 'prompt_node'}"
      ]
     },
     "execution_count": 47,
     "metadata": {},
     "output_type": "execute_result"
    }
   ],
   "source": [
    "pipe2.run(\n",
    "    query=\"what are the changes to stasis titan\",\n",
    "    params={\n",
    "        \"retriever\": {\"top_k\": 2},\n",
    "        \"reader\": {\"top_k\": 10}\n",
    "    }\n",
    ")\n",
    "\n"
   ]
  },
  {
   "cell_type": "code",
   "execution_count": 15,
   "metadata": {},
   "outputs": [],
   "source": [
    "from haystack.pipelines import ExtractiveQAPipeline\n",
    "\n",
    "pipe = ExtractiveQAPipeline(reader, retriever)"
   ]
  },
  {
   "cell_type": "code",
   "execution_count": 23,
   "metadata": {},
   "outputs": [],
   "source": [
    "prediction = pipe.run(\n",
    "    query=\"what was the most recent season?\",\n",
    "    params={\n",
    "        \"Retriever\": {\"top_k\": 10},\n",
    "        \"Reader\": {\"top_k\": 5}\n",
    "    }\n",
    ")\n"
   ]
  },
  {
   "cell_type": "code",
   "execution_count": 24,
   "metadata": {},
   "outputs": [
    {
     "name": "stdout",
     "output_type": "stream",
     "text": [
      "{'answers': [<Answer {'answer': ' Season of the Deep,', 'type': 'extractive', 'score': 0.8737624883651733, 'context': 'Alright, that does it for us this week. We’re less than two weeks from Season of the Deep, so be sure you let us know over on Twitter what you’re most excited f', 'offsets_in_document': [{'start': 303, 'end': 323}], 'offsets_in_context': [{'start': 70, 'end': 90}], 'document_ids': ['b9b293933fa3f84ecbbc9aa95f7ce1d5'], 'meta': {'name': 'This Week At Bungie – 5/11/2023', 'link': '/7/en/News/Article/05-011-2023-twab', 'pub_date': '2023-05-11T18:00:00Z', 'unique_id': 'blt8dcb8e715bde5605', 'description': 'This week at Bungie, we’ve got an armor preview and a dungeon date. ', '_split_id': 33, '_split_overlap': [{'doc_id': 'ae33fa9b51a4a427ecfec5ae6aafb95f', 'range': (0, 461)}, {'doc_id': 'b0bfdf309865b1df62511f8d41ff393d', 'range': (273, 617)}]}}>,\n",
      "             <Answer {'answer': ' Season of the Deep,', 'type': 'extractive', 'score': 0.8365026712417603, 'context': 'We’re less than two weeks from Season of the Deep, so be sure you let us know over on Twitter what you’re most excited f', 'offsets_in_document': [{'start': 30, 'end': 50}], 'offsets_in_context': [{'start': 30, 'end': 50}], 'document_ids': ['b0bfdf309865b1df62511f8d41ff393d'], 'meta': {'name': 'This Week At Bungie – 5/11/2023', 'link': '/7/en/News/Article/05-011-2023-twab', 'pub_date': '2023-05-11T18:00:00Z', 'unique_id': 'blt8dcb8e715bde5605', 'description': 'This week at Bungie, we’ve got an armor preview and a dungeon date. ', '_split_id': 34, '_split_overlap': [{'doc_id': 'b9b293933fa3f84ecbbc9aa95f7ce1d5', 'range': (0, 344)}, {'doc_id': '7a952768d11e2a3e517f417fc1a25cf8', 'range': (189, 484)}]}}>,\n",
      "             <Answer {'answer': ' Season of Defiance.Exclusive', 'type': 'extractive', 'score': 0.7905268669128418, 'context': 'linesThis includes seasonal story missions.Seasonal activitiesCurrent: Season of Defiance.Exclusive Exotic weapons and armor pieces alongside a variety of other cosmetic', 'offsets_in_document': [{'start': 397, 'end': 426}], 'offsets_in_context': [{'start': 70, 'end': 99}], 'document_ids': ['db66af135b71aebcb958b53e29e00290'], 'meta': {'name': 'Destiny 2: New and Returning Player Guide', 'link': '/7/en/News/Article/official-destiny-2-guide-new', 'pub_date': '2023-03-03T23:30:00Z', 'unique_id': 'blt5a82a15b55a1407c', 'description': 'Destiny 2 tips and tricks for new and returning players suiting back up for Lightfall and beyond.', '_split_id': 9, '_split_overlap': []}}>,\n",
      "             <Answer {'answer': ' Season of the Deep!Cutscenes', 'type': 'extractive', 'score': 0.6490001082420349, 'context': ' PlayStation crossover.Guardian Games has concluded.Save the Dates for Season of the Deep!Cutscenes for days.Guardian Ranks reminder.Aquanaut is now available.This week ', 'offsets_in_document': [{'start': 505, 'end': 534}], 'offsets_in_context': [{'start': 70, 'end': 99}], 'document_ids': ['a25ca77ef006c37a6fb56ae088f65bd'], 'meta': {'name': 'This Week At Bungie - 06/01/2023', 'link': '/7/en/News/Article/06_01_2023_twab', 'pub_date': '2023-06-01T18:00:00Z', 'unique_id': 'blt36382dc929299957', 'description': 'This week at Bungie, we fought the ghosts of the deep. ', '_split_id': 1, '_split_overlap': [{'doc_id': '84bbd4f6e7d56fb80e98a9cd9bd7a8c3', 'range': (0, 311)}, {'doc_id': '99e544246f372f52997e008a2ff49646', 'range': (312, 959)}]}}>,\n",
      "             <Answer {'answer': ' Season of the Deep,', 'type': 'extractive', 'score': 0.3550117611885071, 'context': 'Alright, that does it for us this week. We’re less than two weeks from Season of the Deep, so be sure you let us know over on Twitter what you’re most excited f', 'offsets_in_document': [{'start': 561, 'end': 581}], 'offsets_in_context': [{'start': 70, 'end': 90}], 'document_ids': ['ae33fa9b51a4a427ecfec5ae6aafb95f'], 'meta': {'name': 'This Week At Bungie – 5/11/2023', 'link': '/7/en/News/Article/05-011-2023-twab', 'pub_date': '2023-05-11T18:00:00Z', 'unique_id': 'blt8dcb8e715bde5605', 'description': 'This week at Bungie, we’ve got an armor preview and a dungeon date. ', '_split_id': 32, '_split_overlap': [{'doc_id': 'a897cb7766299bb882c4293a71e49e7b', 'range': (0, 530)}, {'doc_id': 'b9b293933fa3f84ecbbc9aa95f7ce1d5', 'range': (258, 719)}]}}>],\n",
      " 'documents': [<Document: {'content': 'Other expansions, like The Witch Queen, offer not only a new level of challenge with a legendary campaign difficulty option but a thrilling narrative that casts Destiny lore in a new light.What’s not available for free Destiny 2 players?More raids and dungeons.Trials of OsirisRequires the most recent expansion.Expansion storylinesThis includes seasonal story missions.Seasonal activitiesCurrent: Season of Defiance.Exclusive Exotic weapons and armor pieces alongside a variety of other cosmetic itemsThis includes the Season Pass rewards.As for the expansions themselves, here is the order of release for each expansion that has launched since the release of Destiny 2.Every Destiny 2 Expansion:Curse of OsirisWarmindForsakenShadowkeepBeyond LightThe Witch QueenLightfallThe Final Shape (announced, release TBD)*Curse of Osiris, Warmind, and Forsaken are no longer active expansions in Destiny 2, learn more about vaulting and hat’s changed right here.Each expansion contains its own story that explores more of the Destiny universe and the wildly eclectic individual characters that bring the stories to life and give Guardians their purpose.Where Should I Start When Playing Destiny 2?The journey begins with an introductory mini-campaign that lasts about two hours on the Cosmodrome with the New Light mission called A Guardian Rises. ', 'content_type': 'text', 'score': 0.7811339697664424, 'meta': {'name': 'Destiny 2: New and Returning Player Guide', 'link': '/7/en/News/Article/official-destiny-2-guide-new', 'pub_date': '2023-03-03T23:30:00Z', 'unique_id': 'blt5a82a15b55a1407c', 'description': 'Destiny 2 tips and tricks for new and returning players suiting back up for Lightfall and beyond.', '_split_id': 9, '_split_overlap': []}, 'id_hash_keys': ['content'], 'embedding': None, 'id': 'db66af135b71aebcb958b53e29e00290'}>,\n",
      "               <Document: {'content': 'Go redeem it now!Prime Gaming UpdateWelcome to the latest Prime Gaming update. It’s finally time for me to give up the skedaddle shenanigans and let you in on where that came from. This month we are vanishing into thin air, and then transmatting out with our Ghost and skedaddling on over to the next fishing hole.Ninja Vanish emoteRedline Ghost ShellSkedaddle Legendary SparrowThe Deep Ghost ProjectionIf you don’t know what Prime Gaming is, you can check out our article and learn more!Player Support ReportAquanauts, assemble!The Player Support team is back this week and ready to share with you the most recent update of known issues in the Deep and beyond.Known Issues List | Help Forum | Bungie Help TwitterLIGHTFALL DUNGEON KEYPlayers experiencing issues accessing the Ghosts of the Deep dungeon should be aware of the following vital information:Players must acquire the Rise quest from Hawthorne in the Tower in order to launch into the dungeon for the first time.Ownership of the Lightfall Dungeon Key is required. ', 'content_type': 'text', 'score': 0.7664176707423684, 'meta': {'name': 'This Week At Bungie - 06/01/2023', 'link': '/7/en/News/Article/06_01_2023_twab', 'pub_date': '2023-06-01T18:00:00Z', 'unique_id': 'blt36382dc929299957', 'description': 'This week at Bungie, we fought the ghosts of the deep. ', '_split_id': 11, '_split_overlap': [{'doc_id': '3590d821c14dce72389f406a1969f9e5', 'range': (0, 180)}]}, 'id_hash_keys': ['content'], 'embedding': None, 'id': 'aa03ddd87979df0851fa8c72dbc779a9'}>,\n",
      "               <Document: {'content': \"Raid launches are unforgettable for the studio and this one was extra special as we broke our viewership record on Twitch.We hope that players (more than 190,000 of you) who beat the final boss during Contest Mode are feeling good right about now. Time to go complete some challenges if you want to improve your chances of getting the new Conditional Finality Exotic Shotgun.The Art of LightfallArt, what a concept! Isn't it amazing how humans transform thoughts and ideas into literally the most stunning and inspiring stuff you’ve ever seen? \", 'content_type': 'text', 'score': 0.7641384895502196, 'meta': {'name': 'This Week At Bungie - 03/16/2023', 'link': '/7/en/News/Article/twab_03_16_2023', 'pub_date': '2023-03-16T19:00:00Z', 'unique_id': 'bltee5d207f8857369b', 'description': 'The Gensym Scribe of the Radiolarian Lake', '_split_id': 6, '_split_overlap': [{'doc_id': 'df3b1c5567448746d651b5691d462ef0', 'range': (0, 247)}, {'doc_id': '3f998436783bad93a6da2b2ca35dd8a5', 'range': (248, 543)}]}, 'id_hash_keys': ['content'], 'embedding': None, 'id': '3afbeb73ee1f0028207402c512d5bc49'}>,\n",
      "               <Document: {'content': \"Time to go complete some challenges if you want to improve your chances of getting the new Conditional Finality Exotic Shotgun.The Art of LightfallArt, what a concept! Isn't it amazing how humans transform thoughts and ideas into literally the most stunning and inspiring stuff you’ve ever seen? From creating brand-new characters to designing a metropolis in the post-Collapse world of Destiny 2, Lightfall’s art was a very special challenge for our team.There’s a lot of work behind Strand’s identity and the design of Neomuna’s buildings, billboards, lights, and that very specific Neptune-neon vibe. \", 'content_type': 'text', 'score': 0.7633319941455851, 'meta': {'name': 'This Week At Bungie - 03/16/2023', 'link': '/7/en/News/Article/twab_03_16_2023', 'pub_date': '2023-03-16T19:00:00Z', 'unique_id': 'bltee5d207f8857369b', 'description': 'The Gensym Scribe of the Radiolarian Lake', '_split_id': 7, '_split_overlap': [{'doc_id': '3afbeb73ee1f0028207402c512d5bc49', 'range': (0, 295)}, {'doc_id': 'c5dce5c9f9164bc04263c0623a2be263', 'range': (168, 603)}]}, 'id_hash_keys': ['content'], 'embedding': None, 'id': '3f998436783bad93a6da2b2ca35dd8a5'}>,\n",
      "               <Document: {'content': 'We’re less than two weeks from Season of the Deep, so be sure you let us know over on Twitter what you’re most excited for and share your Guardians fly fits or favorite emotes you have on. But since we do still have Guardian Games going, get back out there, earn those medals, and let’s win it for the Warlocks, [cough] Hunters, [cough] Titans!\\xa0One more reminder, don’t forget to finish your Seasonal Triumphs, Season Pass, Weekly Challenges, or anything else you may have left to do. ', 'content_type': 'text', 'score': 0.7533986660233944, 'meta': {'name': 'This Week At Bungie – 5/11/2023', 'link': '/7/en/News/Article/05-011-2023-twab', 'pub_date': '2023-05-11T18:00:00Z', 'unique_id': 'blt8dcb8e715bde5605', 'description': 'This week at Bungie, we’ve got an armor preview and a dungeon date. ', '_split_id': 34, '_split_overlap': [{'doc_id': 'b9b293933fa3f84ecbbc9aa95f7ce1d5', 'range': (0, 344)}, {'doc_id': '7a952768d11e2a3e517f417fc1a25cf8', 'range': (189, 484)}]}, 'id_hash_keys': ['content'], 'embedding': None, 'id': 'b0bfdf309865b1df62511f8d41ff393d'}>,\n",
      "               <Document: {'content': 'The Forsaken Pack will still be available as its own separate content pack.KNOWN ISSUESWhile we continue investigating various known issues, here is a list of the latest issues that were reported to us in our #Help forum:Some Xbox players are re-downloading the most recent update on every game launch.We are continuing to investigate reports of WEASEL errors occurring for characters on log in.Players who receive a leaver penalty in the competitive Crucible playlist may be unable to launch into the playlist once their leaver penalty has expired. This can be resolved by swapping characters and playing another match in the competitive Crucible playlist.For a full list of emergent issues in Destiny 2, players can review our Known Issues article. ', 'content_type': 'text', 'score': 0.7485064550337913, 'meta': {'name': 'This Week At Bungie - 02/23/23', 'link': '/7/en/News/Article/twab-02-23-2023', 'pub_date': '2023-02-23T19:00:00Z', 'unique_id': 'blt4abdcdd36712be1a', 'description': 'Only five more sleeps', '_split_id': 60, '_split_overlap': [{'doc_id': '871b0781bed8655df0f08a5f50998e60', 'range': (0, 549)}, {'doc_id': '9e3175c3641595825431600af974189', 'range': (550, 750)}]}, 'id_hash_keys': ['content'], 'embedding': None, 'id': '6618c184e4d263405c05ff5884dcd89a'}>,\n",
      "               <Document: {'content': 'The current Legacy Collection (containing the Forsaken Pack, Shadowkeep, and Beyond Light) will be retired from our platform stores and replaced by the Legacy Collection (2023). This updated collection will contain the Shadowkeep, Beyond Light, and The Witch Queen expansions. The Forsaken Pack will still be available as its own separate content pack.KNOWN ISSUESWhile we continue investigating various known issues, here is a list of the latest issues that were reported to us in our #Help forum:Some Xbox players are re-downloading the most recent update on every game launch.We are continuing to investigate reports of WEASEL errors occurring for characters on log in.Players who receive a leaver penalty in the competitive Crucible playlist may be unable to launch into the playlist once their leaver penalty has expired. ', 'content_type': 'text', 'score': 0.7484676334784701, 'meta': {'name': 'This Week At Bungie - 02/23/23', 'link': '/7/en/News/Article/twab-02-23-2023', 'pub_date': '2023-02-23T19:00:00Z', 'unique_id': 'blt4abdcdd36712be1a', 'description': 'Only five more sleeps', '_split_id': 59, '_split_overlap': [{'doc_id': '866c2602bb878b8def554ba32fc7c3ab', 'range': (0, 276)}, {'doc_id': '6618c184e4d263405c05ff5884dcd89a', 'range': (277, 826)}]}, 'id_hash_keys': ['content'], 'embedding': None, 'id': '871b0781bed8655df0f08a5f50998e60'}>,\n",
      "               <Document: {'content': 'Art of the Week: Final God of Amazing Poses러블리 돼지감자 #Destiny2Art pic.twitter.com/Ds6e9EX33s— 벨로프 (@Belov_W) May 9, 2023__________________________________________________________________________________________________________________Alright, that does it for us this week. We’re less than two weeks from Season of the Deep, so be sure you let us know over on Twitter what you’re most excited for and share your Guardians fly fits or favorite emotes you have on. But since we do still have Guardian Games going, get back out there, earn those medals, and let’s win it for the Warlocks, [cough] Hunters, [cough] Titans!\\xa0', 'content_type': 'text', 'score': 0.7465928066062202, 'meta': {'name': 'This Week At Bungie – 5/11/2023', 'link': '/7/en/News/Article/05-011-2023-twab', 'pub_date': '2023-05-11T18:00:00Z', 'unique_id': 'blt8dcb8e715bde5605', 'description': 'This week at Bungie, we’ve got an armor preview and a dungeon date. ', '_split_id': 33, '_split_overlap': [{'doc_id': 'ae33fa9b51a4a427ecfec5ae6aafb95f', 'range': (0, 461)}, {'doc_id': 'b0bfdf309865b1df62511f8d41ff393d', 'range': (273, 617)}]}, 'id_hash_keys': ['content'], 'embedding': None, 'id': 'b9b293933fa3f84ecbbc9aa95f7ce1d5'}>,\n",
      "               <Document: {'content': \"Art of the Week:\\xa0SWIM in the deepSWIM in the deep - merman🧜\\u200d♂️ warlock✨#Destiny2Art #Destiny2AOTW pic.twitter.com/GInWtMfaN1— Dawn ✨ (COMMS open) (@dawn_thewarlock) May 7, 2023Bruno: I'm here once again sharing an amazing rendition of our latest raid boss.\\xa0\\xa0Art of the Week: Final God of Amazing Poses러블리 돼지감자 #Destiny2Art pic.twitter.com/Ds6e9EX33s— 벨로프 (@Belov_W) May 9, 2023__________________________________________________________________________________________________________________Alright, that does it for us this week. We’re less than two weeks from Season of the Deep, so be sure you let us know over on Twitter what you’re most excited for and share your Guardians fly fits or favorite emotes you have on. \", 'content_type': 'text', 'score': 0.7463395205922533, 'meta': {'name': 'This Week At Bungie – 5/11/2023', 'link': '/7/en/News/Article/05-011-2023-twab', 'pub_date': '2023-05-11T18:00:00Z', 'unique_id': 'blt8dcb8e715bde5605', 'description': 'This week at Bungie, we’ve got an armor preview and a dungeon date. ', '_split_id': 32, '_split_overlap': [{'doc_id': 'a897cb7766299bb882c4293a71e49e7b', 'range': (0, 530)}, {'doc_id': 'b9b293933fa3f84ecbbc9aa95f7ce1d5', 'range': (258, 719)}]}, 'id_hash_keys': ['content'], 'embedding': None, 'id': 'ae33fa9b51a4a427ecfec5ae6aafb95f'}>,\n",
      "               <Document: {'content': \"What’s your favorite thing so far about the Season? What about... [deep breaths] Ok, ok, it's time to calm down. It’s just something special to see all your social posts tackling Ghosts of the Deep, working with Sloane, and did I mention fishing already? It gets us pretty hyped.Anyhoo, let’s get back on topic. Here is what we shared last week and what we are going to read about today.Last week in TWAB:Marathon was announced!Our new PlayStation crossover.Guardian Games has concluded.Save the Dates for Season of the Deep!Cutscenes for days.Guardian Ranks reminder.Aquanaut is now available.This week we’ve got:Ghosts of the Deep recap.Dungeon-themed items in the Bungie Store.Pride@Bungie announcement.M:\\\\STARTPrime Gaming update.The weekly update from the Player Support Team.Weekly Art of the Week and Movie of the week picks.The DungeonWere you one of the Guardians who dove deep into a Titan Archology only to arrive face to face with the Lucent Hive? \", 'content_type': 'text', 'score': 0.7433119699910364, 'meta': {'name': 'This Week At Bungie - 06/01/2023', 'link': '/7/en/News/Article/06_01_2023_twab', 'pub_date': '2023-06-01T18:00:00Z', 'unique_id': 'blt36382dc929299957', 'description': 'This week at Bungie, we fought the ghosts of the deep. ', '_split_id': 1, '_split_overlap': [{'doc_id': '84bbd4f6e7d56fb80e98a9cd9bd7a8c3', 'range': (0, 311)}, {'doc_id': '99e544246f372f52997e008a2ff49646', 'range': (312, 959)}]}, 'id_hash_keys': ['content'], 'embedding': None, 'id': 'a25ca77ef006c37a6fb56ae088f65bd'}>],\n",
      " 'node_id': 'Reader',\n",
      " 'params': {'Reader': {'top_k': 5}, 'Retriever': {'top_k': 10}},\n",
      " 'query': 'what was the most recent season?',\n",
      " 'root_node': 'Query'}\n"
     ]
    }
   ],
   "source": [
    "from pprint import pprint\n",
    "\n",
    "pprint(prediction)\n"
   ]
  },
  {
   "cell_type": "code",
   "execution_count": 18,
   "metadata": {},
   "outputs": [
    {
     "name": "stdout",
     "output_type": "stream",
     "text": [
      "'Query: what was the change to the immortal?'\n",
      "'Answers:'\n",
      "[   <Answer {'answer': '\\xa0Reduced base range value by 10.', 'type': 'extractive', 'score': 0.46526047587394714, 'context': 'lier from 1.45 to 1.5 (crit damage goes from 21.8 to 21).\\xa0The Immortal\\xa0Reduced base range value by 10.\\xa0BowsFixed an issue where the Arsenic Bite Bow would display an incorr', 'offsets_in_document': [{'start': 100, 'end': 132}], 'offsets_in_context': [{'start': 70, 'end': 102}], 'document_ids': ['a5f4b49fddc9545d12242b22cbf0e15a'], 'meta': {'name': 'Destiny 2 Update 7.1.0 - Season of the Deep', 'link': '/7/en/News/Article/season-deep-update-7-1-0', 'pub_date': '2023-05-23T16:30:00Z', 'unique_id': 'blt56002d0e3c869908', 'description': 'The one about Season of the Deep.', '_split_id': 88, '_split_overlap': [{'doc_id': '2a97494f63ca60fc95f0f5750e965e55', 'range': (0, 346)}, {'doc_id': '1b5d6ec3289dc9cbd30d740f55e6fd36', 'range': (234, 590)}]}}>,\n",
      "    <Answer {'answer': '\\xa0Reduced base range value by 10.', 'type': 'extractive', 'score': 0.36638006567955017, 'context': 'lier from 1.45 to 1.5 (crit damage goes from 21.8 to 21).\\xa0The Immortal\\xa0Reduced base range value by 10.\\xa0BowsFixed an issue where the Arsenic Bite Bow would display an incorr', 'offsets_in_document': [{'start': 177, 'end': 209}], 'offsets_in_context': [{'start': 70, 'end': 102}], 'document_ids': ['2a97494f63ca60fc95f0f5750e965e55'], 'meta': {'name': 'Destiny 2 Update 7.1.0 - Season of the Deep', 'link': '/7/en/News/Article/season-deep-update-7-1-0', 'pub_date': '2023-05-23T16:30:00Z', 'unique_id': 'blt56002d0e3c869908', 'description': 'The one about Season of the Deep.', '_split_id': 87, '_split_overlap': [{'doc_id': '43dc141ef2b5398a415713e0f2406aa7', 'range': (0, 310)}, {'doc_id': 'a5f4b49fddc9545d12242b22cbf0e15a', 'range': (77, 423)}]}}>,\n",
      "    <Answer {'answer': '\\xa0Reduced base range value by 10.', 'type': 'extractive', 'score': 0.28801092505455017, 'context': 'lier from 1.45 to 1.5 (crit damage goes from 21.8 to 21).\\xa0The Immortal\\xa0Reduced base range value by 10.\\xa0BowsFixed an issue where the Arsenic Bite Bow would display an incorr', 'offsets_in_document': [{'start': 100, 'end': 132}], 'offsets_in_context': [{'start': 70, 'end': 102}], 'document_ids': ['a5f4b49fddc9545d12242b22cbf0e15a'], 'meta': {'name': 'Destiny 2 Update 7.1.0 - Season of the Deep', 'link': '/7/en/News/Article/season-deep-update-7-1-0', 'pub_date': '2023-05-23T16:30:00Z', 'unique_id': 'blt56002d0e3c869908', 'description': 'The one about Season of the Deep.', '_split_id': 88, '_split_overlap': [{'doc_id': '2a97494f63ca60fc95f0f5750e965e55', 'range': (0, 346)}, {'doc_id': '1b5d6ec3289dc9cbd30d740f55e6fd36', 'range': (234, 590)}]}}>,\n",
      "    <Answer {'answer': '\\xa0Reduced base range value by 10.', 'type': 'extractive', 'score': 0.28024572134017944, 'context': 'lier from 1.45 to 1.5 (crit damage goes from 21.8 to 21).\\xa0The Immortal\\xa0Reduced base range value by 10.\\xa0BowsFixed an issue where the Arsenic Bite Bow would display an incorr', 'offsets_in_document': [{'start': 177, 'end': 209}], 'offsets_in_context': [{'start': 70, 'end': 102}], 'document_ids': ['2a97494f63ca60fc95f0f5750e965e55'], 'meta': {'name': 'Destiny 2 Update 7.1.0 - Season of the Deep', 'link': '/7/en/News/Article/season-deep-update-7-1-0', 'pub_date': '2023-05-23T16:30:00Z', 'unique_id': 'blt56002d0e3c869908', 'description': 'The one about Season of the Deep.', '_split_id': 87, '_split_overlap': [{'doc_id': '43dc141ef2b5398a415713e0f2406aa7', 'range': (0, 310)}, {'doc_id': 'a5f4b49fddc9545d12242b22cbf0e15a', 'range': (77, 423)}]}}>,\n",
      "    <Answer {'answer': '\\xa0The Immortal\\xa0Reduced base range value by 10.', 'type': 'extractive', 'score': 0.10946255922317505, 'context': 'on hit multiplier from 1.45 to 1.5 (crit damage goes from 21.8 to 21).\\xa0The Immortal\\xa0Reduced base range value by 10.\\xa0BowsFixed an issue where the Arsenic Bite Bow would display an incorr', 'offsets_in_document': [{'start': 87, 'end': 132}], 'offsets_in_context': [{'start': 70, 'end': 115}], 'document_ids': ['a5f4b49fddc9545d12242b22cbf0e15a'], 'meta': {'name': 'Destiny 2 Update 7.1.0 - Season of the Deep', 'link': '/7/en/News/Article/season-deep-update-7-1-0', 'pub_date': '2023-05-23T16:30:00Z', 'unique_id': 'blt56002d0e3c869908', 'description': 'The one about Season of the Deep.', '_split_id': 88, '_split_overlap': [{'doc_id': '2a97494f63ca60fc95f0f5750e965e55', 'range': (0, 346)}, {'doc_id': '1b5d6ec3289dc9cbd30d740f55e6fd36', 'range': (234, 590)}]}}>]\n"
     ]
    }
   ],
   "source": [
    "from haystack.utils import print_answers\n",
    "\n",
    "print_answers(\n",
    "    prediction,\n",
    "    details=\"all\" ## Choose from `minimum`, `medium`, and `all`\n",
    ")\n"
   ]
  }
 ],
 "metadata": {
  "kernelspec": {
   "display_name": "Python 3",
   "language": "python",
   "name": "python3"
  },
  "language_info": {
   "codemirror_mode": {
    "name": "ipython",
    "version": 3
   },
   "file_extension": ".py",
   "mimetype": "text/x-python",
   "name": "python",
   "nbconvert_exporter": "python",
   "pygments_lexer": "ipython3",
   "version": "3.11.3"
  },
  "orig_nbformat": 4
 },
 "nbformat": 4,
 "nbformat_minor": 2
}
