{
 "cells": [
  {
   "cell_type": "code",
   "execution_count": 1,
   "metadata": {},
   "outputs": [
    {
     "name": "stdout",
     "output_type": "stream",
     "text": [
      "An error occurred: 'NextPaginationToken'\n"
     ]
    }
   ],
   "source": [
    "import requests\n",
    "import os\n",
    "from importlib.machinery import SourceFileLoader\n",
    "import pandas as pd\n",
    "import logging\n",
    "import torch\n",
    "logging.basicConfig(format=\"%(levelname)s - %(name)s -  %(message)s\", level=logging.WARNING)\n",
    "logging.getLogger(\"haystack\").setLevel(logging.INFO)\n",
    "\n",
    "\n",
    "try:\n",
    "    config = SourceFileLoader(\"config\", \"config.py\").load_module()\n",
    "    os.environ['OPENAI_API_KEY'] = config.OPENAI_API_KEY\n",
    "\n",
    "    bungie_api_key = config.BUNGIE_API_KEY\n",
    "    endpoint = \"https://www.bungie.net/Platform/Content/Rss/NewsArticles/{pageToken}/\"\n",
    "    page_token = \"0\"\n",
    "    include_body = True\n",
    "    headers = {\n",
    "        \"X-API-Key\": bungie_api_key\n",
    "    }\n",
    "    params = {\n",
    "        \"includebody\": include_body\n",
    "    }\n",
    "\n",
    "    results = []\n",
    "\n",
    "    while page_token is not None:\n",
    "        response = requests.get(endpoint.format(pageToken=page_token), headers=headers, params=params)\n",
    "\n",
    "        if response.status_code == 200:\n",
    "            json_response = response.json()\n",
    "            if 'NewsArticles' in json_response['Response']:\n",
    "                results.extend(json_response['Response']['NewsArticles'])\n",
    "            else:\n",
    "                print(\"No NewsArticles found in the response.\")\n",
    "                break\n",
    "            page_token = json_response['Response']['NextPaginationToken']\n",
    "        else:\n",
    "            print(\"Error:\", response.status_code)\n",
    "            print(\"Response:\", response.text)\n",
    "            break\n",
    "except Exception as e:\n",
    "    print(\"An error occurred:\", str(e))\n"
   ]
  },
  {
   "cell_type": "code",
   "execution_count": 2,
   "metadata": {},
   "outputs": [
    {
     "data": {
      "text/plain": [
       "{'Title': 'Destiny 2 Update 7.1.0.2',\n",
       " 'Link': '/7/en/News/Article/update_7_1_0_2',\n",
       " 'PubDate': '2023-06-13T15:00:00Z',\n",
       " 'UniqueIdentifier': 'blteaf9327f612fadd7',\n",
       " 'Description': 'The one about Armor fixes',\n",
       " 'HtmlContent': '<h2>Activities  </h2><h3>Crucible </h3><ul><li>Fixed an issue where the Dazzling Iridescence Trials emblem could be awarded from the Flawless chest without completing the necessary requirements. <ul><li>Players who have already acquired the emblem will need to complete the requirements after this patch goes live in order to equip the emblem. </li></ul></li><li>Fixed an issue with spawn trapping that could occur on meltdown. </li></ul><h3>Raids and Dungeons </h3><ul><li>Fixed an issue where players can damage bosses in Ghosts of the Deep through immunity shields. </li></ul><h2>Gameplay and Investment  </h2><h3>Armor </h3><ul><li>Gyrfalcon\\'s Hauberk\\'s reserve overshield now deploys when a player uses Ensnaring Slam. </li><li>Fixed an issue where Khepri\\'s Horn could disable various non-enemy objects. </li><li>Fixed an issue where Vesper of Radius\\'s effects were triggering on things other than casting a rift. </li><li>Fixed an issue where Point-Contact Cannon Brace would create lightning strikes on melees other than Thunderclap. </li><li>Fixed an issue where becoming frozen would disable Arbor Warden\\'s Exotic perk. </li><li>Fixed an issue where Arbor Warden would cause the Juggernaut aspect to not interact with your class ability energy correctly. </li><li>Fixed an issue causing Sunbracers to not improve Solar grenades. </li><li>Fixed an issue causing Helm of Saint-14 to not provide any effects. </li><li>Fixed an issue causing Verity\\'s Brow to not function in PvP. </li><li>Fixed an issue causing No Backup Plans to buff non-Shotgun damage in certain situations. </li><li>Fixed an issue where Athrys\\'s Embrace\\'s buff icon wasn\\'t appearing in the HUD in PvP. </li><li>The artifact perks Amped Up and Electric Armor no longer have their perk names switched. </li></ul><h3>Weapons </h3><ul><li>Fixed an issue where some older Iron Banner Special/Power weapons had lost their scope glint. </li><li>Fixed an issue where purchasing a Last Wish deepsight weapon from Hawthorne would unintentionally award bonus pattern progress on top of the progress provided by consuming the deepsight on the weapon itself. </li><li>Increased the size of the red dot in Mecurial Overreach\\'s scope to respond to player feedback. </li><li>Reduced the Collective Action weapon perk\\'s damage against Guardians to 10%, (from 20%). </li><li>Changed the Navigator\\'s intrinsic trait icon. </li></ul><h3>Abilities </h3><ul><li>Fixed an issue where certain thrown projectiles were able to over penetrate allied Titan Barricades. </li><li>Fixed an issue where Arc Jolt damage to minor combatants was lower than intended following the scaling changes in 7.1.0. </li></ul><h3>Commerce/Eververse </h3><ul><li>Fixed an issue where the Twitch sub bounty emblem, Pulsar Approaching, is not re-acquirable or equippable.  </li><li>Triumphs </li><li>The \"Second Reckoning\" Triumph now displays the correct weapon names. </li><li>The \"Spend Salvage Keys\" Triumph now correctly progresses when a Salvage Key is spent instead of erroneously progressing the \"Spend Deep Dive Keys\" Triumph. </li><li>Fixed an issue on the Ambitious Angler Triumph where all players were getting credit for one player catching an exotic fish. </li></ul><h2>General </h2><ul><li>Weekly Challenges for Vanguard Ops and Gambit now reward the correct number of Exotic engrams.  </li><li>Re-enabling Tier 1 Exotic Focusing on Master Rahool.  </li></ul>',\n",
       " 'ImagePath': 'https://images.contentstack.io/v3/assets/blte410e3b15535c144/bltb34eaaea4b4ccefd/6351b5c4d5263e68cb2312da/destiny2update6.2.0.png'}"
      ]
     },
     "execution_count": 2,
     "metadata": {},
     "output_type": "execute_result"
    }
   ],
   "source": [
    "results[0]"
   ]
  },
  {
   "cell_type": "code",
   "execution_count": 37,
   "metadata": {},
   "outputs": [],
   "source": [
    "# Convert the results list into a DataFrame\n",
    "df = pd.DataFrame(results)\n"
   ]
  },
  {
   "cell_type": "code",
   "execution_count": 38,
   "metadata": {},
   "outputs": [
    {
     "data": {
      "text/plain": [
       "0                        Destiny 2 Update 7.1.0.2\n",
       "1                        Destiny 2 Hotfix 6/02/23\n",
       "2                        Destiny 2 Update 7.1.0.1\n",
       "3                        Destiny 2 Hotfix 5/26/23\n",
       "4     Destiny 2 Update 7.1.0 - Season of the Deep\n",
       "5                        Destiny 2 Hotfix 7.0.5.3\n",
       "6                        Destiny 2 Hotfix 7.0.5.2\n",
       "7           Destiny 2 Artist Reference Collection\n",
       "8                        Destiny 2 Hotfix 7.0.5.1\n",
       "9                        Destiny 2 Update 7.0.5.0\n",
       "10                       Destiny 2 Hotfix 7.0.0.7\n",
       "11                       Destiny 2 Hotfix 7.0.0.6\n",
       "12                       Destiny 2 Hotfix 7.0.0.5\n",
       "13                       Destiny 2 Hotfix 7.0.0.3\n",
       "14      Destiny 2: New and Returning Player Guide\n",
       "15                       Destiny 2 Update 7.0.0.1\n",
       "16                       Destiny 2 Hotfix 6.3.0.7\n",
       "17                       Destiny 2 Hotfix 6.3.0.5\n",
       "18                       Destiny 2 Hotfix 6.3.0.4\n",
       "19                       Destiny 2 Hotfix 6.3.0.3\n",
       "20                       Destiny 2 Hotfix 6.3.0.2\n",
       "21                       Destiny 2 Hotfix 6.3.0.1\n",
       "22                         Destiny 2 Update 6.3.0\n",
       "23                      Destiny 2 Hotfix 6.2.5.4 \n",
       "24                       Destiny 2 Hotfix 6.2.5.3\n",
       "Name: Title, dtype: object"
      ]
     },
     "execution_count": 38,
     "metadata": {},
     "output_type": "execute_result"
    }
   ],
   "source": [
    "df = df[df['Title'].str.startswith(('Destiny 2'))]\n",
    "df = df.iloc[0:25].reset_index()\n",
    "# Print the filtered DataFrame\n",
    "df['Title']"
   ]
  },
  {
   "cell_type": "code",
   "execution_count": 39,
   "metadata": {},
   "outputs": [
    {
     "data": {
      "text/plain": [
       "'<h2>Activities  </h2><h3>Crucible </h3><ul><li>Fixed an issue where the Dazzling Iridescence Trials emblem could be awarded from the Flawless chest without completing the necessary requirements. <ul><li>Players who have already acquired the emblem will need to complete the requirements after this patch goes live in order to equip the emblem. </li></ul></li><li>Fixed an issue with spawn trapping that could occur on meltdown. </li></ul><h3>Raids and Dungeons </h3><ul><li>Fixed an issue where players can damage bosses in Ghosts of the Deep through immunity shields. </li></ul><h2>Gameplay and Investment  </h2><h3>Armor </h3><ul><li>Gyrfalcon\\'s Hauberk\\'s reserve overshield now deploys when a player uses Ensnaring Slam. </li><li>Fixed an issue where Khepri\\'s Horn could disable various non-enemy objects. </li><li>Fixed an issue where Vesper of Radius\\'s effects were triggering on things other than casting a rift. </li><li>Fixed an issue where Point-Contact Cannon Brace would create lightning strikes on melees other than Thunderclap. </li><li>Fixed an issue where becoming frozen would disable Arbor Warden\\'s Exotic perk. </li><li>Fixed an issue where Arbor Warden would cause the Juggernaut aspect to not interact with your class ability energy correctly. </li><li>Fixed an issue causing Sunbracers to not improve Solar grenades. </li><li>Fixed an issue causing Helm of Saint-14 to not provide any effects. </li><li>Fixed an issue causing Verity\\'s Brow to not function in PvP. </li><li>Fixed an issue causing No Backup Plans to buff non-Shotgun damage in certain situations. </li><li>Fixed an issue where Athrys\\'s Embrace\\'s buff icon wasn\\'t appearing in the HUD in PvP. </li><li>The artifact perks Amped Up and Electric Armor no longer have their perk names switched. </li></ul><h3>Weapons </h3><ul><li>Fixed an issue where some older Iron Banner Special/Power weapons had lost their scope glint. </li><li>Fixed an issue where purchasing a Last Wish deepsight weapon from Hawthorne would unintentionally award bonus pattern progress on top of the progress provided by consuming the deepsight on the weapon itself. </li><li>Increased the size of the red dot in Mecurial Overreach\\'s scope to respond to player feedback. </li><li>Reduced the Collective Action weapon perk\\'s damage against Guardians to 10%, (from 20%). </li><li>Changed the Navigator\\'s intrinsic trait icon. </li></ul><h3>Abilities </h3><ul><li>Fixed an issue where certain thrown projectiles were able to over penetrate allied Titan Barricades. </li><li>Fixed an issue where Arc Jolt damage to minor combatants was lower than intended following the scaling changes in 7.1.0. </li></ul><h3>Commerce/Eververse </h3><ul><li>Fixed an issue where the Twitch sub bounty emblem, Pulsar Approaching, is not re-acquirable or equippable.  </li><li>Triumphs </li><li>The \"Second Reckoning\" Triumph now displays the correct weapon names. </li><li>The \"Spend Salvage Keys\" Triumph now correctly progresses when a Salvage Key is spent instead of erroneously progressing the \"Spend Deep Dive Keys\" Triumph. </li><li>Fixed an issue on the Ambitious Angler Triumph where all players were getting credit for one player catching an exotic fish. </li></ul><h2>General </h2><ul><li>Weekly Challenges for Vanguard Ops and Gambit now reward the correct number of Exotic engrams.  </li><li>Re-enabling Tier 1 Exotic Focusing on Master Rahool.  </li></ul>'"
      ]
     },
     "execution_count": 39,
     "metadata": {},
     "output_type": "execute_result"
    }
   ],
   "source": [
    "df[\"HtmlContent\"].iloc[0]"
   ]
  },
  {
   "cell_type": "code",
   "execution_count": 40,
   "metadata": {},
   "outputs": [],
   "source": [
    "\n",
    "def extract_list_from_html(html):\n",
    "    soup = BeautifulSoup(html, 'html.parser')\n",
    "    list_items = soup.find_all('li')\n",
    "    result = [li.get_text(strip=True) for li in list_items]\n",
    "    return result\n",
    "\n",
    "def clean_html(text):\n",
    "    cleantext = re.sub(r'([.,?!;:])((?!\\s)|$)', r'\\1 ', text)\n",
    "    return cleantext\n",
    "\n",
    "def parse_html_content(df):\n",
    "    df['parsed_content'] = df['HtmlContent'].apply(extract_list_from_html)\n",
    "    df['joined_content'] = df['parsed_content'].apply(lambda x: ' '.join(x))\n",
    "    df['joined_content'] = df['joined_content'].apply(clean_html)\n",
    "    return df"
   ]
  },
  {
   "cell_type": "code",
   "execution_count": 41,
   "metadata": {},
   "outputs": [],
   "source": [
    "# Parse HTML content and create new column\n",
    "df = parse_html_content(df)"
   ]
  },
  {
   "cell_type": "code",
   "execution_count": 42,
   "metadata": {},
   "outputs": [],
   "source": [
    "df = df[['Title', 'Link', 'PubDate', 'UniqueIdentifier', 'Description',\n",
    "       'joined_content']]"
   ]
  },
  {
   "cell_type": "code",
   "execution_count": 45,
   "metadata": {},
   "outputs": [
    {
     "name": "stdout",
     "output_type": "stream",
     "text": [
      "Fixed an issue where the Dazzling Iridescence Trials emblem could be awarded from the Flawless chest without completing the necessary requirements. Players who have already acquired the emblem will need to complete the requirements after this patch goes live in order to equip the emblem. Players who have already acquired the emblem will need to complete the requirements after this patch goes live in order to equip the emblem. Fixed an issue with spawn trapping that could occur on meltdown. Fixed an issue where players can damage bosses in Ghosts of the Deep through immunity shields. Gyrfalcon's Hauberk's reserve overshield now deploys when a player uses Ensnaring Slam. Fixed an issue where Khepri's Horn could disable various non-enemy objects. Fixed an issue where Vesper of Radius's effects were triggering on things other than casting a rift. Fixed an issue where Point-Contact Cannon Brace would create lightning strikes on melees other than Thunderclap. Fixed an issue where becoming frozen would disable Arbor Warden's Exotic perk. Fixed an issue where Arbor Warden would cause the Juggernaut aspect to not interact with your class ability energy correctly. Fixed an issue causing Sunbracers to not improve Solar grenades. Fixed an issue causing Helm of Saint-14 to not provide any effects. Fixed an issue causing Verity's Brow to not function in PvP. Fixed an issue causing No Backup Plans to buff non-Shotgun damage in certain situations. Fixed an issue where Athrys's Embrace's buff icon wasn't appearing in the HUD in PvP. The artifact perks Amped Up and Electric Armor no longer have their perk names switched. Fixed an issue where some older Iron Banner Special/Power weapons had lost their scope glint. Fixed an issue where purchasing a Last Wish deepsight weapon from Hawthorne would unintentionally award bonus pattern progress on top of the progress provided by consuming the deepsight on the weapon itself. Increased the size of the red dot in Mecurial Overreach's scope to respond to player feedback. Reduced the Collective Action weapon perk's damage against Guardians to 10%, (from 20%). Changed the Navigator's intrinsic trait icon. Fixed an issue where certain thrown projectiles were able to over penetrate allied Titan Barricades. Fixed an issue where Arc Jolt damage to minor combatants was lower than intended following the scaling changes in 7. 1. 0. Fixed an issue where the Twitch sub bounty emblem, Pulsar Approaching, is not re-acquirable or equippable. Triumphs The \"Second Reckoning\" Triumph now displays the correct weapon names. The \"Spend Salvage Keys\" Triumph now correctly progresses when a Salvage Key is spent instead of erroneously progressing the \"Spend Deep Dive Keys\" Triumph. Fixed an issue on the Ambitious Angler Triumph where all players were getting credit for one player catching an exotic fish. Weekly Challenges for Vanguard Ops and Gambit now reward the correct number of Exotic engrams. Re-enabling Tier 1 Exotic Focusing on Master Rahool. \n"
     ]
    }
   ],
   "source": [
    "print(df.iloc[0][\"joined_content\"])"
   ]
  },
  {
   "cell_type": "code",
   "execution_count": 8,
   "metadata": {},
   "outputs": [],
   "source": [
    "docs = []\n",
    "## convert to haystack format\n",
    "for index, row in df.iterrows():\n",
    "    doc = {\n",
    "        'content': row['joined_content'],  \n",
    "        'meta': {\n",
    "            'name': row['Title'],\n",
    "            'link': row['Link'],\n",
    "            'pub_date': row['PubDate'],\n",
    "            'unique_id': row['UniqueIdentifier'],\n",
    "            'description': row['Description']\n",
    "        }\n",
    "    }\n",
    "    docs.append(doc)\n"
   ]
  },
  {
   "cell_type": "code",
   "execution_count": 9,
   "metadata": {},
   "outputs": [
    {
     "name": "stderr",
     "output_type": "stream",
     "text": [
      "INFO - haystack.modeling.utils -  Using devices: CUDA:0 - Number of GPUs: 1\n"
     ]
    }
   ],
   "source": [
    "from haystack.document_stores import InMemoryDocumentStore\n",
    "\n",
    "document_store = InMemoryDocumentStore(use_bm25=True)\n"
   ]
  },
  {
   "cell_type": "code",
   "execution_count": 10,
   "metadata": {},
   "outputs": [
    {
     "data": {
      "application/vnd.jupyter.widget-view+json": {
       "model_id": "78db0ff8e2c4420f856de2a8ed3511a5",
       "version_major": 2,
       "version_minor": 0
      },
      "text/plain": [
       "Preprocessing:   0%|          | 0/25 [00:00<?, ?docs/s]"
      ]
     },
     "metadata": {},
     "output_type": "display_data"
    },
    {
     "name": "stderr",
     "output_type": "stream",
     "text": [
      "WARNING - haystack.nodes.preprocessor.preprocessor -  We found one or more sentences whose word count is higher than the split length.\n"
     ]
    }
   ],
   "source": [
    "from haystack.nodes import PreProcessor\n",
    "\n",
    "processor = PreProcessor(\n",
    "    clean_empty_lines=True,\n",
    "    clean_whitespace=True,\n",
    "    clean_header_footer=True,\n",
    "    split_by=\"word\",\n",
    "    split_length=100,\n",
    "    split_respect_sentence_boundary=True,\n",
    "    split_overlap=50\n",
    ")\n",
    "\n",
    "docs = processor.process(docs)"
   ]
  },
  {
   "cell_type": "code",
   "execution_count": 11,
   "metadata": {},
   "outputs": [
    {
     "name": "stderr",
     "output_type": "stream",
     "text": [
      "INFO - haystack.document_stores.base -  Duplicate Documents: Document with id '4745c8710fd69e307f36d22f8a893c58' already exists in index 'document'\n",
      "INFO - haystack.document_stores.base -  Duplicate Documents: Document with id 'a88448568c8c5281df70b881f18ef4a3' already exists in index 'document'\n"
     ]
    },
    {
     "data": {
      "application/vnd.jupyter.widget-view+json": {
       "model_id": "24d9fae6d83b4ff7ac05a21e05cfcd53",
       "version_major": 2,
       "version_minor": 0
      },
      "text/plain": [
       "Updating BM25 representation...:   0%|          | 0/772 [00:00<?, ? docs/s]"
      ]
     },
     "metadata": {},
     "output_type": "display_data"
    }
   ],
   "source": [
    "document_store.write_documents(docs)\n"
   ]
  },
  {
   "cell_type": "code",
   "execution_count": 12,
   "metadata": {},
   "outputs": [],
   "source": [
    "from haystack.nodes import BM25Retriever\n",
    "\n",
    "retriever = BM25Retriever(document_store=document_store)\n"
   ]
  },
  {
   "cell_type": "code",
   "execution_count": 29,
   "metadata": {},
   "outputs": [
    {
     "name": "stderr",
     "output_type": "stream",
     "text": [
      "INFO - haystack.modeling.utils -  Using devices: CUDA:0 - Number of GPUs: 1\n"
     ]
    }
   ],
   "source": [
    "from haystack.nodes import PromptNode, PromptTemplate\n",
    "\n",
    "lfqa_prompt = PromptTemplate(\n",
    "    name=\"lfqa\",\n",
    "    prompt_text=\"\"\"Synthesize a comprehensive answer from the following text for the given question. \n",
    "                    Provide a clear and concise response that summarizes the key points and information presented in the text. \n",
    "                             Your answer should directly pull from the source but be organized. \n",
    "                             \\n\\n Related text: {join(documents)} \\n\\n Question: {query} \\n\\n Answer:\"\"\",\n",
    ")\n",
    "\n",
    "prompt_node = PromptNode(model_name_or_path=\"google/flan-t5-large\", default_prompt_template=lfqa_prompt,  model_kwargs={\"stream\":True})\n"
   ]
  },
  {
   "cell_type": "code",
   "execution_count": 14,
   "metadata": {},
   "outputs": [
    {
     "name": "stderr",
     "output_type": "stream",
     "text": [
      "INFO - haystack.modeling.utils -  Using devices: CUDA:0 - Number of GPUs: 1\n"
     ]
    }
   ],
   "source": [
    "from haystack.nodes import TransformersReader\n",
    "\n",
    "reader = TransformersReader(model_name_or_path=\"ahotrod/albert_xxlargev1_squad2_512\", use_gpu=True)"
   ]
  },
  {
   "cell_type": "code",
   "execution_count": 25,
   "metadata": {},
   "outputs": [],
   "source": [
    "from haystack.pipelines import Pipeline\n",
    "\n",
    "pipe = Pipeline()\n",
    "pipe.add_node(component=retriever, name=\"retriever\", inputs=[\"Query\"])\n",
    "pipe.add_node(component=reader, name=\"reader\", inputs=[\"retriever\"])\n",
    "pipe.add_node(component=prompt_node, name=\"prompt_node\", inputs=[\"reader\"])\n"
   ]
  },
  {
   "cell_type": "code",
   "execution_count": 32,
   "metadata": {},
   "outputs": [
    {
     "name": "stderr",
     "output_type": "stream",
     "text": [
      "WARNING - haystack.nodes.prompt.invocation_layer.hugging_face -  The prompt has been truncated from 523 tokens to 412 tokens so that the prompt length and answer length (100 tokens) fit within the max token limit (512 tokens). Shorten the prompt to prevent it from being cut off\n"
     ]
    },
    {
     "name": "stdout",
     "output_type": "stream",
     "text": [
      "<pad> This week we’re back with some Season 21.</s>\n",
      "'Query: who won guardian games?'\n",
      "'Answers:'\n",
      "[   <Answer {'answer': ' emotes', 'type': 'extractive', 'score': 3.2196183497035236e-07, 'context': 'your clips, running alongside some of you in Supremacy, and seeing the emotes in the Tower after you bank your Medallions. ', 'offsets_in_document': [{'start': 772, 'end': 779}], 'offsets_in_context': [{'start': 70, 'end': 77}], 'document_ids': ['36e502e455b6415363f4dddda144b3ed'], 'meta': {'name': 'This Week At Bungie – 5/11/2023', 'link': '/7/en/News/Article/05-011-2023-twab', 'pub_date': '2023-05-11T18:00:00Z', 'unique_id': 'blt8dcb8e715bde5605', 'description': 'This week at Bungie, we’ve got an armor preview and a dungeon date. ', '_split_id': 2, '_split_overlap': [{'doc_id': '282ee7f586356079e3c94cc66b05cee', 'range': (0, 660)}, {'doc_id': '84d02b1ac8d2dd7cb1660cd0af85e504', 'range': (661, 824)}]}}>,\n",
      "    <Answer {'answer': ' the emotes', 'type': 'extractive', 'score': 1.6923993939599313e-07, 'context': 'ing your clips, running alongside some of you in Supremacy, and seeing the emotes in the Tower after you bank your Medallions. ', 'offsets_in_document': [{'start': 768, 'end': 779}], 'offsets_in_context': [{'start': 70, 'end': 81}], 'document_ids': ['36e502e455b6415363f4dddda144b3ed'], 'meta': {'name': 'This Week At Bungie – 5/11/2023', 'link': '/7/en/News/Article/05-011-2023-twab', 'pub_date': '2023-05-11T18:00:00Z', 'unique_id': 'blt8dcb8e715bde5605', 'description': 'This week at Bungie, we’ve got an armor preview and a dungeon date. ', '_split_id': 2, '_split_overlap': [{'doc_id': '282ee7f586356079e3c94cc66b05cee', 'range': (0, 660)}, {'doc_id': '84d02b1ac8d2dd7cb1660cd0af85e504', 'range': (661, 824)}]}}>,\n",
      "    <Answer {'answer': ' Guardian Games Cup', 'type': 'extractive', 'score': 5.1259775091239135e-08, 'context': 'hat we got to talk about last week.Last week’s TWAB:Guardian Games and Guardian Games Cup began!Season of the Deep first look.Prime Gaming loot drops.Wallpaper', 'offsets_in_document': [{'start': 179, 'end': 198}], 'offsets_in_context': [{'start': 70, 'end': 89}], 'document_ids': ['282ee7f586356079e3c94cc66b05cee'], 'meta': {'name': 'This Week At Bungie – 5/11/2023', 'link': '/7/en/News/Article/05-011-2023-twab', 'pub_date': '2023-05-11T18:00:00Z', 'unique_id': 'blt8dcb8e715bde5605', 'description': 'This week at Bungie, we’ve got an armor preview and a dungeon date. ', '_split_id': 1, '_split_overlap': [{'doc_id': '7f8fb5e0a23626638f011cdcba2cb8c0', 'range': (0, 82)}, {'doc_id': '36e502e455b6415363f4dddda144b3ed', 'range': (83, 743)}]}}>,\n",
      "    <Answer {'answer': ' TWAB:Guardian Games and Guardian Games Cup', 'type': 'extractive', 'score': 4.744038051285315e-08, 'context': \"rst up, let's get into what we got to talk about last week.Last week’s TWAB:Guardian Games and Guardian Games Cup began!Season of the Deep first look.Prime Gaming loot drops.Wallpaper\", 'offsets_in_document': [{'start': 155, 'end': 198}], 'offsets_in_context': [{'start': 70, 'end': 113}], 'document_ids': ['282ee7f586356079e3c94cc66b05cee'], 'meta': {'name': 'This Week At Bungie – 5/11/2023', 'link': '/7/en/News/Article/05-011-2023-twab', 'pub_date': '2023-05-11T18:00:00Z', 'unique_id': 'blt8dcb8e715bde5605', 'description': 'This week at Bungie, we’ve got an armor preview and a dungeon date. ', '_split_id': 1, '_split_overlap': [{'doc_id': '7f8fb5e0a23626638f011cdcba2cb8c0', 'range': (0, 82)}, {'doc_id': '36e502e455b6415363f4dddda144b3ed', 'range': (83, 743)}]}}>,\n",
      "    <Answer {'answer': ' Supremacy, and seeing the emotes', 'type': 'extractive', 'score': 4.331705483195947e-08, 'context': 'ving so much fun watching your clips, running alongside some of you in Supremacy, and seeing the emotes in the Tower after you bank your Medallions. ', 'offsets_in_document': [{'start': 746, 'end': 779}], 'offsets_in_context': [{'start': 70, 'end': 103}], 'document_ids': ['36e502e455b6415363f4dddda144b3ed'], 'meta': {'name': 'This Week At Bungie – 5/11/2023', 'link': '/7/en/News/Article/05-011-2023-twab', 'pub_date': '2023-05-11T18:00:00Z', 'unique_id': 'blt8dcb8e715bde5605', 'description': 'This week at Bungie, we’ve got an armor preview and a dungeon date. ', '_split_id': 2, '_split_overlap': [{'doc_id': '282ee7f586356079e3c94cc66b05cee', 'range': (0, 660)}, {'doc_id': '84d02b1ac8d2dd7cb1660cd0af85e504', 'range': (661, 824)}]}}>,\n",
      "    <Answer {'answer': ' TWAB:Guardian Games', 'type': 'extractive', 'score': 7.324953088527764e-09, 'context': \"rst up, let's get into what we got to talk about last week.Last week’s TWAB:Guardian Games and Guardian Games Cup began!Season of the Deep first look.Prime Gami\", 'offsets_in_document': [{'start': 155, 'end': 175}], 'offsets_in_context': [{'start': 70, 'end': 90}], 'document_ids': ['282ee7f586356079e3c94cc66b05cee'], 'meta': {'name': 'This Week At Bungie – 5/11/2023', 'link': '/7/en/News/Article/05-011-2023-twab', 'pub_date': '2023-05-11T18:00:00Z', 'unique_id': 'blt8dcb8e715bde5605', 'description': 'This week at Bungie, we’ve got an armor preview and a dungeon date. ', '_split_id': 1, '_split_overlap': [{'doc_id': '7f8fb5e0a23626638f011cdcba2cb8c0', 'range': (0, 82)}, {'doc_id': '36e502e455b6415363f4dddda144b3ed', 'range': (83, 743)}]}}>]\n"
     ]
    }
   ],
   "source": [
    "from haystack.utils import print_answers\n",
    "\n",
    "results = pipe.run(\n",
    "    query=\"who won guardian games?\",\n",
    "    params={\n",
    "        \"retriever\": {\"top_k\": 2},\n",
    "        \"reader\": {\"top_k\": 10}\n",
    "    }\n",
    ")\n",
    "\n",
    "print_answers(results, details=\"all\", max_text_len=1000)\n"
   ]
  },
  {
   "cell_type": "code",
   "execution_count": 19,
   "metadata": {},
   "outputs": [
    {
     "name": "stdout",
     "output_type": "stream",
     "text": [
      "{'answers': [<Answer {'answer': ' Season of the Deep,', 'type': 'extractive', 'score': 0.8737624883651733, 'context': 'Alright, that does it for us this week. We’re less than two weeks from Season of the Deep, so be sure you let us know over on Twitter what you’re most excited f', 'offsets_in_document': [{'start': 303, 'end': 323}], 'offsets_in_context': [{'start': 70, 'end': 90}], 'document_ids': ['b9b293933fa3f84ecbbc9aa95f7ce1d5'], 'meta': {'name': 'This Week At Bungie – 5/11/2023', 'link': '/7/en/News/Article/05-011-2023-twab', 'pub_date': '2023-05-11T18:00:00Z', 'unique_id': 'blt8dcb8e715bde5605', 'description': 'This week at Bungie, we’ve got an armor preview and a dungeon date. ', '_split_id': 33, '_split_overlap': [{'doc_id': 'ae33fa9b51a4a427ecfec5ae6aafb95f', 'range': (0, 461)}, {'doc_id': 'b0bfdf309865b1df62511f8d41ff393d', 'range': (273, 617)}]}}>,\n",
      "             <Answer {'answer': ' Season of the Deep,', 'type': 'extractive', 'score': 0.8365026712417603, 'context': 'We’re less than two weeks from Season of the Deep, so be sure you let us know over on Twitter what you’re most excited f', 'offsets_in_document': [{'start': 30, 'end': 50}], 'offsets_in_context': [{'start': 30, 'end': 50}], 'document_ids': ['b0bfdf309865b1df62511f8d41ff393d'], 'meta': {'name': 'This Week At Bungie – 5/11/2023', 'link': '/7/en/News/Article/05-011-2023-twab', 'pub_date': '2023-05-11T18:00:00Z', 'unique_id': 'blt8dcb8e715bde5605', 'description': 'This week at Bungie, we’ve got an armor preview and a dungeon date. ', '_split_id': 34, '_split_overlap': [{'doc_id': 'b9b293933fa3f84ecbbc9aa95f7ce1d5', 'range': (0, 344)}, {'doc_id': '7a952768d11e2a3e517f417fc1a25cf8', 'range': (189, 484)}]}}>,\n",
      "             <Answer {'answer': ' Season of Defiance.Exclusive', 'type': 'extractive', 'score': 0.7905268669128418, 'context': 'linesThis includes seasonal story missions.Seasonal activitiesCurrent: Season of Defiance.Exclusive Exotic weapons and armor pieces alongside a variety of other cosmetic', 'offsets_in_document': [{'start': 397, 'end': 426}], 'offsets_in_context': [{'start': 70, 'end': 99}], 'document_ids': ['db66af135b71aebcb958b53e29e00290'], 'meta': {'name': 'Destiny 2: New and Returning Player Guide', 'link': '/7/en/News/Article/official-destiny-2-guide-new', 'pub_date': '2023-03-03T23:30:00Z', 'unique_id': 'blt5a82a15b55a1407c', 'description': 'Destiny 2 tips and tricks for new and returning players suiting back up for Lightfall and beyond.', '_split_id': 9, '_split_overlap': []}}>,\n",
      "             <Answer {'answer': ' Season of the Deep!Cutscenes', 'type': 'extractive', 'score': 0.6490001082420349, 'context': ' PlayStation crossover.Guardian Games has concluded.Save the Dates for Season of the Deep!Cutscenes for days.Guardian Ranks reminder.Aquanaut is now available.This week ', 'offsets_in_document': [{'start': 505, 'end': 534}], 'offsets_in_context': [{'start': 70, 'end': 99}], 'document_ids': ['a25ca77ef006c37a6fb56ae088f65bd'], 'meta': {'name': 'This Week At Bungie - 06/01/2023', 'link': '/7/en/News/Article/06_01_2023_twab', 'pub_date': '2023-06-01T18:00:00Z', 'unique_id': 'blt36382dc929299957', 'description': 'This week at Bungie, we fought the ghosts of the deep. ', '_split_id': 1, '_split_overlap': [{'doc_id': '84bbd4f6e7d56fb80e98a9cd9bd7a8c3', 'range': (0, 311)}, {'doc_id': '99e544246f372f52997e008a2ff49646', 'range': (312, 959)}]}}>,\n",
      "             <Answer {'answer': ' Season of the Deep,', 'type': 'extractive', 'score': 0.3550117611885071, 'context': 'Alright, that does it for us this week. We’re less than two weeks from Season of the Deep, so be sure you let us know over on Twitter what you’re most excited f', 'offsets_in_document': [{'start': 561, 'end': 581}], 'offsets_in_context': [{'start': 70, 'end': 90}], 'document_ids': ['ae33fa9b51a4a427ecfec5ae6aafb95f'], 'meta': {'name': 'This Week At Bungie – 5/11/2023', 'link': '/7/en/News/Article/05-011-2023-twab', 'pub_date': '2023-05-11T18:00:00Z', 'unique_id': 'blt8dcb8e715bde5605', 'description': 'This week at Bungie, we’ve got an armor preview and a dungeon date. ', '_split_id': 32, '_split_overlap': [{'doc_id': 'a897cb7766299bb882c4293a71e49e7b', 'range': (0, 530)}, {'doc_id': 'b9b293933fa3f84ecbbc9aa95f7ce1d5', 'range': (258, 719)}]}}>],\n",
      " 'documents': [<Document: {'content': 'Other expansions, like The Witch Queen, offer not only a new level of challenge with a legendary campaign difficulty option but a thrilling narrative that casts Destiny lore in a new light.What’s not available for free Destiny 2 players?More raids and dungeons.Trials of OsirisRequires the most recent expansion.Expansion storylinesThis includes seasonal story missions.Seasonal activitiesCurrent: Season of Defiance.Exclusive Exotic weapons and armor pieces alongside a variety of other cosmetic itemsThis includes the Season Pass rewards.As for the expansions themselves, here is the order of release for each expansion that has launched since the release of Destiny 2.Every Destiny 2 Expansion:Curse of OsirisWarmindForsakenShadowkeepBeyond LightThe Witch QueenLightfallThe Final Shape (announced, release TBD)*Curse of Osiris, Warmind, and Forsaken are no longer active expansions in Destiny 2, learn more about vaulting and hat’s changed right here.Each expansion contains its own story that explores more of the Destiny universe and the wildly eclectic individual characters that bring the stories to life and give Guardians their purpose.Where Should I Start When Playing Destiny 2?The journey begins with an introductory mini-campaign that lasts about two hours on the Cosmodrome with the New Light mission called A Guardian Rises. ', 'content_type': 'text', 'score': 0.7811339697664424, 'meta': {'name': 'Destiny 2: New and Returning Player Guide', 'link': '/7/en/News/Article/official-destiny-2-guide-new', 'pub_date': '2023-03-03T23:30:00Z', 'unique_id': 'blt5a82a15b55a1407c', 'description': 'Destiny 2 tips and tricks for new and returning players suiting back up for Lightfall and beyond.', '_split_id': 9, '_split_overlap': []}, 'id_hash_keys': ['content'], 'embedding': None, 'id': 'db66af135b71aebcb958b53e29e00290'}>,\n",
      "               <Document: {'content': 'Go redeem it now!Prime Gaming UpdateWelcome to the latest Prime Gaming update. It’s finally time for me to give up the skedaddle shenanigans and let you in on where that came from. This month we are vanishing into thin air, and then transmatting out with our Ghost and skedaddling on over to the next fishing hole.Ninja Vanish emoteRedline Ghost ShellSkedaddle Legendary SparrowThe Deep Ghost ProjectionIf you don’t know what Prime Gaming is, you can check out our article and learn more!Player Support ReportAquanauts, assemble!The Player Support team is back this week and ready to share with you the most recent update of known issues in the Deep and beyond.Known Issues List | Help Forum | Bungie Help TwitterLIGHTFALL DUNGEON KEYPlayers experiencing issues accessing the Ghosts of the Deep dungeon should be aware of the following vital information:Players must acquire the Rise quest from Hawthorne in the Tower in order to launch into the dungeon for the first time.Ownership of the Lightfall Dungeon Key is required. ', 'content_type': 'text', 'score': 0.7664176707423684, 'meta': {'name': 'This Week At Bungie - 06/01/2023', 'link': '/7/en/News/Article/06_01_2023_twab', 'pub_date': '2023-06-01T18:00:00Z', 'unique_id': 'blt36382dc929299957', 'description': 'This week at Bungie, we fought the ghosts of the deep. ', '_split_id': 11, '_split_overlap': [{'doc_id': '3590d821c14dce72389f406a1969f9e5', 'range': (0, 180)}]}, 'id_hash_keys': ['content'], 'embedding': None, 'id': 'aa03ddd87979df0851fa8c72dbc779a9'}>,\n",
      "               <Document: {'content': \"Raid launches are unforgettable for the studio and this one was extra special as we broke our viewership record on Twitch.We hope that players (more than 190,000 of you) who beat the final boss during Contest Mode are feeling good right about now. Time to go complete some challenges if you want to improve your chances of getting the new Conditional Finality Exotic Shotgun.The Art of LightfallArt, what a concept! Isn't it amazing how humans transform thoughts and ideas into literally the most stunning and inspiring stuff you’ve ever seen? \", 'content_type': 'text', 'score': 0.7641384895502196, 'meta': {'name': 'This Week At Bungie - 03/16/2023', 'link': '/7/en/News/Article/twab_03_16_2023', 'pub_date': '2023-03-16T19:00:00Z', 'unique_id': 'bltee5d207f8857369b', 'description': 'The Gensym Scribe of the Radiolarian Lake', '_split_id': 6, '_split_overlap': [{'doc_id': 'df3b1c5567448746d651b5691d462ef0', 'range': (0, 247)}, {'doc_id': '3f998436783bad93a6da2b2ca35dd8a5', 'range': (248, 543)}]}, 'id_hash_keys': ['content'], 'embedding': None, 'id': '3afbeb73ee1f0028207402c512d5bc49'}>,\n",
      "               <Document: {'content': \"Time to go complete some challenges if you want to improve your chances of getting the new Conditional Finality Exotic Shotgun.The Art of LightfallArt, what a concept! Isn't it amazing how humans transform thoughts and ideas into literally the most stunning and inspiring stuff you’ve ever seen? From creating brand-new characters to designing a metropolis in the post-Collapse world of Destiny 2, Lightfall’s art was a very special challenge for our team.There’s a lot of work behind Strand’s identity and the design of Neomuna’s buildings, billboards, lights, and that very specific Neptune-neon vibe. \", 'content_type': 'text', 'score': 0.7633319941455851, 'meta': {'name': 'This Week At Bungie - 03/16/2023', 'link': '/7/en/News/Article/twab_03_16_2023', 'pub_date': '2023-03-16T19:00:00Z', 'unique_id': 'bltee5d207f8857369b', 'description': 'The Gensym Scribe of the Radiolarian Lake', '_split_id': 7, '_split_overlap': [{'doc_id': '3afbeb73ee1f0028207402c512d5bc49', 'range': (0, 295)}, {'doc_id': 'c5dce5c9f9164bc04263c0623a2be263', 'range': (168, 603)}]}, 'id_hash_keys': ['content'], 'embedding': None, 'id': '3f998436783bad93a6da2b2ca35dd8a5'}>,\n",
      "               <Document: {'content': 'We’re less than two weeks from Season of the Deep, so be sure you let us know over on Twitter what you’re most excited for and share your Guardians fly fits or favorite emotes you have on. But since we do still have Guardian Games going, get back out there, earn those medals, and let’s win it for the Warlocks, [cough] Hunters, [cough] Titans!\\xa0One more reminder, don’t forget to finish your Seasonal Triumphs, Season Pass, Weekly Challenges, or anything else you may have left to do. ', 'content_type': 'text', 'score': 0.7533986660233944, 'meta': {'name': 'This Week At Bungie – 5/11/2023', 'link': '/7/en/News/Article/05-011-2023-twab', 'pub_date': '2023-05-11T18:00:00Z', 'unique_id': 'blt8dcb8e715bde5605', 'description': 'This week at Bungie, we’ve got an armor preview and a dungeon date. ', '_split_id': 34, '_split_overlap': [{'doc_id': 'b9b293933fa3f84ecbbc9aa95f7ce1d5', 'range': (0, 344)}, {'doc_id': '7a952768d11e2a3e517f417fc1a25cf8', 'range': (189, 484)}]}, 'id_hash_keys': ['content'], 'embedding': None, 'id': 'b0bfdf309865b1df62511f8d41ff393d'}>,\n",
      "               <Document: {'content': 'The Forsaken Pack will still be available as its own separate content pack.KNOWN ISSUESWhile we continue investigating various known issues, here is a list of the latest issues that were reported to us in our #Help forum:Some Xbox players are re-downloading the most recent update on every game launch.We are continuing to investigate reports of WEASEL errors occurring for characters on log in.Players who receive a leaver penalty in the competitive Crucible playlist may be unable to launch into the playlist once their leaver penalty has expired. This can be resolved by swapping characters and playing another match in the competitive Crucible playlist.For a full list of emergent issues in Destiny 2, players can review our Known Issues article. ', 'content_type': 'text', 'score': 0.7485064550337913, 'meta': {'name': 'This Week At Bungie - 02/23/23', 'link': '/7/en/News/Article/twab-02-23-2023', 'pub_date': '2023-02-23T19:00:00Z', 'unique_id': 'blt4abdcdd36712be1a', 'description': 'Only five more sleeps', '_split_id': 60, '_split_overlap': [{'doc_id': '871b0781bed8655df0f08a5f50998e60', 'range': (0, 549)}, {'doc_id': '9e3175c3641595825431600af974189', 'range': (550, 750)}]}, 'id_hash_keys': ['content'], 'embedding': None, 'id': '6618c184e4d263405c05ff5884dcd89a'}>,\n",
      "               <Document: {'content': 'The current Legacy Collection (containing the Forsaken Pack, Shadowkeep, and Beyond Light) will be retired from our platform stores and replaced by the Legacy Collection (2023). This updated collection will contain the Shadowkeep, Beyond Light, and The Witch Queen expansions. The Forsaken Pack will still be available as its own separate content pack.KNOWN ISSUESWhile we continue investigating various known issues, here is a list of the latest issues that were reported to us in our #Help forum:Some Xbox players are re-downloading the most recent update on every game launch.We are continuing to investigate reports of WEASEL errors occurring for characters on log in.Players who receive a leaver penalty in the competitive Crucible playlist may be unable to launch into the playlist once their leaver penalty has expired. ', 'content_type': 'text', 'score': 0.7484676334784701, 'meta': {'name': 'This Week At Bungie - 02/23/23', 'link': '/7/en/News/Article/twab-02-23-2023', 'pub_date': '2023-02-23T19:00:00Z', 'unique_id': 'blt4abdcdd36712be1a', 'description': 'Only five more sleeps', '_split_id': 59, '_split_overlap': [{'doc_id': '866c2602bb878b8def554ba32fc7c3ab', 'range': (0, 276)}, {'doc_id': '6618c184e4d263405c05ff5884dcd89a', 'range': (277, 826)}]}, 'id_hash_keys': ['content'], 'embedding': None, 'id': '871b0781bed8655df0f08a5f50998e60'}>,\n",
      "               <Document: {'content': 'Art of the Week: Final God of Amazing Poses러블리 돼지감자 #Destiny2Art pic.twitter.com/Ds6e9EX33s— 벨로프 (@Belov_W) May 9, 2023__________________________________________________________________________________________________________________Alright, that does it for us this week. We’re less than two weeks from Season of the Deep, so be sure you let us know over on Twitter what you’re most excited for and share your Guardians fly fits or favorite emotes you have on. But since we do still have Guardian Games going, get back out there, earn those medals, and let’s win it for the Warlocks, [cough] Hunters, [cough] Titans!\\xa0', 'content_type': 'text', 'score': 0.7465928066062202, 'meta': {'name': 'This Week At Bungie – 5/11/2023', 'link': '/7/en/News/Article/05-011-2023-twab', 'pub_date': '2023-05-11T18:00:00Z', 'unique_id': 'blt8dcb8e715bde5605', 'description': 'This week at Bungie, we’ve got an armor preview and a dungeon date. ', '_split_id': 33, '_split_overlap': [{'doc_id': 'ae33fa9b51a4a427ecfec5ae6aafb95f', 'range': (0, 461)}, {'doc_id': 'b0bfdf309865b1df62511f8d41ff393d', 'range': (273, 617)}]}, 'id_hash_keys': ['content'], 'embedding': None, 'id': 'b9b293933fa3f84ecbbc9aa95f7ce1d5'}>,\n",
      "               <Document: {'content': \"Art of the Week:\\xa0SWIM in the deepSWIM in the deep - merman🧜\\u200d♂️ warlock✨#Destiny2Art #Destiny2AOTW pic.twitter.com/GInWtMfaN1— Dawn ✨ (COMMS open) (@dawn_thewarlock) May 7, 2023Bruno: I'm here once again sharing an amazing rendition of our latest raid boss.\\xa0\\xa0Art of the Week: Final God of Amazing Poses러블리 돼지감자 #Destiny2Art pic.twitter.com/Ds6e9EX33s— 벨로프 (@Belov_W) May 9, 2023__________________________________________________________________________________________________________________Alright, that does it for us this week. We’re less than two weeks from Season of the Deep, so be sure you let us know over on Twitter what you’re most excited for and share your Guardians fly fits or favorite emotes you have on. \", 'content_type': 'text', 'score': 0.7463395205922533, 'meta': {'name': 'This Week At Bungie – 5/11/2023', 'link': '/7/en/News/Article/05-011-2023-twab', 'pub_date': '2023-05-11T18:00:00Z', 'unique_id': 'blt8dcb8e715bde5605', 'description': 'This week at Bungie, we’ve got an armor preview and a dungeon date. ', '_split_id': 32, '_split_overlap': [{'doc_id': 'a897cb7766299bb882c4293a71e49e7b', 'range': (0, 530)}, {'doc_id': 'b9b293933fa3f84ecbbc9aa95f7ce1d5', 'range': (258, 719)}]}, 'id_hash_keys': ['content'], 'embedding': None, 'id': 'ae33fa9b51a4a427ecfec5ae6aafb95f'}>,\n",
      "               <Document: {'content': \"What’s your favorite thing so far about the Season? What about... [deep breaths] Ok, ok, it's time to calm down. It’s just something special to see all your social posts tackling Ghosts of the Deep, working with Sloane, and did I mention fishing already? It gets us pretty hyped.Anyhoo, let’s get back on topic. Here is what we shared last week and what we are going to read about today.Last week in TWAB:Marathon was announced!Our new PlayStation crossover.Guardian Games has concluded.Save the Dates for Season of the Deep!Cutscenes for days.Guardian Ranks reminder.Aquanaut is now available.This week we’ve got:Ghosts of the Deep recap.Dungeon-themed items in the Bungie Store.Pride@Bungie announcement.M:\\\\STARTPrime Gaming update.The weekly update from the Player Support Team.Weekly Art of the Week and Movie of the week picks.The DungeonWere you one of the Guardians who dove deep into a Titan Archology only to arrive face to face with the Lucent Hive? \", 'content_type': 'text', 'score': 0.7433119699910364, 'meta': {'name': 'This Week At Bungie - 06/01/2023', 'link': '/7/en/News/Article/06_01_2023_twab', 'pub_date': '2023-06-01T18:00:00Z', 'unique_id': 'blt36382dc929299957', 'description': 'This week at Bungie, we fought the ghosts of the deep. ', '_split_id': 1, '_split_overlap': [{'doc_id': '84bbd4f6e7d56fb80e98a9cd9bd7a8c3', 'range': (0, 311)}, {'doc_id': '99e544246f372f52997e008a2ff49646', 'range': (312, 959)}]}, 'id_hash_keys': ['content'], 'embedding': None, 'id': 'a25ca77ef006c37a6fb56ae088f65bd'}>],\n",
      " 'node_id': 'Reader',\n",
      " 'params': {'Reader': {'top_k': 5}, 'Retriever': {'top_k': 10}},\n",
      " 'query': 'what was the most recent season?',\n",
      " 'root_node': 'Query'}\n"
     ]
    }
   ],
   "source": [
    "from pprint import pprint\n",
    "\n",
    "pprint(results)\n"
   ]
  }
 ],
 "metadata": {
  "kernelspec": {
   "display_name": "Python 3",
   "language": "python",
   "name": "python3"
  },
  "language_info": {
   "codemirror_mode": {
    "name": "ipython",
    "version": 3
   },
   "file_extension": ".py",
   "mimetype": "text/x-python",
   "name": "python",
   "nbconvert_exporter": "python",
   "pygments_lexer": "ipython3",
   "version": "3.11.3"
  },
  "orig_nbformat": 4
 },
 "nbformat": 4,
 "nbformat_minor": 2
}
