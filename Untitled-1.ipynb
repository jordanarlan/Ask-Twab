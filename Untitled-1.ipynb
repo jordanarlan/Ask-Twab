{
 "cells": [
  {
   "cell_type": "code",
   "execution_count": 81,
   "metadata": {},
   "outputs": [
    {
     "name": "stdout",
     "output_type": "stream",
     "text": [
      "added at start\n",
      "added at end\n",
      "going next\n",
      "added at end\n",
      "1 -> 2 -> 3\n",
      "added at start\n",
      "added at end\n",
      "going next\n",
      "added at end\n",
      "4 -> 2 -> 6\n",
      "1 -> 2 -> 3 -> 4 -> 2 -> 6\n"
     ]
    }
   ],
   "source": [
    "class Node:\n",
    "    def __init__(self, data):\n",
    "        self.data = data\n",
    "        self.next = None\n",
    "\n",
    "class LinkedList:\n",
    "    def __init__(self):\n",
    "        self.head = None\n",
    "\n",
    "    def is_empty(self):\n",
    "        return self.head is None\n",
    "\n",
    "    def insert_at_end(self, data):\n",
    "        new_node = Node(data)\n",
    "        if self.is_empty():\n",
    "            self.head = new_node\n",
    "            print(\"added at start\")\n",
    "        else:\n",
    "            current = self.head\n",
    "            while current.next:\n",
    "                current = current.next\n",
    "                print(\"going next\")\n",
    "            current.next = new_node\n",
    "            print(\"added at end\")\n",
    "\n",
    "    def delete(self, data):\n",
    "        if self.is_empty():\n",
    "            return\n",
    "\n",
    "        if self.head.data == data:\n",
    "            self.head = self.head.next\n",
    "            return\n",
    "\n",
    "        current = self.head\n",
    "        while current.next:\n",
    "            if current.next.data == data:\n",
    "                current.next = current.next.next\n",
    "                return\n",
    "            current = current.next\n",
    "\n",
    "    def search(self, data):\n",
    "        current = self.head\n",
    "        while current:\n",
    "            if current.data == data:\n",
    "                print(\"it was found\")\n",
    "                return True\n",
    "            current = current.next\n",
    "        return False\n",
    "\n",
    "    def display(self):\n",
    "        elements = []\n",
    "        current = self.head\n",
    "        while current:\n",
    "            elements.append(current.data)\n",
    "            current = current.next\n",
    "        print(\" -> \".join(map(str, elements)))\n",
    "\n",
    "    def merge(self, list2):\n",
    "        \n",
    "        current = self.head\n",
    "        while current.next:\n",
    "            current = current.next\n",
    "        current.next = list2.head\n",
    "\n",
    "# Example usage\n",
    "linked_list1 = LinkedList()\n",
    "linked_list1.insert_at_end(1)\n",
    "linked_list1.insert_at_end(2)\n",
    "linked_list1.insert_at_end(3)\n",
    "linked_list1.display()  # Output: 1 -> 2 -> 3\n",
    "\n",
    "linked_list2 = LinkedList()\n",
    "linked_list2.insert_at_end(4)\n",
    "linked_list2.insert_at_end(2)\n",
    "linked_list2.insert_at_end(6)\n",
    "linked_list2.display()  # Output: 4 -> 5 -> 6\n",
    "\n",
    "linked_list1.merge(linked_list2)\n",
    "linked_list1.display()  # Output: 1 -> 2 -> 3 -> 4 -> 5 -> 6"
   ]
  },
  {
   "cell_type": "code",
   "execution_count": 46,
   "metadata": {},
   "outputs": [],
   "source": [
    "# Example usage\n",
    "linked_list = LinkedList()\n",
    "linked_list2 = LinkedList()"
   ]
  },
  {
   "cell_type": "code",
   "execution_count": 33,
   "metadata": {},
   "outputs": [
    {
     "name": "stdout",
     "output_type": "stream",
     "text": [
      "going next\n",
      "going next\n",
      "going next\n",
      "added at end\n"
     ]
    }
   ],
   "source": [
    "linked_list.insert_at_end(2)"
   ]
  },
  {
   "cell_type": "code",
   "execution_count": 49,
   "metadata": {},
   "outputs": [
    {
     "name": "stdout",
     "output_type": "stream",
     "text": [
      "going next\n",
      "added at end\n"
     ]
    }
   ],
   "source": [
    "linked_list2.insert_at_end(2)"
   ]
  },
  {
   "cell_type": "code",
   "execution_count": 34,
   "metadata": {},
   "outputs": [
    {
     "name": "stdout",
     "output_type": "stream",
     "text": [
      "1 -> 1 -> 1 -> 1 -> 2\n"
     ]
    }
   ],
   "source": [
    "linked_list.display()"
   ]
  },
  {
   "cell_type": "code",
   "execution_count": 40,
   "metadata": {},
   "outputs": [
    {
     "data": {
      "text/plain": [
       "True"
      ]
     },
     "execution_count": 40,
     "metadata": {},
     "output_type": "execute_result"
    }
   ],
   "source": [
    "linked_list.search(1)"
   ]
  },
  {
   "cell_type": "code",
   "execution_count": 78,
   "metadata": {},
   "outputs": [],
   "source": [
    "linked_list.merge(linked_list2)"
   ]
  },
  {
   "cell_type": "code",
   "execution_count": 70,
   "metadata": {},
   "outputs": [
    {
     "name": "stdout",
     "output_type": "stream",
     "text": [
      "2 -> 2 -> 2\n"
     ]
    }
   ],
   "source": [
    "linked_list2.display()"
   ]
  },
  {
   "cell_type": "code",
   "execution_count": null,
   "metadata": {},
   "outputs": [],
   "source": []
  }
 ],
 "metadata": {
  "kernelspec": {
   "display_name": "Python 3",
   "language": "python",
   "name": "python3"
  },
  "language_info": {
   "codemirror_mode": {
    "name": "ipython",
    "version": 3
   },
   "file_extension": ".py",
   "mimetype": "text/x-python",
   "name": "python",
   "nbconvert_exporter": "python",
   "pygments_lexer": "ipython3",
   "version": "3.11.3"
  },
  "orig_nbformat": 4
 },
 "nbformat": 4,
 "nbformat_minor": 2
}
